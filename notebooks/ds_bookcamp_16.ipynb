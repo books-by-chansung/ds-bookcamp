{
  "nbformat": 4,
  "nbformat_minor": 0,
  "metadata": {
    "colab": {
      "provenance": [],
      "authorship_tag": "ABX9TyNUUK79IIyTEfsC41sO5FhI",
      "include_colab_link": true
    },
    "kernelspec": {
      "name": "python3",
      "display_name": "Python 3"
    },
    "language_info": {
      "name": "python"
    }
  },
  "cells": [
    {
      "cell_type": "markdown",
      "metadata": {
        "id": "view-in-github",
        "colab_type": "text"
      },
      "source": [
        "<a href=\"https://colab.research.google.com/github/books-by-chansung/ds-bookcamp/blob/main/notebooks/ds_bookcamp_16.ipynb\" target=\"_parent\"><img src=\"https://colab.research.google.com/assets/colab-badge.svg\" alt=\"Open In Colab\"/></a>"
      ]
    },
    {
      "cell_type": "code",
      "execution_count": 1,
      "metadata": {
        "colab": {
          "base_uri": "https://localhost:8080/"
        },
        "id": "tW-Sw0Uhvh9M",
        "outputId": "bfbfbd1f-7f59-47c2-8009-0a3c52626d43"
      },
      "outputs": [
        {
          "output_type": "stream",
          "name": "stdout",
          "text": [
            "--2024-09-01 18:00:16--  https://github.com/books-by-chansung/ds-bookcamp/blob/main/NanumBarunGothic.ttf?raw=true\n",
            "Resolving github.com (github.com)... 20.27.177.113\n",
            "Connecting to github.com (github.com)|20.27.177.113|:443... connected.\n",
            "HTTP request sent, awaiting response... 302 Found\n",
            "Location: https://github.com/books-by-chansung/ds-bookcamp/raw/main/NanumBarunGothic.ttf [following]\n",
            "--2024-09-01 18:00:17--  https://github.com/books-by-chansung/ds-bookcamp/raw/main/NanumBarunGothic.ttf\n",
            "Reusing existing connection to github.com:443.\n",
            "HTTP request sent, awaiting response... 302 Found\n",
            "Location: https://raw.githubusercontent.com/books-by-chansung/ds-bookcamp/main/NanumBarunGothic.ttf [following]\n",
            "--2024-09-01 18:00:17--  https://raw.githubusercontent.com/books-by-chansung/ds-bookcamp/main/NanumBarunGothic.ttf\n",
            "Resolving raw.githubusercontent.com (raw.githubusercontent.com)... 185.199.108.133, 185.199.109.133, 185.199.110.133, ...\n",
            "Connecting to raw.githubusercontent.com (raw.githubusercontent.com)|185.199.108.133|:443... connected.\n",
            "HTTP request sent, awaiting response... 200 OK\n",
            "Length: 4186060 (4.0M) [application/octet-stream]\n",
            "Saving to: ‘/usr/share/fonts/truetype/nanum/NanumBarunGothic.ttf’\n",
            "\n",
            "/usr/share/fonts/tr 100%[===================>]   3.99M  14.0MB/s    in 0.3s    \n",
            "\n",
            "2024-09-01 18:00:19 (14.0 MB/s) - ‘/usr/share/fonts/truetype/nanum/NanumBarunGothic.ttf’ saved [4186060/4186060]\n",
            "\n"
          ]
        }
      ],
      "source": [
        "!mkdir -p /usr/share/fonts/truetype/nanum\n",
        "!wget https://github.com/books-by-chansung/ds-bookcamp/blob/main/NanumBarunGothic.ttf?raw=true -O /usr/share/fonts/truetype/nanum/NanumBarunGothic.ttf"
      ]
    },
    {
      "cell_type": "code",
      "source": [
        "import matplotlib.font_manager as fm\n",
        "import matplotlib.pyplot as plt\n",
        "\n",
        "fe = fm.FontEntry(\n",
        "    fname=r'/usr/share/fonts/truetype/nanum/NanumBarunGothic.ttf', # ttf 파일이 저장되어 있는 경로\n",
        "    name='NanumGothic')                        # 이 폰트의 원하는 이름 설정\n",
        "fm.fontManager.ttflist.insert(0, fe)              # Matplotlib에 폰트 추가\n",
        "plt.rcParams.update({'font.size': 18, 'font.family': 'NanumGothic'}) # 폰트 설정"
      ],
      "metadata": {
        "id": "TykrBO2dvliG"
      },
      "execution_count": 2,
      "outputs": []
    },
    {
      "cell_type": "code",
      "source": [
        "import warnings\n",
        "\n",
        "# Suppress all warnings\n",
        "warnings.filterwarnings(\"ignore\")"
      ],
      "metadata": {
        "id": "vzXQwd2_vnwH"
      },
      "execution_count": 3,
      "outputs": []
    },
    {
      "cell_type": "markdown",
      "source": [
        "## 16-1"
      ],
      "metadata": {
        "id": "lxWLr_5mvr73"
      }
    },
    {
      "cell_type": "code",
      "source": [
        "html_contents = \"<html>Hello</html>\""
      ],
      "metadata": {
        "id": "6IXPxdqKvp8Q"
      },
      "execution_count": 4,
      "outputs": []
    },
    {
      "cell_type": "markdown",
      "source": [
        "## 16-2"
      ],
      "metadata": {
        "id": "5mSKx2GHvvhM"
      }
    },
    {
      "cell_type": "code",
      "source": [
        "from IPython.core.display import display, HTML\n",
        "def render(html_contents): display(HTML(html_contents))\n",
        "render(html_contents)"
      ],
      "metadata": {
        "colab": {
          "base_uri": "https://localhost:8080/",
          "height": 34
        },
        "id": "Nn7d_d83vs3P",
        "outputId": "8620aee1-7839-40f4-e48f-01c746d0a395"
      },
      "execution_count": 5,
      "outputs": [
        {
          "output_type": "display_data",
          "data": {
            "text/plain": [
              "<IPython.core.display.HTML object>"
            ],
            "text/html": [
              "<html>Hello</html>"
            ]
          },
          "metadata": {}
        }
      ]
    },
    {
      "cell_type": "markdown",
      "source": [
        "## 16-3"
      ],
      "metadata": {
        "id": "V_SX_t1mvy9J"
      }
    },
    {
      "cell_type": "code",
      "source": [
        "title = \"<title>Data Science is Fun</title>\""
      ],
      "metadata": {
        "id": "lxpeSvLWvwkL"
      },
      "execution_count": 6,
      "outputs": []
    },
    {
      "cell_type": "markdown",
      "source": [
        "## 16-4"
      ],
      "metadata": {
        "id": "lyCEDbGkv1x_"
      }
    },
    {
      "cell_type": "code",
      "source": [
        "html_contents = f\"<html>{title}Hello</html>\"\n",
        "render(html_contents)"
      ],
      "metadata": {
        "colab": {
          "base_uri": "https://localhost:8080/",
          "height": 34
        },
        "id": "sROxGz5lv0IU",
        "outputId": "5337fb7b-f1ac-4441-a1da-4f45f2b35748"
      },
      "execution_count": 7,
      "outputs": [
        {
          "output_type": "display_data",
          "data": {
            "text/plain": [
              "<IPython.core.display.HTML object>"
            ],
            "text/html": [
              "<html><title>Data Science is Fun</title>Hello</html>"
            ]
          },
          "metadata": {}
        }
      ]
    },
    {
      "cell_type": "markdown",
      "source": [
        "## 16-5"
      ],
      "metadata": {
        "id": "7aK6r1r9v5X8"
      }
    },
    {
      "cell_type": "code",
      "source": [
        "head = f\"<head>{title}</head>\"\n",
        "body = \"<body>Hello</body>\"\n",
        "html_contents = f\"<html> {title} {body}</html>\""
      ],
      "metadata": {
        "id": "5xYRw1x_v3Ql"
      },
      "execution_count": 8,
      "outputs": []
    },
    {
      "cell_type": "markdown",
      "source": [
        "## 16-6"
      ],
      "metadata": {
        "id": "VakEhoMzv8B9"
      }
    },
    {
      "cell_type": "code",
      "source": [
        "header = \"<h1>Data Science is Fun</h1>\"\n",
        "body = f\"<body>{header}Hello</body>\"\n",
        "html_contents = f\"<html> {title} {body}</html>\"\n",
        "render(html_contents)"
      ],
      "metadata": {
        "colab": {
          "base_uri": "https://localhost:8080/",
          "height": 92
        },
        "id": "aPA_Apsyv6r9",
        "outputId": "c53fa02f-150e-4eda-e11f-8ddaaea967c6"
      },
      "execution_count": 9,
      "outputs": [
        {
          "output_type": "display_data",
          "data": {
            "text/plain": [
              "<IPython.core.display.HTML object>"
            ],
            "text/html": [
              "<html> <title>Data Science is Fun</title> <body><h1>Data Science is Fun</h1>Hello</body></html>"
            ]
          },
          "metadata": {}
        }
      ]
    },
    {
      "cell_type": "markdown",
      "source": [
        "## 16-7"
      ],
      "metadata": {
        "id": "ID6DLVwpwAgR"
      }
    },
    {
      "cell_type": "code",
      "source": [
        "paragraphs = ''\n",
        "for i in range(2):\n",
        "    paragraph_string = f\"Paragraph {i} \" * 40\n",
        "    paragraphs += f\"<p>{paragraph_string}</p>\"\n",
        "\n",
        "body = f\"<body>{header}{paragraphs}</body>\"\n",
        "html_contents = f\"<html> {title} {body}</html>\"\n",
        "render(html_contents)"
      ],
      "metadata": {
        "colab": {
          "base_uri": "https://localhost:8080/",
          "height": 262
        },
        "id": "ux3Byu01v83a",
        "outputId": "949f34bd-6f34-4ea0-ed80-2392705c6757"
      },
      "execution_count": 10,
      "outputs": [
        {
          "output_type": "display_data",
          "data": {
            "text/plain": [
              "<IPython.core.display.HTML object>"
            ],
            "text/html": [
              "<html> <title>Data Science is Fun</title> <body><h1>Data Science is Fun</h1><p>Paragraph 0 Paragraph 0 Paragraph 0 Paragraph 0 Paragraph 0 Paragraph 0 Paragraph 0 Paragraph 0 Paragraph 0 Paragraph 0 Paragraph 0 Paragraph 0 Paragraph 0 Paragraph 0 Paragraph 0 Paragraph 0 Paragraph 0 Paragraph 0 Paragraph 0 Paragraph 0 Paragraph 0 Paragraph 0 Paragraph 0 Paragraph 0 Paragraph 0 Paragraph 0 Paragraph 0 Paragraph 0 Paragraph 0 Paragraph 0 Paragraph 0 Paragraph 0 Paragraph 0 Paragraph 0 Paragraph 0 Paragraph 0 Paragraph 0 Paragraph 0 Paragraph 0 Paragraph 0 </p><p>Paragraph 1 Paragraph 1 Paragraph 1 Paragraph 1 Paragraph 1 Paragraph 1 Paragraph 1 Paragraph 1 Paragraph 1 Paragraph 1 Paragraph 1 Paragraph 1 Paragraph 1 Paragraph 1 Paragraph 1 Paragraph 1 Paragraph 1 Paragraph 1 Paragraph 1 Paragraph 1 Paragraph 1 Paragraph 1 Paragraph 1 Paragraph 1 Paragraph 1 Paragraph 1 Paragraph 1 Paragraph 1 Paragraph 1 Paragraph 1 Paragraph 1 Paragraph 1 Paragraph 1 Paragraph 1 Paragraph 1 Paragraph 1 Paragraph 1 Paragraph 1 Paragraph 1 Paragraph 1 </p></body></html>"
            ]
          },
          "metadata": {}
        }
      ]
    },
    {
      "cell_type": "markdown",
      "source": [
        "## 16-8"
      ],
      "metadata": {
        "id": "DjiRWNMGwEg-"
      }
    },
    {
      "cell_type": "code",
      "source": [
        "paragraphs = ''\n",
        "for i in range(2):\n",
        "    paragraph_string = f\"Paragraph {i} \" * 40\n",
        "    attribute = f\"id='paragraph {i}'\"\n",
        "    paragraphs += f\"<p {attribute}>{paragraph_string}</p>\"\n",
        "\n",
        "body = f\"<body>{header}{paragraphs}</body>\"\n",
        "html_contents = f\"<html> {title} {body}</html>\""
      ],
      "metadata": {
        "id": "igEYlCb1wBqx"
      },
      "execution_count": 11,
      "outputs": []
    },
    {
      "cell_type": "markdown",
      "source": [
        "## 16-9"
      ],
      "metadata": {
        "id": "Z3rZp7YEwHu-"
      }
    },
    {
      "cell_type": "code",
      "source": [
        "link_text = \"Data Science Bookcamp\"\n",
        "url = \"https:/ /www.manning.com/books/data-science-bookcamp\"\n",
        "hyperlink = f\"<a href='{url}'>{link_text}</a>\"\n",
        "new_paragraph = f\"<p id='paragraph 2'>Here is a link to {hyperlink}</p>\"\n",
        "paragraphs += new_paragraph\n",
        "body = f\"<body>{header}{paragraphs}</body>\"\n",
        "html_contents = f\"<html> {title} {body}</html>\"\n",
        "render(html_contents)"
      ],
      "metadata": {
        "colab": {
          "base_uri": "https://localhost:8080/",
          "height": 285
        },
        "id": "UggDCOUTwFiU",
        "outputId": "22045535-fdf5-4684-a6a9-6ded12007ce6"
      },
      "execution_count": 12,
      "outputs": [
        {
          "output_type": "display_data",
          "data": {
            "text/plain": [
              "<IPython.core.display.HTML object>"
            ],
            "text/html": [
              "<html> <title>Data Science is Fun</title> <body><h1>Data Science is Fun</h1><p id='paragraph 0'>Paragraph 0 Paragraph 0 Paragraph 0 Paragraph 0 Paragraph 0 Paragraph 0 Paragraph 0 Paragraph 0 Paragraph 0 Paragraph 0 Paragraph 0 Paragraph 0 Paragraph 0 Paragraph 0 Paragraph 0 Paragraph 0 Paragraph 0 Paragraph 0 Paragraph 0 Paragraph 0 Paragraph 0 Paragraph 0 Paragraph 0 Paragraph 0 Paragraph 0 Paragraph 0 Paragraph 0 Paragraph 0 Paragraph 0 Paragraph 0 Paragraph 0 Paragraph 0 Paragraph 0 Paragraph 0 Paragraph 0 Paragraph 0 Paragraph 0 Paragraph 0 Paragraph 0 Paragraph 0 </p><p id='paragraph 1'>Paragraph 1 Paragraph 1 Paragraph 1 Paragraph 1 Paragraph 1 Paragraph 1 Paragraph 1 Paragraph 1 Paragraph 1 Paragraph 1 Paragraph 1 Paragraph 1 Paragraph 1 Paragraph 1 Paragraph 1 Paragraph 1 Paragraph 1 Paragraph 1 Paragraph 1 Paragraph 1 Paragraph 1 Paragraph 1 Paragraph 1 Paragraph 1 Paragraph 1 Paragraph 1 Paragraph 1 Paragraph 1 Paragraph 1 Paragraph 1 Paragraph 1 Paragraph 1 Paragraph 1 Paragraph 1 Paragraph 1 Paragraph 1 Paragraph 1 Paragraph 1 Paragraph 1 Paragraph 1 </p><p id='paragraph 2'>Here is a link to <a href='https:/ /www.manning.com/books/data-science-bookcamp'>Data Science Bookcamp</a></p></body></html>"
            ]
          },
          "metadata": {}
        }
      ]
    },
    {
      "cell_type": "markdown",
      "source": [
        "## 16-10"
      ],
      "metadata": {
        "id": "nAilhH7UwLdg"
      }
    },
    {
      "cell_type": "code",
      "source": [
        "libraries = ['NumPy', 'SciPy', 'Pandas', 'Scikit-Learn']"
      ],
      "metadata": {
        "id": "5DT4uUtuwIxX"
      },
      "execution_count": 13,
      "outputs": []
    },
    {
      "cell_type": "markdown",
      "source": [
        "## 16-11"
      ],
      "metadata": {
        "id": "x2n0ps6vwNlc"
      }
    },
    {
      "cell_type": "code",
      "source": [
        "items = ''\n",
        "for library in libraries:\n",
        "    items += f\"<li>{library}</li>\""
      ],
      "metadata": {
        "id": "25CPd0FJwMiw"
      },
      "execution_count": 14,
      "outputs": []
    },
    {
      "cell_type": "markdown",
      "source": [
        "## 16-12"
      ],
      "metadata": {
        "id": "vrbF4kftwQT7"
      }
    },
    {
      "cell_type": "code",
      "source": [
        "unstructured_list = f\"<ul>{items}</ul>\"\n",
        "header2 = '<h2>Common Data Science Libraries</h2>'\n",
        "body = f\"<body>{header}{paragraphs}{header2}{unstructured_list}</body>\"\n",
        "html_contents = f\"<html> {title} {body}</html>\"\n",
        "render(html_contents)"
      ],
      "metadata": {
        "colab": {
          "base_uri": "https://localhost:8080/",
          "height": 404
        },
        "id": "fBXjW4aPwO0P",
        "outputId": "76143988-4214-4821-e18d-53f986d61a80"
      },
      "execution_count": 15,
      "outputs": [
        {
          "output_type": "display_data",
          "data": {
            "text/plain": [
              "<IPython.core.display.HTML object>"
            ],
            "text/html": [
              "<html> <title>Data Science is Fun</title> <body><h1>Data Science is Fun</h1><p id='paragraph 0'>Paragraph 0 Paragraph 0 Paragraph 0 Paragraph 0 Paragraph 0 Paragraph 0 Paragraph 0 Paragraph 0 Paragraph 0 Paragraph 0 Paragraph 0 Paragraph 0 Paragraph 0 Paragraph 0 Paragraph 0 Paragraph 0 Paragraph 0 Paragraph 0 Paragraph 0 Paragraph 0 Paragraph 0 Paragraph 0 Paragraph 0 Paragraph 0 Paragraph 0 Paragraph 0 Paragraph 0 Paragraph 0 Paragraph 0 Paragraph 0 Paragraph 0 Paragraph 0 Paragraph 0 Paragraph 0 Paragraph 0 Paragraph 0 Paragraph 0 Paragraph 0 Paragraph 0 Paragraph 0 </p><p id='paragraph 1'>Paragraph 1 Paragraph 1 Paragraph 1 Paragraph 1 Paragraph 1 Paragraph 1 Paragraph 1 Paragraph 1 Paragraph 1 Paragraph 1 Paragraph 1 Paragraph 1 Paragraph 1 Paragraph 1 Paragraph 1 Paragraph 1 Paragraph 1 Paragraph 1 Paragraph 1 Paragraph 1 Paragraph 1 Paragraph 1 Paragraph 1 Paragraph 1 Paragraph 1 Paragraph 1 Paragraph 1 Paragraph 1 Paragraph 1 Paragraph 1 Paragraph 1 Paragraph 1 Paragraph 1 Paragraph 1 Paragraph 1 Paragraph 1 Paragraph 1 Paragraph 1 Paragraph 1 Paragraph 1 </p><p id='paragraph 2'>Here is a link to <a href='https:/ /www.manning.com/books/data-science-bookcamp'>Data Science Bookcamp</a></p><h2>Common Data Science Libraries</h2><ul><li>NumPy</li><li>SciPy</li><li>Pandas</li><li>Scikit-Learn</li></ul></body></html>"
            ]
          },
          "metadata": {}
        }
      ]
    },
    {
      "cell_type": "markdown",
      "source": [
        "## 16-13"
      ],
      "metadata": {
        "id": "fxXJEJcPwTN8"
      }
    },
    {
      "cell_type": "code",
      "source": [
        "div1 = f\"<div id='paragraphs' class='text'>{paragraphs}</div>\"\n",
        "div2 = f\"<div id='list' class='text'>{header2}{unstructured_list}</div>\"\n",
        "div3 = \"<div id='empty' class='empty'></div>\"\n",
        "body = f\"<body>{header}{div1}{div2}{div3}</body>\"\n",
        "html_contents = f\"<html> {title}{body}</html>\""
      ],
      "metadata": {
        "id": "qlwiC3nPwRN6"
      },
      "execution_count": 16,
      "outputs": []
    },
    {
      "cell_type": "markdown",
      "source": [
        "## 16-14"
      ],
      "metadata": {
        "id": "rLXpEdwbwWIh"
      }
    },
    {
      "cell_type": "code",
      "source": [
        "print(html_contents)"
      ],
      "metadata": {
        "colab": {
          "base_uri": "https://localhost:8080/"
        },
        "id": "Bn4F3HaGwUNv",
        "outputId": "02cb6d98-2e8d-47f2-b994-2a36807f2e06"
      },
      "execution_count": 17,
      "outputs": [
        {
          "output_type": "stream",
          "name": "stdout",
          "text": [
            "<html> <title>Data Science is Fun</title><body><h1>Data Science is Fun</h1><div id='paragraphs' class='text'><p id='paragraph 0'>Paragraph 0 Paragraph 0 Paragraph 0 Paragraph 0 Paragraph 0 Paragraph 0 Paragraph 0 Paragraph 0 Paragraph 0 Paragraph 0 Paragraph 0 Paragraph 0 Paragraph 0 Paragraph 0 Paragraph 0 Paragraph 0 Paragraph 0 Paragraph 0 Paragraph 0 Paragraph 0 Paragraph 0 Paragraph 0 Paragraph 0 Paragraph 0 Paragraph 0 Paragraph 0 Paragraph 0 Paragraph 0 Paragraph 0 Paragraph 0 Paragraph 0 Paragraph 0 Paragraph 0 Paragraph 0 Paragraph 0 Paragraph 0 Paragraph 0 Paragraph 0 Paragraph 0 Paragraph 0 </p><p id='paragraph 1'>Paragraph 1 Paragraph 1 Paragraph 1 Paragraph 1 Paragraph 1 Paragraph 1 Paragraph 1 Paragraph 1 Paragraph 1 Paragraph 1 Paragraph 1 Paragraph 1 Paragraph 1 Paragraph 1 Paragraph 1 Paragraph 1 Paragraph 1 Paragraph 1 Paragraph 1 Paragraph 1 Paragraph 1 Paragraph 1 Paragraph 1 Paragraph 1 Paragraph 1 Paragraph 1 Paragraph 1 Paragraph 1 Paragraph 1 Paragraph 1 Paragraph 1 Paragraph 1 Paragraph 1 Paragraph 1 Paragraph 1 Paragraph 1 Paragraph 1 Paragraph 1 Paragraph 1 Paragraph 1 </p><p id='paragraph 2'>Here is a link to <a href='https:/ /www.manning.com/books/data-science-bookcamp'>Data Science Bookcamp</a></p></div><div id='list' class='text'><h2>Common Data Science Libraries</h2><ul><li>NumPy</li><li>SciPy</li><li>Pandas</li><li>Scikit-Learn</li></ul></div><div id='empty' class='empty'></div></body></html>\n"
          ]
        }
      ]
    },
    {
      "cell_type": "markdown",
      "source": [
        "## 16-15"
      ],
      "metadata": {
        "id": "z04NXGZzwZwc"
      }
    },
    {
      "cell_type": "code",
      "source": [
        "split_contents = html_contents.split('>')\n",
        "for i, substring in enumerate(split_contents):\n",
        "    if substring.endswith('<title'):\n",
        "        next_string = split_contents[i + 1]\n",
        "        title = next_string.split('<')[0]\n",
        "        print(title)\n",
        "        break"
      ],
      "metadata": {
        "colab": {
          "base_uri": "https://localhost:8080/"
        },
        "id": "-NrFpT39wXTJ",
        "outputId": "d9e38a27-3cf1-41ea-97c0-cd9c9b26167c"
      },
      "execution_count": 18,
      "outputs": [
        {
          "output_type": "stream",
          "name": "stdout",
          "text": [
            "Data Science is Fun\n"
          ]
        }
      ]
    },
    {
      "cell_type": "code",
      "source": [
        "!pip install bs4"
      ],
      "metadata": {
        "colab": {
          "base_uri": "https://localhost:8080/"
        },
        "id": "LQOQb6EXwdaB",
        "outputId": "2d566b76-6e5e-45ba-fa97-546c1ee0868d"
      },
      "execution_count": 19,
      "outputs": [
        {
          "output_type": "stream",
          "name": "stdout",
          "text": [
            "Collecting bs4\n",
            "  Downloading bs4-0.0.2-py2.py3-none-any.whl.metadata (411 bytes)\n",
            "Requirement already satisfied: beautifulsoup4 in /usr/local/lib/python3.10/dist-packages (from bs4) (4.12.3)\n",
            "Requirement already satisfied: soupsieve>1.2 in /usr/local/lib/python3.10/dist-packages (from beautifulsoup4->bs4) (2.6)\n",
            "Downloading bs4-0.0.2-py2.py3-none-any.whl (1.2 kB)\n",
            "Installing collected packages: bs4\n",
            "Successfully installed bs4-0.0.2\n"
          ]
        }
      ]
    },
    {
      "cell_type": "markdown",
      "source": [
        "## 16-16"
      ],
      "metadata": {
        "id": "zqp2HEQRwfYB"
      }
    },
    {
      "cell_type": "code",
      "source": [
        "from bs4 import BeautifulSoup as bs"
      ],
      "metadata": {
        "id": "0kBNKCUuwa8h"
      },
      "execution_count": 20,
      "outputs": []
    },
    {
      "cell_type": "markdown",
      "source": [
        "## 16-17"
      ],
      "metadata": {
        "id": "6gOz-RZAwhjk"
      }
    },
    {
      "cell_type": "code",
      "source": [
        "soup = bs(html_contents)"
      ],
      "metadata": {
        "id": "eZW5eC28wge0"
      },
      "execution_count": 21,
      "outputs": []
    },
    {
      "cell_type": "markdown",
      "source": [
        "## 16-18"
      ],
      "metadata": {
        "id": "ctT-QJ9DwjVt"
      }
    },
    {
      "cell_type": "code",
      "source": [
        "print(soup.prettify())"
      ],
      "metadata": {
        "colab": {
          "base_uri": "https://localhost:8080/"
        },
        "id": "wWkauATQwibI",
        "outputId": "0bb73092-8945-45a0-e8dc-d67ec2f9e5eb"
      },
      "execution_count": 22,
      "outputs": [
        {
          "output_type": "stream",
          "name": "stdout",
          "text": [
            "<html>\n",
            " <head>\n",
            "  <title>\n",
            "   Data Science is Fun\n",
            "  </title>\n",
            " </head>\n",
            " <body>\n",
            "  <h1>\n",
            "   Data Science is Fun\n",
            "  </h1>\n",
            "  <div class=\"text\" id=\"paragraphs\">\n",
            "   <p id=\"paragraph 0\">\n",
            "    Paragraph 0 Paragraph 0 Paragraph 0 Paragraph 0 Paragraph 0 Paragraph 0 Paragraph 0 Paragraph 0 Paragraph 0 Paragraph 0 Paragraph 0 Paragraph 0 Paragraph 0 Paragraph 0 Paragraph 0 Paragraph 0 Paragraph 0 Paragraph 0 Paragraph 0 Paragraph 0 Paragraph 0 Paragraph 0 Paragraph 0 Paragraph 0 Paragraph 0 Paragraph 0 Paragraph 0 Paragraph 0 Paragraph 0 Paragraph 0 Paragraph 0 Paragraph 0 Paragraph 0 Paragraph 0 Paragraph 0 Paragraph 0 Paragraph 0 Paragraph 0 Paragraph 0 Paragraph 0\n",
            "   </p>\n",
            "   <p id=\"paragraph 1\">\n",
            "    Paragraph 1 Paragraph 1 Paragraph 1 Paragraph 1 Paragraph 1 Paragraph 1 Paragraph 1 Paragraph 1 Paragraph 1 Paragraph 1 Paragraph 1 Paragraph 1 Paragraph 1 Paragraph 1 Paragraph 1 Paragraph 1 Paragraph 1 Paragraph 1 Paragraph 1 Paragraph 1 Paragraph 1 Paragraph 1 Paragraph 1 Paragraph 1 Paragraph 1 Paragraph 1 Paragraph 1 Paragraph 1 Paragraph 1 Paragraph 1 Paragraph 1 Paragraph 1 Paragraph 1 Paragraph 1 Paragraph 1 Paragraph 1 Paragraph 1 Paragraph 1 Paragraph 1 Paragraph 1\n",
            "   </p>\n",
            "   <p id=\"paragraph 2\">\n",
            "    Here is a link to\n",
            "    <a href=\"https:/ /www.manning.com/books/data-science-bookcamp\">\n",
            "     Data Science Bookcamp\n",
            "    </a>\n",
            "   </p>\n",
            "  </div>\n",
            "  <div class=\"text\" id=\"list\">\n",
            "   <h2>\n",
            "    Common Data Science Libraries\n",
            "   </h2>\n",
            "   <ul>\n",
            "    <li>\n",
            "     NumPy\n",
            "    </li>\n",
            "    <li>\n",
            "     SciPy\n",
            "    </li>\n",
            "    <li>\n",
            "     Pandas\n",
            "    </li>\n",
            "    <li>\n",
            "     Scikit-Learn\n",
            "    </li>\n",
            "   </ul>\n",
            "  </div>\n",
            "  <div class=\"empty\" id=\"empty\">\n",
            "  </div>\n",
            " </body>\n",
            "</html>\n",
            "\n"
          ]
        }
      ]
    },
    {
      "cell_type": "markdown",
      "source": [
        "## 16-19"
      ],
      "metadata": {
        "id": "9ihpZF2Wwp8G"
      }
    },
    {
      "cell_type": "code",
      "source": [
        "title = soup.find('title')\n",
        "print(title)"
      ],
      "metadata": {
        "colab": {
          "base_uri": "https://localhost:8080/"
        },
        "id": "fsaTxJhTwkOs",
        "outputId": "b203c0ed-3335-450b-87b6-fedb625179dd"
      },
      "execution_count": 23,
      "outputs": [
        {
          "output_type": "stream",
          "name": "stdout",
          "text": [
            "<title>Data Science is Fun</title>\n"
          ]
        }
      ]
    },
    {
      "cell_type": "markdown",
      "source": [
        "## 16-20"
      ],
      "metadata": {
        "id": "hwblV7UOwsJL"
      }
    },
    {
      "cell_type": "code",
      "source": [
        "print(type(title))"
      ],
      "metadata": {
        "colab": {
          "base_uri": "https://localhost:8080/"
        },
        "id": "E0Qk467ewq19",
        "outputId": "bbba5eba-a0fb-4b15-e82f-bee7758e4d29"
      },
      "execution_count": 24,
      "outputs": [
        {
          "output_type": "stream",
          "name": "stdout",
          "text": [
            "<class 'bs4.element.Tag'>\n"
          ]
        }
      ]
    },
    {
      "cell_type": "markdown",
      "source": [
        "## 16-21"
      ],
      "metadata": {
        "id": "2ToP_nQ2wuEP"
      }
    },
    {
      "cell_type": "code",
      "source": [
        "print(title.text)"
      ],
      "metadata": {
        "colab": {
          "base_uri": "https://localhost:8080/"
        },
        "id": "e5PoAdx-ws-i",
        "outputId": "f2d91688-5a09-4bcc-9ab9-0706f5316feb"
      },
      "execution_count": 25,
      "outputs": [
        {
          "output_type": "stream",
          "name": "stdout",
          "text": [
            "Data Science is Fun\n"
          ]
        }
      ]
    },
    {
      "cell_type": "markdown",
      "source": [
        "## 16-22"
      ],
      "metadata": {
        "id": "TyoiwuDnwwgs"
      }
    },
    {
      "cell_type": "code",
      "source": [
        "assert soup.title.text == title.text"
      ],
      "metadata": {
        "id": "FwdXD-rmwu7e"
      },
      "execution_count": 26,
      "outputs": []
    },
    {
      "cell_type": "markdown",
      "source": [
        "## 16-23"
      ],
      "metadata": {
        "id": "7beAU5g6wyZQ"
      }
    },
    {
      "cell_type": "code",
      "source": [
        "body = soup.body\n",
        "print(body.text)"
      ],
      "metadata": {
        "colab": {
          "base_uri": "https://localhost:8080/"
        },
        "id": "YqJVLdLewxY0",
        "outputId": "f68d761a-8f76-4bd5-b854-62cd169703ea"
      },
      "execution_count": 27,
      "outputs": [
        {
          "output_type": "stream",
          "name": "stdout",
          "text": [
            "Data Science is FunParagraph 0 Paragraph 0 Paragraph 0 Paragraph 0 Paragraph 0 Paragraph 0 Paragraph 0 Paragraph 0 Paragraph 0 Paragraph 0 Paragraph 0 Paragraph 0 Paragraph 0 Paragraph 0 Paragraph 0 Paragraph 0 Paragraph 0 Paragraph 0 Paragraph 0 Paragraph 0 Paragraph 0 Paragraph 0 Paragraph 0 Paragraph 0 Paragraph 0 Paragraph 0 Paragraph 0 Paragraph 0 Paragraph 0 Paragraph 0 Paragraph 0 Paragraph 0 Paragraph 0 Paragraph 0 Paragraph 0 Paragraph 0 Paragraph 0 Paragraph 0 Paragraph 0 Paragraph 0 Paragraph 1 Paragraph 1 Paragraph 1 Paragraph 1 Paragraph 1 Paragraph 1 Paragraph 1 Paragraph 1 Paragraph 1 Paragraph 1 Paragraph 1 Paragraph 1 Paragraph 1 Paragraph 1 Paragraph 1 Paragraph 1 Paragraph 1 Paragraph 1 Paragraph 1 Paragraph 1 Paragraph 1 Paragraph 1 Paragraph 1 Paragraph 1 Paragraph 1 Paragraph 1 Paragraph 1 Paragraph 1 Paragraph 1 Paragraph 1 Paragraph 1 Paragraph 1 Paragraph 1 Paragraph 1 Paragraph 1 Paragraph 1 Paragraph 1 Paragraph 1 Paragraph 1 Paragraph 1 Here is a link to Data Science BookcampCommon Data Science LibrariesNumPySciPyPandasScikit-Learn\n"
          ]
        }
      ]
    },
    {
      "cell_type": "markdown",
      "source": [
        "## 16-24"
      ],
      "metadata": {
        "id": "FtRqH47aw44N"
      }
    },
    {
      "cell_type": "code",
      "source": [
        "assert body.p.text == soup.p.text\n",
        "print(soup.p.text)"
      ],
      "metadata": {
        "colab": {
          "base_uri": "https://localhost:8080/"
        },
        "id": "kiXKEZurwzXh",
        "outputId": "80a36786-b2d9-4b8e-db69-039c830a9fef"
      },
      "execution_count": 28,
      "outputs": [
        {
          "output_type": "stream",
          "name": "stdout",
          "text": [
            "Paragraph 0 Paragraph 0 Paragraph 0 Paragraph 0 Paragraph 0 Paragraph 0 Paragraph 0 Paragraph 0 Paragraph 0 Paragraph 0 Paragraph 0 Paragraph 0 Paragraph 0 Paragraph 0 Paragraph 0 Paragraph 0 Paragraph 0 Paragraph 0 Paragraph 0 Paragraph 0 Paragraph 0 Paragraph 0 Paragraph 0 Paragraph 0 Paragraph 0 Paragraph 0 Paragraph 0 Paragraph 0 Paragraph 0 Paragraph 0 Paragraph 0 Paragraph 0 Paragraph 0 Paragraph 0 Paragraph 0 Paragraph 0 Paragraph 0 Paragraph 0 Paragraph 0 Paragraph 0 \n"
          ]
        }
      ]
    },
    {
      "cell_type": "markdown",
      "source": [
        "## 16-25"
      ],
      "metadata": {
        "id": "vnePJiViw84f"
      }
    },
    {
      "cell_type": "code",
      "source": [
        "paragraphs = body.find_all('p')\n",
        "for i, paragraph in enumerate(paragraphs):\n",
        "    print(f\"\\nPARAGRAPH {i}:\")\n",
        "    print(paragraph.text)"
      ],
      "metadata": {
        "colab": {
          "base_uri": "https://localhost:8080/"
        },
        "id": "iigmjs-cw5yh",
        "outputId": "1c42026c-d4bd-4993-88f1-4b1813c29539"
      },
      "execution_count": 30,
      "outputs": [
        {
          "output_type": "stream",
          "name": "stdout",
          "text": [
            "\n",
            "PARAGRAPH 0:\n",
            "Paragraph 0 Paragraph 0 Paragraph 0 Paragraph 0 Paragraph 0 Paragraph 0 Paragraph 0 Paragraph 0 Paragraph 0 Paragraph 0 Paragraph 0 Paragraph 0 Paragraph 0 Paragraph 0 Paragraph 0 Paragraph 0 Paragraph 0 Paragraph 0 Paragraph 0 Paragraph 0 Paragraph 0 Paragraph 0 Paragraph 0 Paragraph 0 Paragraph 0 Paragraph 0 Paragraph 0 Paragraph 0 Paragraph 0 Paragraph 0 Paragraph 0 Paragraph 0 Paragraph 0 Paragraph 0 Paragraph 0 Paragraph 0 Paragraph 0 Paragraph 0 Paragraph 0 Paragraph 0 \n",
            "\n",
            "PARAGRAPH 1:\n",
            "Paragraph 1 Paragraph 1 Paragraph 1 Paragraph 1 Paragraph 1 Paragraph 1 Paragraph 1 Paragraph 1 Paragraph 1 Paragraph 1 Paragraph 1 Paragraph 1 Paragraph 1 Paragraph 1 Paragraph 1 Paragraph 1 Paragraph 1 Paragraph 1 Paragraph 1 Paragraph 1 Paragraph 1 Paragraph 1 Paragraph 1 Paragraph 1 Paragraph 1 Paragraph 1 Paragraph 1 Paragraph 1 Paragraph 1 Paragraph 1 Paragraph 1 Paragraph 1 Paragraph 1 Paragraph 1 Paragraph 1 Paragraph 1 Paragraph 1 Paragraph 1 Paragraph 1 Paragraph 1 \n",
            "\n",
            "PARAGRAPH 2:\n",
            "Here is a link to Data Science Bookcamp\n",
            "\n",
            "PARAGRAPH 0:\n",
            "Paragraph 0 Paragraph 0 Paragraph 0 Paragraph 0 Paragraph 0 Paragraph 0 Paragraph 0 Paragraph 0 Paragraph 0 Paragraph 0 Paragraph 0 Paragraph 0 Paragraph 0 Paragraph 0 Paragraph 0 Paragraph 0 Paragraph 0 Paragraph 0 Paragraph 0 Paragraph 0 Paragraph 0 Paragraph 0 Paragraph 0 Paragraph 0 Paragraph 0 Paragraph 0 Paragraph 0 Paragraph 0 Paragraph 0 Paragraph 0 Paragraph 0 Paragraph 0 Paragraph 0 Paragraph 0 Paragraph 0 Paragraph 0 Paragraph 0 Paragraph 0 Paragraph 0 Paragraph 0 \n",
            "\n",
            "PARAGRAPH 1:\n",
            "Paragraph 1 Paragraph 1 Paragraph 1 Paragraph 1 Paragraph 1 Paragraph 1 Paragraph 1 Paragraph 1 Paragraph 1 Paragraph 1 Paragraph 1 Paragraph 1 Paragraph 1 Paragraph 1 Paragraph 1 Paragraph 1 Paragraph 1 Paragraph 1 Paragraph 1 Paragraph 1 Paragraph 1 Paragraph 1 Paragraph 1 Paragraph 1 Paragraph 1 Paragraph 1 Paragraph 1 Paragraph 1 Paragraph 1 Paragraph 1 Paragraph 1 Paragraph 1 Paragraph 1 Paragraph 1 Paragraph 1 Paragraph 1 Paragraph 1 Paragraph 1 Paragraph 1 Paragraph 1 \n",
            "\n",
            "PARAGRAPH 2:\n",
            "Here is a link to Data Science Bookcamp\n"
          ]
        }
      ]
    },
    {
      "cell_type": "markdown",
      "source": [
        "## 16-26"
      ],
      "metadata": {
        "id": "Gzh5Flrow_0V"
      }
    },
    {
      "cell_type": "code",
      "source": [
        "print([bullet.text for bullet in body.find_all('li')])"
      ],
      "metadata": {
        "colab": {
          "base_uri": "https://localhost:8080/"
        },
        "id": "BKYafh8Sw9v2",
        "outputId": "9aaff02f-e82e-4638-a71b-4c0335785fe3"
      },
      "execution_count": 31,
      "outputs": [
        {
          "output_type": "stream",
          "name": "stdout",
          "text": [
            "['NumPy', 'SciPy', 'Pandas', 'Scikit-Learn']\n"
          ]
        }
      ]
    },
    {
      "cell_type": "markdown",
      "source": [
        "## 16-27"
      ],
      "metadata": {
        "id": "GwY-6_lwxCcG"
      }
    },
    {
      "cell_type": "code",
      "source": [
        "paragraph_2 = soup.find(id='paragraph 2')\n",
        "print(paragraph_2.text)"
      ],
      "metadata": {
        "colab": {
          "base_uri": "https://localhost:8080/"
        },
        "id": "_16b7L92xJbv",
        "outputId": "9dd92e8a-b285-4b7b-e6b1-05c075ec1493"
      },
      "execution_count": 32,
      "outputs": [
        {
          "output_type": "stream",
          "name": "stdout",
          "text": [
            "Here is a link to Data Science Bookcamp\n"
          ]
        }
      ]
    },
    {
      "cell_type": "markdown",
      "source": [
        "## 16-28"
      ],
      "metadata": {
        "id": "eAVJA3nfxLMm"
      }
    },
    {
      "cell_type": "code",
      "source": [
        "assert paragraph_2.get('id') == 'paragraph 2'\n",
        "print(paragraph_2.a.get('href'))"
      ],
      "metadata": {
        "colab": {
          "base_uri": "https://localhost:8080/"
        },
        "id": "VV94yrG4xJs2",
        "outputId": "c57d39a1-92c1-4772-f7a7-dbec3f926dcd"
      },
      "execution_count": 33,
      "outputs": [
        {
          "output_type": "stream",
          "name": "stdout",
          "text": [
            "https:/ /www.manning.com/books/data-science-bookcamp\n"
          ]
        }
      ]
    },
    {
      "cell_type": "markdown",
      "source": [
        "## 16-29"
      ],
      "metadata": {
        "id": "OnY2orr1xTCa"
      }
    },
    {
      "cell_type": "code",
      "source": [
        "for division in soup.find_all('div', class_='text'):\n",
        "    id_ = division.get('id')\n",
        "    print(f\"\\nID가 '{id_}'인 div:\")\n",
        "    print(division.text)"
      ],
      "metadata": {
        "colab": {
          "base_uri": "https://localhost:8080/"
        },
        "id": "dZcIalpsxMD2",
        "outputId": "0a7394af-ce10-4d78-932e-e34e0121e52e"
      },
      "execution_count": 34,
      "outputs": [
        {
          "output_type": "stream",
          "name": "stdout",
          "text": [
            "\n",
            "ID가 'paragraphs'인 div:\n",
            "Paragraph 0 Paragraph 0 Paragraph 0 Paragraph 0 Paragraph 0 Paragraph 0 Paragraph 0 Paragraph 0 Paragraph 0 Paragraph 0 Paragraph 0 Paragraph 0 Paragraph 0 Paragraph 0 Paragraph 0 Paragraph 0 Paragraph 0 Paragraph 0 Paragraph 0 Paragraph 0 Paragraph 0 Paragraph 0 Paragraph 0 Paragraph 0 Paragraph 0 Paragraph 0 Paragraph 0 Paragraph 0 Paragraph 0 Paragraph 0 Paragraph 0 Paragraph 0 Paragraph 0 Paragraph 0 Paragraph 0 Paragraph 0 Paragraph 0 Paragraph 0 Paragraph 0 Paragraph 0 Paragraph 1 Paragraph 1 Paragraph 1 Paragraph 1 Paragraph 1 Paragraph 1 Paragraph 1 Paragraph 1 Paragraph 1 Paragraph 1 Paragraph 1 Paragraph 1 Paragraph 1 Paragraph 1 Paragraph 1 Paragraph 1 Paragraph 1 Paragraph 1 Paragraph 1 Paragraph 1 Paragraph 1 Paragraph 1 Paragraph 1 Paragraph 1 Paragraph 1 Paragraph 1 Paragraph 1 Paragraph 1 Paragraph 1 Paragraph 1 Paragraph 1 Paragraph 1 Paragraph 1 Paragraph 1 Paragraph 1 Paragraph 1 Paragraph 1 Paragraph 1 Paragraph 1 Paragraph 1 Here is a link to Data Science Bookcamp\n",
            "\n",
            "ID가 'list'인 div:\n",
            "Common Data Science LibrariesNumPySciPyPandasScikit-Learn\n"
          ]
        }
      ]
    },
    {
      "cell_type": "markdown",
      "source": [
        "## 16-30"
      ],
      "metadata": {
        "id": "VGv9hIvHxZVn"
      }
    },
    {
      "cell_type": "code",
      "source": [
        "body.find(id='paragraph 0').decompose()\n",
        "soup.find(id='paragraph 1').decompose()\n",
        "print(body.find(id='paragraphs').text)"
      ],
      "metadata": {
        "colab": {
          "base_uri": "https://localhost:8080/"
        },
        "id": "d4nmRGzTxUPa",
        "outputId": "c7c5c548-6eec-4c9c-ad8e-c970381bfaf3"
      },
      "execution_count": 35,
      "outputs": [
        {
          "output_type": "stream",
          "name": "stdout",
          "text": [
            "Here is a link to Data Science Bookcamp\n"
          ]
        }
      ]
    },
    {
      "cell_type": "markdown",
      "source": [
        "## 16-31"
      ],
      "metadata": {
        "id": "fF0jGtaMxc3a"
      }
    },
    {
      "cell_type": "code",
      "source": [
        "new_paragraph = soup.new_tag('p')\n",
        "print(new_paragraph)"
      ],
      "metadata": {
        "colab": {
          "base_uri": "https://localhost:8080/"
        },
        "id": "HOeNz-2txaPj",
        "outputId": "e1b7675e-34e2-4678-97fa-86fdaf7dcff3"
      },
      "execution_count": 36,
      "outputs": [
        {
          "output_type": "stream",
          "name": "stdout",
          "text": [
            "<p></p>\n"
          ]
        }
      ]
    },
    {
      "cell_type": "markdown",
      "source": [
        "## 16-32"
      ],
      "metadata": {
        "id": "TkrcrAZkxfnt"
      }
    },
    {
      "cell_type": "code",
      "source": [
        "new_paragraph.string = \"This paragraph is new\"\n",
        "print(new_paragraph)"
      ],
      "metadata": {
        "colab": {
          "base_uri": "https://localhost:8080/"
        },
        "id": "wNs1lLZ5xd3v",
        "outputId": "534654b8-d8f0-40e7-c483-2787745bbe3b"
      },
      "execution_count": 37,
      "outputs": [
        {
          "output_type": "stream",
          "name": "stdout",
          "text": [
            "<p>This paragraph is new</p>\n"
          ]
        }
      ]
    },
    {
      "cell_type": "markdown",
      "source": [
        "## 16-33"
      ],
      "metadata": {
        "id": "hSz-FTBCxjWh"
      }
    },
    {
      "cell_type": "code",
      "source": [
        "soup.find(id='empty').append(new_paragraph)\n",
        "render(soup.prettify())"
      ],
      "metadata": {
        "colab": {
          "base_uri": "https://localhost:8080/",
          "height": 242
        },
        "id": "z63lMRrCxghX",
        "outputId": "69a75168-7863-4488-c270-cf3925fba7a6"
      },
      "execution_count": 38,
      "outputs": [
        {
          "output_type": "display_data",
          "data": {
            "text/plain": [
              "<IPython.core.display.HTML object>"
            ],
            "text/html": [
              "<html>\n",
              " <head>\n",
              "  <title>\n",
              "   Data Science is Fun\n",
              "  </title>\n",
              " </head>\n",
              " <body>\n",
              "  <h1>\n",
              "   Data Science is Fun\n",
              "  </h1>\n",
              "  <div class=\"text\" id=\"paragraphs\">\n",
              "   <p id=\"paragraph 2\">\n",
              "    Here is a link to\n",
              "    <a href=\"https:/ /www.manning.com/books/data-science-bookcamp\">\n",
              "     Data Science Bookcamp\n",
              "    </a>\n",
              "   </p>\n",
              "  </div>\n",
              "  <div class=\"text\" id=\"list\">\n",
              "   <h2>\n",
              "    Common Data Science Libraries\n",
              "   </h2>\n",
              "   <ul>\n",
              "    <li>\n",
              "     NumPy\n",
              "    </li>\n",
              "    <li>\n",
              "     SciPy\n",
              "    </li>\n",
              "    <li>\n",
              "     Pandas\n",
              "    </li>\n",
              "    <li>\n",
              "     Scikit-Learn\n",
              "    </li>\n",
              "   </ul>\n",
              "  </div>\n",
              "  <div class=\"empty\" id=\"empty\">\n",
              "   <p>\n",
              "    This paragraph is new\n",
              "   </p>\n",
              "  </div>\n",
              " </body>\n",
              "</html>\n"
            ]
          },
          "metadata": {}
        }
      ]
    },
    {
      "cell_type": "markdown",
      "source": [
        "## 16-34"
      ],
      "metadata": {
        "id": "uRSIGaBmxmrP"
      }
    },
    {
      "cell_type": "code",
      "source": [
        "from urllib.request import urlopen"
      ],
      "metadata": {
        "id": "2aHGeU2wxkQN"
      },
      "execution_count": 39,
      "outputs": []
    },
    {
      "cell_type": "markdown",
      "source": [
        "## 16-35"
      ],
      "metadata": {
        "id": "y-M-vEcIxpdI"
      }
    },
    {
      "cell_type": "code",
      "source": [
        "url = \"https://www.manning.com/books/data-science-bookcamp\"\n",
        "html_contents = urlopen(url).read()\n",
        "print(html_contents[:1000])"
      ],
      "metadata": {
        "colab": {
          "base_uri": "https://localhost:8080/"
        },
        "id": "2Leqli8cxnqY",
        "outputId": "502483dd-33a2-4b88-9bee-7aec271f0327"
      },
      "execution_count": 41,
      "outputs": [
        {
          "output_type": "stream",
          "name": "stdout",
          "text": [
            "b'\\n<!DOCTYPE html>\\n<!--[if lt IE 7 ]> <html lang=\"en\" class=\"no-js ie6 ie\"> <![endif]-->\\n<!--[if IE 7 ]>    <html lang=\"en\" class=\"no-js ie7 ie\"> <![endif]-->\\n<!--[if IE 8 ]>    <html lang=\"en\" class=\"no-js ie8 ie\"> <![endif]-->\\n<!--[if IE 9 ]>    <html lang=\"en\" class=\"no-js ie9 ie\"> <![endif]-->\\n<!--[if (gt IE 9)|!(IE)]><!--> <html lang=\"en\" class=\"no-js\"><!--<![endif]-->\\n\\n<head>\\n    <meta name=\"theme-color\" content=\"#333333\">\\n    <title>Data Science Bookcamp</title>\\n\\n\\n\\n\\n<meta http-equiv=\"Content-Type\" content=\"text/html; charset=UTF-8\">\\n<meta http-equiv=\"X-UA-Compatible\" content=\"IE=edge\">\\n<meta name=\"viewport\" content=\"width=device-width, initial-scale=1, maximum-scale=1, user-scalable=0\">\\n<meta name=\"application-name\" content=\"Data Science Bookcamp\"/>\\n<meta name=\"apple-mobile-web-app-title\" content=\"Data Science Bookcamp\"/>\\n\\n<meta property=\"og:title\" content=\"Data Science Bookcamp\"/>\\n<meta name=\"twitter:title\" content=\"Data Science Bookcamp\"/>\\n\\n<meta name=\"twitter:site\" content=\"&#6'\n"
          ]
        }
      ]
    },
    {
      "cell_type": "markdown",
      "source": [
        "## 16-36"
      ],
      "metadata": {
        "id": "UEiu0DoDxuyq"
      }
    },
    {
      "cell_type": "code",
      "source": [
        "soup = bs(html_contents)\n",
        "print(soup.title.text)"
      ],
      "metadata": {
        "colab": {
          "base_uri": "https://localhost:8080/"
        },
        "id": "p2OQ7e09xqlo",
        "outputId": "a00a57ef-c97d-4b07-f237-678be6f3ceb5"
      },
      "execution_count": 42,
      "outputs": [
        {
          "output_type": "stream",
          "name": "stdout",
          "text": [
            "Data Science Bookcamp\n"
          ]
        }
      ]
    },
    {
      "cell_type": "markdown",
      "source": [
        "## 16-37"
      ],
      "metadata": {
        "id": "-JZ-e5SKxzSx"
      }
    },
    {
      "cell_type": "code",
      "source": [
        "for division in soup.find_all('div'):\n",
        "    header = division.h2\n",
        "    if header is None:\n",
        "        continue\n",
        "\n",
        "    if header.text.lower() == 'about the book':\n",
        "        print(division.text)"
      ],
      "metadata": {
        "colab": {
          "base_uri": "https://localhost:8080/"
        },
        "id": "MV4cDzLixv6Q",
        "outputId": "02c356e9-743f-44f8-9fef-331bbb87d77b"
      },
      "execution_count": 43,
      "outputs": [
        {
          "output_type": "stream",
          "name": "stdout",
          "text": [
            "\n",
            "about the book\n",
            "\n",
            "Data Science Bookcamp doesn’t stop with surface-level theory and toy examples. As you work through each project, you’ll learn how to troubleshoot common problems like missing data, messy data, and algorithms that don’t quite fit the model you’re building. You’ll appreciate the detailed setup instructions and the fully explained solutions that highlight common failure points. In the end, you’ll be confident in your skills because you can see the results.\n",
            "    \n"
          ]
        }
      ]
    },
    {
      "cell_type": "code",
      "source": [],
      "metadata": {
        "id": "j8X1klv9x0Qf"
      },
      "execution_count": null,
      "outputs": []
    }
  ]
}