{
  "nbformat": 4,
  "nbformat_minor": 0,
  "metadata": {
    "colab": {
      "provenance": [],
      "authorship_tag": "ABX9TyNSHxu+Q264ache4ildhvNF",
      "include_colab_link": true
    },
    "kernelspec": {
      "name": "python3",
      "display_name": "Python 3"
    },
    "language_info": {
      "name": "python"
    }
  },
  "cells": [
    {
      "cell_type": "markdown",
      "metadata": {
        "id": "view-in-github",
        "colab_type": "text"
      },
      "source": [
        "<a href=\"https://colab.research.google.com/github/books-by-chansung/ds-bookcamp/blob/main/notebooks/ds_bookcamp_23.ipynb\" target=\"_parent\"><img src=\"https://colab.research.google.com/assets/colab-badge.svg\" alt=\"Open In Colab\"/></a>"
      ]
    },
    {
      "cell_type": "code",
      "execution_count": 1,
      "metadata": {
        "colab": {
          "base_uri": "https://localhost:8080/"
        },
        "id": "UdulMhf-S30Z",
        "outputId": "a3f20128-ae63-49b0-cbad-938c03ad499a"
      },
      "outputs": [
        {
          "output_type": "stream",
          "name": "stdout",
          "text": [
            "--2024-10-03 12:12:43--  https://github.com/books-by-chansung/ds-bookcamp/blob/main/NanumBarunGothic.ttf?raw=true\n",
            "Resolving github.com (github.com)... 140.82.114.3\n",
            "Connecting to github.com (github.com)|140.82.114.3|:443... connected.\n",
            "HTTP request sent, awaiting response... 302 Found\n",
            "Location: https://github.com/books-by-chansung/ds-bookcamp/raw/refs/heads/main/NanumBarunGothic.ttf [following]\n",
            "--2024-10-03 12:12:43--  https://github.com/books-by-chansung/ds-bookcamp/raw/refs/heads/main/NanumBarunGothic.ttf\n",
            "Reusing existing connection to github.com:443.\n",
            "HTTP request sent, awaiting response... 302 Found\n",
            "Location: https://raw.githubusercontent.com/books-by-chansung/ds-bookcamp/refs/heads/main/NanumBarunGothic.ttf [following]\n",
            "--2024-10-03 12:12:44--  https://raw.githubusercontent.com/books-by-chansung/ds-bookcamp/refs/heads/main/NanumBarunGothic.ttf\n",
            "Resolving raw.githubusercontent.com (raw.githubusercontent.com)... 185.199.109.133, 185.199.110.133, 185.199.111.133, ...\n",
            "Connecting to raw.githubusercontent.com (raw.githubusercontent.com)|185.199.109.133|:443... connected.\n",
            "HTTP request sent, awaiting response... 200 OK\n",
            "Length: 4186060 (4.0M) [application/octet-stream]\n",
            "Saving to: ‘/usr/share/fonts/truetype/nanum/NanumBarunGothic.ttf’\n",
            "\n",
            "/usr/share/fonts/tr 100%[===================>]   3.99M  --.-KB/s    in 0.03s   \n",
            "\n",
            "2024-10-03 12:12:44 (123 MB/s) - ‘/usr/share/fonts/truetype/nanum/NanumBarunGothic.ttf’ saved [4186060/4186060]\n",
            "\n"
          ]
        }
      ],
      "source": [
        "!mkdir -p /usr/share/fonts/truetype/nanum\n",
        "!wget https://github.com/books-by-chansung/ds-bookcamp/blob/main/NanumBarunGothic.ttf?raw=true -O /usr/share/fonts/truetype/nanum/NanumBarunGothic.ttf\n"
      ]
    },
    {
      "cell_type": "code",
      "source": [
        "import matplotlib.font_manager as fm\n",
        "import matplotlib.pyplot as plt\n",
        "\n",
        "fe = fm.FontEntry(\n",
        "    fname=r'/usr/share/fonts/truetype/nanum/NanumBarunGothic.ttf', # ttf 파일이 저장되어 있는 경로\n",
        "    name='NanumGothic')                        # 이 폰트의 원하는 이름 설정\n",
        "fm.fontManager.ttflist.insert(0, fe)              # Matplotlib에 폰트 추가\n",
        "plt.rcParams.update({'font.size': 18, 'font.family': 'NanumGothic'}) # 폰트 설정"
      ],
      "metadata": {
        "id": "BCh9ttVbS8zj"
      },
      "execution_count": 2,
      "outputs": []
    },
    {
      "cell_type": "code",
      "source": [
        "import warnings\n",
        "\n",
        "# Suppress all warnings\n",
        "warnings.filterwarnings(\"ignore\")"
      ],
      "metadata": {
        "id": "qOgE2u7tS_T1"
      },
      "execution_count": 3,
      "outputs": []
    },
    {
      "cell_type": "code",
      "source": [
        "!mkdir -p friendhook\n",
        "!wget https://github.com/books-by-chansung/ds-bookcamp/blob/main/Profiles.csv?raw=true -O friendhook/Profiles.csv\n",
        "!wget https://github.com/books-by-chansung/ds-bookcamp/blob/main/Observations.csv?raw=true -O friendhook/Observations.csv\n",
        "!wget https://github.com/books-by-chansung/ds-bookcamp/blob/main/Friendships.csv?raw=true -O friendhook/Friendships.csv\n"
      ],
      "metadata": {
        "colab": {
          "base_uri": "https://localhost:8080/"
        },
        "id": "0HSMTtwuVI9Q",
        "outputId": "8ff8a43b-9159-4743-9155-4ed5dcf661c0"
      },
      "execution_count": 4,
      "outputs": [
        {
          "output_type": "stream",
          "name": "stdout",
          "text": [
            "--2024-10-03 12:23:31--  https://github.com/books-by-chansung/ds-bookcamp/blob/main/Profiles.csv?raw=true\n",
            "Resolving github.com (github.com)... 140.82.114.4\n",
            "Connecting to github.com (github.com)|140.82.114.4|:443... connected.\n",
            "HTTP request sent, awaiting response... 302 Found\n",
            "Location: https://github.com/books-by-chansung/ds-bookcamp/raw/refs/heads/main/Profiles.csv [following]\n",
            "--2024-10-03 12:23:31--  https://github.com/books-by-chansung/ds-bookcamp/raw/refs/heads/main/Profiles.csv\n",
            "Reusing existing connection to github.com:443.\n",
            "HTTP request sent, awaiting response... 302 Found\n",
            "Location: https://raw.githubusercontent.com/books-by-chansung/ds-bookcamp/refs/heads/main/Profiles.csv [following]\n",
            "--2024-10-03 12:23:31--  https://raw.githubusercontent.com/books-by-chansung/ds-bookcamp/refs/heads/main/Profiles.csv\n",
            "Resolving raw.githubusercontent.com (raw.githubusercontent.com)... 185.199.108.133, 185.199.109.133, 185.199.110.133, ...\n",
            "Connecting to raw.githubusercontent.com (raw.githubusercontent.com)|185.199.108.133|:443... connected.\n",
            "HTTP request sent, awaiting response... 200 OK\n",
            "Length: 310197 (303K) [text/plain]\n",
            "Saving to: ‘friendhook/Profiles.csv’\n",
            "\n",
            "friendhook/Profiles 100%[===================>] 302.93K  --.-KB/s    in 0.008s  \n",
            "\n",
            "2024-10-03 12:23:31 (39.2 MB/s) - ‘friendhook/Profiles.csv’ saved [310197/310197]\n",
            "\n",
            "--2024-10-03 12:23:31--  https://github.com/books-by-chansung/ds-bookcamp/blob/main/Observations.csv?raw=true\n",
            "Resolving github.com (github.com)... 140.82.113.3\n",
            "Connecting to github.com (github.com)|140.82.113.3|:443... connected.\n",
            "HTTP request sent, awaiting response... 302 Found\n",
            "Location: https://github.com/books-by-chansung/ds-bookcamp/raw/refs/heads/main/Observations.csv [following]\n",
            "--2024-10-03 12:23:31--  https://github.com/books-by-chansung/ds-bookcamp/raw/refs/heads/main/Observations.csv\n",
            "Reusing existing connection to github.com:443.\n",
            "HTTP request sent, awaiting response... 302 Found\n",
            "Location: https://raw.githubusercontent.com/books-by-chansung/ds-bookcamp/refs/heads/main/Observations.csv [following]\n",
            "--2024-10-03 12:23:31--  https://raw.githubusercontent.com/books-by-chansung/ds-bookcamp/refs/heads/main/Observations.csv\n",
            "Resolving raw.githubusercontent.com (raw.githubusercontent.com)... 185.199.110.133, 185.199.108.133, 185.199.109.133, ...\n",
            "Connecting to raw.githubusercontent.com (raw.githubusercontent.com)|185.199.110.133|:443... connected.\n",
            "HTTP request sent, awaiting response... 200 OK\n",
            "Length: 201107 (196K) [text/plain]\n",
            "Saving to: ‘friendhook/Observations.csv’\n",
            "\n",
            "friendhook/Observat 100%[===================>] 196.39K  --.-KB/s    in 0.004s  \n",
            "\n",
            "2024-10-03 12:23:31 (46.7 MB/s) - ‘friendhook/Observations.csv’ saved [201107/201107]\n",
            "\n",
            "--2024-10-03 12:23:31--  https://github.com/books-by-chansung/ds-bookcamp/blob/main/Friendships.csv?raw=true\n",
            "Resolving github.com (github.com)... 140.82.114.4\n",
            "Connecting to github.com (github.com)|140.82.114.4|:443... connected.\n",
            "HTTP request sent, awaiting response... 302 Found\n",
            "Location: https://github.com/books-by-chansung/ds-bookcamp/raw/refs/heads/main/Friendships.csv [following]\n",
            "--2024-10-03 12:23:32--  https://github.com/books-by-chansung/ds-bookcamp/raw/refs/heads/main/Friendships.csv\n",
            "Reusing existing connection to github.com:443.\n",
            "HTTP request sent, awaiting response... 302 Found\n",
            "Location: https://raw.githubusercontent.com/books-by-chansung/ds-bookcamp/refs/heads/main/Friendships.csv [following]\n",
            "--2024-10-03 12:23:32--  https://raw.githubusercontent.com/books-by-chansung/ds-bookcamp/refs/heads/main/Friendships.csv\n",
            "Resolving raw.githubusercontent.com (raw.githubusercontent.com)... 185.199.109.133, 185.199.108.133, 185.199.111.133, ...\n",
            "Connecting to raw.githubusercontent.com (raw.githubusercontent.com)|185.199.109.133|:443... connected.\n",
            "HTTP request sent, awaiting response... 200 OK\n",
            "Length: 2294102 (2.2M) [text/plain]\n",
            "Saving to: ‘friendhook/Friendships.csv’\n",
            "\n",
            "friendhook/Friendsh 100%[===================>]   2.19M  --.-KB/s    in 0.01s   \n",
            "\n",
            "2024-10-03 12:23:32 (194 MB/s) - ‘friendhook/Friendships.csv’ saved [2294102/2294102]\n",
            "\n"
          ]
        }
      ]
    },
    {
      "cell_type": "markdown",
      "source": [
        "## 23-1"
      ],
      "metadata": {
        "id": "E50GoohLTDFi"
      }
    },
    {
      "cell_type": "code",
      "source": [
        "import pandas as pd\n",
        "def summarize_table(df):\n",
        "    n_rows, n_columns = df.shape\n",
        "    summary = df.describe()\n",
        "    print(f\"테이블에는 {n_rows}개의 행과 {n_columns}개의 열이 있습니다\")\n",
        "    print(\"테이블을 요약하면 다음과 같습니다\\n\")\n",
        "    print(summary.to_string())\n",
        "\n",
        "df_profile = pd.read_csv('friendhook/Profiles.csv')\n",
        "summarize_table(df_profile)"
      ],
      "metadata": {
        "colab": {
          "base_uri": "https://localhost:8080/"
        },
        "id": "2f6n0v_-TAqE",
        "outputId": "71a53888-0a4f-4e16-9049-e2c4d5d96466"
      },
      "execution_count": 5,
      "outputs": [
        {
          "output_type": "stream",
          "name": "stdout",
          "text": [
            "테이블에는 4039개의 행과 6개의 열이 있습니다\n",
            "테이블을 요약하면 다음과 같습니다\n",
            "\n",
            "          Profile_ID           Sex Relationship_Status          Dorm         Major          Year\n",
            "count           4039          4039                3631          4039          4039          4039\n",
            "unique          4039             2                   3            15            30             4\n",
            "top     b8bc075e54b9  e807eb960650        ac0b88e46e20  a8e6e404d1b3  141d4cdd5aaf  c1a648750a4b\n",
            "freq               1          2020                1963          2739          1366          1796\n"
          ]
        }
      ]
    },
    {
      "cell_type": "markdown",
      "source": [
        "## 23-2"
      ],
      "metadata": {
        "id": "r7A2DdBrVlM8"
      }
    },
    {
      "cell_type": "code",
      "source": [
        "is_null = df_profile.Relationship_Status.isnull()\n",
        "num_null = df_profile[is_null].shape[0]\n",
        "print(f\"{num_null}개의 프로필에서 Relationship Status 필드의 값이 누락되었습니다\")"
      ],
      "metadata": {
        "colab": {
          "base_uri": "https://localhost:8080/"
        },
        "id": "BdpFnTF3VgbF",
        "outputId": "30ffba9c-f947-49e8-921b-4210401c4a39"
      },
      "execution_count": 6,
      "outputs": [
        {
          "output_type": "stream",
          "name": "stdout",
          "text": [
            "408개의 프로필에서 Relationship Status 필드의 값이 누락되었습니다\n"
          ]
        }
      ]
    },
    {
      "cell_type": "markdown",
      "source": [
        "## 23-3"
      ],
      "metadata": {
        "id": "Uv5uNbaXVn18"
      }
    },
    {
      "cell_type": "code",
      "source": [
        "unique_ids = set(df_profile.Relationship_Status.values)\n",
        "print(unique_ids)"
      ],
      "metadata": {
        "colab": {
          "base_uri": "https://localhost:8080/"
        },
        "id": "fS6OCrM0VmOi",
        "outputId": "e6298484-19c6-4d5f-ffd5-03a6538ec270"
      },
      "execution_count": 7,
      "outputs": [
        {
          "output_type": "stream",
          "name": "stdout",
          "text": [
            "{'188f9a32c360', nan, '9cea719429e9', 'ac0b88e46e20'}\n"
          ]
        }
      ]
    },
    {
      "cell_type": "markdown",
      "source": [
        "## 23-4"
      ],
      "metadata": {
        "id": "0BXo8DBkVsb0"
      }
    },
    {
      "cell_type": "code",
      "source": [
        "import numpy as np\n",
        "category_map = {'9cea719429e9': 0, np.nan: 1, '188f9a32c360': 2, 'ac0b88e46e20': 3}"
      ],
      "metadata": {
        "id": "QqA9fX8kVots"
      },
      "execution_count": 8,
      "outputs": []
    },
    {
      "cell_type": "markdown",
      "source": [
        "## 23-5"
      ],
      "metadata": {
        "id": "lKH7sj7cVvcF"
      }
    },
    {
      "cell_type": "code",
      "source": [
        "nums = [category_map[hash_code]\n",
        "            for hash_code in df_profile.Relationship_Status.values]\n",
        "df_profile['Relationship_Status'] = nums\n",
        "print(df_profile.Relationship_Status)"
      ],
      "metadata": {
        "colab": {
          "base_uri": "https://localhost:8080/"
        },
        "id": "ocdFDY_HVuEu",
        "outputId": "9cee44b6-e1b0-4280-d0a7-49b3b232e37c"
      },
      "execution_count": 9,
      "outputs": [
        {
          "output_type": "stream",
          "name": "stdout",
          "text": [
            "0       0\n",
            "1       3\n",
            "2       3\n",
            "3       3\n",
            "4       0\n",
            "       ..\n",
            "4034    3\n",
            "4035    0\n",
            "4036    3\n",
            "4037    3\n",
            "4038    0\n",
            "Name: Relationship_Status, Length: 4039, dtype: int64\n"
          ]
        }
      ]
    },
    {
      "cell_type": "markdown",
      "source": [
        "## 23-36"
      ],
      "metadata": {
        "id": "RORdpT20Vzqg"
      }
    },
    {
      "cell_type": "code",
      "source": [
        "col_to_mapping = {'Relationship_Status': category_map}\n",
        "for column in df_profile.columns:\n",
        "    if column in col_to_mapping:\n",
        "        continue\n",
        "\n",
        "    unique_ids = sorted(set(df_profile[column].values))\n",
        "    category_map = {id_: i for i, id_ in enumerate(unique_ids)}\n",
        "    col_to_mapping[column] = category_map\n",
        "    nums = [category_map[hash_code]\n",
        "               for hash_code in df_profile[column].values]\n",
        "    df_profile[column] = nums\n",
        "\n",
        "head = df_profile.head()\n",
        "print(head.to_string(index=False))"
      ],
      "metadata": {
        "colab": {
          "base_uri": "https://localhost:8080/"
        },
        "id": "KoEfmfflVwp0",
        "outputId": "70603b16-6d61-4908-ec11-004d84ade558"
      },
      "execution_count": 10,
      "outputs": [
        {
          "output_type": "stream",
          "name": "stdout",
          "text": [
            " Profile_ID  Sex  Relationship_Status  Dorm  Major  Year\n",
            "       2899    0                    0     5     13     2\n",
            "       1125    0                    3    12      6     1\n",
            "       3799    0                    3    12     29     2\n",
            "       3338    0                    3     4     25     0\n",
            "       2007    1                    0    12      2     0\n"
          ]
        }
      ]
    },
    {
      "cell_type": "markdown",
      "source": [
        "## 23-7"
      ],
      "metadata": {
        "id": "Y_h2fc0FV2oj"
      }
    },
    {
      "cell_type": "code",
      "source": [
        "df_obs = pd.read_csv('friendhook/Observations.csv')\n",
        "summarize_table(df_obs)"
      ],
      "metadata": {
        "colab": {
          "base_uri": "https://localhost:8080/"
        },
        "id": "U-daG3kGV0kt",
        "outputId": "cfdc0672-8cb1-48b1-bc31-797e865f9dc9"
      },
      "execution_count": 11,
      "outputs": [
        {
          "output_type": "stream",
          "name": "stdout",
          "text": [
            "테이블에는 4039개의 행과 5개의 열이 있습니다\n",
            "테이블을 요약하면 다음과 같습니다\n",
            "\n",
            "          Profile_ID Selected_Friend Selected_Friend_of_Friend Friend_Request_Sent Friend_Request_Accepted\n",
            "count           4039            4039                      4039                4039                    4039\n",
            "unique          4039            2219                      2327                   2                       2\n",
            "top     9e5bec3ed583    89581f99fa1e              6caa597f13cc                True                    True\n",
            "freq               1              77                        27                2519                    2460\n"
          ]
        }
      ]
    },
    {
      "cell_type": "markdown",
      "source": [
        "## 23-8"
      ],
      "metadata": {
        "id": "PNe0SlnyWL8l"
      }
    },
    {
      "cell_type": "code",
      "source": [
        "new_names = {'Selected_Friend': 'Friend',\n",
        "'Selected_Friend_of_Friend': 'FoF',\n",
        "'Friend_Request_Sent': 'Sent',\n",
        "'Friend_Request_Accepted': 'Accepted'}\n",
        "df_obs = df_obs.rename(columns=new_names)\n",
        "summarize_table(df_obs)"
      ],
      "metadata": {
        "colab": {
          "base_uri": "https://localhost:8080/"
        },
        "id": "MJBLqgw2V608",
        "outputId": "a2582dd6-4c2b-49dd-a226-8a5897d1f6dd"
      },
      "execution_count": 12,
      "outputs": [
        {
          "output_type": "stream",
          "name": "stdout",
          "text": [
            "테이블에는 4039개의 행과 5개의 열이 있습니다\n",
            "테이블을 요약하면 다음과 같습니다\n",
            "\n",
            "          Profile_ID        Friend           FoF  Sent Accepted\n",
            "count           4039          4039          4039  4039     4039\n",
            "unique          4039          2219          2327     2        2\n",
            "top     9e5bec3ed583  89581f99fa1e  6caa597f13cc  True     True\n",
            "freq               1            77            27  2519     2460\n"
          ]
        }
      ]
    },
    {
      "cell_type": "markdown",
      "source": [
        "## 23-9"
      ],
      "metadata": {
        "id": "LMtyqu7dWU3u"
      }
    },
    {
      "cell_type": "code",
      "source": [
        "condition = (df_obs.Sent == False) & (df_obs.Accepted == True)\n",
        "assert not df_obs[condition].shape[0]"
      ],
      "metadata": {
        "id": "Qdzz6CQcWNqN"
      },
      "execution_count": 13,
      "outputs": []
    },
    {
      "cell_type": "markdown",
      "source": [
        "## 23-10"
      ],
      "metadata": {
        "id": "4frSB3SJWYk7"
      }
    },
    {
      "cell_type": "code",
      "source": [
        "behaviors = []\n",
        "for sent, accepted in df_obs[['Sent', 'Accepted']].values:\n",
        "    behavior = 2 if (sent and not accepted) else int(sent) * int(accepted)\n",
        "    behaviors.append(behavior)\n",
        "df_obs['Behavior'] = behaviors"
      ],
      "metadata": {
        "id": "EiM9X6QVWWBy"
      },
      "execution_count": 14,
      "outputs": []
    },
    {
      "cell_type": "markdown",
      "source": [
        "## 23-11"
      ],
      "metadata": {
        "id": "ASfbR3d3Wbzr"
      }
    },
    {
      "cell_type": "code",
      "source": [
        "for col in ['Profile_ID', 'Friend', 'FoF']:\n",
        "    nums = [col_to_mapping['Profile_ID'][hash_code]\n",
        "                for hash_code in df_obs[col]]\n",
        "    df_obs[col] = nums\n",
        "\n",
        "head = df_obs.head()\n",
        "print(head.to_string(index=False))"
      ],
      "metadata": {
        "colab": {
          "base_uri": "https://localhost:8080/"
        },
        "id": "Q8k-CicVWaRW",
        "outputId": "374a7c9e-af1e-4a35-8e2b-07c4bbb9841e"
      },
      "execution_count": 15,
      "outputs": [
        {
          "output_type": "stream",
          "name": "stdout",
          "text": [
            " Profile_ID  Friend  FoF  Sent  Accepted  Behavior\n",
            "       2485    2899 2847 False     False         0\n",
            "       2690    2899 3528 False     False         0\n",
            "       3904    2899 3528 False     False         0\n",
            "        709    2899 3403 False     False         0\n",
            "        502    2899  345  True      True         1\n"
          ]
        }
      ]
    },
    {
      "cell_type": "markdown",
      "source": [
        "## 23-12"
      ],
      "metadata": {
        "id": "TnsgSzoEWfTQ"
      }
    },
    {
      "cell_type": "code",
      "source": [
        "df_friends = pd.read_csv('friendhook/Friendships.csv')\n",
        "summarize_table(df_friends)"
      ],
      "metadata": {
        "colab": {
          "base_uri": "https://localhost:8080/"
        },
        "id": "YWrhYBWtWdTi",
        "outputId": "3f59c9c5-ef5f-474d-ccc1-48b49af3c741"
      },
      "execution_count": 16,
      "outputs": [
        {
          "output_type": "stream",
          "name": "stdout",
          "text": [
            "테이블에는 88234개의 행과 2개의 열이 있습니다\n",
            "테이블을 요약하면 다음과 같습니다\n",
            "\n",
            "            Friend_A      Friend_B\n",
            "count          88234         88234\n",
            "unique          3646          4037\n",
            "top     89581f99fa1e  97ba93d9b169\n",
            "freq            1043           251\n"
          ]
        }
      ]
    },
    {
      "cell_type": "markdown",
      "source": [
        "## 23-13"
      ],
      "metadata": {
        "id": "5TPvmJYuWluy"
      }
    },
    {
      "cell_type": "code",
      "source": [
        "import networkx as nx\n",
        "G = nx.Graph()\n",
        "for id1, id2 in df_friends.values:\n",
        "    node1 = col_to_mapping['Profile_ID'][id1]\n",
        "    node2 = col_to_mapping['Profile_ID'][id2]\n",
        "    G.add_edge(node1, node2)\n",
        "\n",
        "nodes = list(G.nodes)\n",
        "num_nodes = len(nodes)\n",
        "print(f\"소셜 그래프에는 {num_nodes}개의 노드가 존재합니다\")"
      ],
      "metadata": {
        "colab": {
          "base_uri": "https://localhost:8080/"
        },
        "id": "cLL6fmDjWghh",
        "outputId": "d5ab6d08-3dc8-4ae0-cf64-cc91b33b5ccc"
      },
      "execution_count": 18,
      "outputs": [
        {
          "output_type": "stream",
          "name": "stdout",
          "text": [
            "소셜 그래프에는 4039개의 노드가 존재합니다\n"
          ]
        }
      ]
    },
    {
      "cell_type": "markdown",
      "source": [
        "## 23-14"
      ],
      "metadata": {
        "id": "Kni7UzIFWrDs"
      }
    },
    {
      "cell_type": "code",
      "source": [
        "import matplotlib.pyplot as plt\n",
        "np.random.seed(0)\n",
        "nx.draw(G, node_size=5)\n",
        "plt.show()"
      ],
      "metadata": {
        "colab": {
          "base_uri": "https://localhost:8080/",
          "height": 516
        },
        "id": "aiucj8CpWnN6",
        "outputId": "f9614e22-b9af-4af2-ecc2-cbba4f32bc2e"
      },
      "execution_count": 19,
      "outputs": [
        {
          "output_type": "display_data",
          "data": {
            "text/plain": [
              "<Figure size 640x480 with 1 Axes>"
            ],
            "image/png": "[encoded data removed]"
          },
          "metadata": {}
        }
      ]
    },
    {
      "cell_type": "markdown",
      "source": [
        "## 23-15"
      ],
      "metadata": {
        "id": "Xw-3IvKfXIMV"
      }
    },
    {
      "cell_type": "code",
      "source": [
        "!pip install markov-clustering"
      ],
      "metadata": {
        "colab": {
          "base_uri": "https://localhost:8080/"
        },
        "collapsed": true,
        "id": "JFIgSNmcXSIc",
        "outputId": "f7d730a0-2fb1-423d-8806-1f79352999df"
      },
      "execution_count": 21,
      "outputs": [
        {
          "output_type": "stream",
          "name": "stdout",
          "text": [
            "Collecting markov-clustering\n",
            "  Downloading markov_clustering-0.0.6.dev0-py3-none-any.whl.metadata (947 bytes)\n",
            "Requirement already satisfied: numpy in /usr/local/lib/python3.10/dist-packages (from markov-clustering) (1.26.4)\n",
            "Requirement already satisfied: scipy>=0.19.0 in /usr/local/lib/python3.10/dist-packages (from markov-clustering) (1.13.1)\n",
            "Requirement already satisfied: scikit-learn in /usr/local/lib/python3.10/dist-packages (from markov-clustering) (1.5.2)\n",
            "Requirement already satisfied: joblib>=1.2.0 in /usr/local/lib/python3.10/dist-packages (from scikit-learn->markov-clustering) (1.4.2)\n",
            "Requirement already satisfied: threadpoolctl>=3.1.0 in /usr/local/lib/python3.10/dist-packages (from scikit-learn->markov-clustering) (3.5.0)\n",
            "Downloading markov_clustering-0.0.6.dev0-py3-none-any.whl (6.3 kB)\n",
            "Installing collected packages: markov-clustering\n",
            "Successfully installed markov-clustering-0.0.6.dev0\n"
          ]
        }
      ]
    },
    {
      "cell_type": "code",
      "source": [
        "import markov_clustering as mc\n",
        "matrix = nx.to_scipy_sparse_array(G)\n",
        "matrix = matrix.toarray()\n",
        "result = mc.run_mcl(matrix)\n",
        "clusters = mc.get_clusters(result)\n",
        "num_clusters = len(clusters)\n",
        "print(f\"소셜 그래프에서 {num_clusters}개의 클러스터가 발견되었습니다\")"
      ],
      "metadata": {
        "colab": {
          "base_uri": "https://localhost:8080/"
        },
        "id": "F7aiPOztWr8B",
        "outputId": "a06a56ba-ccc6-4d5a-e78c-478c1a645495"
      },
      "execution_count": 35,
      "outputs": [
        {
          "output_type": "stream",
          "name": "stdout",
          "text": [
            "소셜 그래프에서 10개의 클러스터가 발견되었습니다\n"
          ]
        }
      ]
    },
    {
      "cell_type": "markdown",
      "source": [
        "## 23-16"
      ],
      "metadata": {
        "id": "MHel_MtPZSBo"
      }
    },
    {
      "cell_type": "code",
      "source": [
        "for cluster_id, node_indices in enumerate(clusters):\n",
        "    for i in node_indices:\n",
        "        node = nodes[i]\n",
        "        G.nodes[node]['cluster_id'] = cluster_id"
      ],
      "metadata": {
        "id": "6i258R57X11A"
      },
      "execution_count": 37,
      "outputs": []
    },
    {
      "cell_type": "markdown",
      "source": [
        "## 23-17"
      ],
      "metadata": {
        "id": "rQqfqrjxZUfd"
      }
    },
    {
      "cell_type": "code",
      "source": [
        "np.random.seed(0)\n",
        "colors = [G.nodes[n]['cluster_id'] for n in G.nodes]\n",
        "nx.draw(G, node_size=5, node_color=colors, cmap=plt.cm.tab20)\n",
        "plt.show()"
      ],
      "metadata": {
        "colab": {
          "base_uri": "https://localhost:8080/",
          "height": 516
        },
        "id": "DmgurM3JXJPO",
        "outputId": "cae63d86-7f91-4a8f-e93d-b237e1ca3182"
      },
      "execution_count": 38,
      "outputs": [
        {
          "output_type": "display_data",
          "data": {
            "text/plain": [
              "<Figure size 640x480 with 1 Axes>"
            ],
            "image/png": "[encoded data removed]"
          },
          "metadata": {}
        }
      ]
    },
    {
      "cell_type": "markdown",
      "source": [
        "## 23-18"
      ],
      "metadata": {
        "id": "f-e6xXCyZpIr"
      }
    },
    {
      "cell_type": "code",
      "source": [
        "attribute_names = df_profile.columns\n",
        "for attributes in df_profile.values:\n",
        "    profile_id = attributes[0]\n",
        "    for name, att in zip(attribute_names[1:], attributes[1:]):\n",
        "        G.nodes[profile_id][name] = att\n",
        "\n",
        "first_node = nodes[0]\n",
        "print(f\"노드 {first_node}의 속성은 다음과 같습니다\")\n",
        "print(G.nodes[first_node])"
      ],
      "metadata": {
        "colab": {
          "base_uri": "https://localhost:8080/"
        },
        "id": "QUN5ZxrFZguc",
        "outputId": "b068e3e9-f057-4b7e-ee7b-20b1ffe1f35d"
      },
      "execution_count": 39,
      "outputs": [
        {
          "output_type": "stream",
          "name": "stdout",
          "text": [
            "노드 2899의 속성은 다음과 같습니다\n",
            "{'cluster_id': 0, 'Sex': 0, 'Relationship_Status': 0, 'Dorm': 5, 'Major': 13, 'Year': 2}\n"
          ]
        }
      ]
    },
    {
      "cell_type": "markdown",
      "source": [
        "## 23-19"
      ],
      "metadata": {
        "id": "6gl7BXA2ZrpZ"
      }
    },
    {
      "cell_type": "code",
      "source": [
        "y = df_obs.Behavior.values\n",
        "print(y)"
      ],
      "metadata": {
        "colab": {
          "base_uri": "https://localhost:8080/"
        },
        "id": "T5DqPtOgZsWi",
        "outputId": "99f48691-5fc0-406d-e44b-b0224ec74a6e"
      },
      "execution_count": 40,
      "outputs": [
        {
          "output_type": "stream",
          "name": "stdout",
          "text": [
            "[0 0 0 ... 1 1 1]\n"
          ]
        }
      ]
    },
    {
      "cell_type": "markdown",
      "source": [
        "## 23-20"
      ],
      "metadata": {
        "id": "zfWuPp5gZ9BP"
      }
    },
    {
      "cell_type": "code",
      "source": [
        "cols = ['Profile_ID', 'Friend', 'FoF']\n",
        "features = {f'{col}_Edge_Count': [] for col in cols}\n",
        "for node_ids in df_obs[cols].values:\n",
        "    for node, feature_name in zip(node_ids, features.keys()):\n",
        "        degree = G.degree(node)\n",
        "        features[feature_name].append(degree)\n",
        "\n",
        "df_features = pd.DataFrame(features)\n",
        "X = df_features.values"
      ],
      "metadata": {
        "id": "auzZ7FJsZ6Yp"
      },
      "execution_count": 41,
      "outputs": []
    },
    {
      "cell_type": "markdown",
      "source": [
        "## 23-21"
      ],
      "metadata": {
        "id": "WizsJg8QaAGD"
      }
    },
    {
      "cell_type": "code",
      "source": [
        "from sklearn.tree import DecisionTreeClassifier\n",
        "from sklearn.model_selection import train_test_split\n",
        "from sklearn.metrics import f1_score\n",
        "def evaluate(X, y, model_type=DecisionTreeClassifier, **kwargs):\n",
        "    np.random.seed(0)\n",
        "    X_train, X_test, y_train, y_test = train_test_split(X, y)\n",
        "    clf = model_type(**kwargs)\n",
        "    clf.fit(X_train, y_train)\n",
        "    pred = clf.predict(X_test)\n",
        "    f_measure = f1_score(pred, y_test, average='macro')\n",
        "    return f_measure, clf\n",
        "\n",
        "f_measure, clf = evaluate(X, y)\n",
        "print(f\"f-측정치는 {f_measure:0.2f} 입니다\")"
      ],
      "metadata": {
        "colab": {
          "base_uri": "https://localhost:8080/"
        },
        "id": "0RKv0101Z-Rc",
        "outputId": "60879da8-87d9-4666-a18c-9f7f8193f1fb"
      },
      "execution_count": 42,
      "outputs": [
        {
          "output_type": "stream",
          "name": "stdout",
          "text": [
            "f-측정치는 0.37 입니다\n"
          ]
        }
      ]
    },
    {
      "cell_type": "markdown",
      "source": [
        "## 23-22"
      ],
      "metadata": {
        "id": "0_LC3MfpaD3o"
      }
    },
    {
      "cell_type": "code",
      "source": [
        "node_to_pagerank = nx.pagerank(G)\n",
        "features = {f'{col}_PageRank': [] for col in cols}\n",
        "for node_ids in df_obs[cols].values:\n",
        "    for node, feature_name in zip(node_ids, features.keys()):\n",
        "        pagerank = node_to_pagerank[node]\n",
        "        features[feature_name].append(pagerank)\n",
        "\n",
        "def update_features(new_features):\n",
        "    for feature_name, values in new_features.items():\n",
        "        df_features[feature_name] = values\n",
        "    return df_features.values\n",
        "\n",
        "X = update_features(features)\n",
        "f_measure, clf = evaluate(X, y)\n",
        "\n",
        "print(f\"f-측정치는 {f_measure:0.2f} 입니다\")"
      ],
      "metadata": {
        "colab": {
          "base_uri": "https://localhost:8080/"
        },
        "id": "SANSjCEiaBFj",
        "outputId": "db5db667-a8de-4e85-9861-2dc0983c6160"
      },
      "execution_count": 43,
      "outputs": [
        {
          "output_type": "stream",
          "name": "stdout",
          "text": [
            "f-측정치는 0.38 입니다\n"
          ]
        }
      ]
    },
    {
      "cell_type": "markdown",
      "source": [
        "## 23-23\n"
      ],
      "metadata": {
        "id": "n1ti3hqjaG35"
      }
    },
    {
      "cell_type": "code",
      "source": [
        "features = {f'Shared_Cluster_{e}': []\n",
        "               for e in ['id_f', 'id_fof', 'f_fof']}\n",
        "\n",
        "i = 0\n",
        "for node_ids in df_obs[cols].values:\n",
        "    c_id, c_f, c_fof = [G.nodes[n]['cluster_id']\n",
        "                          for n in node_ids]\n",
        "    features['Shared_Cluster_id_f'].append(int(c_id == c_f))\n",
        "    features['Shared_Cluster_id_fof'].append(int(c_id == c_fof))\n",
        "    features['Shared_Cluster_f_fof'].append(int(c_f == c_fof))\n",
        "\n",
        "X = update_features(features)\n",
        "f_measure, clf = evaluate(X, y)\n",
        "print(f\"f-측정치는 {f_measure:0.2f} 입니다\")"
      ],
      "metadata": {
        "colab": {
          "base_uri": "https://localhost:8080/"
        },
        "id": "RnFRlKHlaE0Q",
        "outputId": "e97f3507-6b75-4c36-e90f-db0e24b02675"
      },
      "execution_count": 44,
      "outputs": [
        {
          "output_type": "stream",
          "name": "stdout",
          "text": [
            "f-측정치는 0.43 입니다\n"
          ]
        }
      ]
    },
    {
      "cell_type": "markdown",
      "source": [
        "## 23-24"
      ],
      "metadata": {
        "id": "1Dr2cGP-aKXc"
      }
    },
    {
      "cell_type": "code",
      "source": [
        "def view_top_features(clf, feature_names):\n",
        "    for i in np.argsort(clf.feature_importances_)[::-1]:\n",
        "        feature_name = feature_names[i]\n",
        "        importance = clf.feature_importances_[i]\n",
        "        if not round(importance, 2):\n",
        "            break\n",
        "\n",
        "        print(f\"{feature_name}: {importance:0.2f}\")\n",
        "feature_names = df_features.columns\n",
        "view_top_features(clf, feature_names)"
      ],
      "metadata": {
        "colab": {
          "base_uri": "https://localhost:8080/"
        },
        "id": "xwc6g9iQaIkY",
        "outputId": "4ec3a153-3cea-4a81-b2f4-b9ae16d81a01"
      },
      "execution_count": 45,
      "outputs": [
        {
          "output_type": "stream",
          "name": "stdout",
          "text": [
            "Shared_Cluster_id_fof: 0.18\n",
            "FoF_PageRank: 0.17\n",
            "Profile_ID_PageRank: 0.17\n",
            "Friend_PageRank: 0.15\n",
            "FoF_Edge_Count: 0.12\n",
            "Profile_ID_Edge_Count: 0.11\n",
            "Friend_Edge_Count: 0.10\n"
          ]
        }
      ]
    },
    {
      "cell_type": "markdown",
      "source": [
        "## 23-25"
      ],
      "metadata": {
        "id": "poO9PcwlaNbz"
      }
    },
    {
      "cell_type": "code",
      "source": [
        "cluster_sizes = [len(cluster) for cluster in clusters]\n",
        "features = {f'{col}_Cluster_Size': [] for col in cols}\n",
        "for node_ids in df_obs[cols].values:\n",
        "    for node, feature_name in zip(node_ids, features.keys()):\n",
        "       c_id = G.nodes[node]['cluster_id']\n",
        "       features[feature_name].append(cluster_sizes[c_id])\n",
        "\n",
        "X = update_features(features)\n",
        "f_measure, clf = evaluate(X, y)\n",
        "print(f\"f-측정치는 {f_measure:0.2f} 입니다\")"
      ],
      "metadata": {
        "colab": {
          "base_uri": "https://localhost:8080/"
        },
        "id": "yBnfi3YcaLeo",
        "outputId": "9e0cbe2c-952e-4b4e-f5c1-9e2b7632adb2"
      },
      "execution_count": 46,
      "outputs": [
        {
          "output_type": "stream",
          "name": "stdout",
          "text": [
            "f-측정치는 0.43 입니다\n"
          ]
        }
      ]
    },
    {
      "cell_type": "markdown",
      "source": [
        "## 23-26"
      ],
      "metadata": {
        "id": "oa6qG4v3aP1q"
      }
    },
    {
      "cell_type": "code",
      "source": [
        "import re\n",
        "def delete_features(df_features, regex=r'Cluster_Size'):\n",
        "    df_features.drop(columns=[name for name in df_features.columns\n",
        "                                        if re.search(regex, name)], inplace=True)\n",
        "    return df_features.values\n",
        "X = delete_features(df_features)"
      ],
      "metadata": {
        "id": "ho2jYUIBaOcB"
      },
      "execution_count": 47,
      "outputs": []
    },
    {
      "cell_type": "markdown",
      "source": [
        "## 23-27"
      ],
      "metadata": {
        "id": "Br8BKJSAaSTP"
      }
    },
    {
      "cell_type": "code",
      "source": [
        "friend_sharing_likelihood = {}\n",
        "for node in nodes:\n",
        "    neighbors = list(G[node])\n",
        "    friendship_count = 0\n",
        "    total_possible = 0\n",
        "    for i, node1 in enumerate(neighbors[:-1]):\n",
        "        for node2 in neighbors[i + 1:]:\n",
        "            if node1 in G[node2]:\n",
        "                friendship_count += 1\n",
        "            total_possible += 1\n",
        "\n",
        "    prob = friendship_count / total_possible if total_possible else 0\n",
        "    friend_sharing_likelihood[node] = prob"
      ],
      "metadata": {
        "id": "2q6Ahe0LaQsO"
      },
      "execution_count": 48,
      "outputs": []
    },
    {
      "cell_type": "markdown",
      "source": [
        "## 23-28"
      ],
      "metadata": {
        "id": "-Jwv3JDkaUaN"
      }
    },
    {
      "cell_type": "code",
      "source": [
        "features = {f'{col}_Friend_Sharing_Likelihood': [] for col in cols}\n",
        "for node_ids in df_obs[cols].values:\n",
        "    for node, feature_name in zip(node_ids, features.keys()):\n",
        "        sharing_likelihood = friend_sharing_likelihood[node]\n",
        "        features[feature_name].append(sharing_likelihood)\n",
        "\n",
        "X = update_features(features)\n",
        "f_measure, clf = evaluate(X, y)\n",
        "print(f\"f-츨정치는 {f_measure:0.2f} 입니다\")"
      ],
      "metadata": {
        "colab": {
          "base_uri": "https://localhost:8080/"
        },
        "id": "8ihBEOnNaTKa",
        "outputId": "3d436431-3799-46d9-9989-0102d423269c"
      },
      "execution_count": 49,
      "outputs": [
        {
          "output_type": "stream",
          "name": "stdout",
          "text": [
            "f-츨정치는 0.49 입니다\n"
          ]
        }
      ]
    },
    {
      "cell_type": "markdown",
      "source": [
        "## 23-29"
      ],
      "metadata": {
        "id": "_qsrKXepaa7-"
      }
    },
    {
      "cell_type": "code",
      "source": [
        "feature_names = df_features.columns\n",
        "view_top_features(clf, feature_names)"
      ],
      "metadata": {
        "colab": {
          "base_uri": "https://localhost:8080/"
        },
        "id": "YQ-6_wUqaZBs",
        "outputId": "ca2c63b0-81d3-4a85-f94e-e4697e9be93f"
      },
      "execution_count": 50,
      "outputs": [
        {
          "output_type": "stream",
          "name": "stdout",
          "text": [
            "Shared_Cluster_id_fof: 0.18\n",
            "Friend_Friend_Sharing_Likelihood: 0.13\n",
            "FoF_PageRank: 0.11\n",
            "Profile_ID_PageRank: 0.11\n",
            "Profile_ID_Friend_Sharing_Likelihood: 0.10\n",
            "FoF_Friend_Sharing_Likelihood: 0.10\n",
            "FoF_Edge_Count: 0.08\n",
            "Friend_PageRank: 0.07\n",
            "Profile_ID_Edge_Count: 0.07\n",
            "Friend_Edge_Count: 0.06\n"
          ]
        }
      ]
    },
    {
      "cell_type": "markdown",
      "source": [
        "## 23-30"
      ],
      "metadata": {
        "id": "tj-Qb3j5a79s"
      }
    },
    {
      "cell_type": "code",
      "source": [
        "attributes = ['Sex', 'Relationship_Status', 'Year']\n",
        "for attribute in attributes:\n",
        "    features = {f'{col}_{attribute}_Value': [] for col in cols}\n",
        "    for node_ids in df_obs[cols].values:\n",
        "        for node, feature_name in zip(node_ids, features.keys()):\n",
        "            att_value = G.nodes[node][attribute]\n",
        "            features[feature_name].append(att_value)\n",
        "\n",
        "    X = update_features(features)\n",
        "f_measure, clf = evaluate(X, y)\n",
        "print(f\"f-측정치는 {f_measure:0.2f} 입니다\")"
      ],
      "metadata": {
        "colab": {
          "base_uri": "https://localhost:8080/"
        },
        "id": "coPE9XIgacVz",
        "outputId": "45bd2ec3-8098-48cf-ffff-80e6e08fbf60"
      },
      "execution_count": 53,
      "outputs": [
        {
          "output_type": "stream",
          "name": "stdout",
          "text": [
            "f-측정치는 0.74 입니다\n"
          ]
        }
      ]
    },
    {
      "cell_type": "markdown",
      "source": [
        "## 23-31"
      ],
      "metadata": {
        "id": "GUp2xQi-bQ-G"
      }
    },
    {
      "cell_type": "code",
      "source": [
        "attributes = ['Major', 'Dorm']\n",
        "for attribute in attributes:\n",
        "    features = {f'Shared_{attribute}_{e}': []\n",
        "                   for e in ['id_f', 'id_fof', 'f_fof']}\n",
        "    for node_ids in df_obs[cols].values:\n",
        "        att_id, att_f, att_fof = [G.nodes[n][attribute] for n in node_ids]\n",
        "        features[f'Shared_{attribute}_id_f'].append(int(att_id == att_f))\n",
        "        features[f'Shared_{attribute}_id_fof'].append(int(att_id == att_fof))\n",
        "        features[f'Shared_{attribute}_f_fof'].append(int(att_f == att_fof))\n",
        "\n",
        "    X = update_features(features)\n",
        "\n",
        "f_measure, clf = evaluate(X, y)\n",
        "print(f\"f-측정치는 {f_measure:0.2f} 입니다\")"
      ],
      "metadata": {
        "colab": {
          "base_uri": "https://localhost:8080/"
        },
        "id": "yev9Ea9xa92P",
        "outputId": "023f688f-5c48-41ee-9dea-2765439a70ec"
      },
      "execution_count": 54,
      "outputs": [
        {
          "output_type": "stream",
          "name": "stdout",
          "text": [
            "f-측정치는 0.82 입니다\n"
          ]
        }
      ]
    },
    {
      "cell_type": "markdown",
      "source": [
        "## 23-32"
      ],
      "metadata": {
        "id": "MZZm_sOpbUTc"
      }
    },
    {
      "cell_type": "code",
      "source": [
        "from collections import Counter\n",
        "\n",
        "for attribute in ['Major', 'Dorm']:\n",
        "    counter = Counter(df_profile[attribute].values)\n",
        "    att_to_size = {k: v for k, v in counter.items()}\n",
        "    features = {f'{col}_{attribute}_Size': [] for col in cols}\n",
        "    for node_ids in df_obs[cols].values:\n",
        "        for node, feature_name in zip(node_ids, features.keys()):\n",
        "            size = att_to_size[G.nodes[node][attribute]]\n",
        "            features[feature_name].append(size)\n",
        "\n",
        "    X = update_features(features)\n",
        "\n",
        "f_measure, clf = evaluate(X, y)\n",
        "print(f\"f-측정치는 {f_measure:0.2f} 입니다\")"
      ],
      "metadata": {
        "colab": {
          "base_uri": "https://localhost:8080/"
        },
        "id": "xveM42n4bSdW",
        "outputId": "07b98e1a-655b-4810-c547-9033a9fb011b"
      },
      "execution_count": 55,
      "outputs": [
        {
          "output_type": "stream",
          "name": "stdout",
          "text": [
            "f-측정치는 0.85 입니다\n"
          ]
        }
      ]
    },
    {
      "cell_type": "markdown",
      "source": [
        "## 23-33"
      ],
      "metadata": {
        "id": "cHvsF8bZbXjA"
      }
    },
    {
      "cell_type": "code",
      "source": [
        "feature_names = df_features.columns.values\n",
        "view_top_features(clf, feature_names)"
      ],
      "metadata": {
        "colab": {
          "base_uri": "https://localhost:8080/"
        },
        "id": "ShpK5_QEbVZu",
        "outputId": "1be4d726-ae0c-4971-ba3b-12a4d74e42d1"
      },
      "execution_count": 56,
      "outputs": [
        {
          "output_type": "stream",
          "name": "stdout",
          "text": [
            "FoF_Dorm_Size: 0.25\n",
            "Shared_Cluster_id_fof: 0.16\n",
            "Shared_Dorm_id_fof: 0.05\n",
            "FoF_PageRank: 0.04\n",
            "FoF_Major_Size: 0.04\n",
            "Profile_ID_Major_Size: 0.04\n",
            "FoF_Edge_Count: 0.04\n",
            "Profile_ID_PageRank: 0.03\n",
            "Friend_Edge_Count: 0.03\n",
            "Friend_Friend_Sharing_Likelihood: 0.03\n",
            "Shared_Major_id_fof: 0.03\n",
            "Friend_PageRank: 0.03\n",
            "Profile_ID_Friend_Sharing_Likelihood: 0.03\n",
            "Profile_ID_Dorm_Size: 0.03\n",
            "Profile_ID_Edge_Count: 0.03\n",
            "Profile_ID_Sex_Value: 0.02\n",
            "FoF_Friend_Sharing_Likelihood: 0.02\n",
            "Profile_ID_Relationship_Status_Value: 0.02\n",
            "Friend_Major_Size: 0.02\n",
            "Friend_Sex_Value: 0.01\n",
            "FoF_Sex_Value: 0.01\n",
            "Shared_Major_id_f: 0.01\n",
            "Friend_Year_Value: 0.01\n",
            "Friend_Dorm_Size: 0.01\n",
            "FoF_Year_Value: 0.01\n",
            "Friend_Relationship_Status_Value: 0.01\n"
          ]
        }
      ]
    },
    {
      "cell_type": "markdown",
      "source": [
        "## 23-34"
      ],
      "metadata": {
        "id": "fEtiSZZRbbZA"
      }
    },
    {
      "cell_type": "code",
      "source": [
        "from sklearn.tree import export_text\n",
        "\n",
        "clf_depth2 = DecisionTreeClassifier(max_depth=2)\n",
        "clf_depth2.fit(X, y)\n",
        "text_tree = export_text(clf_depth2, feature_names=list(feature_names))\n",
        "print(text_tree)"
      ],
      "metadata": {
        "colab": {
          "base_uri": "https://localhost:8080/"
        },
        "id": "Wfx-VHXQbYmK",
        "outputId": "01ddb88e-9fde-430f-a52a-d390bf9421cb"
      },
      "execution_count": 57,
      "outputs": [
        {
          "output_type": "stream",
          "name": "stdout",
          "text": [
            "|--- FoF_Dorm_Size <= 278.50\n",
            "|   |--- Shared_Cluster_id_fof <= 0.50\n",
            "|   |   |--- class: 0\n",
            "|   |--- Shared_Cluster_id_fof >  0.50\n",
            "|   |   |--- class: 0\n",
            "|--- FoF_Dorm_Size >  278.50\n",
            "|   |--- Shared_Cluster_id_fof <= 0.50\n",
            "|   |   |--- class: 0\n",
            "|   |--- Shared_Cluster_id_fof >  0.50\n",
            "|   |   |--- class: 1\n",
            "\n"
          ]
        }
      ]
    },
    {
      "cell_type": "markdown",
      "source": [
        "## 23-35"
      ],
      "metadata": {
        "id": "VQWbGxDabeel"
      }
    },
    {
      "cell_type": "code",
      "source": [
        "counter = Counter(df_profile.Dorm.values)\n",
        "for dorm, count in counter.items():\n",
        "    if count < 279:\n",
        "        continue\n",
        "\n",
        "    print(f\"기숙사 {dorm}는 {count} 명의 학생을 수용할 수 있습니다\")"
      ],
      "metadata": {
        "colab": {
          "base_uri": "https://localhost:8080/"
        },
        "id": "NxXPnL6Sbck0",
        "outputId": "93db2f9b-93ed-4c2d-c4d5-1095acda3aa9"
      },
      "execution_count": 58,
      "outputs": [
        {
          "output_type": "stream",
          "name": "stdout",
          "text": [
            "기숙사 12는 2739 명의 학생을 수용할 수 있습니다\n",
            "기숙사 1는 413 명의 학생을 수용할 수 있습니다\n"
          ]
        }
      ]
    },
    {
      "cell_type": "markdown",
      "source": [
        "## 23-36"
      ],
      "metadata": {
        "id": "ZJtq76Fcbg3H"
      }
    },
    {
      "cell_type": "code",
      "source": [
        "X_with_sizes = X.copy()\n",
        "X = delete_features(df_features, regex=r'_Size')"
      ],
      "metadata": {
        "id": "jOBPV0YLbfV8"
      },
      "execution_count": 59,
      "outputs": []
    },
    {
      "cell_type": "markdown",
      "source": [
        "## 23-37"
      ],
      "metadata": {
        "id": "sa3AOTQQbj1W"
      }
    },
    {
      "cell_type": "code",
      "source": [
        "from sklearn.ensemble import RandomForestClassifier\n",
        "f_measure, clf = evaluate(X, y, model_type=RandomForestClassifier)\n",
        "print(f\"f-측정치는 {f_measure:0.2f} 입니다\")"
      ],
      "metadata": {
        "colab": {
          "base_uri": "https://localhost:8080/"
        },
        "id": "pjDbLBBHbh2I",
        "outputId": "d81e2d57-908f-4f6e-be20-85ef8e91ec4a"
      },
      "execution_count": 60,
      "outputs": [
        {
          "output_type": "stream",
          "name": "stdout",
          "text": [
            "f-측정치는 0.76 입니다\n"
          ]
        }
      ]
    },
    {
      "cell_type": "markdown",
      "source": [
        "## 23-38"
      ],
      "metadata": {
        "id": "G5dNcEPKbn-Y"
      }
    },
    {
      "cell_type": "code",
      "source": [
        "from sklearn.model_selection import GridSearchCV\n",
        "np.random.seed(0)\n",
        "\n",
        "hyperparams = {'max_depth': list(range(1, 100)) + [None]}\n",
        "clf_grid = GridSearchCV(DecisionTreeClassifier(), hyperparams,\n",
        "                                scoring='f1_macro', cv=2)\n",
        "clf_grid.fit(X, y)\n",
        "best_f = clf_grid.best_score_\n",
        "best_depth = clf_grid.best_params_['max_depth']\n",
        "print(f\"최대 깊이가 {best_depth}일 때, \"\n",
        "       f\"f-측정치는 {best_f:.2f}로 최대화 됩니다\")"
      ],
      "metadata": {
        "colab": {
          "base_uri": "https://localhost:8080/"
        },
        "id": "nBa_JPCobk3e",
        "outputId": "f6ed70b5-6707-4480-dccc-84dd74792cff"
      },
      "execution_count": 61,
      "outputs": [
        {
          "output_type": "stream",
          "name": "stdout",
          "text": [
            "최대 깊이가 5일 때, f-측정치는 0.82로 최대화 됩니다\n"
          ]
        }
      ]
    },
    {
      "cell_type": "markdown",
      "source": [
        "## 23-39"
      ],
      "metadata": {
        "id": "tLeXzXTkbq8j"
      }
    },
    {
      "cell_type": "code",
      "source": [
        "np.random.seed(0)\n",
        "clf_grid.fit(X_with_sizes, y)\n",
        "best_f = clf_grid.best_score_\n",
        "best_depth = clf_grid.best_params_['max_depth']\n",
        "\n",
        "print(f\"최대 깊이가 {best_depth}일 때, \"\n",
        "       f\"f-측정치는 {best_f:.2f}로 최대화 됩니다\")"
      ],
      "metadata": {
        "colab": {
          "base_uri": "https://localhost:8080/"
        },
        "id": "G7QZG57pbo9o",
        "outputId": "05db7a55-7f04-4f56-aaf2-8e041dec269f"
      },
      "execution_count": 62,
      "outputs": [
        {
          "output_type": "stream",
          "name": "stdout",
          "text": [
            "최대 깊이가 6일 때, f-측정치는 0.84로 최대화 됩니다\n"
          ]
        }
      ]
    },
    {
      "cell_type": "markdown",
      "source": [
        "## 23-40"
      ],
      "metadata": {
        "id": "KfXxio2Ybu1p"
      }
    },
    {
      "cell_type": "code",
      "source": [
        "clf = DecisionTreeClassifier(max_depth=5)\n",
        "clf.fit(X, y)"
      ],
      "metadata": {
        "colab": {
          "base_uri": "https://localhost:8080/",
          "height": 80
        },
        "id": "kYFZG90XbtRE",
        "outputId": "194b7071-37f5-45bf-d800-8e06361cd739"
      },
      "execution_count": 63,
      "outputs": [
        {
          "output_type": "execute_result",
          "data": {
            "text/plain": [
              "DecisionTreeClassifier(max_depth=5)"
            ],
            "text/html": [
              "<style>#sk-container-id-1 {\n",
              "  /* Definition of color scheme common for light and dark mode */\n",
              "  --sklearn-color-text: black;\n",
              "  --sklearn-color-line: gray;\n",
              "  /* Definition of color scheme for unfitted estimators */\n",
              "  --sklearn-color-unfitted-level-0: #fff5e6;\n",
              "  --sklearn-color-unfitted-level-1: #f6e4d2;\n",
              "  --sklearn-color-unfitted-level-2: #ffe0b3;\n",
              "  --sklearn-color-unfitted-level-3: chocolate;\n",
              "  /* Definition of color scheme for fitted estimators */\n",
              "  --sklearn-color-fitted-level-0: #f0f8ff;\n",
              "  --sklearn-color-fitted-level-1: #d4ebff;\n",
              "  --sklearn-color-fitted-level-2: #b3dbfd;\n",
              "  --sklearn-color-fitted-level-3: cornflowerblue;\n",
              "\n",
              "  /* Specific color for light theme */\n",
              "  --sklearn-color-text-on-default-background: var(--sg-text-color, var(--theme-code-foreground, var(--jp-content-font-color1, black)));\n",
              "  --sklearn-color-background: var(--sg-background-color, var(--theme-background, var(--jp-layout-color0, white)));\n",
              "  --sklearn-color-border-box: var(--sg-text-color, var(--theme-code-foreground, var(--jp-content-font-color1, black)));\n",
              "  --sklearn-color-icon: #696969;\n",
              "\n",
              "  @media (prefers-color-scheme: dark) {\n",
              "    /* Redefinition of color scheme for dark theme */\n",
              "    --sklearn-color-text-on-default-background: var(--sg-text-color, var(--theme-code-foreground, var(--jp-content-font-color1, white)));\n",
              "    --sklearn-color-background: var(--sg-background-color, var(--theme-background, var(--jp-layout-color0, #111)));\n",
              "    --sklearn-color-border-box: var(--sg-text-color, var(--theme-code-foreground, var(--jp-content-font-color1, white)));\n",
              "    --sklearn-color-icon: #878787;\n",
              "  }\n",
              "}\n",
              "\n",
              "#sk-container-id-1 {\n",
              "  color: var(--sklearn-color-text);\n",
              "}\n",
              "\n",
              "#sk-container-id-1 pre {\n",
              "  padding: 0;\n",
              "}\n",
              "\n",
              "#sk-container-id-1 input.sk-hidden--visually {\n",
              "  border: 0;\n",
              "  clip: rect(1px 1px 1px 1px);\n",
              "  clip: rect(1px, 1px, 1px, 1px);\n",
              "  height: 1px;\n",
              "  margin: -1px;\n",
              "  overflow: hidden;\n",
              "  padding: 0;\n",
              "  position: absolute;\n",
              "  width: 1px;\n",
              "}\n",
              "\n",
              "#sk-container-id-1 div.sk-dashed-wrapped {\n",
              "  border: 1px dashed var(--sklearn-color-line);\n",
              "  margin: 0 0.4em 0.5em 0.4em;\n",
              "  box-sizing: border-box;\n",
              "  padding-bottom: 0.4em;\n",
              "  background-color: var(--sklearn-color-background);\n",
              "}\n",
              "\n",
              "#sk-container-id-1 div.sk-container {\n",
              "  /* jupyter's `normalize.less` sets `[hidden] { display: none; }`\n",
              "     but bootstrap.min.css set `[hidden] { display: none !important; }`\n",
              "     so we also need the `!important` here to be able to override the\n",
              "     default hidden behavior on the sphinx rendered scikit-learn.org.\n",
              "     See: https://github.com/scikit-learn/scikit-learn/issues/21755 */\n",
              "  display: inline-block !important;\n",
              "  position: relative;\n",
              "}\n",
              "\n",
              "#sk-container-id-1 div.sk-text-repr-fallback {\n",
              "  display: none;\n",
              "}\n",
              "\n",
              "div.sk-parallel-item,\n",
              "div.sk-serial,\n",
              "div.sk-item {\n",
              "  /* draw centered vertical line to link estimators */\n",
              "  background-image: linear-gradient(var(--sklearn-color-text-on-default-background), var(--sklearn-color-text-on-default-background));\n",
              "  background-size: 2px 100%;\n",
              "  background-repeat: no-repeat;\n",
              "  background-position: center center;\n",
              "}\n",
              "\n",
              "/* Parallel-specific style estimator block */\n",
              "\n",
              "#sk-container-id-1 div.sk-parallel-item::after {\n",
              "  content: \"\";\n",
              "  width: 100%;\n",
              "  border-bottom: 2px solid var(--sklearn-color-text-on-default-background);\n",
              "  flex-grow: 1;\n",
              "}\n",
              "\n",
              "#sk-container-id-1 div.sk-parallel {\n",
              "  display: flex;\n",
              "  align-items: stretch;\n",
              "  justify-content: center;\n",
              "  background-color: var(--sklearn-color-background);\n",
              "  position: relative;\n",
              "}\n",
              "\n",
              "#sk-container-id-1 div.sk-parallel-item {\n",
              "  display: flex;\n",
              "  flex-direction: column;\n",
              "}\n",
              "\n",
              "#sk-container-id-1 div.sk-parallel-item:first-child::after {\n",
              "  align-self: flex-end;\n",
              "  width: 50%;\n",
              "}\n",
              "\n",
              "#sk-container-id-1 div.sk-parallel-item:last-child::after {\n",
              "  align-self: flex-start;\n",
              "  width: 50%;\n",
              "}\n",
              "\n",
              "#sk-container-id-1 div.sk-parallel-item:only-child::after {\n",
              "  width: 0;\n",
              "}\n",
              "\n",
              "/* Serial-specific style estimator block */\n",
              "\n",
              "#sk-container-id-1 div.sk-serial {\n",
              "  display: flex;\n",
              "  flex-direction: column;\n",
              "  align-items: center;\n",
              "  background-color: var(--sklearn-color-background);\n",
              "  padding-right: 1em;\n",
              "  padding-left: 1em;\n",
              "}\n",
              "\n",
              "\n",
              "/* Toggleable style: style used for estimator/Pipeline/ColumnTransformer box that is\n",
              "clickable and can be expanded/collapsed.\n",
              "- Pipeline and ColumnTransformer use this feature and define the default style\n",
              "- Estimators will overwrite some part of the style using the `sk-estimator` class\n",
              "*/\n",
              "\n",
              "/* Pipeline and ColumnTransformer style (default) */\n",
              "\n",
              "#sk-container-id-1 div.sk-toggleable {\n",
              "  /* Default theme specific background. It is overwritten whether we have a\n",
              "  specific estimator or a Pipeline/ColumnTransformer */\n",
              "  background-color: var(--sklearn-color-background);\n",
              "}\n",
              "\n",
              "/* Toggleable label */\n",
              "#sk-container-id-1 label.sk-toggleable__label {\n",
              "  cursor: pointer;\n",
              "  display: block;\n",
              "  width: 100%;\n",
              "  margin-bottom: 0;\n",
              "  padding: 0.5em;\n",
              "  box-sizing: border-box;\n",
              "  text-align: center;\n",
              "}\n",
              "\n",
              "#sk-container-id-1 label.sk-toggleable__label-arrow:before {\n",
              "  /* Arrow on the left of the label */\n",
              "  content: \"▸\";\n",
              "  float: left;\n",
              "  margin-right: 0.25em;\n",
              "  color: var(--sklearn-color-icon);\n",
              "}\n",
              "\n",
              "#sk-container-id-1 label.sk-toggleable__label-arrow:hover:before {\n",
              "  color: var(--sklearn-color-text);\n",
              "}\n",
              "\n",
              "/* Toggleable content - dropdown */\n",
              "\n",
              "#sk-container-id-1 div.sk-toggleable__content {\n",
              "  max-height: 0;\n",
              "  max-width: 0;\n",
              "  overflow: hidden;\n",
              "  text-align: left;\n",
              "  /* unfitted */\n",
              "  background-color: var(--sklearn-color-unfitted-level-0);\n",
              "}\n",
              "\n",
              "#sk-container-id-1 div.sk-toggleable__content.fitted {\n",
              "  /* fitted */\n",
              "  background-color: var(--sklearn-color-fitted-level-0);\n",
              "}\n",
              "\n",
              "#sk-container-id-1 div.sk-toggleable__content pre {\n",
              "  margin: 0.2em;\n",
              "  border-radius: 0.25em;\n",
              "  color: var(--sklearn-color-text);\n",
              "  /* unfitted */\n",
              "  background-color: var(--sklearn-color-unfitted-level-0);\n",
              "}\n",
              "\n",
              "#sk-container-id-1 div.sk-toggleable__content.fitted pre {\n",
              "  /* unfitted */\n",
              "  background-color: var(--sklearn-color-fitted-level-0);\n",
              "}\n",
              "\n",
              "#sk-container-id-1 input.sk-toggleable__control:checked~div.sk-toggleable__content {\n",
              "  /* Expand drop-down */\n",
              "  max-height: 200px;\n",
              "  max-width: 100%;\n",
              "  overflow: auto;\n",
              "}\n",
              "\n",
              "#sk-container-id-1 input.sk-toggleable__control:checked~label.sk-toggleable__label-arrow:before {\n",
              "  content: \"▾\";\n",
              "}\n",
              "\n",
              "/* Pipeline/ColumnTransformer-specific style */\n",
              "\n",
              "#sk-container-id-1 div.sk-label input.sk-toggleable__control:checked~label.sk-toggleable__label {\n",
              "  color: var(--sklearn-color-text);\n",
              "  background-color: var(--sklearn-color-unfitted-level-2);\n",
              "}\n",
              "\n",
              "#sk-container-id-1 div.sk-label.fitted input.sk-toggleable__control:checked~label.sk-toggleable__label {\n",
              "  background-color: var(--sklearn-color-fitted-level-2);\n",
              "}\n",
              "\n",
              "/* Estimator-specific style */\n",
              "\n",
              "/* Colorize estimator box */\n",
              "#sk-container-id-1 div.sk-estimator input.sk-toggleable__control:checked~label.sk-toggleable__label {\n",
              "  /* unfitted */\n",
              "  background-color: var(--sklearn-color-unfitted-level-2);\n",
              "}\n",
              "\n",
              "#sk-container-id-1 div.sk-estimator.fitted input.sk-toggleable__control:checked~label.sk-toggleable__label {\n",
              "  /* fitted */\n",
              "  background-color: var(--sklearn-color-fitted-level-2);\n",
              "}\n",
              "\n",
              "#sk-container-id-1 div.sk-label label.sk-toggleable__label,\n",
              "#sk-container-id-1 div.sk-label label {\n",
              "  /* The background is the default theme color */\n",
              "  color: var(--sklearn-color-text-on-default-background);\n",
              "}\n",
              "\n",
              "/* On hover, darken the color of the background */\n",
              "#sk-container-id-1 div.sk-label:hover label.sk-toggleable__label {\n",
              "  color: var(--sklearn-color-text);\n",
              "  background-color: var(--sklearn-color-unfitted-level-2);\n",
              "}\n",
              "\n",
              "/* Label box, darken color on hover, fitted */\n",
              "#sk-container-id-1 div.sk-label.fitted:hover label.sk-toggleable__label.fitted {\n",
              "  color: var(--sklearn-color-text);\n",
              "  background-color: var(--sklearn-color-fitted-level-2);\n",
              "}\n",
              "\n",
              "/* Estimator label */\n",
              "\n",
              "#sk-container-id-1 div.sk-label label {\n",
              "  font-family: monospace;\n",
              "  font-weight: bold;\n",
              "  display: inline-block;\n",
              "  line-height: 1.2em;\n",
              "}\n",
              "\n",
              "#sk-container-id-1 div.sk-label-container {\n",
              "  text-align: center;\n",
              "}\n",
              "\n",
              "/* Estimator-specific */\n",
              "#sk-container-id-1 div.sk-estimator {\n",
              "  font-family: monospace;\n",
              "  border: 1px dotted var(--sklearn-color-border-box);\n",
              "  border-radius: 0.25em;\n",
              "  box-sizing: border-box;\n",
              "  margin-bottom: 0.5em;\n",
              "  /* unfitted */\n",
              "  background-color: var(--sklearn-color-unfitted-level-0);\n",
              "}\n",
              "\n",
              "#sk-container-id-1 div.sk-estimator.fitted {\n",
              "  /* fitted */\n",
              "  background-color: var(--sklearn-color-fitted-level-0);\n",
              "}\n",
              "\n",
              "/* on hover */\n",
              "#sk-container-id-1 div.sk-estimator:hover {\n",
              "  /* unfitted */\n",
              "  background-color: var(--sklearn-color-unfitted-level-2);\n",
              "}\n",
              "\n",
              "#sk-container-id-1 div.sk-estimator.fitted:hover {\n",
              "  /* fitted */\n",
              "  background-color: var(--sklearn-color-fitted-level-2);\n",
              "}\n",
              "\n",
              "/* Specification for estimator info (e.g. \"i\" and \"?\") */\n",
              "\n",
              "/* Common style for \"i\" and \"?\" */\n",
              "\n",
              ".sk-estimator-doc-link,\n",
              "a:link.sk-estimator-doc-link,\n",
              "a:visited.sk-estimator-doc-link {\n",
              "  float: right;\n",
              "  font-size: smaller;\n",
              "  line-height: 1em;\n",
              "  font-family: monospace;\n",
              "  background-color: var(--sklearn-color-background);\n",
              "  border-radius: 1em;\n",
              "  height: 1em;\n",
              "  width: 1em;\n",
              "  text-decoration: none !important;\n",
              "  margin-left: 1ex;\n",
              "  /* unfitted */\n",
              "  border: var(--sklearn-color-unfitted-level-1) 1pt solid;\n",
              "  color: var(--sklearn-color-unfitted-level-1);\n",
              "}\n",
              "\n",
              ".sk-estimator-doc-link.fitted,\n",
              "a:link.sk-estimator-doc-link.fitted,\n",
              "a:visited.sk-estimator-doc-link.fitted {\n",
              "  /* fitted */\n",
              "  border: var(--sklearn-color-fitted-level-1) 1pt solid;\n",
              "  color: var(--sklearn-color-fitted-level-1);\n",
              "}\n",
              "\n",
              "/* On hover */\n",
              "div.sk-estimator:hover .sk-estimator-doc-link:hover,\n",
              ".sk-estimator-doc-link:hover,\n",
              "div.sk-label-container:hover .sk-estimator-doc-link:hover,\n",
              ".sk-estimator-doc-link:hover {\n",
              "  /* unfitted */\n",
              "  background-color: var(--sklearn-color-unfitted-level-3);\n",
              "  color: var(--sklearn-color-background);\n",
              "  text-decoration: none;\n",
              "}\n",
              "\n",
              "div.sk-estimator.fitted:hover .sk-estimator-doc-link.fitted:hover,\n",
              ".sk-estimator-doc-link.fitted:hover,\n",
              "div.sk-label-container:hover .sk-estimator-doc-link.fitted:hover,\n",
              ".sk-estimator-doc-link.fitted:hover {\n",
              "  /* fitted */\n",
              "  background-color: var(--sklearn-color-fitted-level-3);\n",
              "  color: var(--sklearn-color-background);\n",
              "  text-decoration: none;\n",
              "}\n",
              "\n",
              "/* Span, style for the box shown on hovering the info icon */\n",
              ".sk-estimator-doc-link span {\n",
              "  display: none;\n",
              "  z-index: 9999;\n",
              "  position: relative;\n",
              "  font-weight: normal;\n",
              "  right: .2ex;\n",
              "  padding: .5ex;\n",
              "  margin: .5ex;\n",
              "  width: min-content;\n",
              "  min-width: 20ex;\n",
              "  max-width: 50ex;\n",
              "  color: var(--sklearn-color-text);\n",
              "  box-shadow: 2pt 2pt 4pt #999;\n",
              "  /* unfitted */\n",
              "  background: var(--sklearn-color-unfitted-level-0);\n",
              "  border: .5pt solid var(--sklearn-color-unfitted-level-3);\n",
              "}\n",
              "\n",
              ".sk-estimator-doc-link.fitted span {\n",
              "  /* fitted */\n",
              "  background: var(--sklearn-color-fitted-level-0);\n",
              "  border: var(--sklearn-color-fitted-level-3);\n",
              "}\n",
              "\n",
              ".sk-estimator-doc-link:hover span {\n",
              "  display: block;\n",
              "}\n",
              "\n",
              "/* \"?\"-specific style due to the `<a>` HTML tag */\n",
              "\n",
              "#sk-container-id-1 a.estimator_doc_link {\n",
              "  float: right;\n",
              "  font-size: 1rem;\n",
              "  line-height: 1em;\n",
              "  font-family: monospace;\n",
              "  background-color: var(--sklearn-color-background);\n",
              "  border-radius: 1rem;\n",
              "  height: 1rem;\n",
              "  width: 1rem;\n",
              "  text-decoration: none;\n",
              "  /* unfitted */\n",
              "  color: var(--sklearn-color-unfitted-level-1);\n",
              "  border: var(--sklearn-color-unfitted-level-1) 1pt solid;\n",
              "}\n",
              "\n",
              "#sk-container-id-1 a.estimator_doc_link.fitted {\n",
              "  /* fitted */\n",
              "  border: var(--sklearn-color-fitted-level-1) 1pt solid;\n",
              "  color: var(--sklearn-color-fitted-level-1);\n",
              "}\n",
              "\n",
              "/* On hover */\n",
              "#sk-container-id-1 a.estimator_doc_link:hover {\n",
              "  /* unfitted */\n",
              "  background-color: var(--sklearn-color-unfitted-level-3);\n",
              "  color: var(--sklearn-color-background);\n",
              "  text-decoration: none;\n",
              "}\n",
              "\n",
              "#sk-container-id-1 a.estimator_doc_link.fitted:hover {\n",
              "  /* fitted */\n",
              "  background-color: var(--sklearn-color-fitted-level-3);\n",
              "}\n",
              "</style><div id=\"sk-container-id-1\" class=\"sk-top-container\"><div class=\"sk-text-repr-fallback\"><pre>DecisionTreeClassifier(max_depth=5)</pre><b>In a Jupyter environment, please rerun this cell to show the HTML representation or trust the notebook. <br />On GitHub, the HTML representation is unable to render, please try loading this page with nbviewer.org.</b></div><div class=\"sk-container\" hidden><div class=\"sk-item\"><div class=\"sk-estimator fitted sk-toggleable\"><input class=\"sk-toggleable__control sk-hidden--visually\" id=\"sk-estimator-id-1\" type=\"checkbox\" checked><label for=\"sk-estimator-id-1\" class=\"sk-toggleable__label fitted sk-toggleable__label-arrow fitted\">&nbsp;&nbsp;DecisionTreeClassifier<a class=\"sk-estimator-doc-link fitted\" rel=\"noreferrer\" target=\"_blank\" href=\"https://scikit-learn.org/1.5/modules/generated/sklearn.tree.DecisionTreeClassifier.html\">?<span>Documentation for DecisionTreeClassifier</span></a><span class=\"sk-estimator-doc-link fitted\">i<span>Fitted</span></span></label><div class=\"sk-toggleable__content fitted\"><pre>DecisionTreeClassifier(max_depth=5)</pre></div> </div></div></div></div>"
            ]
          },
          "metadata": {},
          "execution_count": 63
        }
      ]
    },
    {
      "cell_type": "markdown",
      "source": [
        "## 23-41"
      ],
      "metadata": {
        "id": "lHoCKOttbyXD"
      }
    },
    {
      "cell_type": "code",
      "source": [
        "feature_names = df_features.columns\n",
        "view_top_features(clf, feature_names)"
      ],
      "metadata": {
        "colab": {
          "base_uri": "https://localhost:8080/"
        },
        "id": "qJyH9bEYbwy-",
        "outputId": "c1085edf-a108-4fc6-d95e-7a33aaaaccc5"
      },
      "execution_count": 64,
      "outputs": [
        {
          "output_type": "stream",
          "name": "stdout",
          "text": [
            "Shared_Dorm_id_fof: 0.42\n",
            "Shared_Cluster_id_fof: 0.29\n",
            "Shared_Major_id_fof: 0.10\n",
            "Shared_Dorm_f_fof: 0.04\n",
            "Profile_ID_Relationship_Status_Value: 0.04\n",
            "Profile_ID_Sex_Value: 0.04\n",
            "Shared_Dorm_id_f: 0.03\n",
            "Friend_Edge_Count: 0.02\n",
            "Friend_PageRank: 0.01\n"
          ]
        }
      ]
    },
    {
      "cell_type": "markdown",
      "source": [
        "## 23-42"
      ],
      "metadata": {
        "id": "RGQsvh7Vb44N"
      }
    },
    {
      "cell_type": "code",
      "source": [
        "clf_depth3 = DecisionTreeClassifier(max_depth=3)\n",
        "clf_depth3.fit(X, y)\n",
        "text_tree = export_text(clf_depth3,\n",
        "feature_names=list(feature_names))\n",
        "print(text_tree)"
      ],
      "metadata": {
        "colab": {
          "base_uri": "https://localhost:8080/"
        },
        "id": "WlQmU7R-bzXh",
        "outputId": "213e8d44-e6ab-464d-dcf3-304617a043cb"
      },
      "execution_count": 65,
      "outputs": [
        {
          "output_type": "stream",
          "name": "stdout",
          "text": [
            "|--- Shared_Dorm_id_fof <= 0.50\n",
            "|   |--- Shared_Cluster_id_fof <= 0.50\n",
            "|   |   |--- Shared_Major_id_fof <= 0.50\n",
            "|   |   |   |--- class: 0\n",
            "|   |   |--- Shared_Major_id_fof >  0.50\n",
            "|   |   |   |--- class: 0\n",
            "|   |--- Shared_Cluster_id_fof >  0.50\n",
            "|   |   |--- Shared_Major_id_fof <= 0.50\n",
            "|   |   |   |--- class: 0\n",
            "|   |   |--- Shared_Major_id_fof >  0.50\n",
            "|   |   |   |--- class: 1\n",
            "|--- Shared_Dorm_id_fof >  0.50\n",
            "|   |--- Shared_Cluster_id_fof <= 0.50\n",
            "|   |   |--- Profile_ID_Sex_Value <= 0.50\n",
            "|   |   |   |--- class: 0\n",
            "|   |   |--- Profile_ID_Sex_Value >  0.50\n",
            "|   |   |   |--- class: 2\n",
            "|   |--- Shared_Cluster_id_fof >  0.50\n",
            "|   |   |--- Shared_Dorm_f_fof <= 0.50\n",
            "|   |   |   |--- class: 1\n",
            "|   |   |--- Shared_Dorm_f_fof >  0.50\n",
            "|   |   |   |--- class: 1\n",
            "\n"
          ]
        }
      ]
    },
    {
      "cell_type": "markdown",
      "source": [
        "## 23-43"
      ],
      "metadata": {
        "id": "9Tzk8o0Eb75t"
      }
    },
    {
      "cell_type": "code",
      "source": [
        "y_reject = y *(y == 2)\n",
        "f_measure, clf_reject = evaluate(X, y_reject, max_depth=5)\n",
        "print(f\"f-측정치는 {f_measure:0.2f} 입니다\")"
      ],
      "metadata": {
        "colab": {
          "base_uri": "https://localhost:8080/"
        },
        "id": "6qR7dE3Cb53i",
        "outputId": "180d3bbf-779b-4191-8501-b2a6c4a3c9cf"
      },
      "execution_count": 66,
      "outputs": [
        {
          "output_type": "stream",
          "name": "stdout",
          "text": [
            "f-측정치는 0.97 입니다\n"
          ]
        }
      ]
    },
    {
      "cell_type": "markdown",
      "source": [
        "## 23-44"
      ],
      "metadata": {
        "id": "0RSQyA5Wb-Mt"
      }
    },
    {
      "cell_type": "code",
      "source": [
        "view_top_features(clf_reject, feature_names)"
      ],
      "metadata": {
        "colab": {
          "base_uri": "https://localhost:8080/"
        },
        "id": "aKJXqUJ5b89c",
        "outputId": "d9f74359-30d7-470e-cbfe-cb15913e2fc1"
      },
      "execution_count": 67,
      "outputs": [
        {
          "output_type": "stream",
          "name": "stdout",
          "text": [
            "Profile_ID_Sex_Value: 0.40\n",
            "Profile_ID_Relationship_Status_Value: 0.24\n",
            "Shared_Major_id_fof: 0.21\n",
            "Shared_Cluster_id_fof: 0.10\n",
            "Shared_Dorm_id_fof: 0.05\n"
          ]
        }
      ]
    },
    {
      "cell_type": "markdown",
      "source": [
        "## 23-45"
      ],
      "metadata": {
        "id": "KRKm-wvHcBGJ"
      }
    },
    {
      "cell_type": "code",
      "source": [
        "text_tree = export_text(clf_reject, feature_names=list(feature_names))\n",
        "print(text_tree)"
      ],
      "metadata": {
        "colab": {
          "base_uri": "https://localhost:8080/"
        },
        "id": "G3qIBhvvb_bR",
        "outputId": "03e2b21d-e604-405f-d53e-a15eb9c25892"
      },
      "execution_count": 68,
      "outputs": [
        {
          "output_type": "stream",
          "name": "stdout",
          "text": [
            "|--- Shared_Cluster_id_fof <= 0.50\n",
            "|   |--- Shared_Major_id_fof <= 0.50\n",
            "|   |   |--- Shared_Dorm_id_fof <= 0.50\n",
            "|   |   |   |--- class: 0\n",
            "|   |   |--- Shared_Dorm_id_fof >  0.50\n",
            "|   |   |   |--- Profile_ID_Relationship_Status_Value <= 2.50\n",
            "|   |   |   |   |--- class: 0\n",
            "|   |   |   |--- Profile_ID_Relationship_Status_Value >  2.50\n",
            "|   |   |   |   |--- Profile_ID_Sex_Value <= 0.50\n",
            "|   |   |   |   |   |--- class: 0\n",
            "|   |   |   |   |--- Profile_ID_Sex_Value >  0.50\n",
            "|   |   |   |   |   |--- class: 2\n",
            "|   |--- Shared_Major_id_fof >  0.50\n",
            "|   |   |--- Profile_ID_Sex_Value <= 0.50\n",
            "|   |   |   |--- class: 0\n",
            "|   |   |--- Profile_ID_Sex_Value >  0.50\n",
            "|   |   |   |--- Profile_ID_Relationship_Status_Value <= 2.50\n",
            "|   |   |   |   |--- class: 0\n",
            "|   |   |   |--- Profile_ID_Relationship_Status_Value >  2.50\n",
            "|   |   |   |   |--- class: 2\n",
            "|--- Shared_Cluster_id_fof >  0.50\n",
            "|   |--- class: 0\n",
            "\n"
          ]
        }
      ]
    },
    {
      "cell_type": "code",
      "source": [],
      "metadata": {
        "id": "oMIO06wTcB-r"
      },
      "execution_count": null,
      "outputs": []
    }
  ]
}