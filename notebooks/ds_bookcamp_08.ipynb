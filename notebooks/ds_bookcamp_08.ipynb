{
  "nbformat": 4,
  "nbformat_minor": 0,
  "metadata": {
    "colab": {
      "provenance": [],
      "authorship_tag": "ABX9TyPCho6FaTODeCA+BR5CgSJa",
      "include_colab_link": true
    },
    "kernelspec": {
      "name": "python3",
      "display_name": "Python 3"
    },
    "language_info": {
      "name": "python"
    }
  },
  "cells": [
    {
      "cell_type": "markdown",
      "metadata": {
        "id": "view-in-github",
        "colab_type": "text"
      },
      "source": [
        "<a href=\"https://colab.research.google.com/github/books-by-chansung/ds-bookcamp/blob/main/notebooks/ds_bookcamp_08.ipynb\" target=\"_parent\"><img src=\"https://colab.research.google.com/assets/colab-badge.svg\" alt=\"Open In Colab\"/></a>"
      ]
    },
    {
      "cell_type": "code",
      "execution_count": 1,
      "metadata": {
        "colab": {
          "base_uri": "https://localhost:8080/"
        },
        "id": "dDSQANS3JrJ0",
        "outputId": "04f6bcd7-9c1c-484d-cb2e-63b439090bc7"
      },
      "outputs": [
        {
          "output_type": "stream",
          "name": "stdout",
          "text": [
            "--2024-08-16 03:06:53--  https://github.com/books-by-chansung/ds-bookcamp/blob/main/NanumBarunGothic.ttf?raw=true\n",
            "Resolving github.com (github.com)... 140.82.112.4\n",
            "Connecting to github.com (github.com)|140.82.112.4|:443... connected.\n",
            "HTTP request sent, awaiting response... 302 Found\n",
            "Location: https://github.com/books-by-chansung/ds-bookcamp/raw/main/NanumBarunGothic.ttf [following]\n",
            "--2024-08-16 03:06:53--  https://github.com/books-by-chansung/ds-bookcamp/raw/main/NanumBarunGothic.ttf\n",
            "Reusing existing connection to github.com:443.\n",
            "HTTP request sent, awaiting response... 302 Found\n",
            "Location: https://raw.githubusercontent.com/books-by-chansung/ds-bookcamp/main/NanumBarunGothic.ttf [following]\n",
            "--2024-08-16 03:06:54--  https://raw.githubusercontent.com/books-by-chansung/ds-bookcamp/main/NanumBarunGothic.ttf\n",
            "Resolving raw.githubusercontent.com (raw.githubusercontent.com)... 185.199.108.133, 185.199.109.133, 185.199.110.133, ...\n",
            "Connecting to raw.githubusercontent.com (raw.githubusercontent.com)|185.199.108.133|:443... connected.\n",
            "HTTP request sent, awaiting response... 200 OK\n",
            "Length: 4186060 (4.0M) [application/octet-stream]\n",
            "Saving to: ‘/usr/share/fonts/truetype/nanum/NanumBarunGothic.ttf’\n",
            "\n",
            "/usr/share/fonts/tr 100%[===================>]   3.99M  --.-KB/s    in 0.09s   \n",
            "\n",
            "2024-08-16 03:06:54 (46.4 MB/s) - ‘/usr/share/fonts/truetype/nanum/NanumBarunGothic.ttf’ saved [4186060/4186060]\n",
            "\n"
          ]
        }
      ],
      "source": [
        "!mkdir -p /usr/share/fonts/truetype/nanum\n",
        "!wget https://github.com/books-by-chansung/ds-bookcamp/blob/main/NanumBarunGothic.ttf?raw=true -O /usr/share/fonts/truetype/nanum/NanumBarunGothic.ttf"
      ]
    },
    {
      "cell_type": "code",
      "source": [
        "import matplotlib.font_manager as fm\n",
        "import matplotlib.pyplot as plt\n",
        "\n",
        "fe = fm.FontEntry(\n",
        "    fname=r'/usr/share/fonts/truetype/nanum/NanumBarunGothic.ttf', # ttf 파일이 저장되어 있는 경로\n",
        "    name='NanumGothic')                        # 이 폰트의 원하는 이름 설정\n",
        "fm.fontManager.ttflist.insert(0, fe)              # Matplotlib에 폰트 추가\n",
        "plt.rcParams.update({'font.size': 18, 'font.family': 'NanumGothic'}) # 폰트 설정"
      ],
      "metadata": {
        "id": "3y3PQl_ZJt5-"
      },
      "execution_count": 2,
      "outputs": []
    },
    {
      "cell_type": "code",
      "source": [
        "import math\n",
        "import numpy as np\n",
        "from scipy import stats"
      ],
      "metadata": {
        "id": "GEKRbbD_Jvam"
      },
      "execution_count": 35,
      "outputs": []
    },
    {
      "cell_type": "markdown",
      "source": [
        "## 8-1"
      ],
      "metadata": {
        "id": "aMvkjA9WJz4F"
      }
    },
    {
      "cell_type": "code",
      "source": [
        "fish_measures = {'Fish': ['Angelfish', 'Zebrafish', 'Killifish', 'Swordtail'],\n",
        "                       'Length':[15.2, 6.5, 9, 6],\n",
        "                       'Width': [7.7, 2.1, 4.5, 2]}"
      ],
      "metadata": {
        "id": "XwjBgldrJyDC"
      },
      "execution_count": 4,
      "outputs": []
    },
    {
      "cell_type": "markdown",
      "source": [
        "## 8-2"
      ],
      "metadata": {
        "id": "1k3yG-JVJ5ux"
      }
    },
    {
      "cell_type": "code",
      "source": [
        "zebrafish_index = fish_measures['Fish'].index('Zebrafish')\n",
        "zebrafish_length = fish_measures['Length'][zebrafish_index]\n",
        "print(f\"zebrafish의 길이는 {zebrafish_length:.2f} cm 입니다.\")"
      ],
      "metadata": {
        "colab": {
          "base_uri": "https://localhost:8080/"
        },
        "id": "N_tFf49vJ32i",
        "outputId": "c1267f74-779f-49ce-8d35-9291f4ece729"
      },
      "execution_count": 5,
      "outputs": [
        {
          "output_type": "stream",
          "name": "stdout",
          "text": [
            "zebrafish의 길이는 6.50 cm 입니다.\n"
          ]
        }
      ]
    },
    {
      "cell_type": "markdown",
      "source": [
        "## 8-3"
      ],
      "metadata": {
        "id": "_Yrs_Zz1J-c2"
      }
    },
    {
      "cell_type": "code",
      "source": [
        "import pandas as pd"
      ],
      "metadata": {
        "id": "F8xdRCADJ67M"
      },
      "execution_count": 6,
      "outputs": []
    },
    {
      "cell_type": "markdown",
      "source": [
        "## 8-4"
      ],
      "metadata": {
        "id": "Di2v889oKCla"
      }
    },
    {
      "cell_type": "code",
      "source": [
        "df = pd.DataFrame(fish_measures)\n",
        "print(df)"
      ],
      "metadata": {
        "colab": {
          "base_uri": "https://localhost:8080/"
        },
        "id": "O6MIG0mMJ__8",
        "outputId": "806bf315-fcfe-4851-b293-e1c0ab3e7085"
      },
      "execution_count": 7,
      "outputs": [
        {
          "output_type": "stream",
          "name": "stdout",
          "text": [
            "        Fish  Length  Width\n",
            "0  Angelfish    15.2    7.7\n",
            "1  Zebrafish     6.5    2.1\n",
            "2  Killifish     9.0    4.5\n",
            "3  Swordtail     6.0    2.0\n"
          ]
        }
      ]
    },
    {
      "cell_type": "markdown",
      "source": [
        "## 8-5"
      ],
      "metadata": {
        "id": "rniPGBStKT76"
      }
    },
    {
      "cell_type": "code",
      "source": [
        "print(df.head(2))"
      ],
      "metadata": {
        "colab": {
          "base_uri": "https://localhost:8080/"
        },
        "id": "FkEGy8KwKDTj",
        "outputId": "31effe28-50ce-4df2-a261-22d23ac5f598"
      },
      "execution_count": 8,
      "outputs": [
        {
          "output_type": "stream",
          "name": "stdout",
          "text": [
            "        Fish  Length  Width\n",
            "0  Angelfish    15.2    7.7\n",
            "1  Zebrafish     6.5    2.1\n"
          ]
        }
      ]
    },
    {
      "cell_type": "markdown",
      "source": [
        "## 8-6"
      ],
      "metadata": {
        "id": "cRgdjofBKbbB"
      }
    },
    {
      "cell_type": "code",
      "source": [
        "print(df.describe())"
      ],
      "metadata": {
        "colab": {
          "base_uri": "https://localhost:8080/"
        },
        "id": "iG1ZEMc6KU4h",
        "outputId": "dc7ff5eb-8065-478f-c380-4f4b97eef386"
      },
      "execution_count": 9,
      "outputs": [
        {
          "output_type": "stream",
          "name": "stdout",
          "text": [
            "          Length     Width\n",
            "count   4.000000  4.000000\n",
            "mean    9.175000  4.075000\n",
            "std     4.225616  2.678775\n",
            "min     6.000000  2.000000\n",
            "25%     6.375000  2.075000\n",
            "50%     7.750000  3.300000\n",
            "75%    10.550000  5.300000\n",
            "max    15.200000  7.700000\n"
          ]
        }
      ]
    },
    {
      "cell_type": "markdown",
      "source": [
        "## 8-7"
      ],
      "metadata": {
        "id": "k6vdb69VKra_"
      }
    },
    {
      "cell_type": "code",
      "source": [
        "print(df.iloc[:, 1:].mean())"
      ],
      "metadata": {
        "colab": {
          "base_uri": "https://localhost:8080/"
        },
        "id": "OZOcuO_kKcVH",
        "outputId": "ac253011-17f7-42da-fb32-ef70f85b443f"
      },
      "execution_count": 12,
      "outputs": [
        {
          "output_type": "stream",
          "name": "stdout",
          "text": [
            "Length    9.175\n",
            "Width     4.075\n",
            "dtype: float64\n"
          ]
        }
      ]
    },
    {
      "cell_type": "markdown",
      "source": [
        "## 8-8"
      ],
      "metadata": {
        "id": "N98HDsNGLasP"
      }
    },
    {
      "cell_type": "code",
      "source": [
        "print(df.describe(include=[object]))"
      ],
      "metadata": {
        "colab": {
          "base_uri": "https://localhost:8080/"
        },
        "id": "g_VDhm93KsQC",
        "outputId": "03f9397b-88a2-4582-a5fe-128a2af4f315"
      },
      "execution_count": 14,
      "outputs": [
        {
          "output_type": "stream",
          "name": "stdout",
          "text": [
            "             Fish\n",
            "count           4\n",
            "unique          4\n",
            "top     Angelfish\n",
            "freq            1\n"
          ]
        }
      ]
    },
    {
      "cell_type": "markdown",
      "source": [
        "## 8-9"
      ],
      "metadata": {
        "id": "EVdAbwY0L1ly"
      }
    },
    {
      "cell_type": "code",
      "source": [
        "print(df.values)\n",
        "assert type(df.values) == np.ndarray"
      ],
      "metadata": {
        "colab": {
          "base_uri": "https://localhost:8080/"
        },
        "id": "uUxKY5XmLb80",
        "outputId": "8a9cb2aa-bcd1-4309-aa7a-b6cfb9141bdd"
      },
      "execution_count": 15,
      "outputs": [
        {
          "output_type": "stream",
          "name": "stdout",
          "text": [
            "[['Angelfish' 15.2 7.7]\n",
            " ['Zebrafish' 6.5 2.1]\n",
            " ['Killifish' 9.0 4.5]\n",
            " ['Swordtail' 6.0 2.0]]\n"
          ]
        }
      ]
    },
    {
      "cell_type": "markdown",
      "source": [
        "## 8-10"
      ],
      "metadata": {
        "id": "GLi2fJ4UL4c0"
      }
    },
    {
      "cell_type": "code",
      "source": [
        "print(df.columns)"
      ],
      "metadata": {
        "colab": {
          "base_uri": "https://localhost:8080/"
        },
        "id": "peFdnDGML2Vy",
        "outputId": "643c9c46-2fb3-4d5f-c6ac-d681d1a4990e"
      },
      "execution_count": 16,
      "outputs": [
        {
          "output_type": "stream",
          "name": "stdout",
          "text": [
            "Index(['Fish', 'Length', 'Width'], dtype='object')\n"
          ]
        }
      ]
    },
    {
      "cell_type": "markdown",
      "source": [
        "## 8-11"
      ],
      "metadata": {
        "id": "s_h--hLZL8qV"
      }
    },
    {
      "cell_type": "code",
      "source": [
        "print(df.Fish)"
      ],
      "metadata": {
        "colab": {
          "base_uri": "https://localhost:8080/"
        },
        "id": "SYyW7GPYL6oQ",
        "outputId": "887b94a7-81e2-468e-bea3-f282c70a33b5"
      },
      "execution_count": 17,
      "outputs": [
        {
          "output_type": "stream",
          "name": "stdout",
          "text": [
            "0    Angelfish\n",
            "1    Zebrafish\n",
            "2    Killifish\n",
            "3    Swordtail\n",
            "Name: Fish, dtype: object\n"
          ]
        }
      ]
    },
    {
      "cell_type": "markdown",
      "source": [
        "## 8-12"
      ],
      "metadata": {
        "id": "JLlRUHUdMB23"
      }
    },
    {
      "cell_type": "code",
      "source": [
        "print(df.Fish.values)\n",
        "assert type(df.Fish.values) == np.ndarray"
      ],
      "metadata": {
        "colab": {
          "base_uri": "https://localhost:8080/"
        },
        "id": "Wp2GSIkEL9lZ",
        "outputId": "cb746b62-d6e5-4d33-eaed-4a0b0b82f92c"
      },
      "execution_count": 18,
      "outputs": [
        {
          "output_type": "stream",
          "name": "stdout",
          "text": [
            "['Angelfish' 'Zebrafish' 'Killifish' 'Swordtail']\n"
          ]
        }
      ]
    },
    {
      "cell_type": "markdown",
      "source": [
        "## 8-13"
      ],
      "metadata": {
        "id": "bWLMO339MFlW"
      }
    },
    {
      "cell_type": "code",
      "source": [
        "print(df['Fish'])"
      ],
      "metadata": {
        "colab": {
          "base_uri": "https://localhost:8080/"
        },
        "id": "swNTWrxZMDRI",
        "outputId": "a13e2049-e235-49a0-a1db-6b32b4483498"
      },
      "execution_count": 19,
      "outputs": [
        {
          "output_type": "stream",
          "name": "stdout",
          "text": [
            "0    Angelfish\n",
            "1    Zebrafish\n",
            "2    Killifish\n",
            "3    Swordtail\n",
            "Name: Fish, dtype: object\n"
          ]
        }
      ]
    },
    {
      "cell_type": "code",
      "source": [],
      "metadata": {
        "id": "XwyM_C4tMHPI"
      },
      "execution_count": null,
      "outputs": []
    },
    {
      "cell_type": "markdown",
      "source": [
        "## 8-14"
      ],
      "metadata": {
        "id": "JgmvE6clMdUm"
      }
    },
    {
      "cell_type": "code",
      "source": [
        "print(df[['Fish', 'Length']])"
      ],
      "metadata": {
        "colab": {
          "base_uri": "https://localhost:8080/"
        },
        "id": "c-FskDyUMeHj",
        "outputId": "9b4021c9-02c9-47d1-de37-75deeb48e0f1"
      },
      "execution_count": 20,
      "outputs": [
        {
          "output_type": "stream",
          "name": "stdout",
          "text": [
            "        Fish  Length\n",
            "0  Angelfish    15.2\n",
            "1  Zebrafish     6.5\n",
            "2  Killifish     9.0\n",
            "3  Swordtail     6.0\n"
          ]
        }
      ]
    },
    {
      "cell_type": "markdown",
      "source": [
        "## 8-15"
      ],
      "metadata": {
        "id": "LxNYb6q-MljV"
      }
    },
    {
      "cell_type": "code",
      "source": [
        "print(df.sort_values('Length'))"
      ],
      "metadata": {
        "colab": {
          "base_uri": "https://localhost:8080/"
        },
        "id": "pn6ZQ8koMegu",
        "outputId": "93c1dd4c-5cbe-4f88-ff85-1de3d516160e"
      },
      "execution_count": 21,
      "outputs": [
        {
          "output_type": "stream",
          "name": "stdout",
          "text": [
            "        Fish  Length  Width\n",
            "3  Swordtail     6.0    2.0\n",
            "1  Zebrafish     6.5    2.1\n",
            "2  Killifish     9.0    4.5\n",
            "0  Angelfish    15.2    7.7\n"
          ]
        }
      ]
    },
    {
      "cell_type": "markdown",
      "source": [
        "## 8-16"
      ],
      "metadata": {
        "id": "Mpv8Dv_tM2Kd"
      }
    },
    {
      "cell_type": "code",
      "source": [
        "print(df[df.Width >= 3])"
      ],
      "metadata": {
        "colab": {
          "base_uri": "https://localhost:8080/"
        },
        "id": "apH3LQeHMmjf",
        "outputId": "71e610e1-0ad0-4bac-b112-f2ed2d460738"
      },
      "execution_count": 22,
      "outputs": [
        {
          "output_type": "stream",
          "name": "stdout",
          "text": [
            "        Fish  Length  Width\n",
            "0  Angelfish    15.2    7.7\n",
            "2  Killifish     9.0    4.5\n"
          ]
        }
      ]
    },
    {
      "cell_type": "markdown",
      "source": [
        "## 8-17"
      ],
      "metadata": {
        "id": "ke7FHqqxNGvH"
      }
    },
    {
      "cell_type": "code",
      "source": [
        "print(df.loc[[0, 3]])"
      ],
      "metadata": {
        "colab": {
          "base_uri": "https://localhost:8080/"
        },
        "id": "jriUIZ6_M3Yj",
        "outputId": "985c31ca-97e8-43db-e427-c3685efa5593"
      },
      "execution_count": 23,
      "outputs": [
        {
          "output_type": "stream",
          "name": "stdout",
          "text": [
            "        Fish  Length  Width\n",
            "0  Angelfish    15.2    7.7\n",
            "3  Swordtail     6.0    2.0\n"
          ]
        }
      ]
    },
    {
      "cell_type": "markdown",
      "source": [
        "## 8-18"
      ],
      "metadata": {
        "id": "OveaN43vNTPr"
      }
    },
    {
      "cell_type": "code",
      "source": [
        "booleans = [name in ['Angelfish', 'Swordtail'] for name in df.Fish]\n",
        "print(df[booleans])"
      ],
      "metadata": {
        "colab": {
          "base_uri": "https://localhost:8080/"
        },
        "id": "83xhKKJUNHm3",
        "outputId": "d4cab5fb-13ac-4974-c1aa-4f7d4fcf9cc6"
      },
      "execution_count": 24,
      "outputs": [
        {
          "output_type": "stream",
          "name": "stdout",
          "text": [
            "        Fish  Length  Width\n",
            "0  Angelfish    15.2    7.7\n",
            "3  Swordtail     6.0    2.0\n"
          ]
        }
      ]
    },
    {
      "cell_type": "markdown",
      "source": [
        "## 8-19"
      ],
      "metadata": {
        "id": "brjTmNosNiM_"
      }
    },
    {
      "cell_type": "code",
      "source": [
        "print(df[df.Fish.isin(['Angelfish', 'Swordtail'])])"
      ],
      "metadata": {
        "colab": {
          "base_uri": "https://localhost:8080/"
        },
        "id": "RUikWnUNNVVV",
        "outputId": "00072cce-1e52-401d-fb49-a451cd36d4b1"
      },
      "execution_count": 25,
      "outputs": [
        {
          "output_type": "stream",
          "name": "stdout",
          "text": [
            "        Fish  Length  Width\n",
            "0  Angelfish    15.2    7.7\n",
            "3  Swordtail     6.0    2.0\n"
          ]
        }
      ]
    },
    {
      "cell_type": "markdown",
      "source": [
        "## 8-20"
      ],
      "metadata": {
        "id": "kAWfP41ENqe6"
      }
    },
    {
      "cell_type": "code",
      "source": [
        "df.set_index('Fish', inplace=True)\n",
        "print(df)"
      ],
      "metadata": {
        "colab": {
          "base_uri": "https://localhost:8080/"
        },
        "id": "0eFJi4rHNjg5",
        "outputId": "7a3ba1cb-f433-45d4-c539-542a3849b12f"
      },
      "execution_count": 26,
      "outputs": [
        {
          "output_type": "stream",
          "name": "stdout",
          "text": [
            "           Length  Width\n",
            "Fish                    \n",
            "Angelfish    15.2    7.7\n",
            "Zebrafish     6.5    2.1\n",
            "Killifish     9.0    4.5\n",
            "Swordtail     6.0    2.0\n"
          ]
        }
      ]
    },
    {
      "cell_type": "markdown",
      "source": [
        "## 8-21"
      ],
      "metadata": {
        "id": "GgYTJQKqN9mp"
      }
    },
    {
      "cell_type": "code",
      "source": [
        "print(df.loc[['Angelfish', 'Swordtail']])"
      ],
      "metadata": {
        "colab": {
          "base_uri": "https://localhost:8080/"
        },
        "id": "-VriVB-sNr-O",
        "outputId": "0773008f-c9c7-4c09-ad36-3997fe2b501b"
      },
      "execution_count": 27,
      "outputs": [
        {
          "output_type": "stream",
          "name": "stdout",
          "text": [
            "           Length  Width\n",
            "Fish                    \n",
            "Angelfish    15.2    7.7\n",
            "Swordtail     6.0    2.0\n"
          ]
        }
      ]
    },
    {
      "cell_type": "markdown",
      "source": [
        "## 8-22"
      ],
      "metadata": {
        "id": "1XGB-3oQOIYg"
      }
    },
    {
      "cell_type": "code",
      "source": [
        "df_transposed = df.T\n",
        "print(df_transposed)"
      ],
      "metadata": {
        "colab": {
          "base_uri": "https://localhost:8080/"
        },
        "id": "PDwVkfz1N_Rk",
        "outputId": "89f5596a-a78f-429b-fc0b-dd923d1d731f"
      },
      "execution_count": 28,
      "outputs": [
        {
          "output_type": "stream",
          "name": "stdout",
          "text": [
            "Fish    Angelfish  Zebrafish  Killifish  Swordtail\n",
            "Length       15.2        6.5        9.0        6.0\n",
            "Width         7.7        2.1        4.5        2.0\n"
          ]
        }
      ]
    },
    {
      "cell_type": "markdown",
      "source": [
        "## 8-23"
      ],
      "metadata": {
        "id": "rAlo3dUkOYRw"
      }
    },
    {
      "cell_type": "code",
      "source": [
        "print(df_transposed.Swordtail)"
      ],
      "metadata": {
        "colab": {
          "base_uri": "https://localhost:8080/"
        },
        "id": "n7dNnTvqOJvn",
        "outputId": "cc81ef05-2e22-4475-a368-f3b1dff29381"
      },
      "execution_count": 29,
      "outputs": [
        {
          "output_type": "stream",
          "name": "stdout",
          "text": [
            "Length    6.0\n",
            "Width     2.0\n",
            "Name: Swordtail, dtype: float64\n"
          ]
        }
      ]
    },
    {
      "cell_type": "markdown",
      "source": [
        "## 8-24"
      ],
      "metadata": {
        "id": "eKUu4WpUOdC4"
      }
    },
    {
      "cell_type": "code",
      "source": [
        "df_transposed['Clownfish'] = [10.6, 3.7]\n",
        "print(df_transposed)"
      ],
      "metadata": {
        "colab": {
          "base_uri": "https://localhost:8080/"
        },
        "id": "uxbrLovEOZas",
        "outputId": "ef6652b7-055a-4f76-e893-eda7f97a8f87"
      },
      "execution_count": 30,
      "outputs": [
        {
          "output_type": "stream",
          "name": "stdout",
          "text": [
            "Fish    Angelfish  Zebrafish  Killifish  Swordtail  Clownfish\n",
            "Length       15.2        6.5        9.0        6.0       10.6\n",
            "Width         7.7        2.1        4.5        2.0        3.7\n"
          ]
        }
      ]
    },
    {
      "cell_type": "markdown",
      "source": [
        "## 8-25"
      ],
      "metadata": {
        "id": "LHwTjhybOqfc"
      }
    },
    {
      "cell_type": "code",
      "source": [
        "df_new = df_transposed.assign(Clownfish2=[10.6, 3.7], Clownfish3=[10.6, 3.7])\n",
        "assert 'Clownfish2' not in df_transposed.columns\n",
        "assert 'Clownfish2' in df_new.columns\n",
        "print(df_new)"
      ],
      "metadata": {
        "colab": {
          "base_uri": "https://localhost:8080/"
        },
        "id": "g6BkafsdOeRN",
        "outputId": "a7d27ca7-7145-4d39-81db-e8c3f37edc12"
      },
      "execution_count": 31,
      "outputs": [
        {
          "output_type": "stream",
          "name": "stdout",
          "text": [
            "Fish    Angelfish  Zebrafish  Killifish  Swordtail  Clownfish  Clownfish2  \\\n",
            "Length       15.2        6.5        9.0        6.0       10.6        10.6   \n",
            "Width         7.7        2.1        4.5        2.0        3.7         3.7   \n",
            "\n",
            "Fish    Clownfish3  \n",
            "Length        10.6  \n",
            "Width          3.7  \n"
          ]
        }
      ]
    },
    {
      "cell_type": "markdown",
      "source": [
        "## 8-26"
      ],
      "metadata": {
        "id": "SLyf2T_DO6ri"
      }
    },
    {
      "cell_type": "code",
      "source": [
        "df_new.drop(columns=['Clownfish2', 'Clownfish3'], inplace=True)\n",
        "print(df_new)"
      ],
      "metadata": {
        "colab": {
          "base_uri": "https://localhost:8080/"
        },
        "id": "QBLIcsLvOre1",
        "outputId": "37188253-76f4-42c6-e5aa-df2f68dd7495"
      },
      "execution_count": 32,
      "outputs": [
        {
          "output_type": "stream",
          "name": "stdout",
          "text": [
            "Fish    Angelfish  Zebrafish  Killifish  Swordtail  Clownfish\n",
            "Length       15.2        6.5        9.0        6.0       10.6\n",
            "Width         7.7        2.1        4.5        2.0        3.7\n"
          ]
        }
      ]
    },
    {
      "cell_type": "markdown",
      "source": [
        "## 8-27"
      ],
      "metadata": {
        "id": "ROqFYjrIPB9u"
      }
    },
    {
      "cell_type": "code",
      "source": [
        "areas = []\n",
        "for fish_species, (length, width) in df_new.items():\n",
        "    area = math.pi * length * width / 4\n",
        "    print(f\"{fish_species}의 면적은 {area} 입니다.\")\n",
        "    areas.append(area)"
      ],
      "metadata": {
        "colab": {
          "base_uri": "https://localhost:8080/"
        },
        "id": "JIPLMnH1O8P9",
        "outputId": "da99bdb3-ef4a-43ff-cd96-89f0cd88b37b"
      },
      "execution_count": 36,
      "outputs": [
        {
          "output_type": "stream",
          "name": "stdout",
          "text": [
            "Angelfish의 면적은 91.92300104403735 입니다.\n",
            "Zebrafish의 면적은 10.720684930375171 입니다.\n",
            "Killifish의 면적은 31.808625617596654 입니다.\n",
            "Swordtail의 면적은 9.42477796076938 입니다.\n",
            "Clownfish의 면적은 30.80331596844792 입니다.\n"
          ]
        }
      ]
    },
    {
      "cell_type": "markdown",
      "source": [
        "## 8-28"
      ],
      "metadata": {
        "id": "J6gpAEQ5PatA"
      }
    },
    {
      "cell_type": "code",
      "source": [
        "df_new.loc['Area'] = areas\n",
        "df_new.reindex()\n",
        "print(df_new)"
      ],
      "metadata": {
        "colab": {
          "base_uri": "https://localhost:8080/"
        },
        "id": "efTml5QLPH7l",
        "outputId": "cf8283b8-3fae-4a75-e90d-a2c07e08fbab"
      },
      "execution_count": 37,
      "outputs": [
        {
          "output_type": "stream",
          "name": "stdout",
          "text": [
            "Fish    Angelfish  Zebrafish  Killifish  Swordtail  Clownfish\n",
            "Length  15.200000   6.500000   9.000000   6.000000  10.600000\n",
            "Width    7.700000   2.100000   4.500000   2.000000   3.700000\n",
            "Area    91.923001  10.720685  31.808626   9.424778  30.803316\n"
          ]
        }
      ]
    },
    {
      "cell_type": "markdown",
      "source": [
        "## 8-29"
      ],
      "metadata": {
        "id": "i9RCJjubQCsx"
      }
    },
    {
      "cell_type": "code",
      "source": [
        "row_count, column_count = df_new.shape\n",
        "print(f\"테이블은 {row_count}개의 열과 {column_count}개의 행을 가집니다\")"
      ],
      "metadata": {
        "colab": {
          "base_uri": "https://localhost:8080/"
        },
        "id": "z1byijlHPb-J",
        "outputId": "15cbf78a-bbb2-4683-c94c-2d81a9497001"
      },
      "execution_count": 38,
      "outputs": [
        {
          "output_type": "stream",
          "name": "stdout",
          "text": [
            "테이블은 3개의 열과 5개의 행을 가집니다\n"
          ]
        }
      ]
    },
    {
      "cell_type": "markdown",
      "source": [
        "## 8-30"
      ],
      "metadata": {
        "id": "ediS_c3fQJA2"
      }
    },
    {
      "cell_type": "code",
      "source": [
        "df_new.to_csv('Fish_measurements.csv')\n",
        "\n",
        "with open('Fish_measurements.csv') as f:\n",
        "    print(f.read())"
      ],
      "metadata": {
        "colab": {
          "base_uri": "https://localhost:8080/"
        },
        "id": "3MUYmkY5QEjL",
        "outputId": "df8ad828-a245-4294-e5a0-69baef29bcd5"
      },
      "execution_count": 39,
      "outputs": [
        {
          "output_type": "stream",
          "name": "stdout",
          "text": [
            ",Angelfish,Zebrafish,Killifish,Swordtail,Clownfish\n",
            "Length,15.2,6.5,9.0,6.0,10.6\n",
            "Width,7.7,2.1,4.5,2.0,3.7\n",
            "Area,91.92300104403735,10.720684930375171,31.808625617596654,9.42477796076938,30.80331596844792\n",
            "\n"
          ]
        }
      ]
    },
    {
      "cell_type": "markdown",
      "source": [
        "## 8-31"
      ],
      "metadata": {
        "id": "1pZPcdhqQVZ-"
      }
    },
    {
      "cell_type": "code",
      "source": [
        "df = pd.read_csv('Fish_measurements.csv', index_col=0)\n",
        "print(df)\n",
        "print(\"\\n열을 할당할 때 사용되는 행 인덱스 이름\")\n",
        "print(df.index.values)\n",
        "\n",
        "df_no_assign = pd.read_csv('Fish_measurements.csv')\n",
        "print(\"\\n열이 할당되지 않았을 때 사용되는 행 인덱스 이름\")\n",
        "print(df_no_assign.index.values)"
      ],
      "metadata": {
        "colab": {
          "base_uri": "https://localhost:8080/"
        },
        "id": "A0ZVcihoQKZE",
        "outputId": "7b877515-d93e-4810-b7e7-7d27d0ae86a8"
      },
      "execution_count": 42,
      "outputs": [
        {
          "output_type": "stream",
          "name": "stdout",
          "text": [
            "        Angelfish  Zebrafish  Killifish  Swordtail  Clownfish\n",
            "Length  15.200000   6.500000   9.000000   6.000000  10.600000\n",
            "Width    7.700000   2.100000   4.500000   2.000000   3.700000\n",
            "Area    91.923001  10.720685  31.808626   9.424778  30.803316\n",
            "\n",
            "열을 할당할 때 사용되는 행 인덱스 이름\n",
            "['Length' 'Width' 'Area']\n",
            "\n",
            "열이 할당되지 않았을 때 사용되는 행 인덱스 이름\n",
            "[0 1 2]\n"
          ]
        }
      ]
    },
    {
      "cell_type": "markdown",
      "source": [
        "## 8-32"
      ],
      "metadata": {
        "id": "y1lARapZRGpS"
      }
    },
    {
      "cell_type": "code",
      "source": [
        "import seaborn as sns"
      ],
      "metadata": {
        "id": "rPhQK-UzQZ1j"
      },
      "execution_count": 43,
      "outputs": []
    },
    {
      "cell_type": "code",
      "source": [
        "sns.heatmap(df)\n",
        "plt.show()"
      ],
      "metadata": {
        "colab": {
          "base_uri": "https://localhost:8080/",
          "height": 528
        },
        "id": "Usr-rhXZRIGm",
        "outputId": "562f9684-f228-4522-b222-7dc729ea1aea"
      },
      "execution_count": 44,
      "outputs": [
        {
          "output_type": "display_data",
          "data": {
            "text/plain": [
              "<Figure size 640x480 with 2 Axes>"
            ],
            "image/png": "[encoded data removed]"
          },
          "metadata": {}
        }
      ]
    },
    {
      "cell_type": "markdown",
      "source": [
        "## 8-34"
      ],
      "metadata": {
        "id": "JYaEr3ihRPnB"
      }
    },
    {
      "cell_type": "code",
      "source": [
        "sns.heatmap(df, cmap='YlGnBu')\n",
        "plt.show()"
      ],
      "metadata": {
        "colab": {
          "base_uri": "https://localhost:8080/",
          "height": 528
        },
        "id": "XY1d_XSyRKcz",
        "outputId": "5fbfc86f-15ed-440b-9d67-a182ce3abe5c"
      },
      "execution_count": 45,
      "outputs": [
        {
          "output_type": "display_data",
          "data": {
            "text/plain": [
              "<Figure size 640x480 with 2 Axes>"
            ],
            "image/png": "[encoded data removed]"
          },
          "metadata": {}
        }
      ]
    },
    {
      "cell_type": "markdown",
      "source": [
        "## 8-35"
      ],
      "metadata": {
        "id": "copHZgo-RWLp"
      }
    },
    {
      "cell_type": "code",
      "source": [
        "sns.heatmap(df, cmap='YlGnBu', annot=True)\n",
        "plt.show()"
      ],
      "metadata": {
        "colab": {
          "base_uri": "https://localhost:8080/",
          "height": 528
        },
        "id": "YzEqrdqdRQ8r",
        "outputId": "7d52027b-a798-4bec-ca69-7d9acd8b5468"
      },
      "execution_count": 46,
      "outputs": [
        {
          "output_type": "display_data",
          "data": {
            "text/plain": [
              "<Figure size 640x480 with 2 Axes>"
            ],
            "image/png": "[encoded data removed]"
          },
          "metadata": {}
        }
      ]
    },
    {
      "cell_type": "markdown",
      "source": [
        "## 8-36"
      ],
      "metadata": {
        "id": "SAoCN-hIRkCz"
      }
    },
    {
      "cell_type": "code",
      "source": [
        "sns.heatmap(df, cmap='YlGnBu', annot=True)\n",
        "plt.yticks(rotation=0)\n",
        "plt.show()"
      ],
      "metadata": {
        "colab": {
          "base_uri": "https://localhost:8080/",
          "height": 528
        },
        "id": "h1xmol3_RXiQ",
        "outputId": "61acfd69-b595-4b6a-95ef-619719a1d97e"
      },
      "execution_count": 48,
      "outputs": [
        {
          "output_type": "display_data",
          "data": {
            "text/plain": [
              "<Figure size 640x480 with 2 Axes>"
            ],
            "image/png": "[encoded data removed]"
          },
          "metadata": {}
        }
      ]
    },
    {
      "cell_type": "markdown",
      "source": [
        "## 8-37"
      ],
      "metadata": {
        "id": "n1sOd2TbRzry"
      }
    },
    {
      "cell_type": "code",
      "source": [
        "sns.heatmap(df.values,\n",
        "            cmap='YlGnBu', annot=True,\n",
        "            xticklabels=df.columns,\n",
        "            yticklabels=df.index)\n",
        "plt.yticks(rotation=0)\n",
        "plt.show()"
      ],
      "metadata": {
        "id": "vXza-6WIRoK9",
        "outputId": "59609ed8-7549-46c1-ea1f-7be4c870f52c",
        "colab": {
          "base_uri": "https://localhost:8080/",
          "height": 528
        }
      },
      "execution_count": 49,
      "outputs": [
        {
          "output_type": "display_data",
          "data": {
            "text/plain": [
              "<Figure size 640x480 with 2 Axes>"
            ],
            "image/png": "[encoded data removed]"
          },
          "metadata": {}
        }
      ]
    },
    {
      "cell_type": "code",
      "source": [],
      "metadata": {
        "id": "YDS0Ds9uR3YU"
      },
      "execution_count": null,
      "outputs": []
    }
  ]
}