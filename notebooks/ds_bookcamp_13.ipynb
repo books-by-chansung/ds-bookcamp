{
  "nbformat": 4,
  "nbformat_minor": 0,
  "metadata": {
    "colab": {
      "provenance": [],
      "authorship_tag": "ABX9TyNtKB5y4sJioTFuQRClzXMQ",
      "include_colab_link": true
    },
    "kernelspec": {
      "name": "python3",
      "display_name": "Python 3"
    },
    "language_info": {
      "name": "python"
    }
  },
  "cells": [
    {
      "cell_type": "markdown",
      "metadata": {
        "id": "view-in-github",
        "colab_type": "text"
      },
      "source": [
        "<a href=\"https://colab.research.google.com/github/books-by-chansung/ds-bookcamp/blob/main/notebooks/ds_bookcamp_13.ipynb\" target=\"_parent\"><img src=\"https://colab.research.google.com/assets/colab-badge.svg\" alt=\"Open In Colab\"/></a>"
      ]
    },
    {
      "cell_type": "code",
      "execution_count": 1,
      "metadata": {
        "colab": {
          "base_uri": "https://localhost:8080/"
        },
        "id": "SIeA-c1C_WG_",
        "outputId": "49e3ea13-068f-4338-9bfa-f9d1ced171cc"
      },
      "outputs": [
        {
          "output_type": "stream",
          "name": "stdout",
          "text": [
            "--2024-08-18 14:56:45--  https://github.com/books-by-chansung/ds-bookcamp/blob/main/NanumBarunGothic.ttf?raw=true\n",
            "Resolving github.com (github.com)... 20.27.177.113\n",
            "Connecting to github.com (github.com)|20.27.177.113|:443... connected.\n",
            "HTTP request sent, awaiting response... 302 Found\n",
            "Location: https://github.com/books-by-chansung/ds-bookcamp/raw/main/NanumBarunGothic.ttf [following]\n",
            "--2024-08-18 14:56:45--  https://github.com/books-by-chansung/ds-bookcamp/raw/main/NanumBarunGothic.ttf\n",
            "Reusing existing connection to github.com:443.\n",
            "HTTP request sent, awaiting response... 302 Found\n",
            "Location: https://raw.githubusercontent.com/books-by-chansung/ds-bookcamp/main/NanumBarunGothic.ttf [following]\n",
            "--2024-08-18 14:56:46--  https://raw.githubusercontent.com/books-by-chansung/ds-bookcamp/main/NanumBarunGothic.ttf\n",
            "Resolving raw.githubusercontent.com (raw.githubusercontent.com)... 185.199.109.133, 185.199.110.133, 185.199.108.133, ...\n",
            "Connecting to raw.githubusercontent.com (raw.githubusercontent.com)|185.199.109.133|:443... connected.\n",
            "HTTP request sent, awaiting response... 200 OK\n",
            "Length: 4186060 (4.0M) [application/octet-stream]\n",
            "Saving to: ‘/usr/share/fonts/truetype/nanum/NanumBarunGothic.ttf’\n",
            "\n",
            "/usr/share/fonts/tr 100%[===================>]   3.99M  14.3MB/s    in 0.3s    \n",
            "\n",
            "2024-08-18 14:56:47 (14.3 MB/s) - ‘/usr/share/fonts/truetype/nanum/NanumBarunGothic.ttf’ saved [4186060/4186060]\n",
            "\n"
          ]
        }
      ],
      "source": [
        "!mkdir -p /usr/share/fonts/truetype/nanum\n",
        "!wget https://github.com/books-by-chansung/ds-bookcamp/blob/main/NanumBarunGothic.ttf?raw=true -O /usr/share/fonts/truetype/nanum/NanumBarunGothic.ttf"
      ]
    },
    {
      "cell_type": "code",
      "source": [
        "import matplotlib.font_manager as fm\n",
        "import matplotlib.pyplot as plt\n",
        "\n",
        "fe = fm.FontEntry(\n",
        "    fname=r'/usr/share/fonts/truetype/nanum/NanumBarunGothic.ttf', # ttf 파일이 저장되어 있는 경로\n",
        "    name='NanumGothic')                        # 이 폰트의 원하는 이름 설정\n",
        "fm.fontManager.ttflist.insert(0, fe)              # Matplotlib에 폰트 추가\n",
        "plt.rcParams.update({'font.size': 18, 'font.family': 'NanumGothic'}) # 폰트 설정"
      ],
      "metadata": {
        "id": "LhnL9euD_Y_m"
      },
      "execution_count": 2,
      "outputs": []
    },
    {
      "cell_type": "code",
      "source": [
        "import matplotlib.pyplot as plt\n",
        "import numpy as np\n",
        "import seaborn as sns"
      ],
      "metadata": {
        "id": "O2lBkbJRAcNM"
      },
      "execution_count": null,
      "outputs": []
    },
    {
      "cell_type": "markdown",
      "source": [
        "## 13-1"
      ],
      "metadata": {
        "id": "4pLEZhuy_bMl"
      }
    },
    {
      "cell_type": "code",
      "source": [
        "text1 = 'She sells seashells by the seashore.'\n",
        "text2 = '\"Seashells! The seashells are on sale! By the seashore.\"'\n",
        "text3 = 'She sells 3 seashells to John, who lives by the lake.'"
      ],
      "metadata": {
        "id": "eCm04Q92_acY"
      },
      "execution_count": 3,
      "outputs": []
    },
    {
      "cell_type": "markdown",
      "source": [
        "## 13-2"
      ],
      "metadata": {
        "id": "Rt86ZHia_eLv"
      }
    },
    {
      "cell_type": "code",
      "source": [
        "words_lists = [text.split() for text in [text1, text2, text3]]\n",
        "words1, words2, words3 = words_lists\n",
        "\n",
        "for i, words in enumerate(words_lists, 1):\n",
        "    print(f\"text{i}에 포함된 단어들\")\n",
        "    print(f\"{words}\\n\")"
      ],
      "metadata": {
        "colab": {
          "base_uri": "https://localhost:8080/"
        },
        "id": "2os9_lBd_dJ1",
        "outputId": "61756e53-c275-4448-8040-1ef93ffeb856"
      },
      "execution_count": 4,
      "outputs": [
        {
          "output_type": "stream",
          "name": "stdout",
          "text": [
            "text1에 포함된 단어들\n",
            "['She', 'sells', 'seashells', 'by', 'the', 'seashore.']\n",
            "\n",
            "text2에 포함된 단어들\n",
            "['\"Seashells!', 'The', 'seashells', 'are', 'on', 'sale!', 'By', 'the', 'seashore.\"']\n",
            "\n",
            "text3에 포함된 단어들\n",
            "['She', 'sells', '3', 'seashells', 'to', 'John,', 'who', 'lives', 'by', 'the', 'lake.']\n",
            "\n"
          ]
        }
      ]
    },
    {
      "cell_type": "markdown",
      "source": [
        "## 13-3"
      ],
      "metadata": {
        "id": "gJWBLOFT_jz6"
      }
    },
    {
      "cell_type": "code",
      "source": [
        "def simplify_text(text):\n",
        "    for punctuation in ['.', ',', '!', '?', '\"']:\n",
        "        text = text.replace(punctuation, '')\n",
        "    return text.lower()\n",
        "\n",
        "for i, words in enumerate(words_lists, 1):\n",
        "    for j, word in enumerate(words):\n",
        "        words[j] = simplify_text(word)\n",
        "    print(f\"text{i}에 포함된 단어들\")\n",
        "    print(f\"{words}\\n\")"
      ],
      "metadata": {
        "colab": {
          "base_uri": "https://localhost:8080/"
        },
        "id": "lYjqZMBR_guP",
        "outputId": "41f90503-0f60-40ad-f923-7de1caefc7fa"
      },
      "execution_count": 5,
      "outputs": [
        {
          "output_type": "stream",
          "name": "stdout",
          "text": [
            "text1에 포함된 단어들\n",
            "['she', 'sells', 'seashells', 'by', 'the', 'seashore']\n",
            "\n",
            "text2에 포함된 단어들\n",
            "['seashells', 'the', 'seashells', 'are', 'on', 'sale', 'by', 'the', 'seashore']\n",
            "\n",
            "text3에 포함된 단어들\n",
            "['she', 'sells', '3', 'seashells', 'to', 'john', 'who', 'lives', 'by', 'the', 'lake']\n",
            "\n"
          ]
        }
      ]
    },
    {
      "cell_type": "markdown",
      "source": [
        "## 13-4"
      ],
      "metadata": {
        "id": "rE14JcrR_pHU"
      }
    },
    {
      "cell_type": "code",
      "source": [
        "words_sets = [set(words) for words in words_lists]\n",
        "for i, unique_words in enumerate(words_sets, 1):\n",
        "    print(f\"text{i}에 포함된 단어들\")\n",
        "    print(f\"{unique_words}\\n\")"
      ],
      "metadata": {
        "colab": {
          "base_uri": "https://localhost:8080/"
        },
        "id": "5o_Z3D_J_k-Z",
        "outputId": "4cc4c846-d58b-4d07-b69e-a549d1dc8569"
      },
      "execution_count": 6,
      "outputs": [
        {
          "output_type": "stream",
          "name": "stdout",
          "text": [
            "text1에 포함된 단어들\n",
            "{'seashells', 'by', 'she', 'the', 'seashore', 'sells'}\n",
            "\n",
            "text2에 포함된 단어들\n",
            "{'on', 'seashells', 'sale', 'are', 'by', 'the', 'seashore'}\n",
            "\n",
            "text3에 포함된 단어들\n",
            "{'lives', 'seashells', 'who', 'to', 'by', 'she', 'the', 'lake', '3', 'john', 'sells'}\n",
            "\n"
          ]
        }
      ]
    },
    {
      "cell_type": "markdown",
      "source": [
        "## 13-5"
      ],
      "metadata": {
        "id": "bbaB0w8G_r9K"
      }
    },
    {
      "cell_type": "code",
      "source": [
        "words_set1 = words_sets[0]\n",
        "for i, words_set in enumerate(words_sets[1:], 2):\n",
        "    shared_words = words_set1 & words_set\n",
        "    print(f\"text1과 text{i}는 다음 {len(shared_words)}개의 단어를 공유합니다\")\n",
        "    print(f\"{shared_words}\\n\")"
      ],
      "metadata": {
        "colab": {
          "base_uri": "https://localhost:8080/"
        },
        "id": "dfSEmtVW_p-M",
        "outputId": "2b3e5379-de59-43b1-db02-93fdfb568718"
      },
      "execution_count": 7,
      "outputs": [
        {
          "output_type": "stream",
          "name": "stdout",
          "text": [
            "text1과 text2는 다음 4개의 단어를 공유합니다\n",
            "{'by', 'seashells', 'seashore', 'the'}\n",
            "\n",
            "text1과 text3는 다음 5개의 단어를 공유합니다\n",
            "{'seashells', 'by', 'she', 'the', 'sells'}\n",
            "\n"
          ]
        }
      ]
    },
    {
      "cell_type": "markdown",
      "source": [
        "## 13-6"
      ],
      "metadata": {
        "id": "RYSv-IaT_vjS"
      }
    },
    {
      "cell_type": "code",
      "source": [
        "for i, words_set in enumerate(words_sets[1:], 2):\n",
        "    diverging_words = words_set1 ^ words_set\n",
        "    print(f\"text1과 text{i}에서는 다음 {len(diverging_words)}개의 단어가 겹치지 않습니다.\")\n",
        "    print(f\"{diverging_words}\\n\")"
      ],
      "metadata": {
        "colab": {
          "base_uri": "https://localhost:8080/"
        },
        "id": "XXWm_UAd_tOB",
        "outputId": "f63f65ff-295b-4543-97d6-1879a4490c63"
      },
      "execution_count": 8,
      "outputs": [
        {
          "output_type": "stream",
          "name": "stdout",
          "text": [
            "text1과 text2에서는 다음 5개의 단어가 겹치지 않습니다.\n",
            "{'on', 'sale', 'are', 'she', 'sells'}\n",
            "\n",
            "text1과 text3에서는 다음 7개의 단어가 겹치지 않습니다.\n",
            "{'lives', 'who', 'to', 'lake', '3', 'john', 'seashore'}\n",
            "\n"
          ]
        }
      ]
    },
    {
      "cell_type": "markdown",
      "source": [
        "## 13-7"
      ],
      "metadata": {
        "id": "LsWQ_1al_0Xu"
      }
    },
    {
      "cell_type": "code",
      "source": [
        "for i, words_set in enumerate(words_sets[1:], 2):\n",
        "    total_words = words_set1 | words_set\n",
        "    print(f\"text1과 text{i}는 함께 다음의 {len(total_words)}개의 \"\n",
        "           f\"고유 단어로 구성됩니다.\\n {total_words}\\n\")"
      ],
      "metadata": {
        "colab": {
          "base_uri": "https://localhost:8080/"
        },
        "id": "fcgnOtT__w7X",
        "outputId": "a426dca3-8f9f-4a81-bed7-27e170112cf2"
      },
      "execution_count": 9,
      "outputs": [
        {
          "output_type": "stream",
          "name": "stdout",
          "text": [
            "text1과 text2는 함께 다음의 9개의 고유 단어로 구성됩니다.\n",
            " {'on', 'seashells', 'sale', 'are', 'by', 'she', 'the', 'seashore', 'sells'}\n",
            "\n",
            "text1과 text3는 함께 다음의 12개의 고유 단어로 구성됩니다.\n",
            " {'lives', 'who', 'to', 'she', 'the', 'lake', '3', 'john', 'sells', 'seashells', 'by', 'seashore'}\n",
            "\n"
          ]
        }
      ]
    },
    {
      "cell_type": "markdown",
      "source": [
        "## 13-8"
      ],
      "metadata": {
        "id": "Ku5HY-HV_-3H"
      }
    },
    {
      "cell_type": "code",
      "source": [
        "for i, words_set in enumerate(words_sets[1:], 2):\n",
        "    shared_words = words_set1 & words_set\n",
        "    diverging_words = words_set1 ^ words_set\n",
        "    total_words = words_set1 | words_set\n",
        "    assert len(total_words) == len(shared_words) + len(diverging_words)\n",
        "    percent_shared = 100 * len(shared_words) / len(total_words)\n",
        "    percent_diverging = 100 * len(diverging_words) / len(total_words)\n",
        "\n",
        "    print(f\"text1과 text{i}는 다음 {len(shared_words)}개의 단어를 공유합니다\")\n",
        "    print(f\"{shared_words}\\n\")\n",
        "\n",
        "    print(f\"text1과 text{i}는 다음 {len(total_words)}개의 고유 단어를 공유합니다.\"\n",
        "        f\"\\n그 중 {percent_shared:.2f}%는 겹칩니다.\"\n",
        "        f\"\\n그 중 {percent_diverging:.2f}%는 겹치지 않습니다.\\n\")"
      ],
      "metadata": {
        "colab": {
          "base_uri": "https://localhost:8080/"
        },
        "id": "ShK4Bj8d_1ba",
        "outputId": "8f887548-c22a-4dde-d3a3-25fe13fbbc5f"
      },
      "execution_count": 11,
      "outputs": [
        {
          "output_type": "stream",
          "name": "stdout",
          "text": [
            "text1과 text2는 다음 4개의 단어를 공유합니다\n",
            "{'by', 'seashells', 'seashore', 'the'}\n",
            "\n",
            "text1과 text2는 다음 9개의 고유 단어를 공유합니다.\n",
            "그 중 44.44%는 겹칩니다.\n",
            "그 중 55.56%는 겹치지 않습니다.\n",
            "\n",
            "text1과 text3는 다음 5개의 단어를 공유합니다\n",
            "{'seashells', 'by', 'she', 'the', 'sells'}\n",
            "\n",
            "text1과 text3는 다음 12개의 고유 단어를 공유합니다.\n",
            "그 중 41.67%는 겹칩니다.\n",
            "그 중 58.33%는 겹치지 않습니다.\n",
            "\n"
          ]
        }
      ]
    },
    {
      "cell_type": "markdown",
      "source": [
        "## 13-9"
      ],
      "metadata": {
        "id": "z6GZLE5AAK3C"
      }
    },
    {
      "cell_type": "code",
      "source": [
        "def jaccard_similarity(text_a, text_b):\n",
        "    word_set_a, word_set_b = [set(simplify_text(text).split())\n",
        "                                       for text in [text_a, text_b]]\n",
        "    num_shared = len(word_set_a & word_set_b)\n",
        "    num_total = len(word_set_a | word_set_b)\n",
        "    return num_shared / num_total\n",
        "\n",
        "for text in [text2, text3]:\n",
        "    similarity = jaccard_similarity(text1, text)\n",
        "    print(f\"'{text1}'과 '{text}' 사이의 자카드 유사도는 \"\n",
        "           f\"{similarity:.4f} 입니다.\" \"\\n\")"
      ],
      "metadata": {
        "colab": {
          "base_uri": "https://localhost:8080/"
        },
        "id": "kQspxicB__4h",
        "outputId": "152057c9-8566-42a5-ab63-e59052143483"
      },
      "execution_count": 12,
      "outputs": [
        {
          "output_type": "stream",
          "name": "stdout",
          "text": [
            "'She sells seashells by the seashore.'과 '\"Seashells! The seashells are on sale! By the seashore.\"' 사이의 자카드 유사도는 0.4444 입니다.\n",
            "\n",
            "'She sells seashells by the seashore.'과 'She sells 3 seashells to John, who lives by the lake.' 사이의 자카드 유사도는 0.4167 입니다.\n",
            "\n"
          ]
        }
      ]
    },
    {
      "cell_type": "markdown",
      "source": [
        "## 13-10"
      ],
      "metadata": {
        "id": "oF6bzfe7AQFF"
      }
    },
    {
      "cell_type": "code",
      "source": [
        "def jaccard_similarity_efficient(text_a, text_b):\n",
        "    word_set_a, word_set_b = [set(simplify_text(text).split())\n",
        "                                       for text in [text_a, text_b]]\n",
        "    num_shared = len(word_set_a & word_set_b)\n",
        "    num_total = len(word_set_a) + len(word_set_b) - num_shared\n",
        "    return num_shared / num_total\n",
        "\n",
        "for text in [text2, text3]:\n",
        "    similarity = jaccard_similarity_efficient(text1, text)\n",
        "    assert similarity == jaccard_similarity(text1, text)"
      ],
      "metadata": {
        "id": "hF5M5bpDAL4m"
      },
      "execution_count": 13,
      "outputs": []
    },
    {
      "cell_type": "markdown",
      "source": [
        "## 13-11"
      ],
      "metadata": {
        "id": "qUOb-N6hATkN"
      }
    },
    {
      "cell_type": "code",
      "source": [
        "words_set1, words_set2, words_set3 = words_sets\n",
        "total_words = words_set1 | words_set2 | words_set3\n",
        "vocabulary = {word : i for i, word in enumerate(total_words)}\n",
        "value_to_word = {value: word for word, value in vocabulary.items()}\n",
        "print(f\"vocabulary에는 {len(vocabulary)}개의 단어가 포함되어 있습니다. \"\n",
        "       f\"실제 vocabulary에 담긴 내용은 다음과 같습니다.\\n{vocabulary}\")"
      ],
      "metadata": {
        "colab": {
          "base_uri": "https://localhost:8080/"
        },
        "id": "tc48J2SRARDC",
        "outputId": "2a6678ac-babb-423c-e847-45d8cf8563d9"
      },
      "execution_count": 14,
      "outputs": [
        {
          "output_type": "stream",
          "name": "stdout",
          "text": [
            "vocabulary에는 15개의 단어가 포함되어 있습니다. 실제 vocabulary에 담긴 내용은 다음과 같습니다.\n",
            "{'lives': 0, 'who': 1, 'to': 2, 'she': 3, 'the': 4, 'lake': 5, '3': 6, 'john': 7, 'sells': 8, 'on': 9, 'seashells': 10, 'sale': 11, 'are': 12, 'by': 13, 'seashore': 14}\n"
          ]
        }
      ]
    },
    {
      "cell_type": "markdown",
      "source": [
        "## 13-12"
      ],
      "metadata": {
        "id": "WZi2mB5SAYVo"
      }
    },
    {
      "cell_type": "code",
      "source": [
        "vectors = []\n",
        "for i, words_set in enumerate(words_sets, 1):\n",
        "    vector = np.array([0] * len(vocabulary))\n",
        "    for word in words_set:\n",
        "        vector[vocabulary[word]] = 1\n",
        "    vectors.append(vector)\n",
        "\n",
        "sns.heatmap(vectors, annot=True, cmap='YlGnBu',\n",
        "                 xticklabels=vocabulary.keys(),\n",
        "yticklabels=['Text 1', 'Text 2', 'Text 3'])\n",
        "plt.yticks(rotation=0)\n",
        "plt.show()"
      ],
      "metadata": {
        "colab": {
          "base_uri": "https://localhost:8080/",
          "height": 529
        },
        "id": "nRypNi8OAUjT",
        "outputId": "708affe1-e432-4f83-c919-4bab6148ab17"
      },
      "execution_count": 15,
      "outputs": [
        {
          "output_type": "display_data",
          "data": {
            "text/plain": [
              "<Figure size 640x480 with 2 Axes>"
            ],
            "image/png": "[encoded data removed]"
          },
          "metadata": {}
        }
      ]
    },
    {
      "cell_type": "markdown",
      "source": [
        "## 13-13"
      ],
      "metadata": {
        "id": "6oBSk7QQAilS"
      }
    },
    {
      "cell_type": "code",
      "source": [
        "vector1, vector2 = vectors[:2]\n",
        "for i in range(len(vocabulary)):\n",
        "    if vector1[i] * vector2[i]:\n",
        "        shared_word = value_to_word[i]\n",
        "        print(f\"단어 '{shared_word}'는 text1 및 text2에서 모두 등장합니다\")"
      ],
      "metadata": {
        "colab": {
          "base_uri": "https://localhost:8080/"
        },
        "id": "d_ZuHVoGAZKl",
        "outputId": "068b63c5-5e98-4cf7-c7b7-d5fe724fe35b"
      },
      "execution_count": 16,
      "outputs": [
        {
          "output_type": "stream",
          "name": "stdout",
          "text": [
            "단어 'the'는 text1 및 text2에서 모두 등장합니다\n",
            "단어 'seashells'는 text1 및 text2에서 모두 등장합니다\n",
            "단어 'by'는 text1 및 text2에서 모두 등장합니다\n",
            "단어 'seashore'는 text1 및 text2에서 모두 등장합니다\n"
          ]
        }
      ]
    },
    {
      "cell_type": "markdown",
      "source": [
        "## 13-14"
      ],
      "metadata": {
        "id": "GRw3jKqHAltZ"
      }
    },
    {
      "cell_type": "code",
      "source": [
        "shared_word_count = sum(vector1[i] * vector2[i]\n",
        "                                   for i in range(len(vocabulary)))\n",
        "assert shared_word_count == len(words_set1 & words_set2)"
      ],
      "metadata": {
        "id": "5rBRvXf6Aja3"
      },
      "execution_count": 17,
      "outputs": []
    },
    {
      "cell_type": "markdown",
      "source": [
        "## 13-15"
      ],
      "metadata": {
        "id": "UPL8Xa3UAp6G"
      }
    },
    {
      "cell_type": "code",
      "source": [
        "assert vector1.dot(vector2) == shared_word_count\n",
        "assert vector1 @ vector2 == shared_word_count"
      ],
      "metadata": {
        "id": "SA33jqjPAmsj"
      },
      "execution_count": 18,
      "outputs": []
    },
    {
      "cell_type": "markdown",
      "source": [
        "## 13-16"
      ],
      "metadata": {
        "id": "JWVJGiH7AupQ"
      }
    },
    {
      "cell_type": "code",
      "source": [
        "assert vector1 @ vector1 == len(words_set1)\n",
        "assert vector2 @ vector2 == len(words_set2)"
      ],
      "metadata": {
        "id": "RnKfZJiJArDQ"
      },
      "execution_count": 19,
      "outputs": []
    },
    {
      "cell_type": "markdown",
      "source": [
        "## 13-17"
      ],
      "metadata": {
        "id": "G2FyChbnAxWs"
      }
    },
    {
      "cell_type": "code",
      "source": [
        "def tanimoto_similarity(vector_a, vector_b):\n",
        "    num_shared = vector_a @ vector_b\n",
        "    num_total = vector_a @ vector_a + vector_b @ vector_b - num_shared\n",
        "    return num_shared / num_total\n",
        "\n",
        "for i, text in enumerate([text2, text3], 1):\n",
        "    similarity = tanimoto_similarity(vector1, vectors[i])\n",
        "    assert similarity == jaccard_similarity(text1, text)"
      ],
      "metadata": {
        "id": "5MEgftoOAvkv"
      },
      "execution_count": 20,
      "outputs": []
    },
    {
      "cell_type": "markdown",
      "source": [
        "## 13-18"
      ],
      "metadata": {
        "id": "UPyB_w8OA0Jo"
      }
    },
    {
      "cell_type": "code",
      "source": [
        "non_binary_vector1 = np.array([5, 3])\n",
        "non_binary_vector2 = np.array([5, 2])\n",
        "similarity = tanimoto_similarity(non_binary_vector1, non_binary_vector2)\n",
        "print(f\"이진이 아닌 두 벡터의 유사도는 {similarity}입니다\")"
      ],
      "metadata": {
        "colab": {
          "base_uri": "https://localhost:8080/"
        },
        "id": "9B7HamB5AyYO",
        "outputId": "16009cf4-7b76-4fe2-8f4e-b9e9a398c0cf"
      },
      "execution_count": 21,
      "outputs": [
        {
          "output_type": "stream",
          "name": "stdout",
          "text": [
            "이진이 아닌 두 벡터의 유사도는 0.96875입니다\n"
          ]
        }
      ]
    },
    {
      "cell_type": "markdown",
      "source": [
        "## 13-19"
      ],
      "metadata": {
        "id": "NAC2wVpMA25M"
      }
    },
    {
      "cell_type": "code",
      "source": [
        "similarity = tanimoto_similarity(np.array([61, 2]), np.array([1, 71]))\n",
        "print(f\"텍스트간 유사도는 약 {similarity:.3f}입니다\")"
      ],
      "metadata": {
        "colab": {
          "base_uri": "https://localhost:8080/"
        },
        "id": "ibQQejBqA063",
        "outputId": "0f57aae4-fb81-4a8c-9470-edc09d696982"
      },
      "execution_count": 22,
      "outputs": [
        {
          "output_type": "stream",
          "name": "stdout",
          "text": [
            "텍스트간 유사도는 약 0.024입니다\n"
          ]
        }
      ]
    },
    {
      "cell_type": "markdown",
      "source": [
        "## 13-20"
      ],
      "metadata": {
        "id": "2b0vjsyuA5Zk"
      }
    },
    {
      "cell_type": "code",
      "source": [
        "assert tanimoto_similarity(np.array([1, 1]), np.array([1, 1])) == 1"
      ],
      "metadata": {
        "id": "9qCnvAtZA3wu"
      },
      "execution_count": 23,
      "outputs": []
    },
    {
      "cell_type": "markdown",
      "source": [
        "## 13-21"
      ],
      "metadata": {
        "id": "AdIDmQpQA8F8"
      }
    },
    {
      "cell_type": "code",
      "source": [
        "tf_vectors = []\n",
        "for i, words_list in enumerate(words_lists, 1):\n",
        "    tf_vector = np.array([0] * len(vocabulary))\n",
        "    for word in words_list:\n",
        "        word_index = vocabulary[word]\n",
        "        tf_vector[word_index] += 1\n",
        "    tf_vectors.append(tf_vector)\n",
        "\n",
        "sns.heatmap(tf_vectors, cmap='YlGnBu', annot=True,\n",
        "                 xticklabels=vocabulary.keys(),\n",
        "yticklabels=['Text 1', 'Text 2', 'Text 3'])\n",
        "plt.yticks(rotation=0)\n",
        "plt.show()"
      ],
      "metadata": {
        "colab": {
          "base_uri": "https://localhost:8080/",
          "height": 529
        },
        "id": "i5hENSuoA6Zh",
        "outputId": "177b0125-2cab-4817-aae7-f5c6c2e1aabb"
      },
      "execution_count": 24,
      "outputs": [
        {
          "output_type": "display_data",
          "data": {
            "text/plain": [
              "<Figure size 640x480 with 2 Axes>"
            ],
            "image/png": "[encoded data removed]"
          },
          "metadata": {}
        }
      ]
    },
    {
      "cell_type": "markdown",
      "source": [
        "## 13-22"
      ],
      "metadata": {
        "id": "hJ9vjsc4BAiZ"
      }
    },
    {
      "cell_type": "code",
      "source": [
        "tf_vector1 = tf_vectors[0]\n",
        "binary_vector1 = vectors[0]\n",
        "\n",
        "for i, tf_vector in enumerate(tf_vectors[1:], 2):\n",
        "    similarity = tanimoto_similarity(tf_vector1, tf_vector)\n",
        "    old_similarity = tanimoto_similarity(binary_vector1, vectors[i - 1])\n",
        "    print(f\"text1과 text{i} 사이에 다시 계산된 타니모토 유사도는 \"\n",
        "           f\" {similarity:.4f} 입니다.\")\n",
        "    print(f\"이전에 계산되었던 유사도는 {old_similarity:.4f} 였습니다.\" \"\\n\")"
      ],
      "metadata": {
        "colab": {
          "base_uri": "https://localhost:8080/"
        },
        "id": "u0Y2wS5NA87q",
        "outputId": "5cd9e862-24ce-44b5-a042-4bd687185e73"
      },
      "execution_count": 25,
      "outputs": [
        {
          "output_type": "stream",
          "name": "stdout",
          "text": [
            "text1과 text2 사이에 다시 계산된 타니모토 유사도는  0.4615 입니다.\n",
            "이전에 계산되었던 유사도는 0.4444 였습니다.\n",
            "\n",
            "text1과 text3 사이에 다시 계산된 타니모토 유사도는  0.4167 입니다.\n",
            "이전에 계산되었던 유사도는 0.4167 였습니다.\n",
            "\n"
          ]
        }
      ]
    },
    {
      "cell_type": "markdown",
      "source": [
        "## 13-23"
      ],
      "metadata": {
        "id": "EcAt0KmtBFaU"
      }
    },
    {
      "cell_type": "code",
      "source": [
        "query_vector = np.array([1, 1])\n",
        "title_a_vector = np.array([3, 3])\n",
        "title_b_vector = np.array([1, 0])"
      ],
      "metadata": {
        "id": "5DFzmHkRBCmR"
      },
      "execution_count": 26,
      "outputs": []
    },
    {
      "cell_type": "markdown",
      "source": [
        "## 13-24"
      ],
      "metadata": {
        "id": "PxAa6p07BIiq"
      }
    },
    {
      "cell_type": "code",
      "source": [
        "titles = [\"A: Pepperoni Pizza! Pepperoni Pizza! Pepperoni Pizza!\",\n",
        "           \"B: Pepperoni\"]\n",
        "title_vectors = [title_a_vector, title_b_vector]\n",
        "similarities = [tanimoto_similarity(query_vector, title_vector)\n",
        "                  for title_vector in title_vectors]\n",
        "\n",
        "for index in sorted(range(len(titles)), key=lambda i: similarities[i],\n",
        "                         reverse=True):\n",
        "    title = titles[index]\n",
        "    similarity = similarities[index]\n",
        "    print(f\"제목 '{title}'과 쿼리와의 유사도는 {similarity:.4f} 입니다\")"
      ],
      "metadata": {
        "colab": {
          "base_uri": "https://localhost:8080/"
        },
        "id": "eKSABLasBGkW",
        "outputId": "5bd36325-a62c-44eb-e03f-bbc6f5a007f0"
      },
      "execution_count": 27,
      "outputs": [
        {
          "output_type": "stream",
          "name": "stdout",
          "text": [
            "제목 'B: Pepperoni'과 쿼리와의 유사도는 0.5000 입니다\n",
            "제목 'A: Pepperoni Pizza! Pepperoni Pizza! Pepperoni Pizza!'과 쿼리와의 유사도는 0.4286 입니다\n"
          ]
        }
      ]
    },
    {
      "cell_type": "markdown",
      "source": [
        "## 13-25"
      ],
      "metadata": {
        "id": "5zoMvObDBLFh"
      }
    },
    {
      "cell_type": "code",
      "source": [
        "assert np.array_equal(query_vector, title_a_vector / 3)\n",
        "assert tanimoto_similarity(query_vector, title_a_vector / 3) == 1"
      ],
      "metadata": {
        "id": "8CdL3gtSBJeY"
      },
      "execution_count": 28,
      "outputs": []
    },
    {
      "cell_type": "markdown",
      "source": [
        "## 13-26"
      ],
      "metadata": {
        "id": "1a660ZFjBNqG"
      }
    },
    {
      "cell_type": "code",
      "source": [
        "plt.plot([0, query_vector[0]], [0, query_vector[1]], c='k',\n",
        "          linewidth=3, label='쿼리 벡터')\n",
        "plt.plot([0, title_a_vector[0]], [0, title_a_vector[1]], c='b',\n",
        "          linestyle='--', label='제목 A 벡터')\n",
        "plt.plot([0, title_b_vector[0]], [0, title_b_vector[1]], c='g',\n",
        "          linewidth=2, linestyle='-.', label='제목 B 벡터')\n",
        "plt.xlabel('Pepperoni')\n",
        "plt.ylabel('Pizza')\n",
        "plt.legend()\n",
        "plt.show()"
      ],
      "metadata": {
        "colab": {
          "base_uri": "https://localhost:8080/",
          "height": 473
        },
        "id": "UZt8YnEYBL4u",
        "outputId": "2595099d-6e55-42b0-d31f-79e474ecf87a"
      },
      "execution_count": 30,
      "outputs": [
        {
          "output_type": "display_data",
          "data": {
            "text/plain": [
              "<Figure size 640x480 with 1 Axes>"
            ],
            "image/png": "[encoded data removed]"
          },
          "metadata": {}
        }
      ]
    },
    {
      "cell_type": "markdown",
      "source": [
        "## 13-27"
      ],
      "metadata": {
        "id": "wZUEYJF5Bnox"
      }
    },
    {
      "cell_type": "code",
      "source": [
        "from scipy.spatial.distance import euclidean\n",
        "from numpy.linalg import norm\n",
        "\n",
        "vector_names = ['Query Vector', 'Title A Vector', 'Title B Vector']\n",
        "tf_search_vectors = [query_vector, title_a_vector, title_b_vector]\n",
        "origin = np.array([0, 0])\n",
        "for name, tf_vector in zip(vector_names, tf_search_vectors):\n",
        "    magnitude = euclidean(tf_vector, origin)\n",
        "    assert magnitude == norm(tf_vector)\n",
        "    assert magnitude == (tf_vector @ tf_vector) ** 0.5\n",
        "    print(f\"{name}의 크기는 약 {magnitude:.4f} 입니다\")\n",
        "\n",
        "magnitude_ratio = norm(title_a_vector) / norm(query_vector)\n",
        "print(f\"\\nVector A는 Query Vector 보다 {magnitude_ratio:.0f}x배 큽니다\")"
      ],
      "metadata": {
        "colab": {
          "base_uri": "https://localhost:8080/"
        },
        "id": "sN1-BEAfBO-G",
        "outputId": "e8563346-7d43-48e2-f812-6fda75bd73e5"
      },
      "execution_count": 31,
      "outputs": [
        {
          "output_type": "stream",
          "name": "stdout",
          "text": [
            "Query Vector의 크기는 약 1.4142 입니다\n",
            "Title A Vector의 크기는 약 4.2426 입니다\n",
            "Title B Vector의 크기는 약 1.0000 입니다\n",
            "\n",
            "Vector A는 Query Vector 보다 3x배 큽니다\n"
          ]
        }
      ]
    },
    {
      "cell_type": "markdown",
      "source": [
        "## 13-28"
      ],
      "metadata": {
        "id": "eZ0BjO36Btzu"
      }
    },
    {
      "cell_type": "code",
      "source": [
        "unit_query_vector = query_vector / norm(query_vector)\n",
        "unit_title_a_vector = title_a_vector / norm(title_a_vector)\n",
        "assert np.allclose(unit_query_vector, unit_title_a_vector)\n",
        "unit_title_b_vector = title_b_vector\n",
        "\n",
        "plt.plot([0, unit_query_vector[0]], [0, unit_query_vector[1]], c='k',\n",
        "          linewidth=3, label='정규화된 쿼리 벡터')\n",
        "plt.plot([0, unit_title_a_vector[0]], [0, unit_title_a_vector[1]], c='b',\n",
        "          linestyle='--', label='정규화된 제목 A 벡터')\n",
        "plt.plot([0, unit_title_b_vector[0]], [0, unit_title_b_vector[1]], c='g',\n",
        "          linewidth=2, linestyle='-.', label='제목 B 벡터')\n",
        "plt.axis('equal')\n",
        "plt.legend(fontsize='small', loc=\"upper left\")\n",
        "plt.show()"
      ],
      "metadata": {
        "colab": {
          "base_uri": "https://localhost:8080/",
          "height": 442
        },
        "id": "d39BtCiUBo-a",
        "outputId": "965e0756-1d21-4dd3-b79b-17e803941a02"
      },
      "execution_count": 36,
      "outputs": [
        {
          "output_type": "display_data",
          "data": {
            "text/plain": [
              "<Figure size 640x480 with 1 Axes>"
            ],
            "image/png": "[encoded data removed]"
          },
          "metadata": {}
        }
      ]
    },
    {
      "cell_type": "markdown",
      "source": [
        "## 13-29"
      ],
      "metadata": {
        "id": "hKJqM6LKCPij"
      }
    },
    {
      "cell_type": "code",
      "source": [
        "unit_title_vectors = [unit_title_a_vector, unit_title_b_vector]\n",
        "similarities = [tanimoto_similarity(unit_query_vector, unit_title_vector)\n",
        "                  for unit_title_vector in unit_title_vectors]\n",
        "\n",
        "for index in sorted(range(len(titles)), key=lambda i: similarities[i],\n",
        "                         reverse=True):\n",
        "    title = titles[index]\n",
        "    similarity = similarities[index]\n",
        "    print(f\"'{title}'는 정규화된 쿼리에 대해 {similarity:.4f} 유사도를 가집니다\")"
      ],
      "metadata": {
        "colab": {
          "base_uri": "https://localhost:8080/"
        },
        "id": "Y9XGrjkbBvKg",
        "outputId": "a586d72c-96af-4f8d-fef0-65bfe458851d"
      },
      "execution_count": 37,
      "outputs": [
        {
          "output_type": "stream",
          "name": "stdout",
          "text": [
            "'A: Pepperoni Pizza! Pepperoni Pizza! Pepperoni Pizza!'는 정규화된 쿼리에 대해 1.0000 유사도를 가집니다\n",
            "'B: Pepperoni'는 정규화된 쿼리에 대해 0.5469 유사도를 가집니다\n"
          ]
        }
      ]
    },
    {
      "cell_type": "markdown",
      "source": [
        "## 13-30"
      ],
      "metadata": {
        "id": "jSZapcYOCUGb"
      }
    },
    {
      "cell_type": "code",
      "source": [
        "def normalized_tanimoto(u1, u2):\n",
        "    dot_product = u1 @ u2\n",
        "    return dot_product / (2 - dot_product)\n",
        "\n",
        "for unit_title_vector in unit_title_vectors[1:]:\n",
        "    similarity = normalized_tanimoto(unit_query_vector, unit_title_vector)\n",
        "    assert similarity == tanimoto_similarity(unit_query_vector, unit_title_vector)"
      ],
      "metadata": {
        "id": "IyrBk9O4CQ5M"
      },
      "execution_count": 38,
      "outputs": []
    },
    {
      "cell_type": "markdown",
      "source": [
        "## 13-31"
      ],
      "metadata": {
        "id": "VpM8w-nGCaTR"
      }
    },
    {
      "cell_type": "code",
      "source": [
        "unit_vector_names = ['Normalized Title A vector', 'Title B Vector']\n",
        "u1 = unit_query_vector\n",
        "\n",
        "for unit_vector_name, u2 in zip(unit_vector_names, unit_title_vectors):\n",
        "    similarity = normalized_tanimoto(u1, u2)\n",
        "    cosine_similarity = 2 * similarity / (1 + similarity)\n",
        "    assert cosine_similarity == u1 @ u2\n",
        "    angle = np.arccos(cosine_similarity)\n",
        "    euclidean_distance = (2 - 2 * cosine_similarity) ** 0.5\n",
        "    assert round(euclidean_distance, 10) == round(euclidean(u1, u2), 10)\n",
        "    measurements = {'타니모토 유사도': similarity,\n",
        "                            '코사인 유사도': cosine_similarity,\n",
        "                            '유클리드 거리': euclidean_distance,\n",
        "                            '각도': np.degrees(angle)}\n",
        "\n",
        "    print(\"정규화된 쿼리 벡터와 {unit_vector_name}를 비교합니다\")\n",
        "    for measurement_type, value in measurements.items():\n",
        "        output = f\"두 벡터간 {measurement_type}는 {value:.4f}\"\n",
        "        if measurement_type == 'angle':\n",
        "            output += '도'\n",
        "        output += ' 입니다'\n",
        "        print(output)"
      ],
      "metadata": {
        "colab": {
          "base_uri": "https://localhost:8080/"
        },
        "id": "k0d_5JhWCVGi",
        "outputId": "529cbfb8-19c2-475e-ab9a-bf42a0b040fa"
      },
      "execution_count": 39,
      "outputs": [
        {
          "output_type": "stream",
          "name": "stdout",
          "text": [
            "정규화된 쿼리 벡터와 {unit_vector_name}를 비교합니다\n",
            "두 벡터간 타니모토 유사도는 1.0000 입니다\n",
            "두 벡터간 코사인 유사도는 1.0000 입니다\n",
            "두 벡터간 유클리드 거리는 0.0000 입니다\n",
            "두 벡터간 각도는 0.0000 입니다\n",
            "정규화된 쿼리 벡터와 {unit_vector_name}를 비교합니다\n",
            "두 벡터간 타니모토 유사도는 0.5469 입니다\n",
            "두 벡터간 코사인 유사도는 0.7071 입니다\n",
            "두 벡터간 유클리드 거리는 0.7654 입니다\n",
            "두 벡터간 각도는 45.0000 입니다\n"
          ]
        }
      ]
    },
    {
      "cell_type": "markdown",
      "source": [
        "## 13-32"
      ],
      "metadata": {
        "id": "sqOKvC-5ChJb"
      }
    },
    {
      "cell_type": "code",
      "source": [
        "num_texts = len(tf_vectors)\n",
        "similarities = np.array([[0.0] * num_texts for _ in range(num_texts)])\n",
        "unit_vectors = np.array([vector / norm(vector) for vector in tf_vectors])\n",
        "for i, vector_a in enumerate(unit_vectors):\n",
        "    for j, vector_b in enumerate(unit_vectors):\n",
        "        similarities[i][j] = normalized_tanimoto(vector_a, vector_b)\n",
        "\n",
        "labels = ['Text 1', 'Text 2', 'Text 3']\n",
        "sns.heatmap(similarities, cmap='YlGnBu', annot=True,\n",
        "                 xticklabels=labels, yticklabels=labels)\n",
        "plt.yticks(rotation=0)\n",
        "plt.show()"
      ],
      "metadata": {
        "colab": {
          "base_uri": "https://localhost:8080/",
          "height": 451
        },
        "id": "HKb-ryaBCcLq",
        "outputId": "59163327-d800-46dd-88e4-c152e51e12b3"
      },
      "execution_count": 40,
      "outputs": [
        {
          "output_type": "display_data",
          "data": {
            "text/plain": [
              "<Figure size 640x480 with 2 Axes>"
            ],
            "image/png": "[encoded data removed]"
          },
          "metadata": {}
        }
      ]
    },
    {
      "cell_type": "markdown",
      "source": [
        "## 13-33"
      ],
      "metadata": {
        "id": "Co-ZVAO2CmEU"
      }
    },
    {
      "cell_type": "code",
      "source": [
        "import pandas as pd\n",
        "\n",
        "matrices = [unit_vectors, pd.DataFrame(unit_vectors)]\n",
        "matrix_types = ['2D 넘파이 배열', '판다스 데이터프레임']\n",
        "\n",
        "for matrix_type, matrix in zip(matrix_types, matrices):\n",
        "    row_count, column_count = matrix.shape\n",
        "    print(f\"{matrix_type}은 {column_count}행과 {row_count}열로 구성됩니다\")\n",
        "    assert (column_count, row_count) == matrix.T.shape"
      ],
      "metadata": {
        "colab": {
          "base_uri": "https://localhost:8080/"
        },
        "id": "0HvQs4TDCh-Z",
        "outputId": "6c2637cd-4ad8-483c-ac7d-d3db224f01f4"
      },
      "execution_count": 41,
      "outputs": [
        {
          "output_type": "stream",
          "name": "stdout",
          "text": [
            "2D 넘파이 배열은 15행과 3열로 구성됩니다\n",
            "판다스 데이터프레임은 15행과 3열로 구성됩니다\n"
          ]
        }
      ]
    },
    {
      "cell_type": "markdown",
      "source": [
        "## 13-34"
      ],
      "metadata": {
        "id": "izO2NS4ZCpKC"
      }
    },
    {
      "cell_type": "code",
      "source": [
        "double_similarities = 2 * similarities\n",
        "np.array_equal(double_similarities, similarities + similarities)\n",
        "zero_matrix = similarities - similarities\n",
        "negative_1_matrix = similarities - similarities - 1\n",
        "\n",
        "for i in range(similarities.shape[0]):\n",
        "    for j in range(similarities.shape[1]):\n",
        "        assert double_similarities[i][j] == 2 * similarities[i][j]\n",
        "        assert zero_matrix[i][j] == 0\n",
        "        assert negative_1_matrix[i][j] == -1"
      ],
      "metadata": {
        "id": "dEDBZAB5CnE3"
      },
      "execution_count": 42,
      "outputs": []
    },
    {
      "cell_type": "markdown",
      "source": [
        "## 13-35"
      ],
      "metadata": {
        "id": "Wjx5bJO8CsAh"
      }
    },
    {
      "cell_type": "code",
      "source": [
        "squared_similarities = similarities * similarities\n",
        "assert np.array_equal(squared_similarities, similarities ** 2)\n",
        "ones_matrix = similarities / similarities\n",
        "\n",
        "for i in range(similarities.shape[0]):\n",
        "    for j in range(similarities.shape[1]):\n",
        "        assert squared_similarities[i][j] == similarities[i][j] ** 2\n",
        "        assert ones_matrix[i][j] == 1"
      ],
      "metadata": {
        "id": "aDbK8hSqCqFG"
      },
      "execution_count": 43,
      "outputs": []
    },
    {
      "cell_type": "markdown",
      "source": [
        "## 13-36"
      ],
      "metadata": {
        "id": "f4iaFiakCukl"
      }
    },
    {
      "cell_type": "code",
      "source": [
        "cosine_similarities = 2 * similarities / (1 + similarities)\n",
        "for i in range(similarities.shape[0]):\n",
        "    for j in range(similarities.shape[1]):\n",
        "        cosine_sim = unit_vectors[i] @ unit_vectors[j]\n",
        "        assert round(cosine_similarities[i][j], 15) == round(cosine_sim, 15)"
      ],
      "metadata": {
        "id": "yfRxb2PECs_r"
      },
      "execution_count": 44,
      "outputs": []
    },
    {
      "cell_type": "markdown",
      "source": [
        "## 13-37"
      ],
      "metadata": {
        "id": "knP4i3m_CxJl"
      }
    },
    {
      "cell_type": "code",
      "source": [
        "for name, matrix in [('Similarities', similarities),\n",
        "                          ('Unit Vectors', unit_vectors)]:\n",
        "    print(f\"행렬 {name}의 행과 열에 접근합니다.\")\n",
        "    row, column = matrix[0], matrix[:,0]\n",
        "    print(f\"0번 째 행:\\n{row}\")\n",
        "    print(f\"\\n0번째 열:\\n{column}\\n\")"
      ],
      "metadata": {
        "colab": {
          "base_uri": "https://localhost:8080/"
        },
        "id": "DW-2nSU0CvgV",
        "outputId": "2010517a-f345-4de1-cb77-f07f5d0510ad"
      },
      "execution_count": 45,
      "outputs": [
        {
          "output_type": "stream",
          "name": "stdout",
          "text": [
            "행렬 Similarities의 행과 열에 접근합니다.\n",
            "0번 째 행:\n",
            "[1.         0.51442439 0.44452044]\n",
            "\n",
            "0번째 열:\n",
            "[1.         0.51442439 0.44452044]\n",
            "\n",
            "행렬 Unit Vectors의 행과 열에 접근합니다.\n",
            "0번 째 행:\n",
            "[0.         0.         0.         0.40824829 0.40824829 0.\n",
            " 0.         0.         0.40824829 0.         0.40824829 0.\n",
            " 0.         0.40824829 0.40824829]\n",
            "\n",
            "0번째 열:\n",
            "[0.         0.         0.30151134]\n",
            "\n"
          ]
        }
      ]
    },
    {
      "cell_type": "markdown",
      "source": [
        "## 13-38"
      ],
      "metadata": {
        "id": "mEH-wHbYC4qZ"
      }
    },
    {
      "cell_type": "code",
      "source": [
        "row = similarities[0]\n",
        "column = unit_vectors[:,0]\n",
        "dot_product = row @ column\n",
        "print(f\"행과 열 사이의 내적: {dot_product:.4f}\")"
      ],
      "metadata": {
        "colab": {
          "base_uri": "https://localhost:8080/"
        },
        "id": "w5gTO5FKCyVa",
        "outputId": "6443d8be-a865-4613-86e1-904a989f35c4"
      },
      "execution_count": 46,
      "outputs": [
        {
          "output_type": "stream",
          "name": "stdout",
          "text": [
            "행과 열 사이의 내적: 0.1340\n"
          ]
        }
      ]
    },
    {
      "cell_type": "markdown",
      "source": [
        "## 13-39"
      ],
      "metadata": {
        "id": "ZeUms9hvC75Z"
      }
    },
    {
      "cell_type": "code",
      "source": [
        "num_rows = similarities.shape[0]\n",
        "num_columns = unit_vectors.shape[1]\n",
        "for i in range(num_rows):\n",
        "    for j in range(num_columns):\n",
        "        row = similarities[i]\n",
        "        column = unit_vectors[:,j]\n",
        "        dot_product = row @ column\n",
        "        print(f\"{i}번째 행과 {j}번째 열의 내적은 {dot_product:.4f}입니다\")"
      ],
      "metadata": {
        "colab": {
          "base_uri": "https://localhost:8080/"
        },
        "id": "MoTR3QBLC5iH",
        "outputId": "6c8a74c3-6792-42c4-edd3-02928f04b5da"
      },
      "execution_count": 47,
      "outputs": [
        {
          "output_type": "stream",
          "name": "stdout",
          "text": [
            "0번째 행과 0번째 열의 내적은 0.1340입니다\n",
            "0번째 행과 1번째 열의 내적은 0.1340입니다\n",
            "0번째 행과 2번째 열의 내적은 0.1340입니다\n",
            "0번째 행과 3번째 열의 내적은 0.5423입니다\n",
            "0번째 행과 4번째 열의 내적은 0.8276입니다\n",
            "0번째 행과 5번째 열의 내적은 0.1340입니다\n",
            "0번째 행과 6번째 열의 내적은 0.1340입니다\n",
            "0번째 행과 7번째 열의 내적은 0.1340입니다\n",
            "0번째 행과 8번째 열의 내적은 0.5423입니다\n",
            "0번째 행과 9번째 열의 내적은 0.1427입니다\n",
            "0번째 행과 10번째 열의 내적은 0.8276입니다\n",
            "0번째 행과 11번째 열의 내적은 0.1427입니다\n",
            "0번째 행과 12번째 열의 내적은 0.1427입니다\n",
            "0번째 행과 13번째 열의 내적은 0.6850입니다\n",
            "0번째 행과 14번째 열의 내적은 0.5509입니다\n",
            "1번째 행과 0번째 열의 내적은 0.0797입니다\n",
            "1번째 행과 1번째 열의 내적은 0.0797입니다\n",
            "1번째 행과 2번째 열의 내적은 0.0797입니다\n",
            "1번째 행과 3번째 열의 내적은 0.2897입니다\n",
            "1번째 행과 4번째 열의 내적은 0.8444입니다\n",
            "1번째 행과 5번째 열의 내적은 0.0797입니다\n",
            "1번째 행과 6번째 열의 내적은 0.0797입니다\n",
            "1번째 행과 7번째 열의 내적은 0.0797입니다\n",
            "1번째 행과 8번째 열의 내적은 0.2897입니다\n",
            "1번째 행과 9번째 열의 내적은 0.2774입니다\n",
            "1번째 행과 10번째 열의 내적은 0.8444입니다\n",
            "1번째 행과 11번째 열의 내적은 0.2774입니다\n",
            "1번째 행과 12번째 열의 내적은 0.2774입니다\n",
            "1번째 행과 13번째 열의 내적은 0.5671입니다\n",
            "1번째 행과 14번째 열의 내적은 0.4874입니다\n",
            "2번째 행과 0번째 열의 내적은 0.3015입니다\n",
            "2번째 행과 1번째 열의 내적은 0.3015입니다\n",
            "2번째 행과 2번째 열의 내적은 0.3015입니다\n",
            "2번째 행과 3번째 열의 내적은 0.4830입니다\n",
            "2번째 행과 4번째 열의 내적은 0.6296입니다\n",
            "2번째 행과 5번째 열의 내적은 0.3015입니다\n",
            "2번째 행과 6번째 열의 내적은 0.3015입니다\n",
            "2번째 행과 7번째 열의 내적은 0.3015입니다\n",
            "2번째 행과 8번째 열의 내적은 0.4830입니다\n",
            "2번째 행과 9번째 열의 내적은 0.0733입니다\n",
            "2번째 행과 10번째 열의 내적은 0.6296입니다\n",
            "2번째 행과 11번째 열의 내적은 0.0733입니다\n",
            "2번째 행과 12번째 열의 내적은 0.0733입니다\n",
            "2번째 행과 13번째 열의 내적은 0.5563입니다\n",
            "2번째 행과 14번째 열의 내적은 0.2548입니다\n"
          ]
        }
      ]
    },
    {
      "cell_type": "markdown",
      "source": [
        "## 13-40"
      ],
      "metadata": {
        "id": "JRjUbI16C_Wz"
      }
    },
    {
      "cell_type": "code",
      "source": [
        "dot_products = np.zeros((num_rows, num_columns))\n",
        "for i in range(num_rows):\n",
        "    for j in range(num_columns):\n",
        "        dot_products[i][j] = similarities[i] @ unit_vectors[:,j]\n",
        "\n",
        "print(dot_products)"
      ],
      "metadata": {
        "colab": {
          "base_uri": "https://localhost:8080/"
        },
        "id": "8AqRGtblC8zz",
        "outputId": "479e5615-8485-48d9-c803-f687ef693e84"
      },
      "execution_count": 48,
      "outputs": [
        {
          "output_type": "stream",
          "name": "stdout",
          "text": [
            "[[0.13402795 0.13402795 0.13402795 0.54227624 0.82762755 0.13402795\n",
            "  0.13402795 0.13402795 0.54227624 0.14267565 0.82762755 0.14267565\n",
            "  0.14267565 0.6849519  0.55092394]\n",
            " [0.07969524 0.07969524 0.07969524 0.28970812 0.84440831 0.07969524\n",
            "  0.07969524 0.07969524 0.28970812 0.2773501  0.84440831 0.2773501\n",
            "  0.2773501  0.56705821 0.48736297]\n",
            " [0.30151134 0.30151134 0.30151134 0.48298605 0.62960397 0.30151134\n",
            "  0.30151134 0.30151134 0.48298605 0.07330896 0.62960397 0.07330896\n",
            "  0.07330896 0.55629501 0.25478367]]\n"
          ]
        }
      ]
    },
    {
      "cell_type": "markdown",
      "source": [
        "## 13-41"
      ],
      "metadata": {
        "id": "PIO4jQvZDGMo"
      }
    },
    {
      "cell_type": "code",
      "source": [
        "matrix_product = similarities @ unit_vectors\n",
        "assert np.allclose(matrix_product, dot_products)"
      ],
      "metadata": {
        "id": "S1-FTA5fDAJE"
      },
      "execution_count": 49,
      "outputs": []
    },
    {
      "cell_type": "markdown",
      "source": [
        "## 13-42"
      ],
      "metadata": {
        "id": "AtA7iwu1DJOt"
      }
    },
    {
      "cell_type": "code",
      "source": [
        "try:\n",
        "    matrix_product = unit_vectors @ similarities\n",
        "except:\n",
        "    print(\"행렬의 곱을 계산할 수 없습니다\")"
      ],
      "metadata": {
        "colab": {
          "base_uri": "https://localhost:8080/"
        },
        "id": "35zghTGgDHE5",
        "outputId": "1ce5f66e-af66-4458-cfb1-ba180c4f6c6c"
      },
      "execution_count": 50,
      "outputs": [
        {
          "output_type": "stream",
          "name": "stdout",
          "text": [
            "행렬의 곱을 계산할 수 없습니다\n"
          ]
        }
      ]
    },
    {
      "cell_type": "markdown",
      "source": [
        "## 13-43"
      ],
      "metadata": {
        "id": "xc6sGXp9DM95"
      }
    },
    {
      "cell_type": "code",
      "source": [
        "matrix_product = np.matmul(similarities, unit_vectors)\n",
        "assert np.array_equal(matrix_product,\n",
        "                            similarities @ unit_vectors)"
      ],
      "metadata": {
        "id": "dE_DYAOADKN8"
      },
      "execution_count": 51,
      "outputs": []
    },
    {
      "cell_type": "markdown",
      "source": [
        "## 13-44"
      ],
      "metadata": {
        "id": "ulQlgemZDQ5t"
      }
    },
    {
      "cell_type": "code",
      "source": [
        "import time\n",
        "numpy_run_times = []\n",
        "for_loop_run_times = []\n",
        "matrix_sizes = range(1, 101)\n",
        "for size in matrix_sizes:\n",
        "    matrix = np.ones((size, size))\n",
        "    start_time = time.time()\n",
        "    matrix @ matrix\n",
        "    numpy_run_times.append(time.time() - start_time)\n",
        "\n",
        "    start_time = time.time()\n",
        "    for i in range(size):\n",
        "        for j in range(size):\n",
        "            matrix[i] @ matrix[:,j]\n",
        "\n",
        "    for_loop_run_times.append(time.time() - start_time)\n",
        "\n",
        "plt.plot(matrix_sizes, numpy_run_times,\n",
        "          label='넘파이로 수행한 행렬의 곱', linestyle='--')\n",
        "plt.plot(matrix_sizes, for_loop_run_times,\n",
        "          label='for 반복문으로 수행한 행렬의 곱', color='k')\n",
        "plt.xlabel('행 / 열의 크기')\n",
        "plt.ylabel('실행 시간(초)')\n",
        "plt.legend()\n",
        "plt.show()"
      ],
      "metadata": {
        "colab": {
          "base_uri": "https://localhost:8080/",
          "height": 473
        },
        "id": "pElBY4tJDN-L",
        "outputId": "4d7ddb35-f590-48d3-b808-7c71ff20ba96"
      },
      "execution_count": 53,
      "outputs": [
        {
          "output_type": "display_data",
          "data": {
            "text/plain": [
              "<Figure size 640x480 with 1 Axes>"
            ],
            "image/png": "[encoded data removed]"
          },
          "metadata": {}
        }
      ]
    },
    {
      "cell_type": "markdown",
      "source": [
        "## 13-45"
      ],
      "metadata": {
        "id": "6AV1sUMiDhM8"
      }
    },
    {
      "cell_type": "code",
      "source": [
        "cosine_matrix = unit_vectors @ unit_vectors.T\n",
        "assert np.allclose(cosine_matrix, cosine_similarities)"
      ],
      "metadata": {
        "id": "W5gUS1dHDiwt"
      },
      "execution_count": 55,
      "outputs": []
    },
    {
      "cell_type": "markdown",
      "source": [
        "## 13-46"
      ],
      "metadata": {
        "id": "f3zVZFKjDc7e"
      }
    },
    {
      "cell_type": "code",
      "source": [
        "tanimoto_matrix = cosine_matrix / (2 - cosine_matrix)\n",
        "assert np.allclose(tanimoto_matrix, similarities)"
      ],
      "metadata": {
        "id": "z7jHIKSNDRzr"
      },
      "execution_count": 56,
      "outputs": []
    },
    {
      "cell_type": "markdown",
      "source": [
        "## 13-47"
      ],
      "metadata": {
        "id": "IejmpuyzDm5G"
      }
    },
    {
      "cell_type": "code",
      "source": [
        "output = normalized_tanimoto(unit_vectors, unit_vectors.T)\n",
        "assert np.array_equal(output, tanimoto_matrix)"
      ],
      "metadata": {
        "id": "oMnLSHCjDd74"
      },
      "execution_count": 57,
      "outputs": []
    },
    {
      "cell_type": "markdown",
      "source": [
        "## 13-48"
      ],
      "metadata": {
        "id": "MhTWC1YUDqZV"
      }
    },
    {
      "cell_type": "code",
      "source": [
        "vocabulary_size = 50000\n",
        "normalized_vector = [1 / vocabulary_size] * vocabulary_size\n",
        "book_count = 30\n",
        "\n",
        "def measure_run_time(book_count):\n",
        "    book_matrix = np.array([normalized_vector] * book_count)\n",
        "    start_time = time.time()\n",
        "    normalized_tanimoto(book_matrix, book_matrix.T)\n",
        "    return time.time() - start_time\n",
        "\n",
        "run_time = measure_run_time(book_count)\n",
        "print(f\"{book_count} x {vocabulary_size} 크기 행렬 전체에 대한 \"\n",
        "       f\"유사도를 계산하는 데 {run_time:.4f} 초의 시간이 소요되었습니다\")"
      ],
      "metadata": {
        "colab": {
          "base_uri": "https://localhost:8080/"
        },
        "id": "eAG7vYaaDoAR",
        "outputId": "74565595-6ed6-441b-d468-da4b1c6f13b6"
      },
      "execution_count": 59,
      "outputs": [
        {
          "output_type": "stream",
          "name": "stdout",
          "text": [
            "30 x 50000 크기 행렬 전체에 대한 유사도를 계산하는 데 0.0101 초의 시간이 소요되었습니다\n"
          ]
        }
      ]
    },
    {
      "cell_type": "markdown",
      "source": [
        "## 13-49"
      ],
      "metadata": {
        "id": "SKL0Hy-tDxZF"
      }
    },
    {
      "cell_type": "code",
      "source": [
        "book_counts = range(30, 1000, 30)\n",
        "run_times = [measure_run_time(book_count)\n",
        "                 for book_count in book_counts]\n",
        "plt.scatter(book_counts, run_times)\n",
        "plt.xlabel('책 개수')\n",
        "plt.ylabel('실행 시간(초)')\n",
        "plt.show()"
      ],
      "metadata": {
        "colab": {
          "base_uri": "https://localhost:8080/",
          "height": 473
        },
        "id": "9wTJ8yZnDrYm",
        "outputId": "8fb1e9cc-7955-41eb-a357-675f3718e56a"
      },
      "execution_count": 60,
      "outputs": [
        {
          "output_type": "display_data",
          "data": {
            "text/plain": [
              "<Figure size 640x480 with 1 Axes>"
            ],
            "image/png": "[encoded data removed]"
          },
          "metadata": {}
        }
      ]
    },
    {
      "cell_type": "markdown",
      "source": [
        "## 13-50"
      ],
      "metadata": {
        "id": "ca4UVmw6ER7R"
      }
    },
    {
      "cell_type": "code",
      "source": [
        "def y(x): return (0.27 / (1000 ** 2)) * (x ** 2)\n",
        "plt.scatter(book_counts, run_times)\n",
        "plt.plot(book_counts, y(np.array(book_counts)), c='k')\n",
        "plt.xlabel('책 개수')\n",
        "plt.ylabel('실행 시간(초)')\n",
        "plt.show()"
      ],
      "metadata": {
        "colab": {
          "base_uri": "https://localhost:8080/",
          "height": 473
        },
        "id": "OuQ8kWfvDyTU",
        "outputId": "c36a1f9d-6459-4dfd-da78-997475c3239d"
      },
      "execution_count": 61,
      "outputs": [
        {
          "output_type": "display_data",
          "data": {
            "text/plain": [
              "<Figure size 640x480 with 1 Axes>"
            ],
            "image/png": "[encoded data removed]"
          },
          "metadata": {}
        }
      ]
    },
    {
      "cell_type": "markdown",
      "source": [
        "## 13-51"
      ],
      "metadata": {
        "id": "MavEVLXZEV34"
      }
    },
    {
      "cell_type": "code",
      "source": [
        "book_count = 300000\n",
        "run_time = y(book_count) / 3600\n",
        "print(f\"{book_count} x {vocabulary_size} 크기 행렬 전체에 대한 \"\n",
        "       f\"유사도를 계산하는 데 {run_time:.4f} 시간이 소요될 것으로 예상됩니다\")"
      ],
      "metadata": {
        "colab": {
          "base_uri": "https://localhost:8080/"
        },
        "id": "ZR-M031zETLk",
        "outputId": "b131a869-39ca-4e6d-b41d-ed6ecad0ea93"
      },
      "execution_count": 63,
      "outputs": [
        {
          "output_type": "stream",
          "name": "stdout",
          "text": [
            "300000 x 50000 크기 행렬 전체에 대한 유사도를 계산하는 데 6.7500 시간이 소요될 것으로 예상됩니다\n"
          ]
        }
      ]
    },
    {
      "cell_type": "code",
      "source": [],
      "metadata": {
        "id": "MYdYHzKmEW2m"
      },
      "execution_count": null,
      "outputs": []
    }
  ]
}