{
  "nbformat": 4,
  "nbformat_minor": 0,
  "metadata": {
    "colab": {
      "name": "ds_bookcamp_03.ipynb",
      "provenance": [],
      "authorship_tag": "ABX9TyM4Q/dPnc6hWEXpp3I4Q9yr",
      "include_colab_link": true
    },
    "kernelspec": {
      "name": "python3",
      "display_name": "Python 3"
    },
    "language_info": {
      "name": "python"
    }
  },
  "cells": [
    {
      "cell_type": "markdown",
      "metadata": {
        "id": "view-in-github",
        "colab_type": "text"
      },
      "source": [
        "<a href=\"https://colab.research.google.com/github/books-by-chansung/ds-bookcamp/blob/main/notebooks/ds_bookcamp_03.ipynb\" target=\"_parent\"><img src=\"https://colab.research.google.com/assets/colab-badge.svg\" alt=\"Open In Colab\"/></a>"
      ]
    },
    {
      "cell_type": "code",
      "execution_count": 1,
      "metadata": {
        "id": "93-ZXp4Of_NZ"
      },
      "outputs": [],
      "source": [
        "# 단계 1: 폰트 설치\n",
        "import matplotlib.font_manager as fm\n",
        "\n",
        "!apt-get -qq -y install fonts-nanum > /dev/null\n",
        "fontpath = '/usr/share/fonts/truetype/nanum/NanumBarunGothic.ttf'\n",
        "font = fm.FontProperties(fname=fontpath, size=9)\n",
        "fm._rebuild()"
      ]
    },
    {
      "cell_type": "code",
      "source": [
        "# 단계 2: 런타임 재시작\n",
        "import os\n",
        "os.kill(os.getpid(), 9)"
      ],
      "metadata": {
        "id": "CTuPIJYbgBX0"
      },
      "execution_count": null,
      "outputs": []
    },
    {
      "cell_type": "code",
      "source": [
        "# 단계 3: 한글 폰트 설정\n",
        "import matplotlib.pyplot as plt\n",
        "import matplotlib as mpl\n",
        "import matplotlib.font_manager as fm\n",
        "\n",
        "# 마이너스 표시 문제\n",
        "mpl.rcParams['axes.unicode_minus'] = False\n",
        "\t\n",
        "# 한글 폰트 설정\n",
        "path = '/usr/share/fonts/truetype/nanum/NanumGothicBold.ttf'\n",
        "font_name = fm.FontProperties(fname=path, size=25).get_name()\n",
        "plt.rc('font', family=font_name)\n",
        "fm._rebuild()\n",
        "\n",
        "plt.rcParams[\"figure.dpi\"] = 200"
      ],
      "metadata": {
        "id": "SqU9umbdgM-p"
      },
      "execution_count": 2,
      "outputs": []
    },
    {
      "cell_type": "markdown",
      "source": [
        "## 3.1\t넘파이로 무작위의 동전 뒤집기와 주사위 던지기를 시뮬레이션 하기(Simulating random coin flips and die rolls using NumPy)"
      ],
      "metadata": {
        "id": "WJ0C9-5bgTz0"
      }
    },
    {
      "cell_type": "code",
      "source": [
        "import numpy as np"
      ],
      "metadata": {
        "id": "XbzaPhmlgOnW"
      },
      "execution_count": 3,
      "outputs": []
    },
    {
      "cell_type": "code",
      "source": [
        "die_roll = np.random.randint(1, 7)\n",
        "assert 1 <= die_roll <= 6"
      ],
      "metadata": {
        "id": "2nSj8tuegYH9"
      },
      "execution_count": 4,
      "outputs": []
    },
    {
      "cell_type": "code",
      "source": [
        "np.random.seed(0)\n",
        "die_rolls = [np.random.randint(1, 7) for _ in range(3)]\n",
        "assert die_rolls == [5, 6, 1]"
      ],
      "metadata": {
        "id": "SPjsZJC8gZwX"
      },
      "execution_count": 5,
      "outputs": []
    },
    {
      "cell_type": "code",
      "source": [
        "np.random.seed(0)\n",
        "coin_flip = np.random.randint(0, 2)\n",
        "print(f\"동전은 {'앞면' if coin_flip == 1 else '뒷면'} 으로 떨어졌습니다.\")"
      ],
      "metadata": {
        "colab": {
          "base_uri": "https://localhost:8080/"
        },
        "id": "VNXhsuU5gbVY",
        "outputId": "39ec4ee8-9144-49a8-ea67-b5a9fbf2db4e"
      },
      "execution_count": 6,
      "outputs": [
        {
          "output_type": "stream",
          "name": "stdout",
          "text": [
            "동전은 뒷면 으로 떨어졌습니다.\n"
          ]
        }
      ]
    },
    {
      "cell_type": "code",
      "source": [
        "np.random.seed(0)\n",
        "def frequency_heads(coin_flip_sequence):\n",
        "  total_heads = len([head for head in coin_flip_sequence if head == 1])\n",
        "  return total_heads / len(coin_flip_sequence)\n",
        "\n",
        "coin_flips = [np.random.randint(0, 2) for _ in range(10)]\n",
        "freq_heads = frequency_heads(coin_flips)\n",
        "print(f\"동전 앞면이 관측된 빈도는 {freq_heads} 입니다\")\n"
      ],
      "metadata": {
        "colab": {
          "base_uri": "https://localhost:8080/"
        },
        "id": "lLIbqLBVgdac",
        "outputId": "e4d2115b-00a3-45f3-97ae-b8da5b6c7922"
      },
      "execution_count": 7,
      "outputs": [
        {
          "output_type": "stream",
          "name": "stdout",
          "text": [
            "동전 앞면이 관측된 빈도는 0.8 입니다\n"
          ]
        }
      ]
    },
    {
      "cell_type": "code",
      "source": [
        "np.random.seed(0)\n",
        "coin_flips = []\n",
        "frequencies = []\n",
        "for _ in range(1000):\n",
        "  coin_flips.append(np.random.randint(0, 2))\n",
        "  frequencies.append(frequency_heads(coin_flips))\n",
        "\n",
        "plt.plot(list(range(1000)), frequencies)\n",
        "plt.axhline(0.5, color='k')\n",
        "plt.xlabel('시행된 동전 뒤집기 횟수')\n",
        "plt.ylabel('앞면이 관측된 빈도')\n",
        "plt.show()"
      ],
      "metadata": {
        "colab": {
          "base_uri": "https://localhost:8080/",
          "height": 516
        },
        "id": "OlQQu2YJgh81",
        "outputId": "7b7c433f-8014-490a-8f7b-622ab06a7d8e"
      },
      "execution_count": 8,
      "outputs": [
        {
          "output_type": "display_data",
          "data": {
            "text/plain": [
              "<Figure size 1200x800 with 1 Axes>"
            ],
            "image/png": "[encoded data removed]"
          },
          "metadata": {
            "needs_background": "light"
          }
        }
      ]
    },
    {
      "cell_type": "markdown",
      "source": [
        "### 3.1.1.\t편향된 동전 뒤집기의 분석(Analyzing biased coin flips)"
      ],
      "metadata": {
        "id": "_rhghl7iVNGq"
      }
    },
    {
      "cell_type": "code",
      "source": [
        "np.random.seed(0)\n",
        "print(\"동전을 한 번 뒤집어봅니다.\")\n",
        "coin_flip = np.random.binomial(1, 0.7)\n",
        "print(f\"편향된 동전은 {'앞면' if coin_flip == 1 else '뒷면'}으로 떨어졌습니다.\")\n",
        "\n",
        "print(\"\\n동전을 열 번 뒤집어봅니다.\")\n",
        "number_coin_flips = 10\n",
        "head_count = np.random.binomial(number_coin_flips, .7)\n",
        "print((f\"{number_coin_flips}번의 편향된 동전 뒤집기 중 앞면은 \\\n",
        "{head_count}번 관측되었습니다.\"))"
      ],
      "metadata": {
        "id": "gqp-IWPjgndU",
        "colab": {
          "base_uri": "https://localhost:8080/"
        },
        "outputId": "77cf3bad-1552-42e4-9241-6bdf36ff8ad5"
      },
      "execution_count": 12,
      "outputs": [
        {
          "output_type": "stream",
          "name": "stdout",
          "text": [
            "동전을 한 번 뒤집어봅니다.\n",
            "편향된 동전은 앞면으로 떨어졌습니다.\n",
            "\n",
            "동전을 열 번 뒤집어봅니다.\n",
            "10번의 편향된 동전 뒤집기 중 앞면은 6번 관측되었습니다.\n"
          ]
        }
      ]
    },
    {
      "cell_type": "code",
      "source": [
        "np.random.seed(0)\n",
        "head_count = np.random.binomial(1000, 0.7)\n",
        "frequency = head_count / 1000\n",
        "print(f\"동전의 앞면이 관측된 빈도는 {frequency} 입니다\")"
      ],
      "metadata": {
        "colab": {
          "base_uri": "https://localhost:8080/"
        },
        "id": "Hhl-6oTlVU0L",
        "outputId": "1f456fc9-8c52-47d0-b02c-38e7980b83b6"
      },
      "execution_count": 13,
      "outputs": [
        {
          "output_type": "stream",
          "name": "stdout",
          "text": [
            "동전의 앞면이 관측된 빈도는 0.697 입니다\n"
          ]
        }
      ]
    },
    {
      "cell_type": "code",
      "source": [
        "np.random.seed(0)\n",
        "assert np.random.binomial(1000, 0.7) / 1000 == 0.697\n",
        "for i in range(1, 6):\n",
        "  head_count = np.random.binomial(1000, 0.7)\n",
        "  frequency = head_count / 1000\n",
        "  print(f\"{i} 번째 반복에서의 빈도는 {frequency} 입니다\")\n",
        "  if frequency == 0.7:\n",
        "    print(\"빈도와 실제 확률이 일치합니다!\\n\")\n"
      ],
      "metadata": {
        "id": "UKsJ3_rOea8t",
        "outputId": "c484bf34-2bf9-4bb7-ed2b-7f65df617405",
        "colab": {
          "base_uri": "https://localhost:8080/"
        }
      },
      "execution_count": 14,
      "outputs": [
        {
          "output_type": "stream",
          "name": "stdout",
          "text": [
            "1 번째 반복에서의 빈도는 0.69 입니다\n",
            "2 번째 반복에서의 빈도는 0.7 입니다\n",
            "빈도와 실제 확률이 일치합니다!\n",
            "\n",
            "3 번째 반복에서의 빈도는 0.707 입니다\n",
            "4 번째 반복에서의 빈도는 0.702 입니다\n",
            "5 번째 반복에서의 빈도는 0.699 입니다\n"
          ]
        }
      ]
    },
    {
      "cell_type": "markdown",
      "source": [
        "## 3.2\t히스토그램과 넘파이 배열로 계산하는 신뢰 구간(Computing confidence intervals using histograms and NumPy arrays) "
      ],
      "metadata": {
        "id": "VG4xZVlvgXpj"
      }
    },
    {
      "cell_type": "code",
      "source": [
        ""
      ],
      "metadata": {
        "id": "03PxY2o4frH9"
      },
      "execution_count": null,
      "outputs": []
    }
  ]
}