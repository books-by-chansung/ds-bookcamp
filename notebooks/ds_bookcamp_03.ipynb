{
  "nbformat": 4,
  "nbformat_minor": 0,
  "metadata": {
    "colab": {
      "provenance": [],
      "include_colab_link": true
    },
    "kernelspec": {
      "name": "python3",
      "display_name": "Python 3"
    },
    "language_info": {
      "name": "python"
    }
  },
  "cells": [
    {
      "cell_type": "markdown",
      "metadata": {
        "id": "view-in-github",
        "colab_type": "text"
      },
      "source": [
        "<a href=\"https://colab.research.google.com/github/books-by-chansung/ds-bookcamp/blob/main/notebooks/ds_bookcamp_03.ipynb\" target=\"_parent\"><img src=\"https://colab.research.google.com/assets/colab-badge.svg\" alt=\"Open In Colab\"/></a>"
      ]
    },
    {
      "cell_type": "code",
      "source": [
        "!mkdir -p /usr/share/fonts/truetype/nanum\n",
        "!wget https://github.com/books-by-chansung/ds-bookcamp/blob/main/NanumBarunGothic.ttf?raw=true -O /usr/share/fonts/truetype/nanum/NanumBarunGothic.ttf"
      ],
      "metadata": {
        "id": "m6DXlHcUat77",
        "outputId": "3cef3029-ef7b-4e06-e76b-a183da8b15f7",
        "colab": {
          "base_uri": "https://localhost:8080/"
        }
      },
      "execution_count": null,
      "outputs": [
        {
          "output_type": "stream",
          "name": "stdout",
          "text": [
            "--2024-11-14 02:05:27--  https://github.com/books-by-chansung/ds-bookcamp/blob/main/NanumBarunGothic.ttf?raw=true\n",
            "Resolving github.com (github.com)... 140.82.114.3\n",
            "Connecting to github.com (github.com)|140.82.114.3|:443... connected.\n",
            "HTTP request sent, awaiting response... 302 Found\n",
            "Location: https://github.com/books-by-chansung/ds-bookcamp/raw/refs/heads/main/NanumBarunGothic.ttf [following]\n",
            "--2024-11-14 02:05:27--  https://github.com/books-by-chansung/ds-bookcamp/raw/refs/heads/main/NanumBarunGothic.ttf\n",
            "Reusing existing connection to github.com:443.\n",
            "HTTP request sent, awaiting response... 302 Found\n",
            "Location: https://raw.githubusercontent.com/books-by-chansung/ds-bookcamp/refs/heads/main/NanumBarunGothic.ttf [following]\n",
            "--2024-11-14 02:05:28--  https://raw.githubusercontent.com/books-by-chansung/ds-bookcamp/refs/heads/main/NanumBarunGothic.ttf\n",
            "Resolving raw.githubusercontent.com (raw.githubusercontent.com)... 185.199.108.133, 185.199.109.133, 185.199.110.133, ...\n",
            "Connecting to raw.githubusercontent.com (raw.githubusercontent.com)|185.199.108.133|:443... connected.\n",
            "HTTP request sent, awaiting response... 200 OK\n",
            "Length: 4186060 (4.0M) [application/octet-stream]\n",
            "Saving to: ‘/usr/share/fonts/truetype/nanum/NanumBarunGothic.ttf’\n",
            "\n",
            "/usr/share/fonts/tr 100%[===================>]   3.99M  --.-KB/s    in 0.09s   \n",
            "\n",
            "2024-11-14 02:05:29 (44.1 MB/s) - ‘/usr/share/fonts/truetype/nanum/NanumBarunGothic.ttf’ saved [4186060/4186060]\n",
            "\n"
          ]
        }
      ]
    },
    {
      "cell_type": "code",
      "execution_count": null,
      "metadata": {
        "id": "93-ZXp4Of_NZ"
      },
      "outputs": [],
      "source": [
        "# 단계 1: 폰트 설치\n",
        "import matplotlib.font_manager as fm\n",
        "import matplotlib.pyplot as plt\n",
        "\n",
        "fe = fm.FontEntry(\n",
        "    fname=r'/usr/share/fonts/truetype/nanum/NanumBarunGothic.ttf', # ttf 파일이 저장되어 있는 경로\n",
        "    name='NanumGothic')                        # 이 폰트의 원하는 이름 설정\n",
        "fm.fontManager.ttflist.insert(0, fe)              # Matplotlib에 폰트 추가\n",
        "plt.rcParams.update({'font.size': 18, 'font.family': 'NanumGothic'}) # 폰트 설정"
      ]
    },
    {
      "cell_type": "markdown",
      "source": [
        "## 3-1"
      ],
      "metadata": {
        "id": "WJ0C9-5bgTz0"
      }
    },
    {
      "cell_type": "code",
      "source": [
        "import numpy as np"
      ],
      "metadata": {
        "id": "XbzaPhmlgOnW"
      },
      "execution_count": null,
      "outputs": []
    },
    {
      "cell_type": "markdown",
      "source": [
        "## 3-2"
      ],
      "metadata": {
        "id": "td5jCe_abdXH"
      }
    },
    {
      "cell_type": "code",
      "source": [
        "die_roll = np.random.randint(1, 7)\n",
        "assert 1 <= die_roll <= 6"
      ],
      "metadata": {
        "id": "2nSj8tuegYH9"
      },
      "execution_count": null,
      "outputs": []
    },
    {
      "cell_type": "markdown",
      "source": [
        "## 3-3"
      ],
      "metadata": {
        "id": "HzUvy1_sbf7K"
      }
    },
    {
      "cell_type": "code",
      "source": [
        "np.random.seed(0)\n",
        "die_rolls = [np.random.randint(1, 7) for _ in range(3)]\n",
        "assert die_rolls == [5, 6, 1]"
      ],
      "metadata": {
        "id": "SPjsZJC8gZwX"
      },
      "execution_count": null,
      "outputs": []
    },
    {
      "cell_type": "markdown",
      "source": [
        "## 3-4"
      ],
      "metadata": {
        "id": "iOyMLBzibhIy"
      }
    },
    {
      "cell_type": "code",
      "source": [
        "np.random.seed(0)\n",
        "coin_flip = np.random.randint(0, 2)\n",
        "print(f\"동전은 {'앞면' if coin_flip == 1 else '뒷면'} 으로 떨어졌습니다.\")"
      ],
      "metadata": {
        "colab": {
          "base_uri": "https://localhost:8080/"
        },
        "id": "VNXhsuU5gbVY",
        "outputId": "c8d2b96f-070a-426d-bc15-b01bc8851a43"
      },
      "execution_count": null,
      "outputs": [
        {
          "output_type": "stream",
          "name": "stdout",
          "text": [
            "동전은 뒷면 으로 떨어졌습니다.\n"
          ]
        }
      ]
    },
    {
      "cell_type": "markdown",
      "source": [
        "## 3-5"
      ],
      "metadata": {
        "id": "l_ZBU1XEbiBU"
      }
    },
    {
      "cell_type": "code",
      "source": [
        "np.random.seed(0)\n",
        "def frequency_heads(coin_flip_sequence):\n",
        "  total_heads = len([head for head in coin_flip_sequence if head == 1])\n",
        "  return total_heads / len(coin_flip_sequence)\n",
        "\n",
        "coin_flips = [np.random.randint(0, 2) for _ in range(10)]\n",
        "freq_heads = frequency_heads(coin_flips)\n",
        "print(f\"동전 앞면이 관측된 빈도는 {freq_heads} 입니다\")\n"
      ],
      "metadata": {
        "colab": {
          "base_uri": "https://localhost:8080/"
        },
        "id": "lLIbqLBVgdac",
        "outputId": "5050d26d-2252-4a8a-d5b0-6ab6d25a44b2"
      },
      "execution_count": null,
      "outputs": [
        {
          "output_type": "stream",
          "name": "stdout",
          "text": [
            "동전 앞면이 관측된 빈도는 0.8 입니다\n"
          ]
        }
      ]
    },
    {
      "cell_type": "markdown",
      "source": [
        "## 3-6"
      ],
      "metadata": {
        "id": "IemYl66Rbjh7"
      }
    },
    {
      "cell_type": "code",
      "source": [
        "np.random.seed(0)\n",
        "coin_flips = []\n",
        "frequencies = []\n",
        "for _ in range(1000):\n",
        "  coin_flips.append(np.random.randint(0, 2))\n",
        "  frequencies.append(frequency_heads(coin_flips))\n",
        "\n",
        "plt.plot(list(range(1000)), frequencies)\n",
        "plt.axhline(0.5, color='k')\n",
        "plt.xlabel('시행된 동전 뒤집기 횟수')\n",
        "plt.ylabel('앞면이 관측된 빈도')\n",
        "plt.show()"
      ],
      "metadata": {
        "colab": {
          "base_uri": "https://localhost:8080/",
          "height": 473
        },
        "id": "OlQQu2YJgh81",
        "outputId": "c92b2890-ee39-42fc-8fa6-6a92f123fbfb"
      },
      "execution_count": null,
      "outputs": [
        {
          "output_type": "display_data",
          "data": {
            "text/plain": [
              "<Figure size 640x480 with 1 Axes>"
            ],
            "image/png": "[encoded data removed]"
          },
          "metadata": {}
        }
      ]
    },
    {
      "cell_type": "markdown",
      "source": [
        "## 3-7"
      ],
      "metadata": {
        "id": "bCHmZ3rJbl_u"
      }
    },
    {
      "cell_type": "code",
      "source": [
        "np.random.seed(0)\n",
        "print(\"동전을 한 번 뒤집어봅니다.\")\n",
        "coin_flip = np.random.binomial(1, 0.7)\n",
        "print(f\"편향된 동전은 {'앞면' if coin_flip == 1 else '뒷면'}으로 떨어졌습니다.\")\n",
        "\n",
        "print(\"\\n동전을 열 번 뒤집어봅니다.\")\n",
        "number_coin_flips = 10\n",
        "head_count = np.random.binomial(number_coin_flips, .7)\n",
        "print((f\"{number_coin_flips}번의 편향된 동전 뒤집기 중 앞면은 \\\n",
        "{head_count}번 관측되었습니다.\"))"
      ],
      "metadata": {
        "id": "gqp-IWPjgndU",
        "colab": {
          "base_uri": "https://localhost:8080/"
        },
        "outputId": "e2bcb435-d7d3-4ecf-a629-4d4c6508f60e"
      },
      "execution_count": null,
      "outputs": [
        {
          "output_type": "stream",
          "name": "stdout",
          "text": [
            "동전을 한 번 뒤집어봅니다.\n",
            "편향된 동전은 앞면으로 떨어졌습니다.\n",
            "\n",
            "동전을 열 번 뒤집어봅니다.\n",
            "10번의 편향된 동전 뒤집기 중 앞면은 6번 관측되었습니다.\n"
          ]
        }
      ]
    },
    {
      "cell_type": "markdown",
      "source": [
        "## 3-8"
      ],
      "metadata": {
        "id": "XiXakCMWbnEO"
      }
    },
    {
      "cell_type": "code",
      "source": [
        "np.random.seed(0)\n",
        "head_count = np.random.binomial(1000, 0.7)\n",
        "frequency = head_count / 1000\n",
        "print(f\"동전의 앞면이 관측된 빈도는 {frequency} 입니다\")"
      ],
      "metadata": {
        "colab": {
          "base_uri": "https://localhost:8080/"
        },
        "id": "Hhl-6oTlVU0L",
        "outputId": "d30821c6-6fe1-4e7f-b99a-7abc30d7380d"
      },
      "execution_count": null,
      "outputs": [
        {
          "output_type": "stream",
          "name": "stdout",
          "text": [
            "동전의 앞면이 관측된 빈도는 0.697 입니다\n"
          ]
        }
      ]
    },
    {
      "cell_type": "markdown",
      "source": [
        "## 3-9"
      ],
      "metadata": {
        "id": "GqW9VMvybn1c"
      }
    },
    {
      "cell_type": "code",
      "source": [
        "np.random.seed(0)\n",
        "assert np.random.binomial(1000, 0.7) / 1000 == 0.697\n",
        "for i in range(1, 6):\n",
        "  head_count = np.random.binomial(1000, 0.7)\n",
        "  frequency = head_count / 1000\n",
        "  print(f\"{i} 번째 반복에서의 빈도는 {frequency} 입니다\")\n",
        "  if frequency == 0.7:\n",
        "    print(\"빈도와 실제 확률이 일치합니다!\\n\")\n"
      ],
      "metadata": {
        "id": "UKsJ3_rOea8t",
        "outputId": "a20e9d73-e123-435e-d613-97694619e978",
        "colab": {
          "base_uri": "https://localhost:8080/"
        }
      },
      "execution_count": null,
      "outputs": [
        {
          "output_type": "stream",
          "name": "stdout",
          "text": [
            "1 번째 반복에서의 빈도는 0.69 입니다\n",
            "2 번째 반복에서의 빈도는 0.7 입니다\n",
            "빈도와 실제 확률이 일치합니다!\n",
            "\n",
            "3 번째 반복에서의 빈도는 0.707 입니다\n",
            "4 번째 반복에서의 빈도는 0.702 입니다\n",
            "5 번째 반복에서의 빈도는 0.699 입니다\n"
          ]
        }
      ]
    },
    {
      "cell_type": "markdown",
      "source": [
        "## 3-10"
      ],
      "metadata": {
        "id": "7eAcoW10bpRo"
      }
    },
    {
      "cell_type": "code",
      "source": [
        "np.random.seed(0)\n",
        "head_count_list = [np.random.binomial(1000, 0.7) for _ in range(500)]"
      ],
      "metadata": {
        "id": "03PxY2o4frH9"
      },
      "execution_count": null,
      "outputs": []
    },
    {
      "cell_type": "markdown",
      "source": [
        "## 3-11"
      ],
      "metadata": {
        "id": "X7iJaG9Bbq64"
      }
    },
    {
      "cell_type": "code",
      "source": [
        "np.random.seed(0)\n",
        "head_count_array = np.random.binomial(1000, 0.7, 500)"
      ],
      "metadata": {
        "id": "R5ikp75nAuFo"
      },
      "execution_count": null,
      "outputs": []
    },
    {
      "cell_type": "markdown",
      "source": [
        "## 3-12"
      ],
      "metadata": {
        "id": "76HmP0Gdbtp2"
      }
    },
    {
      "cell_type": "code",
      "source": [
        "assert head_count_array.tolist() == head_count_list"
      ],
      "metadata": {
        "id": "bFxtPCgnAxBy"
      },
      "execution_count": null,
      "outputs": []
    },
    {
      "cell_type": "markdown",
      "source": [
        "## 3-13"
      ],
      "metadata": {
        "id": "M2SG0FA_bwfn"
      }
    },
    {
      "cell_type": "code",
      "source": [
        "new_array = np.array(head_count_list)\n",
        "assert np.array_equal(new_array, head_count_array) == True"
      ],
      "metadata": {
        "id": "Bq3TJIX8Ayt4"
      },
      "execution_count": null,
      "outputs": []
    },
    {
      "cell_type": "markdown",
      "source": [
        "## 3-14"
      ],
      "metadata": {
        "id": "VBmEVlN-bxxI"
      }
    },
    {
      "cell_type": "code",
      "source": [
        "frequency_array = head_count_array / 1000\n",
        "assert frequency_array.tolist() == [head_count / 1000\n",
        "                                    for head_count in head_count_list]\n",
        "assert frequency_array.tolist() == list(map(lambda x: x / 1000, head_count_list))"
      ],
      "metadata": {
        "id": "yYe-h5KPA0Y9"
      },
      "execution_count": null,
      "outputs": []
    },
    {
      "cell_type": "markdown",
      "source": [
        "## 3-15"
      ],
      "metadata": {
        "id": "YYTLq-Gtb0Xj"
      }
    },
    {
      "cell_type": "code",
      "source": [
        "print(frequency_array[:20])"
      ],
      "metadata": {
        "id": "k0lt1SylA107",
        "outputId": "530d0561-c994-4a12-a930-9ce01c4ca2b1",
        "colab": {
          "base_uri": "https://localhost:8080/"
        }
      },
      "execution_count": null,
      "outputs": [
        {
          "output_type": "stream",
          "name": "stdout",
          "text": [
            "[0.697 0.69  0.7   0.707 0.702 0.699 0.723 0.67  0.702 0.713 0.721 0.689\n",
            " 0.711 0.697 0.717 0.691 0.731 0.697 0.722 0.728]\n"
          ]
        }
      ]
    },
    {
      "cell_type": "markdown",
      "source": [
        "## 3-16"
      ],
      "metadata": {
        "id": "PJs0bi2Hb1D2"
      }
    },
    {
      "cell_type": "code",
      "source": [
        "min_freq = frequency_array.min()\n",
        "max_freq = frequency_array.max()\n",
        "print(f\"관측된 최소 빈도: {min_freq}\")\n",
        "print(f\"관측된 최대 빈도: {max_freq}\")\n",
        "print(f\"빈도의 범위: {max_freq - min_freq}\")\n"
      ],
      "metadata": {
        "id": "4YwXemUSGa9Y",
        "outputId": "ca9b6e89-b758-43cb-b1a4-15f8ebe9caba",
        "colab": {
          "base_uri": "https://localhost:8080/"
        }
      },
      "execution_count": null,
      "outputs": [
        {
          "output_type": "stream",
          "name": "stdout",
          "text": [
            "관측된 최소 빈도: 0.656\n",
            "관측된 최대 빈도: 0.733\n",
            "빈도의 범위: 0.07699999999999996\n"
          ]
        }
      ]
    },
    {
      "cell_type": "markdown",
      "source": [
        "## 3-17"
      ],
      "metadata": {
        "id": "JiVFM6RFb1zN"
      }
    },
    {
      "cell_type": "code",
      "source": [
        "from collections import defaultdict\n",
        "\n",
        "frequency_counts = defaultdict(int)\n",
        "for frequency in frequency_array:\n",
        "  frequency_counts[frequency] += 1\n",
        "\n",
        "frequencies = list(frequency_counts.keys())\n",
        "counts = [frequency_counts[freq] for freq in frequencies]\n",
        "\n",
        "plt.scatter(frequencies, counts)\n",
        "plt.xlabel('빈도')\n",
        "plt.ylabel('횟수')\n",
        "plt.show()\n"
      ],
      "metadata": {
        "id": "H0WxCxPkHGxX",
        "outputId": "c4c98686-7181-45d4-cf90-dfbaac35ab31",
        "colab": {
          "base_uri": "https://localhost:8080/",
          "height": 473
        }
      },
      "execution_count": null,
      "outputs": [
        {
          "output_type": "display_data",
          "data": {
            "text/plain": [
              "<Figure size 640x480 with 1 Axes>"
            ],
            "image/png": "[encoded data removed]"
          },
          "metadata": {}
        }
      ]
    },
    {
      "cell_type": "markdown",
      "source": [
        "## 3-18"
      ],
      "metadata": {
        "id": "NZjWjNGsb4lW"
      }
    },
    {
      "cell_type": "code",
      "source": [
        "plt.hist(frequency_array, bins='auto', edgecolor='black')\n",
        "plt.xlabel('유사한 것들끼리 묶인 빈도')\n",
        "plt.ylabel('횟수')\n",
        "plt.show()"
      ],
      "metadata": {
        "id": "Xo56jKPJHRyP",
        "outputId": "82f8a483-651a-4859-df5d-077dcb95db2e",
        "colab": {
          "base_uri": "https://localhost:8080/",
          "height": 473
        }
      },
      "execution_count": null,
      "outputs": [
        {
          "output_type": "display_data",
          "data": {
            "text/plain": [
              "<Figure size 640x480 with 1 Axes>"
            ],
            "image/png": "[encoded data removed]"
          },
          "metadata": {}
        }
      ]
    },
    {
      "cell_type": "markdown",
      "source": [
        "## 3-19"
      ],
      "metadata": {
        "id": "0cP2-Rf0b6P2"
      }
    },
    {
      "cell_type": "code",
      "source": [
        "counts, _, _ = plt.hist(frequency_array, bins='auto', edgecolor='black')\n",
        "\n",
        "print(f\"빈의 개수: {counts.size}\")"
      ],
      "metadata": {
        "id": "g8LpaU8DPwKg",
        "outputId": "99e383de-68df-4b17-8819-c24ff0fbe420",
        "colab": {
          "base_uri": "https://localhost:8080/",
          "height": 460
        }
      },
      "execution_count": null,
      "outputs": [
        {
          "output_type": "stream",
          "name": "stdout",
          "text": [
            "빈의 개수: 16\n"
          ]
        },
        {
          "output_type": "display_data",
          "data": {
            "text/plain": [
              "<Figure size 640x480 with 1 Axes>"
            ],
            "image/png": "[encoded data removed]"
          },
          "metadata": {}
        }
      ]
    },
    {
      "cell_type": "markdown",
      "source": [
        "## 3-20"
      ],
      "metadata": {
        "id": "7tfMqXWJb7vs"
      }
    },
    {
      "cell_type": "code",
      "source": [
        "counts, bin_edges, _ = plt.hist(frequency_array, bins='auto', edgecolor='black')\n",
        "\n",
        "bin_width = bin_edges[1] - bin_edges[0]\n",
        "assert bin_width == (max_freq - min_freq) / counts.size\n",
        "print(f\"빈의 너비: {bin_width}\")"
      ],
      "metadata": {
        "id": "hrU8X63QP9cV",
        "outputId": "0c3cf7b3-192f-45b2-cdfb-ae55c98e4b0b",
        "colab": {
          "base_uri": "https://localhost:8080/",
          "height": 460
        }
      },
      "execution_count": null,
      "outputs": [
        {
          "output_type": "stream",
          "name": "stdout",
          "text": [
            "빈의 너비: 0.004812499999999997\n"
          ]
        },
        {
          "output_type": "display_data",
          "data": {
            "text/plain": [
              "<Figure size 640x480 with 1 Axes>"
            ],
            "image/png": "[encoded data removed]"
          },
          "metadata": {}
        }
      ]
    },
    {
      "cell_type": "markdown",
      "source": [
        "## 3-21"
      ],
      "metadata": {
        "id": "GjbcfSJdb9LY"
      }
    },
    {
      "cell_type": "code",
      "source": [
        "def output_bin_coverage(i):\n",
        "  count = int(counts[i])\n",
        "  range_start, range_end = bin_edges[i], bin_edges[i+1]\n",
        "  range_string = f\"{range_start} - {range_end}\"\n",
        "  print((f\"빈도의 범위 {range_string}에 대한 빈은 \"\n",
        "  f\"{count}개의 요소를 포함합니다.\"))\n",
        "\n",
        "output_bin_coverage(0)\n",
        "output_bin_coverage(5)"
      ],
      "metadata": {
        "id": "_07cF84JQBxx",
        "outputId": "49f07dcf-2f3e-4008-996d-327a08040793",
        "colab": {
          "base_uri": "https://localhost:8080/"
        }
      },
      "execution_count": null,
      "outputs": [
        {
          "output_type": "stream",
          "name": "stdout",
          "text": [
            "빈도의 범위 0.656 - 0.6608125에 대한 빈은 1개의 요소를 포함합니다.\n",
            "빈도의 범위 0.6800625 - 0.684875에 대한 빈은 20개의 요소를 포함합니다.\n"
          ]
        }
      ]
    },
    {
      "cell_type": "markdown",
      "source": [
        "## 3-22"
      ],
      "metadata": {
        "id": "a048nyZSb-PU"
      }
    },
    {
      "cell_type": "code",
      "source": [
        "assert counts[counts.argmax()] == counts.max()"
      ],
      "metadata": {
        "id": "jEtLH7FfQE7z"
      },
      "execution_count": null,
      "outputs": []
    },
    {
      "cell_type": "markdown",
      "source": [
        "## 3-23"
      ],
      "metadata": {
        "id": "23uMeV7_b_BF"
      }
    },
    {
      "cell_type": "code",
      "source": [
        "output_bin_coverage(counts.argmax())"
      ],
      "metadata": {
        "id": "y3eQPqiEQJYy",
        "outputId": "91f1f2de-c32f-41ab-8b4e-231b75dfc73d",
        "colab": {
          "base_uri": "https://localhost:8080/"
        }
      },
      "execution_count": null,
      "outputs": [
        {
          "output_type": "stream",
          "name": "stdout",
          "text": [
            "빈도의 범위 0.6945 - 0.6993125에 대한 빈은 72개의 요소를 포함합니다.\n"
          ]
        }
      ]
    },
    {
      "cell_type": "markdown",
      "source": [
        "## 3-24"
      ],
      "metadata": {
        "id": "Nj1gvop5cBHg"
      }
    },
    {
      "cell_type": "code",
      "source": [
        "likelihoods, bin_edges, _ = plt.hist(frequency_array, bins='auto',\n",
        "                                     edgecolor='black', density=True)\n",
        "\n",
        "plt.xlabel('빈도 구간')\n",
        "plt.ylabel('상대적 확률')\n",
        "plt.show()"
      ],
      "metadata": {
        "id": "qMC8LGY2bQz-",
        "outputId": "8b35ca7c-6f0f-47ca-c78c-68f4d8773a64",
        "colab": {
          "base_uri": "https://localhost:8080/",
          "height": 473
        }
      },
      "execution_count": null,
      "outputs": [
        {
          "output_type": "display_data",
          "data": {
            "text/plain": [
              "<Figure size 640x480 with 1 Axes>"
            ],
            "image/png": "[encoded data removed]"
          },
          "metadata": {}
        }
      ]
    },
    {
      "cell_type": "markdown",
      "source": [
        "## 3-25"
      ],
      "metadata": {
        "id": "1n-XraElcDn2"
      }
    },
    {
      "cell_type": "code",
      "source": [
        "assert likelihoods.sum() * bin_width == 1.0"
      ],
      "metadata": {
        "id": "CZXHWNRQbU_X"
      },
      "execution_count": null,
      "outputs": []
    },
    {
      "cell_type": "markdown",
      "source": [
        "## 3-26"
      ],
      "metadata": {
        "id": "j1w0pzH_cG_f"
      }
    },
    {
      "cell_type": "code",
      "source": [
        "index = likelihoods.argmax()\n",
        "area = likelihoods[index] * bin_width\n",
        "range_start, range_end = bin_edges[index], bin_edges[index+1]\n",
        "range_string = f\"{range_start} - {range_end}\"\n",
        "print(f\"샘플링된 빈도가 {range_string} 구간에 속할 확률은 {area} 입니다\")"
      ],
      "metadata": {
        "id": "UlpRuBs3cGWi",
        "outputId": "96bbfbdd-ceff-4912-fa69-2188d2fda2f2",
        "colab": {
          "base_uri": "https://localhost:8080/"
        }
      },
      "execution_count": null,
      "outputs": [
        {
          "output_type": "stream",
          "name": "stdout",
          "text": [
            "샘플링된 빈도가 0.6945 - 0.6993125 구간에 속할 확률은 0.144 입니다\n"
          ]
        }
      ]
    },
    {
      "cell_type": "markdown",
      "source": [
        "## 3-27"
      ],
      "metadata": {
        "id": "gAAlDxdMcLSg"
      }
    },
    {
      "cell_type": "code",
      "source": [
        "peak_index = likelihoods.argmax()\n",
        "start_index, end_index = (peak_index-1, peak_index+2)\n",
        "area = likelihoods[start_index: end_index+1].sum() * bin_width\n",
        "range_start, range_end = bin_edges[start_index], bin_edges[end_index]\n",
        "range_string = f\"{range_start} - {range_end}\"\n",
        "print(f\"샘플링된 빈도가 {range_string} 구간에 속할 확률은 {area} 입니다\")"
      ],
      "metadata": {
        "id": "0mNA3ETUcJ4x",
        "outputId": "7515d52b-0ce6-4231-aeb8-940d16ad4f72",
        "colab": {
          "base_uri": "https://localhost:8080/"
        }
      },
      "execution_count": null,
      "outputs": [
        {
          "output_type": "stream",
          "name": "stdout",
          "text": [
            "샘플링된 빈도가 0.6896875 - 0.704125 구간에 속할 확률은 0.464 입니다\n"
          ]
        }
      ]
    },
    {
      "cell_type": "markdown",
      "source": [
        "## 3-28"
      ],
      "metadata": {
        "id": "4yM-LHVycPt1"
      }
    },
    {
      "cell_type": "code",
      "source": [
        "def compute_high_confidence_interval(likelihoods, bin_width):\n",
        "    peak_index = likelihoods.argmax()\n",
        "    area = likelihoods[peak_index] * bin_width\n",
        "    start_index, end_index = peak_index, peak_index + 1\n",
        "    while area < 0.95:\n",
        "        if start_index > 0:\n",
        "            start_index -= 1\n",
        "        if end_index < likelihoods.size - 1:\n",
        "            end_index += 1\n",
        "\n",
        "        area = likelihoods[start_index: end_index + 1].sum() * bin_width\n",
        "\n",
        "    range_start, range_end = bin_edges[start_index], bin_edges[end_index]\n",
        "    range_string = f\"{range_start:.6f} - {range_end:.6f}\"\n",
        "    print((f\"빈도 범위 {range_string}는 {100 * area:.2f}% 신뢰 구간을 나타냅니다\"))\n",
        "    return start_index, end_index\n",
        "\n",
        "compute_high_confidence_interval(likelihoods, bin_width)"
      ],
      "metadata": {
        "id": "BaaMOUITcO4S",
        "outputId": "5979f234-946b-4e11-e004-2b10b03ae094",
        "colab": {
          "base_uri": "https://localhost:8080/"
        }
      },
      "execution_count": null,
      "outputs": [
        {
          "output_type": "stream",
          "name": "stdout",
          "text": [
            "빈도 범위 0.670438 - 0.723375는 95.40% 신뢰 구간을 나타냅니다\n"
          ]
        },
        {
          "output_type": "execute_result",
          "data": {
            "text/plain": [
              "(3, 14)"
            ]
          },
          "metadata": {},
          "execution_count": 32
        }
      ]
    },
    {
      "cell_type": "markdown",
      "source": [
        "## 3-29"
      ],
      "metadata": {
        "id": "ucPMVQiucdq0"
      }
    },
    {
      "cell_type": "code",
      "source": [
        "np.random.seed(0)\n",
        "head_count_array = np.random.binomial(1000, 0.7, 100000)\n",
        "frequency_array = head_count_array / 1000\n",
        "assert frequency_array.size == 100000"
      ],
      "metadata": {
        "id": "uXhYOW0bcZlP"
      },
      "execution_count": null,
      "outputs": []
    },
    {
      "cell_type": "markdown",
      "source": [
        "## 3-30"
      ],
      "metadata": {
        "id": "rvQz8uoocdI-"
      }
    },
    {
      "cell_type": "code",
      "source": [
        "likelihoods, bin_edges, patches = plt.hist(frequency_array, bins='auto',\n",
        "                                           edgecolor='black', density=True)\n",
        "\n",
        "bin_width = bin_edges[1] - bin_edges[0]\n",
        "start_index, end_index = compute_high_confidence_interval(likelihoods, bin_width)\n",
        "\n",
        "for i in range(start_index, end_index):\n",
        "    patches[i].set_facecolor('yellow')\n",
        "\n",
        "plt.xlabel('구간 빈도')\n",
        "plt.ylabel('상대적 확률')\n",
        "plt.show()"
      ],
      "metadata": {
        "id": "gUM1YyqZcf7b",
        "outputId": "4d9214d8-1b94-4d94-b458-e2993d240c62",
        "colab": {
          "base_uri": "https://localhost:8080/",
          "height": 491
        }
      },
      "execution_count": null,
      "outputs": [
        {
          "output_type": "stream",
          "name": "stdout",
          "text": [
            "빈도 범위 0.670429 - 0.727857는 95.42% 신뢰 구간을 나타냅니다\n"
          ]
        },
        {
          "output_type": "display_data",
          "data": {
            "text/plain": [
              "<Figure size 640x480 with 1 Axes>"
            ],
            "image/png": "[encoded data removed]"
          },
          "metadata": {}
        }
      ]
    },
    {
      "cell_type": "markdown",
      "source": [
        "## 3-31"
      ],
      "metadata": {
        "id": "84PABSYlcv6z"
      }
    },
    {
      "cell_type": "code",
      "source": [
        "np.random.seed(0)\n",
        "head_count_array = np.random.binomial(50000, 0.7, 100000)\n",
        "frequency_array = head_count_array / 50000\n",
        "\n",
        "likelihoods, bin_edges, patches = plt.hist(frequency_array, bins='auto', edgecolor='black', density=True)\n",
        "bin_width = bin_edges[1] - bin_edges[0]\n",
        "start_index, end_index = compute_high_confidence_interval(likelihoods, bin_width)\n",
        "\n",
        "for i in range(start_index, end_index):\n",
        "    patches[i].set_facecolor('yellow')\n",
        "\n",
        "plt.xlabel('구간 빈도')\n",
        "plt.ylabel('상대적 확률')\n",
        "plt.show()"
      ],
      "metadata": {
        "id": "kS3Q208OcvSv",
        "outputId": "0dfcc4f1-3b53-4dc5-9cb8-9a28ffb5d72b",
        "colab": {
          "base_uri": "https://localhost:8080/",
          "height": 491
        }
      },
      "execution_count": null,
      "outputs": [
        {
          "output_type": "stream",
          "name": "stdout",
          "text": [
            "빈도 범위 0.695769 - 0.703708는 95.06% 신뢰 구간을 나타냅니다\n"
          ]
        },
        {
          "output_type": "display_data",
          "data": {
            "text/plain": [
              "<Figure size 640x480 with 1 Axes>"
            ],
            "image/png": "[encoded data removed]"
          },
          "metadata": {}
        }
      ]
    },
    {
      "cell_type": "markdown",
      "source": [
        "## 3-32"
      ],
      "metadata": {
        "id": "65YzNMoDc2yJ"
      }
    },
    {
      "cell_type": "code",
      "source": [
        "np.random.seed(0)\n",
        "likelihoods, bin_edges = np.histogram(frequency_array, bins='auto', density=True)\n",
        "bin_width = bin_edges[1] - bin_edges[0]\n",
        "compute_high_confidence_interval(likelihoods, bin_width)"
      ],
      "metadata": {
        "id": "Iw6y_1qtcsHj",
        "outputId": "f84c9f88-1e21-46ab-bc36-3dcdc06ec8ee",
        "colab": {
          "base_uri": "https://localhost:8080/"
        }
      },
      "execution_count": null,
      "outputs": [
        {
          "output_type": "stream",
          "name": "stdout",
          "text": [
            "빈도 범위 0.695769 - 0.703708는 95.06% 신뢰 구간을 나타냅니다\n"
          ]
        },
        {
          "output_type": "execute_result",
          "data": {
            "text/plain": [
              "(47, 114)"
            ]
          },
          "metadata": {},
          "execution_count": 36
        }
      ]
    },
    {
      "cell_type": "markdown",
      "source": [
        "## 3-33"
      ],
      "metadata": {
        "id": "iburC-N-c_xs"
      }
    },
    {
      "cell_type": "code",
      "source": [
        "np.random.seed(0)\n",
        "total_cards = 52\n",
        "red_card_count = np.random.randint(0, total_cards+1)"
      ],
      "metadata": {
        "id": "G62OvFk2c80s"
      },
      "execution_count": null,
      "outputs": []
    },
    {
      "cell_type": "markdown",
      "source": [
        "## 3-34"
      ],
      "metadata": {
        "id": "xdRo3yaGdBdA"
      }
    },
    {
      "cell_type": "code",
      "source": [
        "black_card_count = total_cards - red_card_count\n",
        "assert black_card_count != red_card_count"
      ],
      "metadata": {
        "id": "vs5GnxljdAxd"
      },
      "execution_count": null,
      "outputs": []
    },
    {
      "cell_type": "markdown",
      "source": [
        "## 3-35"
      ],
      "metadata": {
        "id": "w1poH8JGdDrt"
      }
    },
    {
      "cell_type": "code",
      "source": [
        "def get_matching_event(event_condition, sample_space):\n",
        "    return set([outcome for outcome in sample_space if event_condition(outcome)])\n",
        "\n",
        "def compute_event_probability(event_condition, generic_sample_space):\n",
        "    event = get_matching_event(event_condition, generic_sample_space)\n",
        "    if type(generic_sample_space) == type(set()):\n",
        "        return len(event) / len(generic_sample_space)\n",
        "\n",
        "    event_size = sum(generic_sample_space[outcome] for outcome in event)\n",
        "    return event_size / sum(generic_sample_space.values())"
      ],
      "metadata": {
        "id": "XoRo-q6MdOm7"
      },
      "execution_count": null,
      "outputs": []
    },
    {
      "cell_type": "code",
      "source": [
        "weighted_sample_space = {'red_card': red_card_count, 'black_card': black_card_count}\n",
        "prob_red = compute_event_probability(lambda x: x == 'red_card', weighted_sample_space)"
      ],
      "metadata": {
        "id": "I-2qDGPWdDOo"
      },
      "execution_count": null,
      "outputs": []
    },
    {
      "cell_type": "markdown",
      "source": [
        "## 3-36"
      ],
      "metadata": {
        "id": "sWpBcCgudFwx"
      }
    },
    {
      "cell_type": "code",
      "source": [
        "assert prob_red == red_card_count / total_cards"
      ],
      "metadata": {
        "id": "YAxdXm70dFMJ"
      },
      "execution_count": null,
      "outputs": []
    },
    {
      "cell_type": "markdown",
      "source": [
        "## 3-37"
      ],
      "metadata": {
        "id": "pS2lst0EdpI4"
      }
    },
    {
      "cell_type": "code",
      "source": [
        "np.random.seed(0)\n",
        "color = 'red' if np.random.binomial(1, prob_red) else 'black'\n",
        "print(f\"뒤섞인 카드 덱에서 꺼낸 첫 번째 카드는 {color} 입니다\")"
      ],
      "metadata": {
        "id": "e51gvdfIdgHA",
        "outputId": "49e80852-bb8b-4836-b93e-1f21f67664fa",
        "colab": {
          "base_uri": "https://localhost:8080/"
        }
      },
      "execution_count": null,
      "outputs": [
        {
          "output_type": "stream",
          "name": "stdout",
          "text": [
            "뒤섞인 카드 덱에서 꺼낸 첫 번째 카드는 red 입니다\n"
          ]
        }
      ]
    },
    {
      "cell_type": "markdown",
      "source": [
        "## 3-38"
      ],
      "metadata": {
        "id": "k1YLNvjidvZ7"
      }
    },
    {
      "cell_type": "code",
      "source": [
        "np.random.seed(0)\n",
        "red_count = np.random.binomial(10, prob_red)\n",
        "print(f\"10번 카드를 뒤섞었을 때 {red_count} 번이 빨간색입니다\")"
      ],
      "metadata": {
        "id": "Z2RjMJWndtJp",
        "outputId": "7c93740a-35d1-44c4-c4e9-1978b6722d26",
        "colab": {
          "base_uri": "https://localhost:8080/"
        }
      },
      "execution_count": null,
      "outputs": [
        {
          "output_type": "stream",
          "name": "stdout",
          "text": [
            "10번 카드를 뒤섞었을 때 8 번이 빨간색입니다\n"
          ]
        }
      ]
    },
    {
      "cell_type": "markdown",
      "source": [
        "## 3-39"
      ],
      "metadata": {
        "id": "QLsqhci-dyRB"
      }
    },
    {
      "cell_type": "code",
      "source": [
        "np.random.seed(0)\n",
        "red_card_count_array = np.random.binomial(50000, prob_red, 100000)\n",
        "frequency_array = red_card_count_array / 50000\n",
        "\n",
        "likelihoods, bin_edges = np.histogram(frequency_array, bins='auto', density=True)\n",
        "bin_width = bin_edges[1] - bin_edges[0]\n",
        "start_index, end_index = compute_high_confidence_interval(likelihoods, bin_width)"
      ],
      "metadata": {
        "id": "rcpjc5i5dxrI",
        "outputId": "f867a3d8-ad7a-44bd-e361-3b3a271a471c",
        "colab": {
          "base_uri": "https://localhost:8080/"
        }
      },
      "execution_count": null,
      "outputs": [
        {
          "output_type": "stream",
          "name": "stdout",
          "text": [
            "빈도 범위 0.842865 - 0.849139는 95.16% 신뢰 구간을 나타냅니다\n"
          ]
        }
      ]
    },
    {
      "cell_type": "markdown",
      "source": [
        "## 3-40"
      ],
      "metadata": {
        "id": "XaySpec8d7l5"
      }
    },
    {
      "cell_type": "code",
      "source": [
        "range_start = round(0.842771 * total_cards)\n",
        "range_end = round(0.849139 * total_cards)\n",
        "print(f\"빨간색 카드 개수는 {range_start}와 {range_end} 사이입니다\")"
      ],
      "metadata": {
        "id": "M2kGOztkd67Z",
        "outputId": "85d87a89-da59-4f87-bf4f-34fcd8d10e18",
        "colab": {
          "base_uri": "https://localhost:8080/"
        }
      },
      "execution_count": null,
      "outputs": [
        {
          "output_type": "stream",
          "name": "stdout",
          "text": [
            "빨간색 카드 개수는 44와 44 사이입니다\n"
          ]
        }
      ]
    },
    {
      "cell_type": "markdown",
      "source": [
        "## 3-41"
      ],
      "metadata": {
        "id": "MTqjVbQCd-bJ"
      }
    },
    {
      "cell_type": "code",
      "source": [
        "if red_card_count == 44:\n",
        "    print('맞췄습니다! 카드 덱에는 44장의 빨간색 카드가 들어 있습니다')\n",
        "else:\n",
        "    print('저런! 샘플링 추정이 틀렸습니다')"
      ],
      "metadata": {
        "id": "vSlvpKYed91C",
        "outputId": "a2f426dd-3012-4533-beeb-e9b580ff52dd",
        "colab": {
          "base_uri": "https://localhost:8080/"
        }
      },
      "execution_count": null,
      "outputs": [
        {
          "output_type": "stream",
          "name": "stdout",
          "text": [
            "맞췄습니다! 카드 덱에는 44장의 빨간색 카드가 들어 있습니다\n"
          ]
        }
      ]
    },
    {
      "cell_type": "markdown",
      "source": [
        "## 3-42"
      ],
      "metadata": {
        "id": "PfaCKfjPeEf9"
      }
    },
    {
      "cell_type": "code",
      "source": [
        "np.random.seed(0)\n",
        "card_deck = [1, 1, 0, 0]\n",
        "np.random.shuffle(card_deck)\n",
        "print(card_deck)"
      ],
      "metadata": {
        "id": "S-MbZmn3eD7w",
        "outputId": "34d963c8-054f-44a9-dbd8-00d3affd1a49",
        "colab": {
          "base_uri": "https://localhost:8080/"
        }
      },
      "execution_count": null,
      "outputs": [
        {
          "output_type": "stream",
          "name": "stdout",
          "text": [
            "[0, 0, 1, 1]\n"
          ]
        }
      ]
    },
    {
      "cell_type": "markdown",
      "source": [
        "## 3-43"
      ],
      "metadata": {
        "id": "YXmae9b4essp"
      }
    },
    {
      "cell_type": "code",
      "source": [
        "np.random.seed(0)\n",
        "unshuffled_deck = [1, 1, 0, 0]\n",
        "shuffled_deck = np.random.permutation(unshuffled_deck)\n",
        "assert unshuffled_deck == [1, 1, 0, 0]\n",
        "print(shuffled_deck)"
      ],
      "metadata": {
        "id": "bMI1lBmieqVE",
        "outputId": "45db6614-1aec-45b6-8fe4-d462ce195e63",
        "colab": {
          "base_uri": "https://localhost:8080/"
        }
      },
      "execution_count": null,
      "outputs": [
        {
          "output_type": "stream",
          "name": "stdout",
          "text": [
            "[0 0 1 1]\n"
          ]
        }
      ]
    },
    {
      "cell_type": "markdown",
      "source": [
        "## 3-44"
      ],
      "metadata": {
        "id": "fNsKlJaBeuJ5"
      }
    },
    {
      "cell_type": "code",
      "source": [
        "import itertools\n",
        "for permutation in list(itertools.permutations(unshuffled_deck))[:3]:\n",
        "    print(permutation)"
      ],
      "metadata": {
        "id": "WOflAm0jetoN",
        "outputId": "a9831d8b-3889-46e9-9c7c-933e1645ba8e",
        "colab": {
          "base_uri": "https://localhost:8080/"
        }
      },
      "execution_count": null,
      "outputs": [
        {
          "output_type": "stream",
          "name": "stdout",
          "text": [
            "(1, 1, 0, 0)\n",
            "(1, 1, 0, 0)\n",
            "(1, 0, 1, 0)\n"
          ]
        }
      ]
    },
    {
      "cell_type": "markdown",
      "source": [
        "## 3-45"
      ],
      "metadata": {
        "id": "K96K8g4MezKO"
      }
    },
    {
      "cell_type": "code",
      "source": [
        "for permutation in list(itertools.permutations([0, 1, 2, 3]))[:3]:\n",
        "    print(permutation)"
      ],
      "metadata": {
        "id": "saB0JzQSeym4",
        "outputId": "025a5ffc-f466-4990-91d6-dd40e930ac8e",
        "colab": {
          "base_uri": "https://localhost:8080/"
        }
      },
      "execution_count": null,
      "outputs": [
        {
          "output_type": "stream",
          "name": "stdout",
          "text": [
            "(0, 1, 2, 3)\n",
            "(0, 1, 3, 2)\n",
            "(0, 2, 1, 3)\n"
          ]
        }
      ]
    },
    {
      "cell_type": "markdown",
      "source": [
        "## 3-46"
      ],
      "metadata": {
        "id": "j1xOgZgOe29M"
      }
    },
    {
      "cell_type": "code",
      "source": [
        "weighted_sample_space = defaultdict(int)\n",
        "for permutation in itertools.permutations(unshuffled_deck):\n",
        "    weighted_sample_space[permutation] += 1\n",
        "\n",
        "for permutation, count in weighted_sample_space.items():\n",
        "    print(f\"순열 {permutation}은 {count}번 발생합니다\")"
      ],
      "metadata": {
        "id": "vKV97tzve2JH",
        "outputId": "2bf2b663-ad82-4d26-d07d-bb4a2539b054",
        "colab": {
          "base_uri": "https://localhost:8080/"
        }
      },
      "execution_count": null,
      "outputs": [
        {
          "output_type": "stream",
          "name": "stdout",
          "text": [
            "순열 (1, 1, 0, 0)은 4번 발생합니다\n",
            "순열 (1, 0, 1, 0)은 4번 발생합니다\n",
            "순열 (1, 0, 0, 1)은 4번 발생합니다\n",
            "순열 (0, 1, 1, 0)은 4번 발생합니다\n",
            "순열 (0, 1, 0, 1)은 4번 발생합니다\n",
            "순열 (0, 0, 1, 1)은 4번 발생합니다\n"
          ]
        }
      ]
    },
    {
      "cell_type": "markdown",
      "source": [
        "## 3-47"
      ],
      "metadata": {
        "id": "6pm8EZCIfMU9"
      }
    },
    {
      "cell_type": "code",
      "source": [
        "sample_space = set(itertools.permutations(unshuffled_deck))\n",
        "event_condition = lambda x: list(x) == unshuffled_deck\n",
        "prob = compute_event_probability(event_condition, sample_space)\n",
        "assert prob == 1 / len(sample_space)\n",
        "print(f\"해당 뒤섞기 작업이 카드 덱을 변경하지 않을 확률은 {prob} 입니다.\")"
      ],
      "metadata": {
        "id": "hRDSaYoRfCUN",
        "outputId": "9037967b-f12f-40a3-a997-c83810dd8aa2",
        "colab": {
          "base_uri": "https://localhost:8080/"
        }
      },
      "execution_count": null,
      "outputs": [
        {
          "output_type": "stream",
          "name": "stdout",
          "text": [
            "해당 뒤섞기 작업이 카드 덱을 변경하지 않을 확률은 0.16666666666666666 입니다.\n"
          ]
        }
      ]
    },
    {
      "cell_type": "markdown",
      "source": [
        "## 3-48"
      ],
      "metadata": {
        "id": "RgeNPbwJfhsI"
      }
    },
    {
      "cell_type": "code",
      "source": [
        "red_cards = 5 * [1]\n",
        "black_cards = 5 * [0]\n",
        "unshuffled_deck = red_cards + black_cards\n",
        "sample_space = set(itertools.permutations(unshuffled_deck))\n",
        "print(f\"10 장의 카드로 구성된 카드 덱의 표본 공간에는 {len(sample_space)}개의 요소가 존재합니다\")"
      ],
      "metadata": {
        "id": "e2AtdDfnfZ72",
        "outputId": "1aa82348-0bb2-49ec-ef27-5b4240273ddc",
        "colab": {
          "base_uri": "https://localhost:8080/"
        }
      },
      "execution_count": null,
      "outputs": [
        {
          "output_type": "stream",
          "name": "stdout",
          "text": [
            "10 장의 카드로 구성된 카드 덱의 표본 공간에는 252개의 요소가 존재합니다\n"
          ]
        }
      ]
    },
    {
      "cell_type": "code",
      "source": [],
      "metadata": {
        "id": "8eS-rGVVfjzW"
      },
      "execution_count": null,
      "outputs": []
    }
  ]
}