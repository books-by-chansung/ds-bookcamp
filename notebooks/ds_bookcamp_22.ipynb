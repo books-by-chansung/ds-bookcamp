{
  "nbformat": 4,
  "nbformat_minor": 0,
  "metadata": {
    "colab": {
      "provenance": [],
      "authorship_tag": "ABX9TyMIEF2KHl5pG8CIBqsXkty0",
      "include_colab_link": true
    },
    "kernelspec": {
      "name": "python3",
      "display_name": "Python 3"
    },
    "language_info": {
      "name": "python"
    }
  },
  "cells": [
    {
      "cell_type": "markdown",
      "metadata": {
        "id": "view-in-github",
        "colab_type": "text"
      },
      "source": [
        "<a href=\"https://colab.research.google.com/github/books-by-chansung/ds-bookcamp/blob/main/notebooks/ds_bookcamp_22.ipynb\" target=\"_parent\"><img src=\"https://colab.research.google.com/assets/colab-badge.svg\" alt=\"Open In Colab\"/></a>"
      ]
    },
    {
      "cell_type": "code",
      "execution_count": 1,
      "metadata": {
        "colab": {
          "base_uri": "https://localhost:8080/"
        },
        "id": "wIjlyqP6L2k4",
        "outputId": "3bb5d769-dd61-4167-fed3-062f1f1f1958"
      },
      "outputs": [
        {
          "output_type": "stream",
          "name": "stdout",
          "text": [
            "--2024-10-03 11:41:52--  https://github.com/books-by-chansung/ds-bookcamp/blob/main/NanumBarunGothic.ttf?raw=true\n",
            "Resolving github.com (github.com)... 140.82.112.4\n",
            "Connecting to github.com (github.com)|140.82.112.4|:443... connected.\n",
            "HTTP request sent, awaiting response... 302 Found\n",
            "Location: https://github.com/books-by-chansung/ds-bookcamp/raw/refs/heads/main/NanumBarunGothic.ttf [following]\n",
            "--2024-10-03 11:41:52--  https://github.com/books-by-chansung/ds-bookcamp/raw/refs/heads/main/NanumBarunGothic.ttf\n",
            "Reusing existing connection to github.com:443.\n",
            "HTTP request sent, awaiting response... 302 Found\n",
            "Location: https://raw.githubusercontent.com/books-by-chansung/ds-bookcamp/refs/heads/main/NanumBarunGothic.ttf [following]\n",
            "--2024-10-03 11:41:53--  https://raw.githubusercontent.com/books-by-chansung/ds-bookcamp/refs/heads/main/NanumBarunGothic.ttf\n",
            "Resolving raw.githubusercontent.com (raw.githubusercontent.com)... 185.199.109.133, 185.199.110.133, 185.199.108.133, ...\n",
            "Connecting to raw.githubusercontent.com (raw.githubusercontent.com)|185.199.109.133|:443... connected.\n",
            "HTTP request sent, awaiting response... 200 OK\n",
            "Length: 4186060 (4.0M) [application/octet-stream]\n",
            "Saving to: ‘/usr/share/fonts/truetype/nanum/NanumBarunGothic.ttf’\n",
            "\n",
            "/usr/share/fonts/tr 100%[===================>]   3.99M  --.-KB/s    in 0.08s   \n",
            "\n",
            "2024-10-03 11:41:53 (48.1 MB/s) - ‘/usr/share/fonts/truetype/nanum/NanumBarunGothic.ttf’ saved [4186060/4186060]\n",
            "\n"
          ]
        }
      ],
      "source": [
        "!mkdir -p /usr/share/fonts/truetype/nanum\n",
        "!wget https://github.com/books-by-chansung/ds-bookcamp/blob/main/NanumBarunGothic.ttf?raw=true -O /usr/share/fonts/truetype/nanum/NanumBarunGothic.ttf"
      ]
    },
    {
      "cell_type": "code",
      "source": [
        "import matplotlib.font_manager as fm\n",
        "import matplotlib.pyplot as plt\n",
        "\n",
        "fe = fm.FontEntry(\n",
        "    fname=r'/usr/share/fonts/truetype/nanum/NanumBarunGothic.ttf', # ttf 파일이 저장되어 있는 경로\n",
        "    name='NanumGothic')                        # 이 폰트의 원하는 이름 설정\n",
        "fm.fontManager.ttflist.insert(0, fe)              # Matplotlib에 폰트 추가\n",
        "plt.rcParams.update({'font.size': 18, 'font.family': 'NanumGothic'}) # 폰트 설정"
      ],
      "metadata": {
        "id": "feZ3H--xL472"
      },
      "execution_count": 2,
      "outputs": []
    },
    {
      "cell_type": "code",
      "source": [
        "import warnings\n",
        "\n",
        "# Suppress all warnings\n",
        "warnings.filterwarnings(\"ignore\")"
      ],
      "metadata": {
        "id": "B5MfmsLQL6nT"
      },
      "execution_count": 3,
      "outputs": []
    },
    {
      "cell_type": "markdown",
      "source": [
        "## 22-1"
      ],
      "metadata": {
        "id": "oYAZHfIPMBYg"
      }
    },
    {
      "cell_type": "code",
      "source": [
        "import numpy as np\n",
        "import matplotlib.pyplot as plt\n",
        "X = np.array([[0, 0], [1, 0], [0, 1], [1, 1]])\n",
        "y = (X[:,0] + X[:,1] == 1).astype(int)\n",
        "\n",
        "for i in [0, 1]:\n",
        "    plt.scatter(X[y == i][:,0], X[y == i][:,1], marker=['o', 'x'][i], color=['b', 'k'][i], s=1000)\n",
        "\n",
        "plt.xlabel('스위치 0')\n",
        "plt.ylabel('스위치 1')\n",
        "plt.margins(0.1)\n",
        "plt.show()"
      ],
      "metadata": {
        "colab": {
          "base_uri": "https://localhost:8080/",
          "height": 473
        },
        "id": "-UwGQ7cBL74I",
        "outputId": "281e671a-c85d-4e48-ef58-7976541f07c8"
      },
      "execution_count": 6,
      "outputs": [
        {
          "output_type": "display_data",
          "data": {
            "text/plain": [
              "<Figure size 640x480 with 1 Axes>"
            ],
            "image/png": "[encoded data removed]"
          },
          "metadata": {}
        }
      ]
    },
    {
      "cell_type": "markdown",
      "source": [
        "## 22-2"
      ],
      "metadata": {
        "id": "7FfVPTZXMlLq"
      }
    },
    {
      "cell_type": "code",
      "source": [
        "def classify(features):\n",
        "    switch0, switch1 = features\n",
        "\n",
        "    if switch0 == 0:\n",
        "        if switch1 == 0:\n",
        "            prediction = 0\n",
        "        else:\n",
        "            prediction = 1\n",
        "    else:\n",
        "        if switch1 == 0:\n",
        "            prediction = 1\n",
        "        else:\n",
        "            prediction = 0\n",
        "    return prediction\n",
        "\n",
        "for i in range(X.shape[0]):\n",
        "    assert classify(X[i]) == y[i]"
      ],
      "metadata": {
        "id": "uy5X6Tu6MTR-"
      },
      "execution_count": 7,
      "outputs": []
    },
    {
      "cell_type": "markdown",
      "source": [
        "## 22-3"
      ],
      "metadata": {
        "id": "3n8TZdYnMnsA"
      }
    },
    {
      "cell_type": "code",
      "source": [
        "np.random.seed(0)\n",
        "y_simple = np.random.binomial(1, 0.5, size=10)\n",
        "X_simple = np.array([[e] for e in y_simple])\n",
        "print(f\"특징: {X_simple}\")\n",
        "print(f\"\\n레이블: {y_simple}\")"
      ],
      "metadata": {
        "colab": {
          "base_uri": "https://localhost:8080/"
        },
        "id": "yaWMwb3yMmUP",
        "outputId": "fc03c6bd-1fec-4711-81f0-217d2d1beb39"
      },
      "execution_count": 8,
      "outputs": [
        {
          "output_type": "stream",
          "name": "stdout",
          "text": [
            "특징: [[1]\n",
            " [1]\n",
            " [1]\n",
            " [1]\n",
            " [0]\n",
            " [1]\n",
            " [0]\n",
            " [1]\n",
            " [1]\n",
            " [0]]\n",
            "\n",
            "레이블: [1 1 1 1 0 1 0 1 1 0]\n"
          ]
        }
      ]
    },
    {
      "cell_type": "markdown",
      "source": [
        "## 22-4"
      ],
      "metadata": {
        "id": "4bTuAlPwMqdN"
      }
    },
    {
      "cell_type": "code",
      "source": [
        "count = (X_simple[:,0][y_simple == 0] == 0).sum()\n",
        "print(f\"스위치와 전구가 모두 꺼진 경우는 {count}번입니다\")"
      ],
      "metadata": {
        "colab": {
          "base_uri": "https://localhost:8080/"
        },
        "id": "wUFirP6PMok9",
        "outputId": "bb6f336f-8965-47d0-c451-ce00be92be53"
      },
      "execution_count": 9,
      "outputs": [
        {
          "output_type": "stream",
          "name": "stdout",
          "text": [
            "스위치와 전구가 모두 꺼진 경우는 3번입니다\n"
          ]
        }
      ]
    },
    {
      "cell_type": "markdown",
      "source": [
        "## 22-5"
      ],
      "metadata": {
        "id": "Fv9dL81UMsph"
      }
    },
    {
      "cell_type": "code",
      "source": [
        "count = (X_simple[:,0][y_simple == 1] == 1).sum()\n",
        "print(f\"스위치와 전구가 모두 켜진 경우는 {count}번입니다\")"
      ],
      "metadata": {
        "colab": {
          "base_uri": "https://localhost:8080/"
        },
        "id": "QQVab2P7MrWW",
        "outputId": "e6921311-abd9-4c94-a000-04c4e2a51be4"
      },
      "execution_count": 10,
      "outputs": [
        {
          "output_type": "stream",
          "name": "stdout",
          "text": [
            "스위치와 전구가 모두 켜진 경우는 7번입니다\n"
          ]
        }
      ]
    },
    {
      "cell_type": "markdown",
      "source": [
        "## 22-6"
      ],
      "metadata": {
        "id": "VoOEGUVBMv3A"
      }
    },
    {
      "cell_type": "code",
      "source": [
        "def get_co_occurrence(X, y, col=0):\n",
        "    co_occurrence = []\n",
        "    for i in [0, 1]:\n",
        "        counts = [(X[:,col][y == i] == j).sum() for j in [0, 1]]\n",
        "        co_occurrence.append(counts)\n",
        "    return np.array(co_occurrence)\n",
        "\n",
        "M = get_co_occurrence(X_simple, y_simple)\n",
        "assert M[0][0] == 3\n",
        "assert M[1][1] == 7\n",
        "print(M)"
      ],
      "metadata": {
        "colab": {
          "base_uri": "https://localhost:8080/"
        },
        "id": "ufD3HH2cMttb",
        "outputId": "7478be8c-4eb2-4bf0-ab1d-a5fecb534a22"
      },
      "execution_count": 11,
      "outputs": [
        {
          "output_type": "stream",
          "name": "stdout",
          "text": [
            "[[3 0]\n",
            " [0 7]]\n"
          ]
        }
      ]
    },
    {
      "cell_type": "markdown",
      "source": [
        "## 22-7"
      ],
      "metadata": {
        "id": "J_VLlqQDMy7S"
      }
    },
    {
      "cell_type": "code",
      "source": [
        "X_simple = np.vstack([X_simple, [1]])\n",
        "y_simple = np.hstack([y_simple, [0]])\n",
        "M = get_co_occurrence(X_simple, y_simple)\n",
        "print(M)"
      ],
      "metadata": {
        "colab": {
          "base_uri": "https://localhost:8080/"
        },
        "id": "j5AHkswMMxPP",
        "outputId": "5e723598-8374-4b8d-cec6-7dece404ff47"
      },
      "execution_count": 12,
      "outputs": [
        {
          "output_type": "stream",
          "name": "stdout",
          "text": [
            "[[3 1]\n",
            " [0 7]]\n"
          ]
        }
      ]
    },
    {
      "cell_type": "markdown",
      "source": [
        "## 22-8"
      ],
      "metadata": {
        "id": "COW5eA5fM1mz"
      }
    },
    {
      "cell_type": "code",
      "source": [
        "bulb_probs = M[0] / M[0].sum()\n",
        "print(\"스위치가 0으로 설정되었을 때, 전구의 상태 확률은 다음과 같습니다\")\n",
        "print(bulb_probs)\n",
        "\n",
        "prob_on, prob_off = bulb_probs\n",
        "print(f\"\\n전구가 꺼져있을 가능성은 75% 입니다\")\n",
        "print(f\"전구가 켜져있을 가능성은 25% 입니다\")"
      ],
      "metadata": {
        "colab": {
          "base_uri": "https://localhost:8080/"
        },
        "id": "LJKdh484Mz3a",
        "outputId": "22f44028-8cfc-436a-cb28-173ce93ed2e7"
      },
      "execution_count": 13,
      "outputs": [
        {
          "output_type": "stream",
          "name": "stdout",
          "text": [
            "스위치가 0으로 설정되었을 때, 전구의 상태 확률은 다음과 같습니다\n",
            "[0.75 0.25]\n",
            "\n",
            "전구가 꺼져있을 가능성은 75% 입니다\n",
            "전구가 켜져있을 가능성은 25% 입니다\n"
          ]
        }
      ]
    },
    {
      "cell_type": "markdown",
      "source": [
        "## 22-9"
      ],
      "metadata": {
        "id": "Bp61kF1fM7Np"
      }
    },
    {
      "cell_type": "code",
      "source": [
        "bulb_probs = M[1] / M[1].sum()\n",
        "print(\"스위치가 1로 설정되었을 때, 전구의 상태 확률은 다음과 같습니다\")\n",
        "print(bulb_probs)\n",
        "\n",
        "prediction = ['off', 'on'][bulb_probs.argmax()]\n",
        "accuracy = bulb_probs.max()\n",
        "print(f\"\\n전구는 {100 * accuracy:.0f}%의 정확도로 {prediction}일 것입니다\")"
      ],
      "metadata": {
        "colab": {
          "base_uri": "https://localhost:8080/"
        },
        "id": "vINI1qoPM2w3",
        "outputId": "553f9391-caaa-452b-89c8-d0a20d1dfe20"
      },
      "execution_count": 14,
      "outputs": [
        {
          "output_type": "stream",
          "name": "stdout",
          "text": [
            "스위치가 1로 설정되었을 때, 전구의 상태 확률은 다음과 같습니다\n",
            "[0. 1.]\n",
            "\n",
            "전구는 100%의 정확도로 on일 것입니다\n"
          ]
        }
      ]
    },
    {
      "cell_type": "markdown",
      "source": [
        "## 22-10"
      ],
      "metadata": {
        "id": "nHPVYfMmM9tQ"
      }
    },
    {
      "cell_type": "code",
      "source": [
        "for i, count in enumerate(M.sum(axis=1)):\n",
        "    state = ['off', 'on'][i]\n",
        "    print(f\"스위치 상태({state})은 {count}번 관찰되었습니다\")"
      ],
      "metadata": {
        "colab": {
          "base_uri": "https://localhost:8080/"
        },
        "id": "1VO1rM1gM8Ly",
        "outputId": "da5c9e2c-359c-4898-b9ff-d4b9d732c306"
      },
      "execution_count": 15,
      "outputs": [
        {
          "output_type": "stream",
          "name": "stdout",
          "text": [
            "스위치 상태(off)은 4번 관찰되었습니다\n",
            "스위치 상태(on)은 7번 관찰되었습니다\n"
          ]
        }
      ]
    },
    {
      "cell_type": "markdown",
      "source": [
        "## 22-11"
      ],
      "metadata": {
        "id": "jxeG0DZdNAAE"
      }
    },
    {
      "cell_type": "code",
      "source": [
        "accuracies = [0.75, 1.0]\n",
        "total_accuracy = np.average(accuracies, weights=M.sum(axis=1))\n",
        "print(f\"총 정확도는 {100 * total_accuracy:.0f}%입니다\")"
      ],
      "metadata": {
        "colab": {
          "base_uri": "https://localhost:8080/"
        },
        "id": "BZS2YzHPM-sa",
        "outputId": "0023239d-72f7-4934-8c4b-4ccaedf1933d"
      },
      "execution_count": 16,
      "outputs": [
        {
          "output_type": "stream",
          "name": "stdout",
          "text": [
            "총 정확도는 91%입니다\n"
          ]
        }
      ]
    },
    {
      "cell_type": "markdown",
      "source": [
        "## 22-12"
      ],
      "metadata": {
        "id": "9AD9DCj3NFpS"
      }
    },
    {
      "cell_type": "code",
      "source": [
        "def train_if_else(X, y, feature_col=0, feature_name='feature'):\n",
        "    M = get_co_occurrence(X, y, col=feature_col)\n",
        "    probs0, probs1 = [M[i] / M[i].sum() for i in [0, 1]]\n",
        "\n",
        "    if_else = f\"\"\"if {feature_name} == 0:\n",
        "    prediction = {probs0.argmax()}\n",
        "else:\n",
        "    prediction = {probs1.argmax()}\n",
        "    \"\"\".strip()\n",
        "\n",
        "    if probs0.argmax() == probs1.argmax():\n",
        "        if_else = f\"prediction = {probs0.argmax()}\"\n",
        "\n",
        "    accuracies = [probs0.max(), probs1.max()]\n",
        "    total_accuracy = np.average(accuracies, weights=M.sum(axis=1))\n",
        "    return if_else, total_accuracy\n",
        "\n",
        "if_else, accuracy = train_if_else(X_simple, y_simple, feature_name='switch')\n",
        "print(if_else)\n",
        "print(f\"\\n이 구문의 정확도는 {100 * accuracy:.0f}% 입니다\")"
      ],
      "metadata": {
        "colab": {
          "base_uri": "https://localhost:8080/"
        },
        "id": "e7DIMGVCNA8v",
        "outputId": "57597686-edc2-47ee-a701-92b0aeeca010"
      },
      "execution_count": 18,
      "outputs": [
        {
          "output_type": "stream",
          "name": "stdout",
          "text": [
            "if switch == 0:\n",
            "    prediction = 0\n",
            "else:\n",
            "    prediction = 1\n",
            "\n",
            "이 구문의 정확도는 91% 입니다\n"
          ]
        }
      ]
    },
    {
      "cell_type": "markdown",
      "source": [
        "## 22-13"
      ],
      "metadata": {
        "id": "f4g_pc6NNMT7"
      }
    },
    {
      "cell_type": "code",
      "source": [
        "feature_names = [f\"스위치{i}\" for i in range(2)]\n",
        "for i, name in enumerate(feature_names):\n",
        "    _, accuracy = train_if_else(X, y, feature_col=i, feature_name=name)\n",
        "    print(f\"{name}에 대해 학습된 모델의 정확도는 {100 * accuracy:.0f}% 입니다\")"
      ],
      "metadata": {
        "colab": {
          "base_uri": "https://localhost:8080/"
        },
        "id": "MPaAXmeKNGix",
        "outputId": "6d1bf7b5-4d8e-4a07-db46-7f021f4496f5"
      },
      "execution_count": 21,
      "outputs": [
        {
          "output_type": "stream",
          "name": "stdout",
          "text": [
            "스위치0에 대해 학습된 모델의 정확도는 50% 입니다\n",
            "스위치1에 대해 학습된 모델의 정확도는 50% 입니다\n"
          ]
        }
      ]
    },
    {
      "cell_type": "markdown",
      "source": [
        "## 22-14"
      ],
      "metadata": {
        "id": "rVNwbN7MNXVR"
      }
    },
    {
      "cell_type": "code",
      "source": [
        "is_off = X[:,0] == 0\n",
        "X_switch0_off = X[is_off]\n",
        "y_switch0_off = y[is_off]\n",
        "print(f\"switch0이 꺼졌을 때의 특징 배열\\n{X_switch0_off}\")\n",
        "print(f\"\\nswitch0이 꺼졌을 때의 클래스 레이블\\n{y_switch0_off}\")"
      ],
      "metadata": {
        "colab": {
          "base_uri": "https://localhost:8080/"
        },
        "id": "j10255PaNNSy",
        "outputId": "14286223-4449-4ff9-9a98-f1229606798d"
      },
      "execution_count": 22,
      "outputs": [
        {
          "output_type": "stream",
          "name": "stdout",
          "text": [
            "switch0이 꺼졌을 때의 특징 배열\n",
            "[[0 0]\n",
            " [0 1]]\n",
            "\n",
            "switch0이 꺼졌을 때의 클래스 레이블\n",
            "[0 1]\n"
          ]
        }
      ]
    },
    {
      "cell_type": "markdown",
      "source": [
        "## 22-15"
      ],
      "metadata": {
        "id": "hADm4Ov0NZ-L"
      }
    },
    {
      "cell_type": "code",
      "source": [
        "X_switch0_off = np.delete(X_switch0_off, 0, axis=1)\n",
        "print(X_switch0_off)"
      ],
      "metadata": {
        "colab": {
          "base_uri": "https://localhost:8080/"
        },
        "id": "1hLQrocLNYhi",
        "outputId": "f8c58197-d32e-4236-b250-ba3bb5bed16e"
      },
      "execution_count": 23,
      "outputs": [
        {
          "output_type": "stream",
          "name": "stdout",
          "text": [
            "[[0]\n",
            " [1]]\n"
          ]
        }
      ]
    },
    {
      "cell_type": "markdown",
      "source": [
        "## 22-16"
      ],
      "metadata": {
        "id": "VHKy5K8tNc6d"
      }
    },
    {
      "cell_type": "code",
      "source": [
        "results = train_if_else(X_switch0_off, y_switch0_off, feature_name='switch1')\n",
        "switch0_off_model, off_accuracy = results\n",
        "print(\"만약 스위치 0이 꺼져있다면, 다음의 if/else 모델의 정확도는 \"\n",
        "    f\"{100 * off_accuracy:.0f}% 입니다.\\n\\n{switch0_off_model}\")"
      ],
      "metadata": {
        "colab": {
          "base_uri": "https://localhost:8080/"
        },
        "id": "7iHHfXcKNbKl",
        "outputId": "ca1b1c0b-743a-498d-af2e-6b1f5c5d11ba"
      },
      "execution_count": 25,
      "outputs": [
        {
          "output_type": "stream",
          "name": "stdout",
          "text": [
            "만약 스위치 0이 꺼져있다면, 다음의 if/else 모델의 정확도는 100% 입니다.\n",
            "\n",
            "if switch1 == 0:\n",
            "    prediction = 0\n",
            "else:\n",
            "    prediction = 1\n"
          ]
        }
      ]
    },
    {
      "cell_type": "markdown",
      "source": [
        "## 22-17"
      ],
      "metadata": {
        "id": "_qPDpfu1NlTG"
      }
    },
    {
      "cell_type": "code",
      "source": [
        "def filter_X_y(X, y, feature_col=0, condition=0):\n",
        "    inclusion_criteria = X[:,feature_col] == condition\n",
        "    y_filtered = y[inclusion_criteria]\n",
        "    X_filtered = X[inclusion_criteria]\n",
        "    X_filtered = np.delete(X_filtered, feature_col, axis=1)\n",
        "    return X_filtered, y_filtered\n",
        "\n",
        "X_switch0_on, y_switch0_on = filter_X_y(X, y, condition=1)"
      ],
      "metadata": {
        "id": "KBJXphAbNd45"
      },
      "execution_count": 26,
      "outputs": []
    },
    {
      "cell_type": "markdown",
      "source": [
        "## 22-18"
      ],
      "metadata": {
        "id": "eUGRfymxNnn2"
      }
    },
    {
      "cell_type": "code",
      "source": [
        "results = train_if_else(X_switch0_on, y_switch0_on, feature_name='switch1')\n",
        "switch0_on_model, on_accuracy = results\n",
        "print(\"만약 스위치 0이 꺼져있다면, 다음의 if/else 모델의 정확도는 \"\n",
        "    f\"{100 * off_accuracy:.0f}% 입니다.\\n\\n{switch0_off_model}\")"
      ],
      "metadata": {
        "colab": {
          "base_uri": "https://localhost:8080/"
        },
        "id": "XyO6NuAuNmKx",
        "outputId": "0660a87b-f112-4c64-a769-a3b4b1843574"
      },
      "execution_count": 28,
      "outputs": [
        {
          "output_type": "stream",
          "name": "stdout",
          "text": [
            "만약 스위치 0이 꺼져있다면, 다음의 if/else 모델의 정확도는 100% 입니다.\n",
            "\n",
            "if switch1 == 0:\n",
            "    prediction = 0\n",
            "else:\n",
            "    prediction = 1\n"
          ]
        }
      ]
    },
    {
      "cell_type": "markdown",
      "source": [
        "## 22-19"
      ],
      "metadata": {
        "id": "xeoC-N-QNvLK"
      }
    },
    {
      "cell_type": "code",
      "source": [
        "def combine_if_else(if_else_a, if_else_b, feature_name='feature'):\n",
        "    return f\"\"\"\n",
        "if {feature_name} == 0:\n",
        "{add_indent(if_else_a)}\n",
        "else:\n",
        "{add_indent(if_else_b)}\n",
        "\"\"\".strip()\n",
        "\n",
        "def add_indent(if_else):\n",
        "    return '\\n'.join([4 * ' ' + line for line in if_else.split('\\n')])\n",
        "\n",
        "nested_model = combine_if_else(switch0_off_model, switch0_on_model,\n",
        "                              feature_name='switch0')\n",
        "print(nested_model)"
      ],
      "metadata": {
        "colab": {
          "base_uri": "https://localhost:8080/"
        },
        "id": "rxNv8I9hNotz",
        "outputId": "9e984a4d-db32-43a8-a34e-9d16e0839c02"
      },
      "execution_count": 29,
      "outputs": [
        {
          "output_type": "stream",
          "name": "stdout",
          "text": [
            "if switch0 == 0:\n",
            "    if switch1 == 0:\n",
            "        prediction = 0\n",
            "    else:\n",
            "        prediction = 1\n",
            "else:\n",
            "    if switch1 == 0:\n",
            "        prediction = 1\n",
            "    else:\n",
            "        prediction = 0\n"
          ]
        }
      ]
    },
    {
      "cell_type": "markdown",
      "source": [
        "## 22-20"
      ],
      "metadata": {
        "id": "AtrgjCHTNyJg"
      }
    },
    {
      "cell_type": "code",
      "source": [
        "accuracies = [off_accuracy, on_accuracy]\n",
        "weights = [y_switch0_off.size, y_switch0_on.size]\n",
        "total_accuracy = np.average(accuracies, weights=weights)\n",
        "print(f\"총 정확도는 {100 * total_accuracy:.0f}%입니다\")"
      ],
      "metadata": {
        "colab": {
          "base_uri": "https://localhost:8080/"
        },
        "id": "lbgeS_35NwP-",
        "outputId": "f19e0401-da48-4144-d01a-7bfd926ab511"
      },
      "execution_count": 30,
      "outputs": [
        {
          "output_type": "stream",
          "name": "stdout",
          "text": [
            "총 정확도는 100%입니다\n"
          ]
        }
      ]
    },
    {
      "cell_type": "markdown",
      "source": [
        "## 22-21"
      ],
      "metadata": {
        "id": "PHYKafm1N02w"
      }
    },
    {
      "cell_type": "code",
      "source": [
        "def split(X, y, feature_col=0, condition=0):\n",
        "    has_condition = X[:,feature_col] == condition\n",
        "    X_a, y_a = [e[has_condition] for e in [X, y]]\n",
        "    X_b, y_b = [e[~has_condition] for e in [X, y]]\n",
        "    X_a, X_b = [np.delete(e, feature_col, axis=1) for e in [X_a, X_b]]\n",
        "    return [X_a, X_b, y_a, y_b]\n",
        "\n",
        "X_a, X_b, y_a, y_b = split(X, y)\n",
        "assert np.array_equal(X_a, X_switch0_off)\n",
        "assert np.array_equal(X_b, X_switch0_on)"
      ],
      "metadata": {
        "id": "sIyMSYKANzJM"
      },
      "execution_count": 32,
      "outputs": []
    },
    {
      "cell_type": "markdown",
      "source": [
        "## 22-22"
      ],
      "metadata": {
        "id": "FzHn_Pd5N4S3"
      }
    },
    {
      "cell_type": "code",
      "source": [
        "def train_nested_if_else(X, y, split_col=0, feature_names=['feature1', 'feature1']):\n",
        "    split_name = feature_names[split_col]\n",
        "    simple_model, simple_accuracy = train_if_else(X, y, split_col, split_name)\n",
        "    if simple_accuracy == 1.0:\n",
        "        return (simple_model, simple_accuracy)\n",
        "\n",
        "    X_a, X_b, y_a, y_b = split(X, y, feature_col=split_col)\n",
        "    in_name = feature_names[1 - split_col]\n",
        "    if_else_a, accuracy_a = train_if_else(X_a, y_a, feature_name=in_name)\n",
        "    if_else_b, accuracy_b = train_if_else(X_b, y_b, feature_name=in_name)\n",
        "    nested_model = combine_if_else(if_else_a, if_else_b, split_name)\n",
        "    accuracies = [accuracy_a, accuracy_b]\n",
        "    nested_accuracy = np.average(accuracies, weights=[y_a.size, y_b.size])\n",
        "    if nested_accuracy > simple_accuracy:\n",
        "        return (nested_model, nested_accuracy)\n",
        "\n",
        "    return (simple_model, simple_accuracy)\n",
        "\n",
        "feature_names = ['switch0', 'switch1']\n",
        "model, accuracy = train_nested_if_else(X, y, feature_names=feature_names)\n",
        "print(model)\n",
        "print(f\"\\n이 구문의 정확도는 {100 * accuracy:.0f}% 입니다\")"
      ],
      "metadata": {
        "colab": {
          "base_uri": "https://localhost:8080/"
        },
        "id": "l8jhqVVmN11d",
        "outputId": "4c42909f-fb43-447b-f6e3-d321428bce27"
      },
      "execution_count": 33,
      "outputs": [
        {
          "output_type": "stream",
          "name": "stdout",
          "text": [
            "if switch0 == 0:\n",
            "    if switch1 == 0:\n",
            "        prediction = 0\n",
            "    else:\n",
            "        prediction = 1\n",
            "else:\n",
            "    if switch1 == 0:\n",
            "        prediction = 1\n",
            "    else:\n",
            "        prediction = 0\n",
            "\n",
            "이 구문의 정확도는 100% 입니다\n"
          ]
        }
      ]
    },
    {
      "cell_type": "markdown",
      "source": [
        "## 22-23"
      ],
      "metadata": {
        "id": "bGZKvl6HN-HS"
      }
    },
    {
      "cell_type": "code",
      "source": [
        "model, accuracy = train_nested_if_else(X, y, split_col=1, feature_names=feature_names)\n",
        "print(model)\n",
        "print(f\"\\n이 구문의 정확도는 {100 * accuracy:.0f}% 입니다\")"
      ],
      "metadata": {
        "colab": {
          "base_uri": "https://localhost:8080/"
        },
        "id": "R25eczsNN7ty",
        "outputId": "06f0263c-a537-4ef1-95a2-e912906b31c9"
      },
      "execution_count": 34,
      "outputs": [
        {
          "output_type": "stream",
          "name": "stdout",
          "text": [
            "if switch1 == 0:\n",
            "    if switch0 == 0:\n",
            "        prediction = 0\n",
            "    else:\n",
            "        prediction = 1\n",
            "else:\n",
            "    if switch0 == 0:\n",
            "        prediction = 1\n",
            "    else:\n",
            "        prediction = 0\n",
            "\n",
            "이 구문의 정확도는 100% 입니다\n"
          ]
        }
      ]
    },
    {
      "cell_type": "markdown",
      "source": [
        "## 22-24"
      ],
      "metadata": {
        "id": "yQcT5dQGOBIx"
      }
    },
    {
      "cell_type": "code",
      "source": [
        "np.random.seed(1)\n",
        "y_rain = np.random.binomial(1, 0.6, size=100)\n",
        "is_wet = [e if np.random.binomial(1, 0.95) else 1 - e for e in y_rain]\n",
        "is_fall = [e if np.random.binomial(1, 0.6) else 1 - e for e in y_rain]\n",
        "X_rain = np.array([is_fall, is_wet]).T"
      ],
      "metadata": {
        "id": "TsDjCUm1N_Hi"
      },
      "execution_count": 35,
      "outputs": []
    },
    {
      "cell_type": "markdown",
      "source": [
        "## 22-25"
      ],
      "metadata": {
        "id": "igpcFaeSOD2d"
      }
    },
    {
      "cell_type": "code",
      "source": [
        "feature_names = ['is_autumn', 'is_wet']\n",
        "model, accuracy = train_nested_if_else(X_rain, y_rain, feature_names=feature_names)\n",
        "print(model)\n",
        "print(f\"\\n이 구문의 정확도는 {100 * accuracy:.0f}% 입니다\")"
      ],
      "metadata": {
        "colab": {
          "base_uri": "https://localhost:8080/"
        },
        "id": "3W-2BaykOCJk",
        "outputId": "44f8cf5a-dd09-4c93-9156-acc5e8773da2"
      },
      "execution_count": 36,
      "outputs": [
        {
          "output_type": "stream",
          "name": "stdout",
          "text": [
            "if is_autumn == 0:\n",
            "    if is_wet == 0:\n",
            "        prediction = 0\n",
            "    else:\n",
            "        prediction = 1\n",
            "else:\n",
            "    if is_wet == 0:\n",
            "        prediction = 0\n",
            "    else:\n",
            "        prediction = 1\n",
            "\n",
            "이 구문의 정확도는 95% 입니다\n"
          ]
        }
      ]
    },
    {
      "cell_type": "markdown",
      "source": [
        "## 22-26"
      ],
      "metadata": {
        "id": "gev15O0xOGkN"
      }
    },
    {
      "cell_type": "code",
      "source": [
        "model, accuracy = train_nested_if_else(X_rain, y_rain, split_col=1,\n",
        "                                   feature_names=feature_names)\n",
        "print(model)\n",
        "print(f\"\\n이 구문의 정확도는 {100 * accuracy:.0f}% 입니다\")"
      ],
      "metadata": {
        "colab": {
          "base_uri": "https://localhost:8080/"
        },
        "id": "rGmHraX-OE4Z",
        "outputId": "ed742679-e065-4b39-a12d-af77cccd18d7"
      },
      "execution_count": 37,
      "outputs": [
        {
          "output_type": "stream",
          "name": "stdout",
          "text": [
            "if is_wet == 0:\n",
            "    prediction = 0\n",
            "else:\n",
            "    prediction = 1\n",
            "\n",
            "이 구문의 정확도는 95% 입니다\n"
          ]
        }
      ]
    },
    {
      "cell_type": "markdown",
      "source": [
        "## 22-27"
      ],
      "metadata": {
        "id": "CKl3vX1BOI_n"
      }
    },
    {
      "cell_type": "code",
      "source": [
        "prob_rain = y_rain.sum() / y_rain.size\n",
        "print(f\"관측 중 {100 * prob_rain:.0f}%의 확률로 비가 옵니다\")"
      ],
      "metadata": {
        "colab": {
          "base_uri": "https://localhost:8080/"
        },
        "id": "ynLAN42EOHiH",
        "outputId": "9bb4805c-4088-4701-d4b6-4c8143aa1bff"
      },
      "execution_count": 38,
      "outputs": [
        {
          "output_type": "stream",
          "name": "stdout",
          "text": [
            "관측 중 61%의 확률로 비가 옵니다\n"
          ]
        }
      ]
    },
    {
      "cell_type": "markdown",
      "source": [
        "## 22-28"
      ],
      "metadata": {
        "id": "OT6dz0K0ONxQ"
      }
    },
    {
      "cell_type": "code",
      "source": [
        "y_fall_a, y_fall_b = split(X_rain, y_rain, feature_col=0)[-2:]\n",
        "for i, y_fall in enumerate([y_fall_a, y_fall_b]):\n",
        "    prob_rain = y_fall.sum() / y_fall.size\n",
        "    state = ['가을이 아님', '가을'][i]\n",
        "    print(f\"{state}일 때 비가 올 확률은 {100 * prob_rain:.0f}% 입니다\")"
      ],
      "metadata": {
        "colab": {
          "base_uri": "https://localhost:8080/"
        },
        "id": "rD6RpnDAOKOT",
        "outputId": "ab35c324-28a7-40cb-8b96-1b68b388ee2a"
      },
      "execution_count": 39,
      "outputs": [
        {
          "output_type": "stream",
          "name": "stdout",
          "text": [
            "가을이 아님일 때 비가 올 확률은 55% 입니다\n",
            "가을일 때 비가 올 확률은 66% 입니다\n"
          ]
        }
      ]
    },
    {
      "cell_type": "markdown",
      "source": [
        "## 22-29"
      ],
      "metadata": {
        "id": "xB_GRmmAOZQB"
      }
    },
    {
      "cell_type": "code",
      "source": [
        "y_wet_a, y_wet_b = split(X_rain, y_rain, feature_col=1)[-2:]\n",
        "for i, y_wet in enumerate([y_wet_a, y_wet_b]):\n",
        "    prob_rain = y_wet.sum() / y_wet.size\n",
        "    state = ['젖음이 아님', '젖음'][i]\n",
        "    print(f\"{state}일 때 비가 올 확률은 {100 * prob_rain:.0f}% 입니다\")"
      ],
      "metadata": {
        "colab": {
          "base_uri": "https://localhost:8080/"
        },
        "id": "RqyQvMLyOS6X",
        "outputId": "0ea56178-c078-4b48-bf13-807b36d9b9d8"
      },
      "execution_count": 40,
      "outputs": [
        {
          "output_type": "stream",
          "name": "stdout",
          "text": [
            "젖음이 아님일 때 비가 올 확률은 10% 입니다\n",
            "젖음일 때 비가 올 확률은 98% 입니다\n"
          ]
        }
      ]
    },
    {
      "cell_type": "markdown",
      "source": [
        "## 22-30"
      ],
      "metadata": {
        "id": "02x3AtCwOkzx"
      }
    },
    {
      "cell_type": "code",
      "source": [
        "import matplotlib.pyplot as plt\n",
        "\n",
        "# x축 데이터 (비가 오지 않을 확률)\n",
        "x = [0, 0.35]\n",
        "\n",
        "# y축 데이터 (비가 올 확률)\n",
        "y = [0, 0.65]\n",
        "\n",
        "# 그래프 그리기\n",
        "plt.plot(x, y, color='gray', label='가을')\n",
        "\n",
        "# 축 라벨 설정\n",
        "plt.xlabel('비가오지 않을 확률')\n",
        "plt.ylabel('비가 올 확률')\n",
        "\n",
        "# 범례 표시\n",
        "plt.legend()\n",
        "\n",
        "# 그래프 보이기\n",
        "plt.show()"
      ],
      "metadata": {
        "colab": {
          "base_uri": "https://localhost:8080/",
          "height": 473
        },
        "id": "Ak4DMwWKO55C",
        "outputId": "261c44e5-84d9-4b04-bdfd-37a75fadbb4d"
      },
      "execution_count": 42,
      "outputs": [
        {
          "output_type": "display_data",
          "data": {
            "text/plain": [
              "<Figure size 640x480 with 1 Axes>"
            ],
            "image/png": "[encoded data removed]"
          },
          "metadata": {}
        }
      ]
    },
    {
      "cell_type": "code",
      "source": [
        "def get_class_distribution(y):\n",
        "    prob_rain = y.sum() / y.size\n",
        "    return np.array([1 - prob_rain, prob_rain])\n",
        "\n",
        "def plot_vector(v, label, linestyle='-', color='b'):\n",
        "    plt.plot([0, v[0]], [0, v[1]], label=label, linestyle=linestyle, c=color)\n",
        "\n",
        "classes = [y_fall_a, y_fall_b, y_wet_a, y_wet_b]\n",
        "distributions = [get_class_distribution(y) for y in classes]\n",
        "labels = ['가을이 아님', '가을', '젖지 않음', '젖음']\n",
        "colors = ['y', 'g', 'k', 'b']\n",
        "linestyles = ['-.', ':', '-', '--']\n",
        "for tup in zip(distributions, labels, colors, linestyles):\n",
        "    vector, label, color, linestyle = tup\n",
        "    plot_vector(vector, label, linestyle=linestyle, color=color)\n",
        "\n",
        "plt.legend()\n",
        "plt.xlabel('비가오지 않을 확률')\n",
        "plt.ylabel('비가 올 확률')\n",
        "plt.axis('equal')\n",
        "plt.show()"
      ],
      "metadata": {
        "colab": {
          "base_uri": "https://localhost:8080/",
          "height": 473
        },
        "id": "lXEvaDVhOdeD",
        "outputId": "5782a8b1-774d-47a3-86c2-f3501021e7cc"
      },
      "execution_count": 41,
      "outputs": [
        {
          "output_type": "display_data",
          "data": {
            "text/plain": [
              "<Figure size 640x480 with 1 Axes>"
            ],
            "image/png": "[encoded data removed]"
          },
          "metadata": {}
        }
      ]
    },
    {
      "cell_type": "markdown",
      "source": [
        "## 22-31"
      ],
      "metadata": {
        "id": "2pCF3iDtPD1J"
      }
    },
    {
      "cell_type": "code",
      "source": [
        "prob_rain = np.arange(0, 1.001, 0.01)\n",
        "vectors = [np.array([1 - p, p]) for p in prob_rain]\n",
        "magnitudes = [np.linalg.norm(v) for v in vectors]\n",
        "square_magnitudes = [v @ v for v in vectors]\n",
        "plt.plot(prob_rain, magnitudes, label='크기')\n",
        "plt.plot(prob_rain, square_magnitudes, label='크기의 제곱', linestyle='--')\n",
        "plt.xlabel('비가 올 확률')\n",
        "plt.axvline(0.5, color='k', label='완벽한 균형', linestyle=':')\n",
        "plt.legend()\n",
        "plt.show()"
      ],
      "metadata": {
        "colab": {
          "base_uri": "https://localhost:8080/",
          "height": 473
        },
        "id": "8MgeWn_JOmaa",
        "outputId": "3a727ba9-146a-466e-890b-f331f611fe12"
      },
      "execution_count": 43,
      "outputs": [
        {
          "output_type": "display_data",
          "data": {
            "text/plain": [
              "<Figure size 640x480 with 1 Axes>"
            ],
            "image/png": "[encoded data removed]"
          },
          "metadata": {}
        }
      ]
    },
    {
      "cell_type": "markdown",
      "source": [
        "## 22-32"
      ],
      "metadata": {
        "id": "nejtrRtuPIUK"
      }
    },
    {
      "cell_type": "code",
      "source": [
        "gini_impurities = [1 - (v @ v) for v in vectors]\n",
        "plt.plot(prob_rain, gini_impurities)\n",
        "plt.xlabel('비가 올 확률')\n",
        "plt.ylabel('지니 불순도')\n",
        "plt.show()"
      ],
      "metadata": {
        "colab": {
          "base_uri": "https://localhost:8080/",
          "height": 473
        },
        "id": "2AP02clPPFcz",
        "outputId": "196a71b4-2be2-4ed5-8d7e-d84707b0a3db"
      },
      "execution_count": 44,
      "outputs": [
        {
          "output_type": "display_data",
          "data": {
            "text/plain": [
              "<Figure size 640x480 with 1 Axes>"
            ],
            "image/png": "[encoded data removed]"
          },
          "metadata": {}
        }
      ]
    },
    {
      "cell_type": "markdown",
      "source": [
        "## 22-33"
      ],
      "metadata": {
        "id": "-viefe5TPMkC"
      }
    },
    {
      "cell_type": "code",
      "source": [
        "def compute_impurity(y_a, y_b):\n",
        "    v_a = get_class_distribution(y_a)\n",
        "    v_b = get_class_distribution(y_b)\n",
        "    impurities = [1 - v @ v for v in [v_a, v_b]]\n",
        "    weights = [len(y), len(y_b)]\n",
        "    return np.average(impurities, weights=weights)\n",
        "\n",
        "fall_impurity = compute_impurity(y_fall_a, y_fall_b)\n",
        "wet_impurity = compute_impurity(y_wet_a, y_wet_b)\n",
        "print(f\"가을로 분할하는 경우, 불순도는 {fall_impurity:0.2f} 입니다\")\n",
        "print(f\"젖음으로 분할하는 경우, 불순도는 {wet_impurity:0.2f} 입니다\")\n"
      ],
      "metadata": {
        "colab": {
          "base_uri": "https://localhost:8080/"
        },
        "id": "9HJY3IgXPJY7",
        "outputId": "c42a2390-bd4f-488a-e1df-0bb87874c541"
      },
      "execution_count": 46,
      "outputs": [
        {
          "output_type": "stream",
          "name": "stdout",
          "text": [
            "가을로 분할하는 경우, 불순도는 0.45 입니다\n",
            "젖음으로 분할하는 경우, 불순도는 0.04 입니다\n"
          ]
        }
      ]
    },
    {
      "cell_type": "markdown",
      "source": [
        "## 22-34"
      ],
      "metadata": {
        "id": "mMxo8H1rPdoM"
      }
    },
    {
      "cell_type": "code",
      "source": [
        "def sort_feature_indices(X, y):\n",
        "    feature_indices = range(X.shape[1])\n",
        "    impurities = []\n",
        "\n",
        "    for i in feature_indices:\n",
        "        y_a, y_b = split(X, y, feature_col=i)[-2:]\n",
        "        impurities.append(compute_impurity(y_a, y_b))\n",
        "\n",
        "    return sorted(feature_indices, key=lambda i: impurities[i])\n",
        "\n",
        "indices = sort_feature_indices(X_rain, y_rain)\n",
        "top_feature = feature_names[indices[0]]\n",
        "print(f\"불순도가 가장 낮은 특징: '{top_feature}'\")"
      ],
      "metadata": {
        "colab": {
          "base_uri": "https://localhost:8080/"
        },
        "id": "2a58BZNtPODq",
        "outputId": "fc3c20ce-4624-459c-c94e-03ee45cd78b3"
      },
      "execution_count": 47,
      "outputs": [
        {
          "output_type": "stream",
          "name": "stdout",
          "text": [
            "불순도가 가장 낮은 특징: 'is_wet'\n"
          ]
        }
      ]
    },
    {
      "cell_type": "markdown",
      "source": [
        "## 22-35"
      ],
      "metadata": {
        "id": "fubENIU-Pi91"
      }
    },
    {
      "cell_type": "code",
      "source": [
        "np.random.seed(0)\n",
        "def simulate_weather():\n",
        "    is_fall = np.random.binomial(1, 0.25)\n",
        "    is_cloudy = np.random.binomial(1, [0.3, 0.7][is_fall])\n",
        "    rained_today = np.random.binomial(1, [0.05, 0.4][is_cloudy])\n",
        "    if rained_today:\n",
        "        rains_tomorrow = np.random.binomial(1, 0.5)\n",
        "    else:\n",
        "        rains_tomorrow = np.random.binomial(1, [0.05, 0.15][is_fall])\n",
        "\n",
        "    features = [rained_today, is_cloudy, is_fall]\n",
        "    return features, rains_tomorrow\n",
        "\n",
        "X_rain, y_rain = [], []\n",
        "for _ in range(1000):\n",
        "    features, rains_tomorrow = simulate_weather()\n",
        "    X_rain.append(features)\n",
        "    y_rain.append(rains_tomorrow)\n",
        "\n",
        "X_rain, y_rain = np.array(X_rain), np.array(y_rain)"
      ],
      "metadata": {
        "id": "ZWkc0_1hPesI"
      },
      "execution_count": 48,
      "outputs": []
    },
    {
      "cell_type": "markdown",
      "source": [
        "## 22-36"
      ],
      "metadata": {
        "id": "ntDQnTyJPll4"
      }
    },
    {
      "cell_type": "code",
      "source": [
        "feature_names = ['rained_today', 'is_cloudy', 'is_fall']\n",
        "indices = sort_feature_indices(X_rain, y_rain)\n",
        "print(f\"지니 불순도에 따라 정렬된 특징들\")\n",
        "print([feature_names[i] for i in indices])"
      ],
      "metadata": {
        "colab": {
          "base_uri": "https://localhost:8080/"
        },
        "id": "cfRnQEFBPj7P",
        "outputId": "11609843-563f-4c18-e5b9-a1ac2192be91"
      },
      "execution_count": 49,
      "outputs": [
        {
          "output_type": "stream",
          "name": "stdout",
          "text": [
            "지니 불순도에 따라 정렬된 특징들\n",
            "['is_fall', 'is_cloudy', 'rained_today']\n"
          ]
        }
      ]
    },
    {
      "cell_type": "markdown",
      "source": [
        "## 22-37"
      ],
      "metadata": {
        "id": "mif8W183PpWE"
      }
    },
    {
      "cell_type": "code",
      "source": [
        "skip_index = indices[-1]\n",
        "X_subset = np.delete(X_rain, skip_index, axis=1)\n",
        "name_subset = np.delete(feature_names, skip_index)\n",
        "split_col = indices[0] if indices[0] < skip_index else indices[0] - 1\n",
        "model, accuracy = train_nested_if_else(X_subset, y_rain,\n",
        "                                   split_col=split_col,\n",
        "                                   feature_names=name_subset)\n",
        "print(model)\n",
        "print(f\"\\n이 구문의 정확도는 {100 * accuracy:.0f}% 입니다\")"
      ],
      "metadata": {
        "colab": {
          "base_uri": "https://localhost:8080/"
        },
        "id": "tQ_wmLk2Pmy4",
        "outputId": "639d3c6e-fded-48e7-b701-9813e4f1e941"
      },
      "execution_count": 50,
      "outputs": [
        {
          "output_type": "stream",
          "name": "stdout",
          "text": [
            "prediction = 0\n",
            "\n",
            "이 구문의 정확도는 74% 입니다\n"
          ]
        }
      ]
    },
    {
      "cell_type": "markdown",
      "source": [
        "## 22-38"
      ],
      "metadata": {
        "id": "7xB6vYq8PsbV"
      }
    },
    {
      "cell_type": "code",
      "source": [
        "X_a, X_b, y_a, y_b = split(X_rain, y_rain, feature_col=indices[0])"
      ],
      "metadata": {
        "id": "fF6bTyn1PqZt"
      },
      "execution_count": 51,
      "outputs": []
    },
    {
      "cell_type": "markdown",
      "source": [
        "## 22-39"
      ],
      "metadata": {
        "id": "JCYoQ29rPurh"
      }
    },
    {
      "cell_type": "code",
      "source": [
        "name_subset = np.delete(feature_names, indices[0])\n",
        "split_col = sort_feature_indices(X_a, y_a)[0]\n",
        "model_a, accuracy_a = train_nested_if_else(X_a, y_a,\n",
        "                                       split_col=split_col,\n",
        "                                       feature_names=name_subset)\n",
        "print(\"가을이 아닌 경우, 중첩된 모델의 정확도는 \"\n",
        "     f\"{100 * accuracy_a:.0f}% 입니다\\n\\n{model_a}\")"
      ],
      "metadata": {
        "colab": {
          "base_uri": "https://localhost:8080/"
        },
        "id": "Dplaxg2fPtky",
        "outputId": "9d10659c-45af-4fea-dfca-95673bbae563"
      },
      "execution_count": 52,
      "outputs": [
        {
          "output_type": "stream",
          "name": "stdout",
          "text": [
            "가을이 아닌 경우, 중첩된 모델의 정확도는 88% 입니다\n",
            "\n",
            "if is_cloudy == 0:\n",
            "    prediction = 0\n",
            "else:\n",
            "    if rained_today == 0:\n",
            "        prediction = 0\n",
            "    else:\n",
            "        prediction = 1\n"
          ]
        }
      ]
    },
    {
      "cell_type": "markdown",
      "source": [
        "## 22-40"
      ],
      "metadata": {
        "id": "g3y8Mhs3PyO9"
      }
    },
    {
      "cell_type": "code",
      "source": [
        "split_col = sort_feature_indices(X_b, y_b)[0]\n",
        "model_b, accuracy_b = train_nested_if_else(X_b, y_b,\n",
        "                                       split_col=split_col,\n",
        "                                       feature_names=name_subset)\n",
        "print(\"가을인 경우, 중첩된 모델의 정확도는 \"\n",
        "     f\"{100 * accuracy_a:.0f}% 입니다\\n\\n{model_a}\")"
      ],
      "metadata": {
        "colab": {
          "base_uri": "https://localhost:8080/"
        },
        "id": "MP66n35APv2E",
        "outputId": "605b13fb-22a9-4354-e131-2611ac84699a"
      },
      "execution_count": 53,
      "outputs": [
        {
          "output_type": "stream",
          "name": "stdout",
          "text": [
            "가을인 경우, 중첩된 모델의 정확도는 88% 입니다\n",
            "\n",
            "if is_cloudy == 0:\n",
            "    prediction = 0\n",
            "else:\n",
            "    if rained_today == 0:\n",
            "        prediction = 0\n",
            "    else:\n",
            "        prediction = 1\n"
          ]
        }
      ]
    },
    {
      "cell_type": "markdown",
      "source": [
        "## 22-41"
      ],
      "metadata": {
        "id": "XgoLfBPgP1f6"
      }
    },
    {
      "cell_type": "code",
      "source": [
        "nested_model = combine_if_else(model_a, model_b, feature_names[indices[0]])\n",
        "print(nested_model)\n",
        "accuracies = [accuracy_a, accuracy_b]\n",
        "accuracy = np.average(accuracies, weights=[y_a.size, y_b.size])\n",
        "print(f\"\\n이 구분의 정확도는 {100 * accuracy:.0f}% 입니다\")"
      ],
      "metadata": {
        "colab": {
          "base_uri": "https://localhost:8080/"
        },
        "id": "B1_qUUVXPzhm",
        "outputId": "bafbb46e-0112-41da-8770-661d2f97a178"
      },
      "execution_count": 54,
      "outputs": [
        {
          "output_type": "stream",
          "name": "stdout",
          "text": [
            "if is_fall == 0:\n",
            "    if is_cloudy == 0:\n",
            "        prediction = 0\n",
            "    else:\n",
            "        if rained_today == 0:\n",
            "            prediction = 0\n",
            "        else:\n",
            "            prediction = 1\n",
            "else:\n",
            "    if is_cloudy == 0:\n",
            "        prediction = 0\n",
            "    else:\n",
            "        if rained_today == 0:\n",
            "            prediction = 0\n",
            "        else:\n",
            "            prediction = 1\n",
            "\n",
            "이 구분의 정확도는 85% 입니다\n"
          ]
        }
      ]
    },
    {
      "cell_type": "markdown",
      "source": [
        "## 22-42"
      ],
      "metadata": {
        "id": "yexj9IMVP5kK"
      }
    },
    {
      "cell_type": "code",
      "source": [
        "def train(X, y, feature_names):\n",
        "    if X.shape[1] == 1:\n",
        "        return train_if_else(X, y, feature_name=feature_names[0])\n",
        "\n",
        "    indices = sort_feature_indices(X, y)\n",
        "    X_subset = np.delete(X, indices[-1], axis=1)\n",
        "    name_subset = np.delete(feature_names, indices[-1])\n",
        "    simple_model, simple_accuracy = train(X_subset, y, name_subset)\n",
        "    if simple_accuracy == 1.0:\n",
        "        return (simple_model, simple_accuracy)\n",
        "\n",
        "    split_col = indices[0]\n",
        "    name_subset = np.delete(feature_names, split_col)\n",
        "    X_a, X_b, y_a, y_b = split(X, y, feature_col=split_col)\n",
        "    model_a, accuracy_a = train(X_a, y_a, name_subset)\n",
        "    model_b, accuracy_b = train(X_b, y_b, name_subset)\n",
        "    accuracies = [accuracy_a, accuracy_b]\n",
        "    total_accuracy = np.average(accuracies, weights=[y_a.size, y_b.size])\n",
        "    nested_model = combine_if_else(model_a, model_b, feature_names[split_col])\n",
        "    if total_accuracy > simple_accuracy:\n",
        "        return (nested_model, total_accuracy)\n",
        "\n",
        "    return (simple_model, simple_accuracy)\n",
        "\n",
        "model, accuracy = train(X_rain, y_rain, feature_names)\n",
        "print(model)\n",
        "print(f\"\\n이 구문의 정확도는 {100 * accuracy:.0f}% 입니다\")"
      ],
      "metadata": {
        "colab": {
          "base_uri": "https://localhost:8080/"
        },
        "id": "BaqXVnYNP2fT",
        "outputId": "996b4885-f874-4819-ece2-c74aa7965335"
      },
      "execution_count": 55,
      "outputs": [
        {
          "output_type": "stream",
          "name": "stdout",
          "text": [
            "if is_fall == 0:\n",
            "    if is_cloudy == 0:\n",
            "        prediction = 0\n",
            "    else:\n",
            "        if rained_today == 0:\n",
            "            prediction = 0\n",
            "        else:\n",
            "            prediction = 1\n",
            "else:\n",
            "    if is_cloudy == 0:\n",
            "        prediction = 0\n",
            "    else:\n",
            "        if rained_today == 0:\n",
            "            prediction = 0\n",
            "        else:\n",
            "            prediction = 1\n",
            "\n",
            "이 구문의 정확도는 85% 입니다\n"
          ]
        }
      ]
    },
    {
      "cell_type": "markdown",
      "source": [
        "## 22-43"
      ],
      "metadata": {
        "id": "AeoHxCawP-Tb"
      }
    },
    {
      "cell_type": "code",
      "source": [
        "from sklearn.tree import DecisionTreeClassifier"
      ],
      "metadata": {
        "id": "dbxvOxobP6mP"
      },
      "execution_count": 56,
      "outputs": []
    },
    {
      "cell_type": "markdown",
      "source": [
        "## 22-44"
      ],
      "metadata": {
        "id": "szILoWipQAeU"
      }
    },
    {
      "cell_type": "code",
      "source": [
        "X = np.array([[0, 0], [1, 0], [0, 1], [1, 1]])\n",
        "y = (X[:,0] + X[:,1] == 1).astype(int)\n",
        "\n",
        "clf = DecisionTreeClassifier()\n",
        "clf.fit(X, y)"
      ],
      "metadata": {
        "colab": {
          "base_uri": "https://localhost:8080/",
          "height": 80
        },
        "id": "OtUXfx4PQAB4",
        "outputId": "846cd515-f373-4269-d69b-7888a756a4ce"
      },
      "execution_count": 69,
      "outputs": [
        {
          "output_type": "execute_result",
          "data": {
            "text/plain": [
              "DecisionTreeClassifier()"
            ],
            "text/html": [
              "<style>#sk-container-id-2 {\n",
              "  /* Definition of color scheme common for light and dark mode */\n",
              "  --sklearn-color-text: black;\n",
              "  --sklearn-color-line: gray;\n",
              "  /* Definition of color scheme for unfitted estimators */\n",
              "  --sklearn-color-unfitted-level-0: #fff5e6;\n",
              "  --sklearn-color-unfitted-level-1: #f6e4d2;\n",
              "  --sklearn-color-unfitted-level-2: #ffe0b3;\n",
              "  --sklearn-color-unfitted-level-3: chocolate;\n",
              "  /* Definition of color scheme for fitted estimators */\n",
              "  --sklearn-color-fitted-level-0: #f0f8ff;\n",
              "  --sklearn-color-fitted-level-1: #d4ebff;\n",
              "  --sklearn-color-fitted-level-2: #b3dbfd;\n",
              "  --sklearn-color-fitted-level-3: cornflowerblue;\n",
              "\n",
              "  /* Specific color for light theme */\n",
              "  --sklearn-color-text-on-default-background: var(--sg-text-color, var(--theme-code-foreground, var(--jp-content-font-color1, black)));\n",
              "  --sklearn-color-background: var(--sg-background-color, var(--theme-background, var(--jp-layout-color0, white)));\n",
              "  --sklearn-color-border-box: var(--sg-text-color, var(--theme-code-foreground, var(--jp-content-font-color1, black)));\n",
              "  --sklearn-color-icon: #696969;\n",
              "\n",
              "  @media (prefers-color-scheme: dark) {\n",
              "    /* Redefinition of color scheme for dark theme */\n",
              "    --sklearn-color-text-on-default-background: var(--sg-text-color, var(--theme-code-foreground, var(--jp-content-font-color1, white)));\n",
              "    --sklearn-color-background: var(--sg-background-color, var(--theme-background, var(--jp-layout-color0, #111)));\n",
              "    --sklearn-color-border-box: var(--sg-text-color, var(--theme-code-foreground, var(--jp-content-font-color1, white)));\n",
              "    --sklearn-color-icon: #878787;\n",
              "  }\n",
              "}\n",
              "\n",
              "#sk-container-id-2 {\n",
              "  color: var(--sklearn-color-text);\n",
              "}\n",
              "\n",
              "#sk-container-id-2 pre {\n",
              "  padding: 0;\n",
              "}\n",
              "\n",
              "#sk-container-id-2 input.sk-hidden--visually {\n",
              "  border: 0;\n",
              "  clip: rect(1px 1px 1px 1px);\n",
              "  clip: rect(1px, 1px, 1px, 1px);\n",
              "  height: 1px;\n",
              "  margin: -1px;\n",
              "  overflow: hidden;\n",
              "  padding: 0;\n",
              "  position: absolute;\n",
              "  width: 1px;\n",
              "}\n",
              "\n",
              "#sk-container-id-2 div.sk-dashed-wrapped {\n",
              "  border: 1px dashed var(--sklearn-color-line);\n",
              "  margin: 0 0.4em 0.5em 0.4em;\n",
              "  box-sizing: border-box;\n",
              "  padding-bottom: 0.4em;\n",
              "  background-color: var(--sklearn-color-background);\n",
              "}\n",
              "\n",
              "#sk-container-id-2 div.sk-container {\n",
              "  /* jupyter's `normalize.less` sets `[hidden] { display: none; }`\n",
              "     but bootstrap.min.css set `[hidden] { display: none !important; }`\n",
              "     so we also need the `!important` here to be able to override the\n",
              "     default hidden behavior on the sphinx rendered scikit-learn.org.\n",
              "     See: https://github.com/scikit-learn/scikit-learn/issues/21755 */\n",
              "  display: inline-block !important;\n",
              "  position: relative;\n",
              "}\n",
              "\n",
              "#sk-container-id-2 div.sk-text-repr-fallback {\n",
              "  display: none;\n",
              "}\n",
              "\n",
              "div.sk-parallel-item,\n",
              "div.sk-serial,\n",
              "div.sk-item {\n",
              "  /* draw centered vertical line to link estimators */\n",
              "  background-image: linear-gradient(var(--sklearn-color-text-on-default-background), var(--sklearn-color-text-on-default-background));\n",
              "  background-size: 2px 100%;\n",
              "  background-repeat: no-repeat;\n",
              "  background-position: center center;\n",
              "}\n",
              "\n",
              "/* Parallel-specific style estimator block */\n",
              "\n",
              "#sk-container-id-2 div.sk-parallel-item::after {\n",
              "  content: \"\";\n",
              "  width: 100%;\n",
              "  border-bottom: 2px solid var(--sklearn-color-text-on-default-background);\n",
              "  flex-grow: 1;\n",
              "}\n",
              "\n",
              "#sk-container-id-2 div.sk-parallel {\n",
              "  display: flex;\n",
              "  align-items: stretch;\n",
              "  justify-content: center;\n",
              "  background-color: var(--sklearn-color-background);\n",
              "  position: relative;\n",
              "}\n",
              "\n",
              "#sk-container-id-2 div.sk-parallel-item {\n",
              "  display: flex;\n",
              "  flex-direction: column;\n",
              "}\n",
              "\n",
              "#sk-container-id-2 div.sk-parallel-item:first-child::after {\n",
              "  align-self: flex-end;\n",
              "  width: 50%;\n",
              "}\n",
              "\n",
              "#sk-container-id-2 div.sk-parallel-item:last-child::after {\n",
              "  align-self: flex-start;\n",
              "  width: 50%;\n",
              "}\n",
              "\n",
              "#sk-container-id-2 div.sk-parallel-item:only-child::after {\n",
              "  width: 0;\n",
              "}\n",
              "\n",
              "/* Serial-specific style estimator block */\n",
              "\n",
              "#sk-container-id-2 div.sk-serial {\n",
              "  display: flex;\n",
              "  flex-direction: column;\n",
              "  align-items: center;\n",
              "  background-color: var(--sklearn-color-background);\n",
              "  padding-right: 1em;\n",
              "  padding-left: 1em;\n",
              "}\n",
              "\n",
              "\n",
              "/* Toggleable style: style used for estimator/Pipeline/ColumnTransformer box that is\n",
              "clickable and can be expanded/collapsed.\n",
              "- Pipeline and ColumnTransformer use this feature and define the default style\n",
              "- Estimators will overwrite some part of the style using the `sk-estimator` class\n",
              "*/\n",
              "\n",
              "/* Pipeline and ColumnTransformer style (default) */\n",
              "\n",
              "#sk-container-id-2 div.sk-toggleable {\n",
              "  /* Default theme specific background. It is overwritten whether we have a\n",
              "  specific estimator or a Pipeline/ColumnTransformer */\n",
              "  background-color: var(--sklearn-color-background);\n",
              "}\n",
              "\n",
              "/* Toggleable label */\n",
              "#sk-container-id-2 label.sk-toggleable__label {\n",
              "  cursor: pointer;\n",
              "  display: block;\n",
              "  width: 100%;\n",
              "  margin-bottom: 0;\n",
              "  padding: 0.5em;\n",
              "  box-sizing: border-box;\n",
              "  text-align: center;\n",
              "}\n",
              "\n",
              "#sk-container-id-2 label.sk-toggleable__label-arrow:before {\n",
              "  /* Arrow on the left of the label */\n",
              "  content: \"▸\";\n",
              "  float: left;\n",
              "  margin-right: 0.25em;\n",
              "  color: var(--sklearn-color-icon);\n",
              "}\n",
              "\n",
              "#sk-container-id-2 label.sk-toggleable__label-arrow:hover:before {\n",
              "  color: var(--sklearn-color-text);\n",
              "}\n",
              "\n",
              "/* Toggleable content - dropdown */\n",
              "\n",
              "#sk-container-id-2 div.sk-toggleable__content {\n",
              "  max-height: 0;\n",
              "  max-width: 0;\n",
              "  overflow: hidden;\n",
              "  text-align: left;\n",
              "  /* unfitted */\n",
              "  background-color: var(--sklearn-color-unfitted-level-0);\n",
              "}\n",
              "\n",
              "#sk-container-id-2 div.sk-toggleable__content.fitted {\n",
              "  /* fitted */\n",
              "  background-color: var(--sklearn-color-fitted-level-0);\n",
              "}\n",
              "\n",
              "#sk-container-id-2 div.sk-toggleable__content pre {\n",
              "  margin: 0.2em;\n",
              "  border-radius: 0.25em;\n",
              "  color: var(--sklearn-color-text);\n",
              "  /* unfitted */\n",
              "  background-color: var(--sklearn-color-unfitted-level-0);\n",
              "}\n",
              "\n",
              "#sk-container-id-2 div.sk-toggleable__content.fitted pre {\n",
              "  /* unfitted */\n",
              "  background-color: var(--sklearn-color-fitted-level-0);\n",
              "}\n",
              "\n",
              "#sk-container-id-2 input.sk-toggleable__control:checked~div.sk-toggleable__content {\n",
              "  /* Expand drop-down */\n",
              "  max-height: 200px;\n",
              "  max-width: 100%;\n",
              "  overflow: auto;\n",
              "}\n",
              "\n",
              "#sk-container-id-2 input.sk-toggleable__control:checked~label.sk-toggleable__label-arrow:before {\n",
              "  content: \"▾\";\n",
              "}\n",
              "\n",
              "/* Pipeline/ColumnTransformer-specific style */\n",
              "\n",
              "#sk-container-id-2 div.sk-label input.sk-toggleable__control:checked~label.sk-toggleable__label {\n",
              "  color: var(--sklearn-color-text);\n",
              "  background-color: var(--sklearn-color-unfitted-level-2);\n",
              "}\n",
              "\n",
              "#sk-container-id-2 div.sk-label.fitted input.sk-toggleable__control:checked~label.sk-toggleable__label {\n",
              "  background-color: var(--sklearn-color-fitted-level-2);\n",
              "}\n",
              "\n",
              "/* Estimator-specific style */\n",
              "\n",
              "/* Colorize estimator box */\n",
              "#sk-container-id-2 div.sk-estimator input.sk-toggleable__control:checked~label.sk-toggleable__label {\n",
              "  /* unfitted */\n",
              "  background-color: var(--sklearn-color-unfitted-level-2);\n",
              "}\n",
              "\n",
              "#sk-container-id-2 div.sk-estimator.fitted input.sk-toggleable__control:checked~label.sk-toggleable__label {\n",
              "  /* fitted */\n",
              "  background-color: var(--sklearn-color-fitted-level-2);\n",
              "}\n",
              "\n",
              "#sk-container-id-2 div.sk-label label.sk-toggleable__label,\n",
              "#sk-container-id-2 div.sk-label label {\n",
              "  /* The background is the default theme color */\n",
              "  color: var(--sklearn-color-text-on-default-background);\n",
              "}\n",
              "\n",
              "/* On hover, darken the color of the background */\n",
              "#sk-container-id-2 div.sk-label:hover label.sk-toggleable__label {\n",
              "  color: var(--sklearn-color-text);\n",
              "  background-color: var(--sklearn-color-unfitted-level-2);\n",
              "}\n",
              "\n",
              "/* Label box, darken color on hover, fitted */\n",
              "#sk-container-id-2 div.sk-label.fitted:hover label.sk-toggleable__label.fitted {\n",
              "  color: var(--sklearn-color-text);\n",
              "  background-color: var(--sklearn-color-fitted-level-2);\n",
              "}\n",
              "\n",
              "/* Estimator label */\n",
              "\n",
              "#sk-container-id-2 div.sk-label label {\n",
              "  font-family: monospace;\n",
              "  font-weight: bold;\n",
              "  display: inline-block;\n",
              "  line-height: 1.2em;\n",
              "}\n",
              "\n",
              "#sk-container-id-2 div.sk-label-container {\n",
              "  text-align: center;\n",
              "}\n",
              "\n",
              "/* Estimator-specific */\n",
              "#sk-container-id-2 div.sk-estimator {\n",
              "  font-family: monospace;\n",
              "  border: 1px dotted var(--sklearn-color-border-box);\n",
              "  border-radius: 0.25em;\n",
              "  box-sizing: border-box;\n",
              "  margin-bottom: 0.5em;\n",
              "  /* unfitted */\n",
              "  background-color: var(--sklearn-color-unfitted-level-0);\n",
              "}\n",
              "\n",
              "#sk-container-id-2 div.sk-estimator.fitted {\n",
              "  /* fitted */\n",
              "  background-color: var(--sklearn-color-fitted-level-0);\n",
              "}\n",
              "\n",
              "/* on hover */\n",
              "#sk-container-id-2 div.sk-estimator:hover {\n",
              "  /* unfitted */\n",
              "  background-color: var(--sklearn-color-unfitted-level-2);\n",
              "}\n",
              "\n",
              "#sk-container-id-2 div.sk-estimator.fitted:hover {\n",
              "  /* fitted */\n",
              "  background-color: var(--sklearn-color-fitted-level-2);\n",
              "}\n",
              "\n",
              "/* Specification for estimator info (e.g. \"i\" and \"?\") */\n",
              "\n",
              "/* Common style for \"i\" and \"?\" */\n",
              "\n",
              ".sk-estimator-doc-link,\n",
              "a:link.sk-estimator-doc-link,\n",
              "a:visited.sk-estimator-doc-link {\n",
              "  float: right;\n",
              "  font-size: smaller;\n",
              "  line-height: 1em;\n",
              "  font-family: monospace;\n",
              "  background-color: var(--sklearn-color-background);\n",
              "  border-radius: 1em;\n",
              "  height: 1em;\n",
              "  width: 1em;\n",
              "  text-decoration: none !important;\n",
              "  margin-left: 1ex;\n",
              "  /* unfitted */\n",
              "  border: var(--sklearn-color-unfitted-level-1) 1pt solid;\n",
              "  color: var(--sklearn-color-unfitted-level-1);\n",
              "}\n",
              "\n",
              ".sk-estimator-doc-link.fitted,\n",
              "a:link.sk-estimator-doc-link.fitted,\n",
              "a:visited.sk-estimator-doc-link.fitted {\n",
              "  /* fitted */\n",
              "  border: var(--sklearn-color-fitted-level-1) 1pt solid;\n",
              "  color: var(--sklearn-color-fitted-level-1);\n",
              "}\n",
              "\n",
              "/* On hover */\n",
              "div.sk-estimator:hover .sk-estimator-doc-link:hover,\n",
              ".sk-estimator-doc-link:hover,\n",
              "div.sk-label-container:hover .sk-estimator-doc-link:hover,\n",
              ".sk-estimator-doc-link:hover {\n",
              "  /* unfitted */\n",
              "  background-color: var(--sklearn-color-unfitted-level-3);\n",
              "  color: var(--sklearn-color-background);\n",
              "  text-decoration: none;\n",
              "}\n",
              "\n",
              "div.sk-estimator.fitted:hover .sk-estimator-doc-link.fitted:hover,\n",
              ".sk-estimator-doc-link.fitted:hover,\n",
              "div.sk-label-container:hover .sk-estimator-doc-link.fitted:hover,\n",
              ".sk-estimator-doc-link.fitted:hover {\n",
              "  /* fitted */\n",
              "  background-color: var(--sklearn-color-fitted-level-3);\n",
              "  color: var(--sklearn-color-background);\n",
              "  text-decoration: none;\n",
              "}\n",
              "\n",
              "/* Span, style for the box shown on hovering the info icon */\n",
              ".sk-estimator-doc-link span {\n",
              "  display: none;\n",
              "  z-index: 9999;\n",
              "  position: relative;\n",
              "  font-weight: normal;\n",
              "  right: .2ex;\n",
              "  padding: .5ex;\n",
              "  margin: .5ex;\n",
              "  width: min-content;\n",
              "  min-width: 20ex;\n",
              "  max-width: 50ex;\n",
              "  color: var(--sklearn-color-text);\n",
              "  box-shadow: 2pt 2pt 4pt #999;\n",
              "  /* unfitted */\n",
              "  background: var(--sklearn-color-unfitted-level-0);\n",
              "  border: .5pt solid var(--sklearn-color-unfitted-level-3);\n",
              "}\n",
              "\n",
              ".sk-estimator-doc-link.fitted span {\n",
              "  /* fitted */\n",
              "  background: var(--sklearn-color-fitted-level-0);\n",
              "  border: var(--sklearn-color-fitted-level-3);\n",
              "}\n",
              "\n",
              ".sk-estimator-doc-link:hover span {\n",
              "  display: block;\n",
              "}\n",
              "\n",
              "/* \"?\"-specific style due to the `<a>` HTML tag */\n",
              "\n",
              "#sk-container-id-2 a.estimator_doc_link {\n",
              "  float: right;\n",
              "  font-size: 1rem;\n",
              "  line-height: 1em;\n",
              "  font-family: monospace;\n",
              "  background-color: var(--sklearn-color-background);\n",
              "  border-radius: 1rem;\n",
              "  height: 1rem;\n",
              "  width: 1rem;\n",
              "  text-decoration: none;\n",
              "  /* unfitted */\n",
              "  color: var(--sklearn-color-unfitted-level-1);\n",
              "  border: var(--sklearn-color-unfitted-level-1) 1pt solid;\n",
              "}\n",
              "\n",
              "#sk-container-id-2 a.estimator_doc_link.fitted {\n",
              "  /* fitted */\n",
              "  border: var(--sklearn-color-fitted-level-1) 1pt solid;\n",
              "  color: var(--sklearn-color-fitted-level-1);\n",
              "}\n",
              "\n",
              "/* On hover */\n",
              "#sk-container-id-2 a.estimator_doc_link:hover {\n",
              "  /* unfitted */\n",
              "  background-color: var(--sklearn-color-unfitted-level-3);\n",
              "  color: var(--sklearn-color-background);\n",
              "  text-decoration: none;\n",
              "}\n",
              "\n",
              "#sk-container-id-2 a.estimator_doc_link.fitted:hover {\n",
              "  /* fitted */\n",
              "  background-color: var(--sklearn-color-fitted-level-3);\n",
              "}\n",
              "</style><div id=\"sk-container-id-2\" class=\"sk-top-container\"><div class=\"sk-text-repr-fallback\"><pre>DecisionTreeClassifier()</pre><b>In a Jupyter environment, please rerun this cell to show the HTML representation or trust the notebook. <br />On GitHub, the HTML representation is unable to render, please try loading this page with nbviewer.org.</b></div><div class=\"sk-container\" hidden><div class=\"sk-item\"><div class=\"sk-estimator fitted sk-toggleable\"><input class=\"sk-toggleable__control sk-hidden--visually\" id=\"sk-estimator-id-2\" type=\"checkbox\" checked><label for=\"sk-estimator-id-2\" class=\"sk-toggleable__label fitted sk-toggleable__label-arrow fitted\">&nbsp;&nbsp;DecisionTreeClassifier<a class=\"sk-estimator-doc-link fitted\" rel=\"noreferrer\" target=\"_blank\" href=\"https://scikit-learn.org/1.5/modules/generated/sklearn.tree.DecisionTreeClassifier.html\">?<span>Documentation for DecisionTreeClassifier</span></a><span class=\"sk-estimator-doc-link fitted\">i<span>Fitted</span></span></label><div class=\"sk-toggleable__content fitted\"><pre>DecisionTreeClassifier()</pre></div> </div></div></div></div>"
            ]
          },
          "metadata": {},
          "execution_count": 69
        }
      ]
    },
    {
      "cell_type": "code",
      "source": [
        "from sklearn.tree import plot_tree\n",
        "feature_names = ['스위치0', '스위치1']\n",
        "class_names = ['꺼짐', '켜짐']\n",
        "plot_tree(clf, feature_names=feature_names, class_names=class_names)\n",
        "plt.show()"
      ],
      "metadata": {
        "colab": {
          "base_uri": "https://localhost:8080/",
          "height": 406
        },
        "id": "sM0tLjspQCls",
        "outputId": "9cdda412-3c43-4430-c018-c9e1bf28618b"
      },
      "execution_count": 71,
      "outputs": [
        {
          "output_type": "display_data",
          "data": {
            "text/plain": [
              "<Figure size 640x480 with 1 Axes>"
            ],
            "image/png": "[encoded data removed]"
          },
          "metadata": {}
        }
      ]
    },
    {
      "cell_type": "markdown",
      "source": [
        "## 22-46"
      ],
      "metadata": {
        "id": "QyODBKJERRn7"
      }
    },
    {
      "cell_type": "code",
      "source": [
        "from sklearn.tree import export_text\n",
        "text_tree = export_text(clf, feature_names=feature_names)\n",
        "print(text_tree)"
      ],
      "metadata": {
        "colab": {
          "base_uri": "https://localhost:8080/"
        },
        "id": "Z3qStZn1Q17C",
        "outputId": "42e1a4df-6089-430d-bd9f-303f3ce5097c"
      },
      "execution_count": 72,
      "outputs": [
        {
          "output_type": "stream",
          "name": "stdout",
          "text": [
            "|--- 스위치1 <= 0.50\n",
            "|   |--- 스위치0 <= 0.50\n",
            "|   |   |--- class: 0\n",
            "|   |--- 스위치0 >  0.50\n",
            "|   |   |--- class: 1\n",
            "|--- 스위치1 >  0.50\n",
            "|   |--- 스위치0 <= 0.50\n",
            "|   |   |--- class: 1\n",
            "|   |--- 스위치0 >  0.50\n",
            "|   |   |--- class: 0\n",
            "\n"
          ]
        }
      ]
    },
    {
      "cell_type": "markdown",
      "source": [
        "## 22-47"
      ],
      "metadata": {
        "id": "KSIxNa0wRZ_n"
      }
    },
    {
      "cell_type": "code",
      "source": [
        "np.random.seed(1)\n",
        "feature = np.random.normal(size=1000)\n",
        "y = (feature >= 0.7).astype(int)\n",
        "thresholds = np.arange(0.0, 1, 0.001)\n",
        "gini_impurities = []\n",
        "for thresh in thresholds:\n",
        "    y_a = y[feature <= thresh]\n",
        "    y_b = y[feature >= thresh]\n",
        "    impurity = compute_impurity(y_a, y_b)\n",
        "    gini_impurities.append(impurity)\n",
        "\n",
        "best_thresh = thresholds[np.argmin(gini_impurities)]\n",
        "print(f\"불순도는 임계값이 {best_thresh:.02f}일 때 최소화됩니다\")\n",
        "plt.plot(thresholds, gini_impurities)\n",
        "plt.axvline(best_thresh, c='k', linestyle='--')\n",
        "plt.xlabel('임계값')\n",
        "plt.ylabel('불순도')\n",
        "plt.show()"
      ],
      "metadata": {
        "colab": {
          "base_uri": "https://localhost:8080/",
          "height": 492
        },
        "id": "5UgEbJUoRTWd",
        "outputId": "740bda13-c478-4d2b-f5d5-3563a35b39f3"
      },
      "execution_count": 73,
      "outputs": [
        {
          "output_type": "stream",
          "name": "stdout",
          "text": [
            "불순도는 임계값이 0.70일 때 최소화됩니다\n"
          ]
        },
        {
          "output_type": "display_data",
          "data": {
            "text/plain": [
              "<Figure size 640x480 with 1 Axes>"
            ],
            "image/png": "[encoded data removed]"
          },
          "metadata": {}
        }
      ]
    },
    {
      "cell_type": "markdown",
      "source": [
        "## 22-48"
      ],
      "metadata": {
        "id": "wmaSuTrFRj5U"
      }
    },
    {
      "cell_type": "code",
      "source": [
        "np.random.seed(0)\n",
        "from sklearn.datasets import load_wine\n",
        "X, y = load_wine(return_X_y=True)\n",
        "clf.fit(X, y)\n",
        "feature_names = load_wine().feature_names\n",
        "text_tree = export_text(clf, feature_names=feature_names)\n",
        "print(text_tree)"
      ],
      "metadata": {
        "colab": {
          "base_uri": "https://localhost:8080/"
        },
        "id": "yEEX0YQzRfEE",
        "outputId": "5f4c1f16-39f5-4538-fba5-1f8d22af2543"
      },
      "execution_count": 74,
      "outputs": [
        {
          "output_type": "stream",
          "name": "stdout",
          "text": [
            "|--- proline <= 755.00\n",
            "|   |--- od280/od315_of_diluted_wines <= 2.11\n",
            "|   |   |--- hue <= 0.94\n",
            "|   |   |   |--- flavanoids <= 1.58\n",
            "|   |   |   |   |--- class: 2\n",
            "|   |   |   |--- flavanoids >  1.58\n",
            "|   |   |   |   |--- class: 1\n",
            "|   |   |--- hue >  0.94\n",
            "|   |   |   |--- color_intensity <= 5.82\n",
            "|   |   |   |   |--- class: 1\n",
            "|   |   |   |--- color_intensity >  5.82\n",
            "|   |   |   |   |--- class: 2\n",
            "|   |--- od280/od315_of_diluted_wines >  2.11\n",
            "|   |   |--- flavanoids <= 0.80\n",
            "|   |   |   |--- class: 2\n",
            "|   |   |--- flavanoids >  0.80\n",
            "|   |   |   |--- alcohol <= 13.17\n",
            "|   |   |   |   |--- class: 1\n",
            "|   |   |   |--- alcohol >  13.17\n",
            "|   |   |   |   |--- color_intensity <= 4.06\n",
            "|   |   |   |   |   |--- class: 1\n",
            "|   |   |   |   |--- color_intensity >  4.06\n",
            "|   |   |   |   |   |--- class: 0\n",
            "|--- proline >  755.00\n",
            "|   |--- flavanoids <= 2.17\n",
            "|   |   |--- malic_acid <= 2.08\n",
            "|   |   |   |--- class: 1\n",
            "|   |   |--- malic_acid >  2.08\n",
            "|   |   |   |--- class: 2\n",
            "|   |--- flavanoids >  2.17\n",
            "|   |   |--- magnesium <= 135.50\n",
            "|   |   |   |--- class: 0\n",
            "|   |   |--- magnesium >  135.50\n",
            "|   |   |   |--- class: 1\n",
            "\n"
          ]
        }
      ]
    },
    {
      "cell_type": "markdown",
      "source": [
        "## 22-49"
      ],
      "metadata": {
        "id": "sWwO38xRRpQ6"
      }
    },
    {
      "cell_type": "code",
      "source": [
        "clf = DecisionTreeClassifier(max_depth=2)\n",
        "clf.fit(X, y)\n",
        "text_tree = export_text(clf, feature_names=feature_names)\n",
        "print(text_tree)"
      ],
      "metadata": {
        "colab": {
          "base_uri": "https://localhost:8080/"
        },
        "id": "Y2y0nql6Rk8Y",
        "outputId": "384b587c-2a5f-4f12-c681-99a0838308f7"
      },
      "execution_count": 76,
      "outputs": [
        {
          "output_type": "stream",
          "name": "stdout",
          "text": [
            "|--- proline <= 755.00\n",
            "|   |--- od280/od315_of_diluted_wines <= 2.11\n",
            "|   |   |--- class: 2\n",
            "|   |--- od280/od315_of_diluted_wines >  2.11\n",
            "|   |   |--- class: 1\n",
            "|--- proline >  755.00\n",
            "|   |--- flavanoids <= 2.17\n",
            "|   |   |--- class: 2\n",
            "|   |--- flavanoids >  2.17\n",
            "|   |   |--- class: 0\n",
            "\n"
          ]
        }
      ]
    },
    {
      "cell_type": "markdown",
      "source": [
        "## 22-50"
      ],
      "metadata": {
        "id": "tfIEz0uFRwKE"
      }
    },
    {
      "cell_type": "code",
      "source": [
        "print(clf.feature_importances_)"
      ],
      "metadata": {
        "colab": {
          "base_uri": "https://localhost:8080/"
        },
        "id": "e4Z9K7QIRqZu",
        "outputId": "667a1ff7-deff-408e-8c3f-33f3c45628d7"
      },
      "execution_count": 77,
      "outputs": [
        {
          "output_type": "stream",
          "name": "stdout",
          "text": [
            "[0.         0.         0.         0.         0.         0.\n",
            " 0.117799   0.         0.         0.         0.         0.39637021\n",
            " 0.48583079]\n"
          ]
        }
      ]
    },
    {
      "cell_type": "markdown",
      "source": [
        "## 22-51"
      ],
      "metadata": {
        "id": "hUSvZEgZRyjl"
      }
    },
    {
      "cell_type": "code",
      "source": [
        "for i in np.argsort(clf.feature_importances_)[::-1]:\n",
        "    feature = feature_names[i]\n",
        "    importance = clf.feature_importances_[i]\n",
        "    if importance == 0:\n",
        "        break\n",
        "\n",
        "    print(f\"'{feature}' 특징의 중요도는 {importance:0.2f} 입니다\")"
      ],
      "metadata": {
        "colab": {
          "base_uri": "https://localhost:8080/"
        },
        "id": "Li34jmA2RxBF",
        "outputId": "d26a021e-70ea-4a54-d18a-7d64261b703d"
      },
      "execution_count": 78,
      "outputs": [
        {
          "output_type": "stream",
          "name": "stdout",
          "text": [
            "'proline' 특징의 중요도는 0.49 입니다\n",
            "'od280/od315_of_diluted_wines' 특징의 중요도는 0.40 입니다\n",
            "'flavanoids' 특징의 중요도는 0.12 입니다\n"
          ]
        }
      ]
    },
    {
      "cell_type": "markdown",
      "source": [
        "## 22-52"
      ],
      "metadata": {
        "id": "j5CGDEF_R2dA"
      }
    },
    {
      "cell_type": "code",
      "source": [
        "from sklearn.datasets import load_breast_cancer\n",
        "\n",
        "data = load_breast_cancer()\n",
        "feature_names = data.feature_names\n",
        "num_features = len(feature_names)\n",
        "num_classes = len(data.target_names)\n",
        "print(f\"암세포 데이터셋은 다음에 나열된 {num_classes}개의 클래스를 포함합니다\")\n",
        "print(data.target_names)\n",
        "print(f\"\\n그리고 다음에 나열된 {num_features}개의 특징을 가집니다\")\n",
        "print(feature_names)"
      ],
      "metadata": {
        "colab": {
          "base_uri": "https://localhost:8080/"
        },
        "id": "AYf1jnIlRzft",
        "outputId": "b9232faa-70e9-4be4-8fd4-e79e68d0ae28"
      },
      "execution_count": 79,
      "outputs": [
        {
          "output_type": "stream",
          "name": "stdout",
          "text": [
            "암세포 데이터셋은 다음에 나열된 2개의 클래스를 포함합니다\n",
            "['malignant' 'benign']\n",
            "\n",
            "그리고 다음에 나열된 30개의 특징을 가집니다\n",
            "['mean radius' 'mean texture' 'mean perimeter' 'mean area'\n",
            " 'mean smoothness' 'mean compactness' 'mean concavity'\n",
            " 'mean concave points' 'mean symmetry' 'mean fractal dimension'\n",
            " 'radius error' 'texture error' 'perimeter error' 'area error'\n",
            " 'smoothness error' 'compactness error' 'concavity error'\n",
            " 'concave points error' 'symmetry error' 'fractal dimension error'\n",
            " 'worst radius' 'worst texture' 'worst perimeter' 'worst area'\n",
            " 'worst smoothness' 'worst compactness' 'worst concavity'\n",
            " 'worst concave points' 'worst symmetry' 'worst fractal dimension']\n"
          ]
        }
      ]
    },
    {
      "cell_type": "markdown",
      "source": [
        "## 22-53"
      ],
      "metadata": {
        "id": "ARUPaWNKR5OJ"
      }
    },
    {
      "cell_type": "code",
      "source": [
        "X, y = load_breast_cancer(return_X_y=True)\n",
        "clf = DecisionTreeClassifier()\n",
        "clf.fit(X, y)\n",
        "for i in np.argsort(clf.feature_importances_)[::-1]:\n",
        "    feature = feature_names[i]\n",
        "    importance = clf.feature_importances_[i]\n",
        "    if round(importance, 2) == 0:\n",
        "        break\n",
        "    print(f\"'특징 {feature}'의 중요도 점수는 {importance:0.2f} 입니다\")"
      ],
      "metadata": {
        "colab": {
          "base_uri": "https://localhost:8080/"
        },
        "id": "XiZVzrpIR3aF",
        "outputId": "31a7ddb6-2018-45e0-ceb0-c275f3d1c9fc"
      },
      "execution_count": 80,
      "outputs": [
        {
          "output_type": "stream",
          "name": "stdout",
          "text": [
            "'특징 worst radius'의 중요도 점수는 0.70 입니다\n",
            "'특징 worst concave points'의 중요도 점수는 0.11 입니다\n",
            "'특징 worst texture'의 중요도 점수는 0.08 입니다\n",
            "'특징 compactness error'의 중요도 점수는 0.03 입니다\n",
            "'특징 mean texture'의 중요도 점수는 0.01 입니다\n",
            "'특징 worst area'의 중요도 점수는 0.01 입니다\n",
            "'특징 mean concave points'의 중요도 점수는 0.01 입니다\n",
            "'특징 worst concavity'의 중요도 점수는 0.01 입니다\n",
            "'특징 worst smoothness'의 중요도 점수는 0.01 입니다\n",
            "'특징 symmetry error'의 중요도 점수는 0.01 입니다\n",
            "'특징 mean smoothness'의 중요도 점수는 0.01 입니다\n",
            "'특징 mean symmetry'의 중요도 점수는 0.01 입니다\n",
            "'특징 mean compactness'의 중요도 점수는 0.01 입니다\n",
            "'특징 worst perimeter'의 중요도 점수는 0.01 입니다\n"
          ]
        }
      ]
    },
    {
      "cell_type": "markdown",
      "source": [
        "## 22-54"
      ],
      "metadata": {
        "id": "Y0XXsIP9R79O"
      }
    },
    {
      "cell_type": "code",
      "source": [
        "index = clf.feature_importances_.argmax()\n",
        "plt.hist(X[y == 0][:, index], label='악성 종양', bins='auto')\n",
        "plt.hist(X[y == 1][:, index], label='양성 종양', color='y', bins='auto', alpha=0.5)\n",
        "plt.xlabel('최악의 반경')\n",
        "plt.legend()\n",
        "plt.show()"
      ],
      "metadata": {
        "colab": {
          "base_uri": "https://localhost:8080/",
          "height": 473
        },
        "id": "5f9bwN2TR6K8",
        "outputId": "b74dbaa2-e1bc-4bf4-e370-85cfeb9abb48"
      },
      "execution_count": 81,
      "outputs": [
        {
          "output_type": "display_data",
          "data": {
            "text/plain": [
              "<Figure size 640x480 with 1 Axes>"
            ],
            "image/png": "[encoded data removed]"
          },
          "metadata": {}
        }
      ]
    },
    {
      "cell_type": "markdown",
      "source": [
        "## 22-55"
      ],
      "metadata": {
        "id": "Rkqgu9yAR_73"
      }
    },
    {
      "cell_type": "code",
      "source": [
        "from sklearn.metrics import accuracy_score\n",
        "accuracy = accuracy_score(clf.predict(X), y)\n",
        "print(f\"우리의 분류 모델은 {100 * accuracy:.0f}%의 정확도로 학습용 데이터를 암기했습니다\")"
      ],
      "metadata": {
        "colab": {
          "base_uri": "https://localhost:8080/"
        },
        "id": "gh7BasXuR81h",
        "outputId": "b5aa8dd0-fb88-47ba-fa6e-cd46e17f589f"
      },
      "execution_count": 83,
      "outputs": [
        {
          "output_type": "stream",
          "name": "stdout",
          "text": [
            "우리의 분류 모델은 100%의 정확도로 학습용 데이터를 암기했습니다\n"
          ]
        }
      ]
    },
    {
      "cell_type": "markdown",
      "source": [
        "## 22-56"
      ],
      "metadata": {
        "id": "GwVl-mIBSDg4"
      }
    },
    {
      "cell_type": "code",
      "source": [
        "np.random.seed(0)\n",
        "from sklearn.model_selection import train_test_split\n",
        "X_train, X_test, y_train, y_test = train_test_split(X, y, )\n",
        "clf = DecisionTreeClassifier()\n",
        "clf.fit(X_train, y_train)\n",
        "accuracy = accuracy_score(clf.predict(X_test), y_test)\n",
        "print(f\"모델은 검증용 데이터셋에 대해 {100 * accuracy:.0f}%의 정확도를 가집니다\")"
      ],
      "metadata": {
        "colab": {
          "base_uri": "https://localhost:8080/"
        },
        "id": "e1qBe40RSFhj",
        "outputId": "161797df-4d89-4952-e638-44f57dede51b"
      },
      "execution_count": 84,
      "outputs": [
        {
          "output_type": "stream",
          "name": "stdout",
          "text": [
            "모델은 검증용 데이터셋에 대해 90%의 정확도를 가집니다\n"
          ]
        }
      ]
    },
    {
      "cell_type": "markdown",
      "source": [
        "## 22-57"
      ],
      "metadata": {
        "id": "aQ1h0CrpSGwp"
      }
    },
    {
      "cell_type": "code",
      "source": [
        "forest = [DecisionTreeClassifier() for _ in range(100)]"
      ],
      "metadata": {
        "id": "X8EXpgbbSAzh"
      },
      "execution_count": 85,
      "outputs": []
    },
    {
      "cell_type": "markdown",
      "source": [
        "## 22-58"
      ],
      "metadata": {
        "id": "mMQ0-EboSK88"
      }
    },
    {
      "cell_type": "code",
      "source": [
        "np.random.seed(1)\n",
        "def bootstrap(X, y):\n",
        "    num_rows = X.shape[0]\n",
        "    indices = np.random.choice(range(num_rows), size=num_rows, replace=True)\n",
        "    X_new, y_new = X[indices], y[indices]\n",
        "    return X_new, y_new\n",
        "\n",
        "X_train_new, y_train_new = bootstrap(X_train, y_train)\n",
        "assert X_train.shape == X_train_new.shape\n",
        "assert y_train.size == y_train_new.size\n",
        "assert not np.array_equal(X_train, X_train_new)\n",
        "assert not np.array_equal(y_train, y_train_new)"
      ],
      "metadata": {
        "id": "QM24EgVPSJLf"
      },
      "execution_count": 86,
      "outputs": []
    },
    {
      "cell_type": "markdown",
      "source": [
        "## 22-59"
      ],
      "metadata": {
        "id": "mHs8yboESNe3"
      }
    },
    {
      "cell_type": "code",
      "source": [
        "np.random.seed(1)\n",
        "features_train, classes_train = [], []\n",
        "for _ in range(100):\n",
        "    X_train_new, y_train_new = bootstrap(X_train, y_train)\n",
        "    features_train.append(X_train_new)\n",
        "    classes_train.append(y_train_new)"
      ],
      "metadata": {
        "id": "OXpGmU23SL-o"
      },
      "execution_count": 87,
      "outputs": []
    },
    {
      "cell_type": "markdown",
      "source": [
        "## 22-60"
      ],
      "metadata": {
        "id": "G4ay3jNxSQH7"
      }
    },
    {
      "cell_type": "code",
      "source": [
        "np.random.seed(1)\n",
        "sample_size = int(X.shape[1] ** 0.5)\n",
        "assert sample_size == 5\n",
        "feature_indices = [np.random.choice(range(30), 5, replace=False) for _ in range(100)]\n",
        "for i, index_subset in enumerate(feature_indices):\n",
        "    features_train[i] = features_train[i][:, index_subset]\n",
        "\n",
        "for index in [0, 99]:\n",
        "    index_subset = feature_indices[index]\n",
        "    names = feature_names[index_subset]\n",
        "    print(f\"\\n{index} 번째 트리에 의해 활용되는 임의의 특징들은 다음과 같습니다\")\n",
        "    print(names)"
      ],
      "metadata": {
        "colab": {
          "base_uri": "https://localhost:8080/"
        },
        "id": "B-bFRYlpSOdz",
        "outputId": "6ef1701a-f521-4eec-9c12-5e6e6fc34a39"
      },
      "execution_count": 88,
      "outputs": [
        {
          "output_type": "stream",
          "name": "stdout",
          "text": [
            "\n",
            "0 번째 트리에 의해 활용되는 임의의 특징들은 다음과 같습니다\n",
            "['concave points error' 'worst texture' 'radius error'\n",
            " 'fractal dimension error' 'smoothness error']\n",
            "\n",
            "99 번째 트리에 의해 활용되는 임의의 특징들은 다음과 같습니다\n",
            "['mean smoothness' 'worst radius' 'fractal dimension error'\n",
            " 'worst concave points' 'mean concavity']\n"
          ]
        }
      ]
    },
    {
      "cell_type": "markdown",
      "source": [
        "## 22-61"
      ],
      "metadata": {
        "id": "ClK6KIY6SUGr"
      }
    },
    {
      "cell_type": "code",
      "source": [
        "for i, clf_tree in enumerate(forest):\n",
        "    clf_tree.fit(features_train[i], classes_train[i])"
      ],
      "metadata": {
        "id": "WDimrsx8SRHX"
      },
      "execution_count": 89,
      "outputs": []
    },
    {
      "cell_type": "markdown",
      "source": [
        "## 22-62"
      ],
      "metadata": {
        "id": "a5zC_CN7SXGv"
      }
    },
    {
      "cell_type": "code",
      "source": [
        "from collections import Counter\n",
        "feature_vector = X_test[0]\n",
        "votes = []\n",
        "for i, clf_tree in enumerate(forest):\n",
        "    index_subset = feature_indices[i]\n",
        "    vector_subset = feature_vector[index_subset]\n",
        "    prediction = clf_tree.predict([vector_subset])[0]\n",
        "    votes.append(prediction)\n",
        "\n",
        "class_to_votes = Counter(votes)\n",
        "for class_label, votes in class_to_votes.items():\n",
        "    print(f\"클래스 {class_label}에 대한 투표가 {votes}개로 집계되었습니다\")\n",
        "\n",
        "top_class = max(class_to_votes.items(), key=lambda x: x[1])[0]\n",
        "print(f\"\\n가장 많은 투표를 받은 클래스는 {top_class} 입니다\")"
      ],
      "metadata": {
        "colab": {
          "base_uri": "https://localhost:8080/"
        },
        "id": "_SnpZI41SVI3",
        "outputId": "6eb3ca83-9a00-43ac-fe2e-589e6d79be71"
      },
      "execution_count": 90,
      "outputs": [
        {
          "output_type": "stream",
          "name": "stdout",
          "text": [
            "클래스 0에 대한 투표가 93개로 집계되었습니다\n",
            "클래스 1에 대한 투표가 7개로 집계되었습니다\n",
            "\n",
            "가장 많은 투표를 받은 클래스는 0 입니다\n"
          ]
        }
      ]
    },
    {
      "cell_type": "markdown",
      "source": [
        "## 22-63"
      ],
      "metadata": {
        "id": "aRWo4ZVQSaJf"
      }
    },
    {
      "cell_type": "code",
      "source": [
        "true_label = y_test[0]\n",
        "print(f\"해당 데이터의 실제 클래스는 {true_label} 입니다\")"
      ],
      "metadata": {
        "colab": {
          "base_uri": "https://localhost:8080/"
        },
        "id": "oztr7n6JSYEF",
        "outputId": "2eda3175-3424-4c36-a454-554cab1f9ca4"
      },
      "execution_count": 91,
      "outputs": [
        {
          "output_type": "stream",
          "name": "stdout",
          "text": [
            "해당 데이터의 실제 클래스는 0 입니다\n"
          ]
        }
      ]
    },
    {
      "cell_type": "markdown",
      "source": [
        "## 22-64"
      ],
      "metadata": {
        "id": "Vcw7aGW7ScwU"
      }
    },
    {
      "cell_type": "code",
      "source": [
        "predictions = []\n",
        "for i, clf_tree in enumerate(forest):\n",
        "    index_subset = feature_indices[i]\n",
        "    prediction = clf_tree.predict(X_test[:,index_subset])\n",
        "    predictions.append(prediction)\n",
        "\n",
        "predictions = np.array(predictions)\n",
        "y_pred = [Counter(predictions[:,i]).most_common()[0][0] for i in range(y_test.size)]\n",
        "accuracy = accuracy_score(y_pred, y_test)\n",
        "print(\"검증용 데이터셋에 대한 랜덤포레스트의 정확도는 \"\n",
        "     f\"{100 * accuracy:.0f}% 입니다\")"
      ],
      "metadata": {
        "colab": {
          "base_uri": "https://localhost:8080/"
        },
        "id": "z6Re0sS1SbHM",
        "outputId": "8b5bff7d-f982-4b69-9444-3704b76ec0fd"
      },
      "execution_count": 92,
      "outputs": [
        {
          "output_type": "stream",
          "name": "stdout",
          "text": [
            "검증용 데이터셋에 대한 랜덤포레스트의 정확도는 96% 입니다\n"
          ]
        }
      ]
    },
    {
      "cell_type": "markdown",
      "source": [
        "## 22-65"
      ],
      "metadata": {
        "id": "OsMX16EHSfm2"
      }
    },
    {
      "cell_type": "code",
      "source": [
        "np.random.seed(1)\n",
        "from sklearn.ensemble import RandomForestClassifier\n",
        "clf_forest = RandomForestClassifier()\n",
        "clf_forest.fit(X_train, y_train)\n",
        "y_pred = clf_forest.predict(X_test)\n",
        "accuracy = accuracy_score(y_pred, y_test)\n",
        "print(\"검증용 데이터셋에 대한 랜덤포레스트 모델의 정확도는 \"\n",
        "     f\"{100 * accuracy:.0f}% 입니다\")"
      ],
      "metadata": {
        "colab": {
          "base_uri": "https://localhost:8080/"
        },
        "id": "roMCZWylSdpv",
        "outputId": "22134f99-97a3-40b9-c971-7eef88bfa5ff"
      },
      "execution_count": 93,
      "outputs": [
        {
          "output_type": "stream",
          "name": "stdout",
          "text": [
            "검증용 데이터셋에 대한 랜덤포레스트 모델의 정확도는 97% 입니다\n"
          ]
        }
      ]
    },
    {
      "cell_type": "markdown",
      "source": [
        "## 22-66"
      ],
      "metadata": {
        "id": "xn2x7YnHSiSn"
      }
    },
    {
      "cell_type": "code",
      "source": [
        "np.random.seed(1)\n",
        "clf_forest = RandomForestClassifier(n_estimators=10)\n",
        "clf_forest.fit(X_train, y_train)\n",
        "y_pred = clf_forest.predict(X_test)\n",
        "accuracy = accuracy_score(y_pred, y_test)\n",
        "print(\"검증용 데이터셋에 대한 10개의 트리로 구성된 랜덤포레스트 모델의 정확도는 \"\n",
        "     f\"{100 * accuracy:.0f}% 입니다\")"
      ],
      "metadata": {
        "colab": {
          "base_uri": "https://localhost:8080/"
        },
        "id": "Udb0ZytESgfz",
        "outputId": "095e8b42-4d42-4eed-aee9-f732fbf16e71"
      },
      "execution_count": 94,
      "outputs": [
        {
          "output_type": "stream",
          "name": "stdout",
          "text": [
            "검증용 데이터셋에 대한 10개의 트리로 구성된 랜덤포레스트 모델의 정확도는 97% 입니다\n"
          ]
        }
      ]
    },
    {
      "cell_type": "markdown",
      "source": [
        "## 22-67"
      ],
      "metadata": {
        "id": "6lS9POM7Sk4q"
      }
    },
    {
      "cell_type": "code",
      "source": [
        "for i in np.argsort(clf_forest.feature_importances_)[::-1][:3]:\n",
        "    feature = feature_names[i]\n",
        "    importance = clf_forest.feature_importances_[i]\n",
        "    print(f\"특징 '{feature}'의 중요도 점수는 {importance:0.2f} 입니다\")"
      ],
      "metadata": {
        "colab": {
          "base_uri": "https://localhost:8080/"
        },
        "id": "dTgWFvr1SjOK",
        "outputId": "1b4afb8d-0c21-441e-ad41-4838066c68f4"
      },
      "execution_count": 95,
      "outputs": [
        {
          "output_type": "stream",
          "name": "stdout",
          "text": [
            "특징 'worst perimeter'의 중요도 점수는 0.20 입니다\n",
            "특징 'worst radius'의 중요도 점수는 0.16 입니다\n",
            "특징 'worst area'의 중요도 점수는 0.16 입니다\n"
          ]
        }
      ]
    },
    {
      "cell_type": "code",
      "source": [],
      "metadata": {
        "id": "cZuhdv0PSlzF"
      },
      "execution_count": null,
      "outputs": []
    }
  ]
}