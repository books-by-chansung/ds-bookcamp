{
  "nbformat": 4,
  "nbformat_minor": 0,
  "metadata": {
    "colab": {
      "provenance": [],
      "authorship_tag": "ABX9TyM6o1SvafnbZUxXssGweHxi",
      "include_colab_link": true
    },
    "kernelspec": {
      "name": "python3",
      "display_name": "Python 3"
    },
    "language_info": {
      "name": "python"
    }
  },
  "cells": [
    {
      "cell_type": "markdown",
      "metadata": {
        "id": "view-in-github",
        "colab_type": "text"
      },
      "source": [
        "<a href=\"https://colab.research.google.com/github/books-by-chansung/ds-bookcamp/blob/main/notebooks/ds_bookcamp_17.ipynb\" target=\"_parent\"><img src=\"https://colab.research.google.com/assets/colab-badge.svg\" alt=\"Open In Colab\"/></a>"
      ]
    },
    {
      "cell_type": "code",
      "execution_count": 1,
      "metadata": {
        "colab": {
          "base_uri": "https://localhost:8080/"
        },
        "id": "17azplDzx_WD",
        "outputId": "76f1e1f0-2ac3-4e5e-b535-efd71a59be95"
      },
      "outputs": [
        {
          "output_type": "stream",
          "name": "stdout",
          "text": [
            "--2024-09-01 18:10:45--  https://github.com/books-by-chansung/ds-bookcamp/blob/main/NanumBarunGothic.ttf?raw=true\n",
            "Resolving github.com (github.com)... 140.82.112.3\n",
            "Connecting to github.com (github.com)|140.82.112.3|:443... connected.\n",
            "HTTP request sent, awaiting response... 302 Found\n",
            "Location: https://github.com/books-by-chansung/ds-bookcamp/raw/main/NanumBarunGothic.ttf [following]\n",
            "--2024-09-01 18:10:45--  https://github.com/books-by-chansung/ds-bookcamp/raw/main/NanumBarunGothic.ttf\n",
            "Reusing existing connection to github.com:443.\n",
            "HTTP request sent, awaiting response... 302 Found\n",
            "Location: https://raw.githubusercontent.com/books-by-chansung/ds-bookcamp/main/NanumBarunGothic.ttf [following]\n",
            "--2024-09-01 18:10:46--  https://raw.githubusercontent.com/books-by-chansung/ds-bookcamp/main/NanumBarunGothic.ttf\n",
            "Resolving raw.githubusercontent.com (raw.githubusercontent.com)... 185.199.108.133, 185.199.109.133, 185.199.110.133, ...\n",
            "Connecting to raw.githubusercontent.com (raw.githubusercontent.com)|185.199.108.133|:443... connected.\n",
            "HTTP request sent, awaiting response... 200 OK\n",
            "Length: 4186060 (4.0M) [application/octet-stream]\n",
            "Saving to: ‘/usr/share/fonts/truetype/nanum/NanumBarunGothic.ttf’\n",
            "\n",
            "/usr/share/fonts/tr 100%[===================>]   3.99M  --.-KB/s    in 0.08s   \n",
            "\n",
            "2024-09-01 18:10:47 (50.7 MB/s) - ‘/usr/share/fonts/truetype/nanum/NanumBarunGothic.ttf’ saved [4186060/4186060]\n",
            "\n"
          ]
        }
      ],
      "source": [
        "!mkdir -p /usr/share/fonts/truetype/nanum\n",
        "!wget https://github.com/books-by-chansung/ds-bookcamp/blob/main/NanumBarunGothic.ttf?raw=true -O /usr/share/fonts/truetype/nanum/NanumBarunGothic.ttf"
      ]
    },
    {
      "cell_type": "code",
      "source": [
        "import matplotlib.font_manager as fm\n",
        "import matplotlib.pyplot as plt\n",
        "\n",
        "fe = fm.FontEntry(\n",
        "    fname=r'/usr/share/fonts/truetype/nanum/NanumBarunGothic.ttf', # ttf 파일이 저장되어 있는 경로\n",
        "    name='NanumGothic')                        # 이 폰트의 원하는 이름 설정\n",
        "fm.fontManager.ttflist.insert(0, fe)              # Matplotlib에 폰트 추가\n",
        "plt.rcParams.update({'font.size': 18, 'font.family': 'NanumGothic'}) # 폰트 설정"
      ],
      "metadata": {
        "id": "pXKiP5WhyBuI"
      },
      "execution_count": 2,
      "outputs": []
    },
    {
      "cell_type": "code",
      "source": [
        "import warnings\n",
        "\n",
        "# Suppress all warnings\n",
        "warnings.filterwarnings(\"ignore\")"
      ],
      "metadata": {
        "id": "b4HSlZssyDV5"
      },
      "execution_count": 3,
      "outputs": []
    },
    {
      "cell_type": "code",
      "source": [],
      "metadata": {
        "id": "lBh8vQsUyEfx"
      },
      "execution_count": null,
      "outputs": []
    }
  ]
}