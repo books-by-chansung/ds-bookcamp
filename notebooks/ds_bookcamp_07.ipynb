{
  "nbformat": 4,
  "nbformat_minor": 0,
  "metadata": {
    "colab": {
      "provenance": [],
      "authorship_tag": "ABX9TyPzNjCdM7v4z0eNtqt6VoCZ",
      "include_colab_link": true
    },
    "kernelspec": {
      "name": "python3",
      "display_name": "Python 3"
    },
    "language_info": {
      "name": "python"
    }
  },
  "cells": [
    {
      "cell_type": "markdown",
      "metadata": {
        "id": "view-in-github",
        "colab_type": "text"
      },
      "source": [
        "<a href=\"https://colab.research.google.com/github/books-by-chansung/ds-bookcamp/blob/main/notebooks/ds_bookcamp_07.ipynb\" target=\"_parent\"><img src=\"https://colab.research.google.com/assets/colab-badge.svg\" alt=\"Open In Colab\"/></a>"
      ]
    },
    {
      "cell_type": "code",
      "execution_count": 1,
      "metadata": {
        "colab": {
          "base_uri": "https://localhost:8080/"
        },
        "id": "wLxw3geqfk6j",
        "outputId": "90a5bc18-040c-40ab-ca80-4a18f9d1eece"
      },
      "outputs": [
        {
          "output_type": "stream",
          "name": "stdout",
          "text": [
            "--2024-08-15 14:43:47--  https://github.com/books-by-chansung/ds-bookcamp/blob/main/NanumBarunGothic.ttf?raw=true\n",
            "Resolving github.com (github.com)... 140.82.113.3\n",
            "Connecting to github.com (github.com)|140.82.113.3|:443... connected.\n",
            "HTTP request sent, awaiting response... 302 Found\n",
            "Location: https://github.com/books-by-chansung/ds-bookcamp/raw/main/NanumBarunGothic.ttf [following]\n",
            "--2024-08-15 14:43:47--  https://github.com/books-by-chansung/ds-bookcamp/raw/main/NanumBarunGothic.ttf\n",
            "Reusing existing connection to github.com:443.\n",
            "HTTP request sent, awaiting response... 302 Found\n",
            "Location: https://raw.githubusercontent.com/books-by-chansung/ds-bookcamp/main/NanumBarunGothic.ttf [following]\n",
            "--2024-08-15 14:43:48--  https://raw.githubusercontent.com/books-by-chansung/ds-bookcamp/main/NanumBarunGothic.ttf\n",
            "Resolving raw.githubusercontent.com (raw.githubusercontent.com)... 185.199.108.133, 185.199.109.133, 185.199.110.133, ...\n",
            "Connecting to raw.githubusercontent.com (raw.githubusercontent.com)|185.199.108.133|:443... connected.\n",
            "HTTP request sent, awaiting response... 200 OK\n",
            "Length: 4186060 (4.0M) [application/octet-stream]\n",
            "Saving to: ‘/usr/share/fonts/truetype/nanum/NanumBarunGothic.ttf’\n",
            "\n",
            "/usr/share/fonts/tr 100%[===================>]   3.99M  --.-KB/s    in 0.02s   \n",
            "\n",
            "2024-08-15 14:43:48 (163 MB/s) - ‘/usr/share/fonts/truetype/nanum/NanumBarunGothic.ttf’ saved [4186060/4186060]\n",
            "\n"
          ]
        }
      ],
      "source": [
        "!mkdir -p /usr/share/fonts/truetype/nanum\n",
        "!wget https://github.com/books-by-chansung/ds-bookcamp/blob/main/NanumBarunGothic.ttf?raw=true -O /usr/share/fonts/truetype/nanum/NanumBarunGothic.ttf"
      ]
    },
    {
      "cell_type": "code",
      "source": [
        "import matplotlib.font_manager as fm\n",
        "import matplotlib.pyplot as plt\n",
        "\n",
        "fe = fm.FontEntry(\n",
        "    fname=r'/usr/share/fonts/truetype/nanum/NanumBarunGothic.ttf', # ttf 파일이 저장되어 있는 경로\n",
        "    name='NanumGothic')                        # 이 폰트의 원하는 이름 설정\n",
        "fm.fontManager.ttflist.insert(0, fe)              # Matplotlib에 폰트 추가\n",
        "plt.rcParams.update({'font.size': 18, 'font.family': 'NanumGothic'}) # 폰트 설정"
      ],
      "metadata": {
        "id": "WDyJo8rwfn9h"
      },
      "execution_count": 2,
      "outputs": []
    },
    {
      "cell_type": "code",
      "source": [
        "import numpy as np\n",
        "from scipy import stats"
      ],
      "metadata": {
        "id": "DO6e8OFcfsU3"
      },
      "execution_count": 6,
      "outputs": []
    },
    {
      "cell_type": "markdown",
      "source": [
        "## 7-1"
      ],
      "metadata": {
        "id": "81-yytBOftqp"
      }
    },
    {
      "cell_type": "code",
      "source": [
        "population_mean = 80\n",
        "population_variance = 100"
      ],
      "metadata": {
        "id": "75_h80wKfuxh"
      },
      "execution_count": 3,
      "outputs": []
    },
    {
      "cell_type": "markdown",
      "source": [
        "## 7-2"
      ],
      "metadata": {
        "id": "RjCak59gfxOT"
      }
    },
    {
      "cell_type": "code",
      "source": [
        "mean = population_mean\n",
        "sem = (population_variance / 18) ** 0.5"
      ],
      "metadata": {
        "id": "K2-oZBmXfwl4"
      },
      "execution_count": 4,
      "outputs": []
    },
    {
      "cell_type": "markdown",
      "source": [
        "## 7-3"
      ],
      "metadata": {
        "id": "fiItVLqxf08A"
      }
    },
    {
      "cell_type": "code",
      "source": [
        "prob_high_grade = stats.norm.sf(84, mean, sem)\n",
        "print(f\"평균 성적이 84보다 클 확률은 {prob_high_grade} 입니다.\")"
      ],
      "metadata": {
        "colab": {
          "base_uri": "https://localhost:8080/"
        },
        "id": "rjFDaQ_1f0G4",
        "outputId": "cdd683d7-7e21-4e92-dc9c-4e6d9aaa2088"
      },
      "execution_count": 7,
      "outputs": [
        {
          "output_type": "stream",
          "name": "stdout",
          "text": [
            "평균 성적이 84보다 클 확률은 0.044843010885182284 입니다.\n"
          ]
        }
      ]
    },
    {
      "cell_type": "markdown",
      "source": [
        "## 7-4"
      ],
      "metadata": {
        "id": "6Ehoz7W-f6Rq"
      }
    },
    {
      "cell_type": "code",
      "source": [
        "prob_low_grade = stats.norm.cdf(76, mean, sem)\n",
        "print(f\"평균 성적이 76 이하일 확률은 {prob_low_grade} 입니다\")"
      ],
      "metadata": {
        "colab": {
          "base_uri": "https://localhost:8080/"
        },
        "id": "ZFi_aG55f3iM",
        "outputId": "cac27776-0ec8-4769-a904-394c9fb4784d"
      },
      "execution_count": 8,
      "outputs": [
        {
          "output_type": "stream",
          "name": "stdout",
          "text": [
            "평균 성적이 76 이하일 확률은 0.044843010885182284 입니다\n"
          ]
        }
      ]
    },
    {
      "cell_type": "markdown",
      "source": [
        "## 7-5"
      ],
      "metadata": {
        "id": "0zeyb4q4f_vO"
      }
    },
    {
      "cell_type": "code",
      "source": [
        "for x in range(-100, 100):\n",
        "    sf_value = stats.norm.sf(mean + x, mean, sem)\n",
        "    assert sf_value == stats.norm.cdf(mean - x, mean, sem)\n",
        "\n",
        "plt.axvline(mean, color='k', label='평균', linestyle=':')\n",
        "x_values = range(60, 101)\n",
        "plt.plot(x_values, stats.norm.cdf(x_values, mean, sem), label='누적 분포 함수')\n",
        "plt.plot(x_values, stats.norm.sf(x_values, mean, sem), label='생존 함수', linestyle='--', color='r')\n",
        "plt.xlabel('표본 평균')\n",
        "plt.ylabel('확률')\n",
        "plt.legend()\n",
        "plt.show()"
      ],
      "metadata": {
        "colab": {
          "base_uri": "https://localhost:8080/",
          "height": 473
        },
        "id": "lIraSe2ef_Og",
        "outputId": "07ca3b42-0036-4e6f-97f8-1aeb5cc8500a"
      },
      "execution_count": 9,
      "outputs": [
        {
          "output_type": "display_data",
          "data": {
            "text/plain": [
              "<Figure size 640x480 with 1 Axes>"
            ],
            "image/png": "[encoded data removed]"
          },
          "metadata": {}
        }
      ]
    },
    {
      "cell_type": "markdown",
      "source": [
        "## 7-6"
      ],
      "metadata": {
        "id": "0cqb1Mw8gWKX"
      }
    },
    {
      "cell_type": "code",
      "source": [
        "p_value = prob_low_grade + prob_high_grade\n",
        "assert p_value == 2 * prob_high_grade\n",
        "print(f\"p-값은 {p_value} 입니다\")"
      ],
      "metadata": {
        "colab": {
          "base_uri": "https://localhost:8080/"
        },
        "id": "AlNqeo0-gP97",
        "outputId": "47863291-1855-405b-d789-d02e068227c6"
      },
      "execution_count": 10,
      "outputs": [
        {
          "output_type": "stream",
          "name": "stdout",
          "text": [
            "p-값은 0.08968602177036457 입니다\n"
          ]
        }
      ]
    },
    {
      "cell_type": "markdown",
      "source": [
        "## 7-7"
      ],
      "metadata": {
        "id": "cCR5b714gY4W"
      }
    },
    {
      "cell_type": "code",
      "source": [
        "def compute_p_value(observed_mean, population_mean, sem):\n",
        "    mean_diff = abs(population_mean - observed_mean)\n",
        "    prob_high = stats.norm.sf(population_mean + mean_diff, population_mean, sem)\n",
        "    return 2 * prob_high\n",
        "\n",
        "new_p_value = compute_p_value(85, mean, sem)\n",
        "print(f\"갱신된 p-값은 {new_p_value} 입니다\")"
      ],
      "metadata": {
        "colab": {
          "base_uri": "https://localhost:8080/"
        },
        "id": "kn63eNS5gXUA",
        "outputId": "17269791-b747-4815-8936-4dfde9e759d6"
      },
      "execution_count": 12,
      "outputs": [
        {
          "output_type": "stream",
          "name": "stdout",
          "text": [
            "갱신된 p-값은 0.03389485352468927 입니다\n"
          ]
        }
      ]
    },
    {
      "cell_type": "markdown",
      "source": [
        "## 7-8"
      ],
      "metadata": {
        "id": "om4K7MOGgd6k"
      }
    },
    {
      "cell_type": "code",
      "source": [
        "for grade in range(80, 100):\n",
        "    p_value = compute_p_value(grade, mean, sem)\n",
        "    if p_value < 0.001:\n",
        "        break\n",
        "\n",
        "print(f\"평균 성적이 {grade} 일 때, p-값은 {p_value} 입니다.\")"
      ],
      "metadata": {
        "colab": {
          "base_uri": "https://localhost:8080/"
        },
        "id": "RfDL0IbwgZ4X",
        "outputId": "09d2e9ab-c0de-483a-a223-ecebc1ee8cdc"
      },
      "execution_count": 13,
      "outputs": [
        {
          "output_type": "stream",
          "name": "stdout",
          "text": [
            "평균 성적이 88 일 때, p-값은 0.0006885138966450773 입니다.\n"
          ]
        }
      ]
    },
    {
      "cell_type": "markdown",
      "source": [
        "## 7-9"
      ],
      "metadata": {
        "id": "YGBcC0A0ghtK"
      }
    },
    {
      "cell_type": "code",
      "source": [
        "np.random.seed(0)\n",
        "random_average_grade = np.random.normal(mean, sem)\n",
        "print(f\"평균 성적은 {random_average_grade:.2f}입니다\")"
      ],
      "metadata": {
        "colab": {
          "base_uri": "https://localhost:8080/"
        },
        "id": "Fi1Ap9P1gfPZ",
        "outputId": "2fd93733-9004-4764-9aa5-7c16aee329cb"
      },
      "execution_count": 14,
      "outputs": [
        {
          "output_type": "stream",
          "name": "stdout",
          "text": [
            "평균 성적은 84.16입니다\n"
          ]
        }
      ]
    },
    {
      "cell_type": "markdown",
      "source": [
        "## 7-10"
      ],
      "metadata": {
        "id": "Ng-Q-E1iglIi"
      }
    },
    {
      "cell_type": "code",
      "source": [
        "if compute_p_value(random_average_grade, mean, sem) <= 0.05:\n",
        "    print(\"관찰된 결과는 통계적으로 유의미합니다\")\n",
        "else:\n",
        "    print(\"관찰된 결과는 통계적으로 유의미하지 않습니다\")"
      ],
      "metadata": {
        "colab": {
          "base_uri": "https://localhost:8080/"
        },
        "id": "8zSdmyLNgkni",
        "outputId": "e819592c-85b5-47b2-9f99-755c3d91304a"
      },
      "execution_count": 15,
      "outputs": [
        {
          "output_type": "stream",
          "name": "stdout",
          "text": [
            "관찰된 결과는 통계적으로 유의미하지 않습니다\n"
          ]
        }
      ]
    },
    {
      "cell_type": "markdown",
      "source": [
        "## 7-11"
      ],
      "metadata": {
        "id": "ZAdsIgdFgpiV"
      }
    },
    {
      "cell_type": "code",
      "source": [
        "np.random.seed(0)\n",
        "for i in range(1, 49):\n",
        "    print(f\"{i + 1} 번째 주 방문\")\n",
        "    random_average_grade = np.random.normal(mean, sem)\n",
        "    p_value = compute_p_value(random_average_grade, mean, sem)\n",
        "    if p_value <= 0.05:\n",
        "        print(\"통계적으로 유의미한 결과를 발견했습니다.\")\n",
        "        print(f\"평균 성적은 {random_average_grade:.2f} 이었습니다.\")\n",
        "        print(f\"p-값은 {p_value} 이었습니다.\")\n",
        "        break\n",
        "\n",
        "if i == 48:\n",
        "    print(\"모든 주를 방문했으나, 유의미한 결과는 발견하지 못했습니다.\")"
      ],
      "metadata": {
        "colab": {
          "base_uri": "https://localhost:8080/"
        },
        "id": "lTCIKvvygmUF",
        "outputId": "5843e148-23e1-4e7f-816c-3a9e6c5e5566"
      },
      "execution_count": 17,
      "outputs": [
        {
          "output_type": "stream",
          "name": "stdout",
          "text": [
            "2 번째 주 방문\n",
            "3 번째 주 방문\n",
            "4 번째 주 방문\n",
            "5 번째 주 방문\n",
            "통계적으로 유의미한 결과를 발견했습니다.\n",
            "평균 성적은 85.28 입니다.\n",
            "p-값은 0.025032993883401307 이었습니다.\n"
          ]
        }
      ]
    },
    {
      "cell_type": "markdown",
      "source": [
        "## 7-12"
      ],
      "metadata": {
        "id": "YG1tMcqohfLb"
      }
    },
    {
      "cell_type": "code",
      "source": [
        "num_planned_experiments = 49\n",
        "significance_level = .05 / num_planned_experiments"
      ],
      "metadata": {
        "id": "ruTs9P-dgrQK"
      },
      "execution_count": 18,
      "outputs": []
    },
    {
      "cell_type": "markdown",
      "source": [
        "## 7-13"
      ],
      "metadata": {
        "id": "ZuV9vtoShiIY"
      }
    },
    {
      "cell_type": "code",
      "source": [
        "np.random.seed(0)\n",
        "for i in range(49):\n",
        "    random_average_grade = np.random.normal(mean, sem)\n",
        "    p_value = compute_p_value(random_average_grade, mean, sem)\n",
        "    if p_value <= significance_level:\n",
        "        print(\"통계적으로 유의미한 결과를 발견했습니다.\")\n",
        "        print(f\"평균 성적은 {random_average_grade:.2f} 이었습니다.\")\n",
        "        print(f\"p-값은 {p_value} 이었습니다\")\n",
        "        break\n",
        "\n",
        "if i == 48:\n",
        "    print(\"모든 주를 방문했으나, 유의미한 결과는 발견하지 못했습니다.\")"
      ],
      "metadata": {
        "colab": {
          "base_uri": "https://localhost:8080/"
        },
        "id": "1y5fh1mBhgYk",
        "outputId": "4de774cd-0650-42c9-9303-5a16a8fcecd0"
      },
      "execution_count": 20,
      "outputs": [
        {
          "output_type": "stream",
          "name": "stdout",
          "text": [
            "모든 주를 방문했으나, 유의미한 결과는 발견하지 못했습니다.\n"
          ]
        }
      ]
    },
    {
      "cell_type": "markdown",
      "source": [
        "## 7-14"
      ],
      "metadata": {
        "id": "KWGuXl9MipV-"
      }
    },
    {
      "cell_type": "code",
      "source": [
        "fish_lengths = np.array([46.7, 17.1, 2.0, 19.2, 7.9, 15.0, 43.4, 8.8, 47.8, 19.5, 2.9, 53.0, 23.5, 118.5, 3.8, 2.9, 53.9, 23.9, 2.0, 28.2])\n",
        "assert fish_lengths.mean() == 27"
      ],
      "metadata": {
        "id": "nVwDMyu8hjJv"
      },
      "execution_count": 21,
      "outputs": []
    },
    {
      "cell_type": "markdown",
      "source": [
        "## 7-15"
      ],
      "metadata": {
        "id": "R0KPcriIitQi"
      }
    },
    {
      "cell_type": "code",
      "source": [
        "np.random.seed(0)\n",
        "random_fish_length = np.random.choice(fish_lengths, size=1)[0]\n",
        "sampled_fish_lengths = [random_fish_length]"
      ],
      "metadata": {
        "id": "tq7VjK6eirv8"
      },
      "execution_count": 22,
      "outputs": []
    },
    {
      "cell_type": "markdown",
      "source": [
        "## 7-16"
      ],
      "metadata": {
        "id": "nkMk58Qoiv5h"
      }
    },
    {
      "cell_type": "code",
      "source": [
        "np.random.seed(0)\n",
        "for _ in range(20):\n",
        "    random_fish_length = np.random.choice(fish_lengths, size=1)[0]\n",
        "    sampled_fish_lengths.append(random_fish_length)"
      ],
      "metadata": {
        "id": "6PVwlEhgiucr"
      },
      "execution_count": 23,
      "outputs": []
    },
    {
      "cell_type": "markdown",
      "source": [
        "## 7-17"
      ],
      "metadata": {
        "id": "nI7lyuJti3nN"
      }
    },
    {
      "cell_type": "code",
      "source": [
        "sample_mean = np.mean(sampled_fish_lengths)\n",
        "print(f\"샘플링된 평균 물고기의 길이는 {sample_mean:.2f}cm 입니다\")"
      ],
      "metadata": {
        "colab": {
          "base_uri": "https://localhost:8080/"
        },
        "id": "3sep-DWYizhn",
        "outputId": "7a38b466-27cb-48f7-abff-0dcb72b49269"
      },
      "execution_count": 24,
      "outputs": [
        {
          "output_type": "stream",
          "name": "stdout",
          "text": [
            "샘플링된 평균 물고기의 길이는 26.03cm 입니다\n"
          ]
        }
      ]
    },
    {
      "cell_type": "markdown",
      "source": [
        "## 7-18"
      ],
      "metadata": {
        "id": "TElKzZ2mjEpX"
      }
    },
    {
      "cell_type": "code",
      "source": [
        "np.random.seed(0)\n",
        "new_sampled_fish_lengths = np.random.choice(fish_lengths, size=20,\n",
        "replace=True)\n",
        "new_sample_mean = new_sampled_fish_lengths.mean()\n",
        "print(f\"새로 샘플링된 어류의 평균 길이는 {new_sample_mean:.2f} cm 입니다.\")"
      ],
      "metadata": {
        "colab": {
          "base_uri": "https://localhost:8080/"
        },
        "id": "F4To6zQRjBCu",
        "outputId": "bcf3d57e-dbe7-4f9b-87d3-46505112b977"
      },
      "execution_count": 25,
      "outputs": [
        {
          "output_type": "stream",
          "name": "stdout",
          "text": [
            "새로 샘플링된 어류의 평균 길이는 26.16 cm 입니다.\n"
          ]
        }
      ]
    },
    {
      "cell_type": "markdown",
      "source": [
        "## 7-19"
      ],
      "metadata": {
        "id": "pH9N2QUKjH8v"
      }
    },
    {
      "cell_type": "code",
      "source": [
        "np.random.seed(0)\n",
        "sample_means = [np.random.choice(fish_lengths,\n",
        "size=20,\n",
        "replace=True).mean()\n",
        "for _ in range(150000)]\n",
        "likelihoods, bin_edges, _ = plt.hist(sample_means, bins='auto',\n",
        "edgecolor='black', density=True)\n",
        "plt.xlabel('구간화된 샘플 평균')\n",
        "plt.ylabel('상대적 확률')\n",
        "plt.show()"
      ],
      "metadata": {
        "colab": {
          "base_uri": "https://localhost:8080/",
          "height": 473
        },
        "id": "n7_2KvMojGGh",
        "outputId": "a75be6b7-0bcd-49d4-b8ab-7170fa954a4e"
      },
      "execution_count": 26,
      "outputs": [
        {
          "output_type": "display_data",
          "data": {
            "text/plain": [
              "<Figure size 640x480 with 1 Axes>"
            ],
            "image/png": "[encoded data removed]"
          },
          "metadata": {}
        }
      ]
    },
    {
      "cell_type": "markdown",
      "source": [
        "## 7-20"
      ],
      "metadata": {
        "id": "F8wsDSZMjSA3"
      }
    },
    {
      "cell_type": "code",
      "source": [
        "assert abs(stats.skew(sample_means)) > 0.4"
      ],
      "metadata": {
        "id": "g82Sqf70jLiQ"
      },
      "execution_count": 27,
      "outputs": []
    },
    {
      "cell_type": "markdown",
      "source": [
        "## 7-21"
      ],
      "metadata": {
        "id": "v8VUyqFujU6Y"
      }
    },
    {
      "cell_type": "code",
      "source": [
        "random_variable = stats.rv_histogram((likelihoods, bin_edges))\n",
        "plt.plot(bin_edges, random_variable.pdf(bin_edges))\n",
        "plt.hist(sample_means, bins='auto', alpha=0.1, color='r', density=True)\n",
        "plt.xlabel('샘플 평균')\n",
        "plt.ylabel('상대적 확률')\n",
        "plt.show()"
      ],
      "metadata": {
        "colab": {
          "base_uri": "https://localhost:8080/",
          "height": 473
        },
        "id": "NHWmkxZejTP_",
        "outputId": "48d8305d-0647-4f2d-b0db-bc7fbe058a9e"
      },
      "execution_count": 28,
      "outputs": [
        {
          "output_type": "display_data",
          "data": {
            "text/plain": [
              "<Figure size 640x480 with 1 Axes>"
            ],
            "image/png": "[encoded data removed]"
          },
          "metadata": {}
        }
      ]
    },
    {
      "cell_type": "markdown",
      "source": [
        "## 7-22"
      ],
      "metadata": {
        "id": "mMXP24e_jadW"
      }
    },
    {
      "cell_type": "code",
      "source": [
        "rv_mean = random_variable.mean()\n",
        "print(f\"분포의 평균은 약 {rv_mean:.2f} cm 입니다.\")\n",
        "\n",
        "plt.axvline(random_variable.mean(), color='k', label='평균', linestyle=':')\n",
        "plt.plot(bin_edges, random_variable.cdf(bin_edges),\n",
        "label='누적 분포')\n",
        "plt.plot(bin_edges, random_variable.sf(bin_edges),\n",
        "label='Survival', linestyle='--', color='r')\n",
        "plt.xlabel('샘플 평균')\n",
        "plt.ylabel('확률')\n",
        "plt.legend()\n",
        "plt.show()"
      ],
      "metadata": {
        "colab": {
          "base_uri": "https://localhost:8080/",
          "height": 492
        },
        "id": "fGC_qcaqjVw7",
        "outputId": "3d863007-6491-45b4-daf4-41ee413f9713"
      },
      "execution_count": 29,
      "outputs": [
        {
          "output_type": "stream",
          "name": "stdout",
          "text": [
            "분포의 평균은 약 27.00 cm 입니다.\n"
          ]
        },
        {
          "output_type": "display_data",
          "data": {
            "text/plain": [
              "<Figure size 640x480 with 1 Axes>"
            ],
            "image/png": "[encoded data removed]"
          },
          "metadata": {}
        }
      ]
    },
    {
      "cell_type": "markdown",
      "source": [
        "## 7-23"
      ],
      "metadata": {
        "id": "mBbk3Xn9jfoX"
      }
    },
    {
      "cell_type": "code",
      "source": [
        "prob_extreme= random_variable.sf(37) + random_variable.cdf(17)\n",
        "print(f\"극단적인 샘플 평균을 관찰할 확률은 약 {prob_extreme:.2f} 입니다.\")"
      ],
      "metadata": {
        "colab": {
          "base_uri": "https://localhost:8080/"
        },
        "id": "jZxog-VTjcCf",
        "outputId": "719d74fa-929b-4e95-f377-c4830935ec97"
      },
      "execution_count": 30,
      "outputs": [
        {
          "output_type": "stream",
          "name": "stdout",
          "text": [
            "극단적인 샘플 평균을 관찰할 확률은 약 0.10 입니다.\n"
          ]
        }
      ]
    },
    {
      "cell_type": "markdown",
      "source": [
        "## 7-24"
      ],
      "metadata": {
        "id": "e0is2EjXjjXR"
      }
    },
    {
      "cell_type": "code",
      "source": [
        "estimated_sem = random_variable.std()\n",
        "p_value = compute_p_value(27, 37, estimated_sem)\n",
        "print(f\"추정 SEM으로부터 계산된 p-값은 약 {p_value:.2f} 입니다.\")"
      ],
      "metadata": {
        "colab": {
          "base_uri": "https://localhost:8080/"
        },
        "id": "G9hGW0wsjgqh",
        "outputId": "a99c55cd-ce13-4b17-b201-e861d6de06c1"
      },
      "execution_count": 32,
      "outputs": [
        {
          "output_type": "stream",
          "name": "stdout",
          "text": [
            "추정 SEM으로부터 계산된 p-값은 약 0.10 입니다.\n"
          ]
        }
      ]
    },
    {
      "cell_type": "markdown",
      "source": [
        "## 7-25"
      ],
      "metadata": {
        "id": "Rm0v4RcCjumr"
      }
    },
    {
      "cell_type": "code",
      "source": [
        "number_extreme_values = 0\n",
        "for sample_mean in sample_means:\n",
        "    if not 17 < sample_mean < 37:\n",
        "        number_extreme_values += 1\n",
        "\n",
        "p_value = number_extreme_values / len(sample_means)\n",
        "print(f\"P-값은 약 {p_value:.2f} 입니다\")"
      ],
      "metadata": {
        "colab": {
          "base_uri": "https://localhost:8080/"
        },
        "id": "MQLWaA-KjkfD",
        "outputId": "794081de-3b04-4e78-bcc5-f565e9b60fce"
      },
      "execution_count": 33,
      "outputs": [
        {
          "output_type": "stream",
          "name": "stdout",
          "text": [
            "P-값은 약 0.10 입니다\n"
          ]
        }
      ]
    },
    {
      "cell_type": "markdown",
      "source": [
        "## 7-26"
      ],
      "metadata": {
        "id": "kZg9nv4fjyHk"
      }
    },
    {
      "cell_type": "code",
      "source": [
        "new_fish_lengths = np.array([51, 46.5, 51.6, 47, 54.4, 40.5, 43, 43.1, 35.9, 47.0])\n",
        "assert new_fish_lengths.mean() == 46"
      ],
      "metadata": {
        "id": "Q1YKC1KZjvlZ"
      },
      "execution_count": 34,
      "outputs": []
    },
    {
      "cell_type": "markdown",
      "source": [
        "## 7-27"
      ],
      "metadata": {
        "id": "BNZtmBqJj0Ve"
      }
    },
    {
      "cell_type": "code",
      "source": [
        "mean_diff = abs(new_fish_lengths.mean() - fish_lengths.mean())\n",
        "print(f\"두 평균 사이에는 {mean_diff:.2f} 정도의 차이가 존재합니다\")"
      ],
      "metadata": {
        "colab": {
          "base_uri": "https://localhost:8080/"
        },
        "id": "OdQ_e6fVj2d5",
        "outputId": "e230ab0d-43a6-448c-9c07-ef11a97b6279"
      },
      "execution_count": 36,
      "outputs": [
        {
          "output_type": "stream",
          "name": "stdout",
          "text": [
            "두 평균 사이에는 19.00 정도의 차이가 존재합니다\n"
          ]
        }
      ]
    },
    {
      "cell_type": "markdown",
      "source": [
        "## 7-28"
      ],
      "metadata": {
        "id": "aMpmhdzdkCyi"
      }
    },
    {
      "cell_type": "code",
      "source": [
        "total_fish_lengths = np.hstack([fish_lengths, new_fish_lengths])\n",
        "assert total_fish_lengths.size == 30"
      ],
      "metadata": {
        "id": "UyuOsTRzj3Am"
      },
      "execution_count": 38,
      "outputs": []
    },
    {
      "cell_type": "markdown",
      "source": [
        "## 7-29"
      ],
      "metadata": {
        "id": "RhrzPKg2kJtB"
      }
    },
    {
      "cell_type": "code",
      "source": [
        "np.random.seed(0)\n",
        "np.random.shuffle(total_fish_lengths)"
      ],
      "metadata": {
        "id": "W2nMyWclkDu7"
      },
      "execution_count": 39,
      "outputs": []
    },
    {
      "cell_type": "markdown",
      "source": [
        "## 7-30"
      ],
      "metadata": {
        "id": "-IvwbFwPkMZ7"
      }
    },
    {
      "cell_type": "code",
      "source": [
        "random_20_fish_lengths = total_fish_lengths[:20]\n",
        "random_10_fish_lengths = total_fish_lengths[20:]\n",
        "mean_diff = random_20_fish_lengths.mean() - random_10_fish_lengths.mean()\n",
        "print(f\"평균 물고기 길이의 새로운 차이는 {mean_diff:.2f} 입니다.\")"
      ],
      "metadata": {
        "colab": {
          "base_uri": "https://localhost:8080/"
        },
        "id": "VOcBVJHTkK7r",
        "outputId": "cbb08510-8537-490a-e5a6-aad4914a6932"
      },
      "execution_count": 40,
      "outputs": [
        {
          "output_type": "stream",
          "name": "stdout",
          "text": [
            "평균 물고기 길이의 새로운 차이는 14.33 입니다.\n"
          ]
        }
      ]
    },
    {
      "cell_type": "markdown",
      "source": [
        "## 7-31"
      ],
      "metadata": {
        "id": "3O7Gmu6okPU-"
      }
    },
    {
      "cell_type": "code",
      "source": [
        "np.random.seed(0)\n",
        "mean_diffs = []\n",
        "for _ in range(30000):\n",
        "    np.random.shuffle(total_fish_lengths)\n",
        "    mean_diff = total_fish_lengths[:20].mean() - total_fish_lengths[20:].mean()\n",
        "    mean_diffs.append(mean_diff)\n",
        "\n",
        "likelihoods, bin_edges, _ = plt.hist(mean_diffs, bins='auto', edgecolor='black', density=True)\n",
        "\n",
        "plt.xlabel('구간화된 평균 차이')\n",
        "plt.ylabel('상대적 확률')\n",
        "plt.show()"
      ],
      "metadata": {
        "colab": {
          "base_uri": "https://localhost:8080/",
          "height": 530
        },
        "id": "Bqt9n-k_kNTv",
        "outputId": "8c94bf93-8022-4f0d-e809-2b9c496f20eb"
      },
      "execution_count": 41,
      "outputs": [
        {
          "output_type": "stream",
          "name": "stderr",
          "text": [
            "/usr/local/lib/python3.10/dist-packages/IPython/core/pylabtools.py:151: UserWarning: Glyph 8722 (\\N{MINUS SIGN}) missing from current font.\n",
            "  fig.canvas.print_figure(bytes_io, **kw)\n"
          ]
        },
        {
          "output_type": "display_data",
          "data": {
            "text/plain": [
              "<Figure size 640x480 with 1 Axes>"
            ],
            "image/png": "[encoded data removed]"
          },
          "metadata": {}
        }
      ]
    },
    {
      "cell_type": "markdown",
      "source": [
        "## 7-32"
      ],
      "metadata": {
        "id": "x0LdRhcDkTVm"
      }
    },
    {
      "cell_type": "code",
      "source": [
        "random_variable = stats.rv_histogram((likelihoods, bin_edges))"
      ],
      "metadata": {
        "id": "nyhaiAzqkQWD"
      },
      "execution_count": 42,
      "outputs": []
    },
    {
      "cell_type": "markdown",
      "source": [
        "## 7-33"
      ],
      "metadata": {
        "id": "XyfMg_askWJA"
      }
    },
    {
      "cell_type": "code",
      "source": [
        "p_value = random_variable.sf(19) + random_variable.cdf(-19)\n",
        "print(f\"P-값은 약 {p_value:.2f} 입니다.\")"
      ],
      "metadata": {
        "colab": {
          "base_uri": "https://localhost:8080/"
        },
        "id": "hbXrTFM_kVBz",
        "outputId": "7a3b9d30-7186-4997-eda7-296d063034a4"
      },
      "execution_count": 43,
      "outputs": [
        {
          "output_type": "stream",
          "name": "stdout",
          "text": [
            "P-값은 약 0.04 입니다.\n"
          ]
        }
      ]
    },
    {
      "cell_type": "markdown",
      "source": [
        "## 7-34"
      ],
      "metadata": {
        "id": "GYL3ec1AkZU1"
      }
    },
    {
      "cell_type": "code",
      "source": [
        "number_extreme_values = 0.0\n",
        "for min_diff in mean_diffs:\n",
        "    if not -19 < min_diff < 19:\n",
        "        number_extreme_values += 1\n",
        "\n",
        "p_value = number_extreme_values / len(mean_diffs)\n",
        "print(f\"P-값은 약 {p_value:.2f} 입니다.\")"
      ],
      "metadata": {
        "colab": {
          "base_uri": "https://localhost:8080/"
        },
        "id": "VsljOEmwkXXD",
        "outputId": "66ec49ed-6bcc-4e3c-ac6c-943e1cdb4315"
      },
      "execution_count": 44,
      "outputs": [
        {
          "output_type": "stream",
          "name": "stdout",
          "text": [
            "P-값은 약 0.04 입니다.\n"
          ]
        }
      ]
    },
    {
      "cell_type": "code",
      "source": [],
      "metadata": {
        "id": "2LUW2vUdkcIR"
      },
      "execution_count": null,
      "outputs": []
    }
  ]
}