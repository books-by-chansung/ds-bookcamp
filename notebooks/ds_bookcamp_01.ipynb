{
  "nbformat": 4,
  "nbformat_minor": 0,
  "metadata": {
    "colab": {
      "name": "ds-bookcamp-01",
      "provenance": [],
      "authorship_tag": "ABX9TyOZB5OYOdPoUY2m/8GxddmW",
      "include_colab_link": true
    },
    "kernelspec": {
      "name": "python3",
      "display_name": "Python 3"
    },
    "language_info": {
      "name": "python"
    }
  },
  "cells": [
    {
      "cell_type": "markdown",
      "metadata": {
        "id": "view-in-github",
        "colab_type": "text"
      },
      "source": [
        "<a href=\"https://colab.research.google.com/github/books-by-chansung/ds-bookcamp/blob/main/notebooks/ds_bookcamp_01.ipynb\" target=\"_parent\"><img src=\"https://colab.research.google.com/assets/colab-badge.svg\" alt=\"Open In Colab\"/></a>"
      ]
    },
    {
      "cell_type": "code",
      "execution_count": 1,
      "metadata": {
        "colab": {
          "base_uri": "https://localhost:8080/"
        },
        "id": "4ijwJeQF-xPm",
        "outputId": "080bd616-823a-459d-bb20-263c69365fba"
      },
      "outputs": [
        {
          "output_type": "execute_result",
          "data": {
            "text/plain": [
              "{'뒷면', '앞면'}"
            ]
          },
          "metadata": {},
          "execution_count": 1
        }
      ],
      "source": [
        "sample_space = {'앞면', '뒷면'}\n",
        "sample_space"
      ]
    },
    {
      "cell_type": "code",
      "source": [
        "probability_heads = 1 / len(sample_space)  \n",
        "print(f'앞면이 선택될 확률은 {probability_heads}')"
      ],
      "metadata": {
        "colab": {
          "base_uri": "https://localhost:8080/"
        },
        "id": "247sJWRS_BFE",
        "outputId": "386749fe-3177-4ce7-9b61-ebe9cac9fe7a"
      },
      "execution_count": 2,
      "outputs": [
        {
          "output_type": "stream",
          "name": "stdout",
          "text": [
            "앞면이 선택될 확률은 0.5\n"
          ]
        }
      ]
    },
    {
      "cell_type": "code",
      "source": [
        "def is_heads_or_tails(outcome): return outcome in {'앞면', '뒷면'}  \n",
        "def is_neither(outcome): return not is_heads_or_tails(outcome)"
      ],
      "metadata": {
        "id": "CSIZv4hw_F1x"
      },
      "execution_count": 3,
      "outputs": []
    },
    {
      "cell_type": "code",
      "source": [
        "def is_heads(outcome): return outcome == '앞면'\n",
        "def is_tails(outcome): return outcome == '뒷면'"
      ],
      "metadata": {
        "id": "u4Gw8K_h_Jb9"
      },
      "execution_count": 4,
      "outputs": []
    },
    {
      "cell_type": "code",
      "source": [
        "def get_matching_event(event_condition, sample_space):\n",
        "    return set([outcome for outcome in sample_space \n",
        "                if event_condition(outcome)])"
      ],
      "metadata": {
        "id": "NaFrkjGB_LSx"
      },
      "execution_count": 5,
      "outputs": []
    },
    {
      "cell_type": "code",
      "source": [
        "event_conditions = [is_heads_or_tails, is_heads, is_tails, is_neither]\n",
        " \n",
        "for event_condition in event_conditions:\n",
        "    print(f\"사건 조건: {event_condition.__name__}\")    \n",
        "    event = get_matching_event(event_condition, sample_space)    \n",
        "    print(f'사건: {event}\\n')\n"
      ],
      "metadata": {
        "colab": {
          "base_uri": "https://localhost:8080/"
        },
        "id": "mz2AvX8g_Psh",
        "outputId": "9baa9bdf-a601-4bcf-f122-710dba700f8a"
      },
      "execution_count": 6,
      "outputs": [
        {
          "output_type": "stream",
          "name": "stdout",
          "text": [
            "사건 조건: is_heads_or_tails\n",
            "사건: {'앞면', '뒷면'}\n",
            "\n",
            "사건 조건: is_heads\n",
            "사건: {'앞면'}\n",
            "\n",
            "사건 조건: is_tails\n",
            "사건: {'뒷면'}\n",
            "\n",
            "사건 조건: is_neither\n",
            "사건: set()\n",
            "\n"
          ]
        }
      ]
    },
    {
      "cell_type": "code",
      "source": [
        "def compute_probability(event_condition, generic_sample_space):\n",
        "  event = get_matching_event(event_condition, generic_sample_space)\n",
        "  return len(event) / len(generic_sample_space)\n",
        "\n",
        "for event_condition in event_conditions:\n",
        "  prob = compute_probability(event_condition, sample_space)\n",
        "  name = event_condition.__name__\n",
        "  print(f\"조건 '{name}'으로부터 사건이 발생할 확률은 {prob} 입니다.\")\n"
      ],
      "metadata": {
        "colab": {
          "base_uri": "https://localhost:8080/"
        },
        "id": "6UzeiiDy_Sz4",
        "outputId": "21af30c8-4fdb-43f5-b97d-b9d104cc688c"
      },
      "execution_count": 8,
      "outputs": [
        {
          "output_type": "stream",
          "name": "stdout",
          "text": [
            "조건 'is_heads_or_tails'으로부터 사건이 발생할 확률은 1.0 입니다.\n",
            "조건 'is_heads'으로부터 사건이 발생할 확률은 0.5 입니다.\n",
            "조건 'is_tails'으로부터 사건이 발생할 확률은 0.5 입니다.\n",
            "조건 'is_neither'으로부터 사건이 발생할 확률은 0.0 입니다.\n"
          ]
        }
      ]
    },
    {
      "cell_type": "code",
      "source": [
        "weighted_sample_space = {'앞면': 4, '뒷면': 1}"
      ],
      "metadata": {
        "id": "wByp3BwQ_vDd"
      },
      "execution_count": 9,
      "outputs": []
    },
    {
      "cell_type": "code",
      "source": [
        "sample_space_size = sum(weighted_sample_space.values())\n",
        "assert sample_space_size == 5"
      ],
      "metadata": {
        "id": "cHOpYOfPAoCz"
      },
      "execution_count": 10,
      "outputs": []
    },
    {
      "cell_type": "code",
      "source": [
        "event = get_matching_event(is_heads_or_tails, weighted_sample_space)\n",
        "event_size = sum(weighted_sample_space[outcome] for outcome in event)\n",
        "assert event_size == 5"
      ],
      "metadata": {
        "id": "50482UTFApyg"
      },
      "execution_count": 11,
      "outputs": []
    },
    {
      "cell_type": "code",
      "source": [
        "def compute_event_probability(event_condition, generic_sample_space):\n",
        "  event = get_matching_event(event_condition, generic_sample_space)\n",
        "  if type(generic_sample_space) == type(set()):\n",
        "    return len(event) / len(generic_sample_space)\n",
        "\n",
        "  event_size = sum(generic_sample_space[outcome]\n",
        "                    for outcome in event)\n",
        "  return event_size / sum(generic_sample_space.values())"
      ],
      "metadata": {
        "id": "0X9BQiEQArnk"
      },
      "execution_count": 12,
      "outputs": []
    },
    {
      "cell_type": "code",
      "source": [
        "for event_condition in event_conditions:\n",
        "  prob = compute_event_probability(event_condition, weighted_sample_space)\n",
        "  name = event_condition.__name__\n",
        "\n",
        "  print(f\"'{name}' 에서 발생한 사건의 확룔은 {prob} 입니다\")"
      ],
      "metadata": {
        "colab": {
          "base_uri": "https://localhost:8080/"
        },
        "id": "1E3kMT2BA1sL",
        "outputId": "af8b628e-27b6-4848-ed08-c7da8289748a"
      },
      "execution_count": 13,
      "outputs": [
        {
          "output_type": "stream",
          "name": "stdout",
          "text": [
            "'is_heads_or_tails' 에서 발생한 사건의 확룔은 1.0 입니다\n",
            "'is_heads' 에서 발생한 사건의 확룔은 0.8 입니다\n",
            "'is_tails' 에서 발생한 사건의 확룔은 0.2 입니다\n",
            "'is_neither' 에서 발생한 사건의 확룔은 0.0 입니다\n"
          ]
        }
      ]
    },
    {
      "cell_type": "markdown",
      "source": [
        "## 1.2 사소한 확률 계산 문제"
      ],
      "metadata": {
        "id": "hG5fov4MBAD4"
      }
    },
    {
      "cell_type": "markdown",
      "source": [
        "### 1.2.1 문제1: 네 자녀를 둔 가정의 분석"
      ],
      "metadata": {
        "id": "0q7tDRfUBg_y"
      }
    },
    {
      "cell_type": "code",
      "source": [
        "possible_children = ['남아', '여아']\n",
        "sample_space = set()\n",
        "for child1 in possible_children:\n",
        "  for child2 in possible_children:\n",
        "    for child3 in possible_children:\n",
        "      for child4 in possible_children:\n",
        "        outcome = (child1, child2, child3, child4)\n",
        "        sample_space.add(outcome)\n"
      ],
      "metadata": {
        "id": "gB9uiv4fA6Xj"
      },
      "execution_count": 15,
      "outputs": []
    },
    {
      "cell_type": "code",
      "source": [
        "from itertools import product\n",
        "all_combinations = product(*(4 * [possible_children]))\n",
        "assert set(all_combinations) == sample_space"
      ],
      "metadata": {
        "id": "9YdC1bAQBGL1"
      },
      "execution_count": 16,
      "outputs": []
    },
    {
      "cell_type": "code",
      "source": [
        "sample_space_efficient = set(product(possible_children, repeat=4))\n",
        "assert sample_space == sample_space_efficient"
      ],
      "metadata": {
        "id": "gZZOoIB0BOvS"
      },
      "execution_count": 17,
      "outputs": []
    },
    {
      "cell_type": "code",
      "source": [
        "def has_two_boys(outcome): return len([child for child in outcome\n",
        "                                      if child == '남아']) == 2\n",
        "prob = compute_event_probability(has_two_boys, sample_space)\n",
        "print(f\"남아 두 명이 포함되었을 확률은 {prob} 입니다\")\n"
      ],
      "metadata": {
        "colab": {
          "base_uri": "https://localhost:8080/"
        },
        "id": "rX0GNglSBQw3",
        "outputId": "627e3300-d13a-4afd-8210-0d4d4dab8e92"
      },
      "execution_count": 19,
      "outputs": [
        {
          "output_type": "stream",
          "name": "stdout",
          "text": [
            "남아 두 명이 포함되었을 확률은 0.375 입니다\n"
          ]
        }
      ]
    },
    {
      "cell_type": "markdown",
      "source": [
        "### 1.2.2 문제2: 다면체 주사위 굴리기의 분석"
      ],
      "metadata": {
        "id": "ET1myjbOBnHM"
      }
    },
    {
      "cell_type": "code",
      "source": [
        "possible_rolls = list(range(1, 7))\n",
        "print(possible_rolls)"
      ],
      "metadata": {
        "colab": {
          "base_uri": "https://localhost:8080/"
        },
        "id": "K-pUwTkMBUhG",
        "outputId": "0f47c7da-5084-4479-eb9c-7deec9d409a8"
      },
      "execution_count": 20,
      "outputs": [
        {
          "output_type": "stream",
          "name": "stdout",
          "text": [
            "[1, 2, 3, 4, 5, 6]\n"
          ]
        }
      ]
    },
    {
      "cell_type": "code",
      "source": [
        "sample_space = set(product(possible_rolls, repeat=6))"
      ],
      "metadata": {
        "id": "haAMky2FBZ_6"
      },
      "execution_count": 21,
      "outputs": []
    },
    {
      "cell_type": "code",
      "source": [
        "def has_sum_of_21(outcome): return sum(outcome) == 21\n",
        "prob = compute_event_probability(has_sum_of_21, sample_space)\n",
        "print(f\"여섯 번 주사위를 굴린 결과의 합이 21일 확률은 {prob} 입니다\")"
      ],
      "metadata": {
        "colab": {
          "base_uri": "https://localhost:8080/"
        },
        "id": "iWnqdreNBbt_",
        "outputId": "d376e7a5-ff66-4461-edd2-f9493d6af5a5"
      },
      "execution_count": 22,
      "outputs": [
        {
          "output_type": "stream",
          "name": "stdout",
          "text": [
            "여섯 번 주사위를 굴린 결과의 합이 21일 확률은 0.09284979423868313 입니다\n"
          ]
        }
      ]
    },
    {
      "cell_type": "code",
      "source": [
        "prob = compute_event_probability(lambda x: sum(x) == 21, sample_space)\n",
        "assert prob == compute_event_probability(has_sum_of_21, sample_space)"
      ],
      "metadata": {
        "id": "c_rFE8JUBeYy"
      },
      "execution_count": 23,
      "outputs": []
    },
    {
      "cell_type": "markdown",
      "source": [
        "### 1.2.3 문제3: 가중된 표본 공간으로 주사위 굴리기 확률 계산"
      ],
      "metadata": {
        "id": "UW2z0pJmBujM"
      }
    },
    {
      "cell_type": "code",
      "source": [
        "from collections import defaultdict\n",
        "weighted_sample_space = defaultdict(int)\n",
        "for outcome in sample_space:\n",
        "  total = sum(outcome)\n",
        "  weighted_sample_space[total] += 1"
      ],
      "metadata": {
        "id": "Des1az6VBuD0"
      },
      "execution_count": 24,
      "outputs": []
    },
    {
      "cell_type": "code",
      "source": [
        "assert weighted_sample_space[6] == 1\n",
        "assert weighted_sample_space[36] == 1\n"
      ],
      "metadata": {
        "id": "xjf5LqdZBz-q"
      },
      "execution_count": 25,
      "outputs": []
    },
    {
      "cell_type": "code",
      "source": [
        "num_combinations = weighted_sample_space[21]\n",
        "print(f\"주사위를 여섯 번 굴렸을 때의 합계가 21이 될 수 있는 조합의 수는 {num_combinations } 입니다\")"
      ],
      "metadata": {
        "colab": {
          "base_uri": "https://localhost:8080/"
        },
        "id": "NH3OzQxkB4qr",
        "outputId": "47f6ac1b-9f2d-4462-f5b3-a03663752e9e"
      },
      "execution_count": 26,
      "outputs": [
        {
          "output_type": "stream",
          "name": "stdout",
          "text": [
            "주사위를 여섯 번 굴렸을 때의 합계가 21이 될 수 있는 조합의 수는 4332 입니다\n"
          ]
        }
      ]
    },
    {
      "cell_type": "code",
      "source": [
        "assert sum([4, 4, 4, 4, 3, 2]) == 21\n",
        "assert sum([4, 4, 4, 5, 3, 1]) == 21"
      ],
      "metadata": {
        "id": "GW8smb1NB7Fh"
      },
      "execution_count": 27,
      "outputs": []
    },
    {
      "cell_type": "code",
      "source": [
        "event = get_matching_event(lambda x: sum(x) == 21, sample_space)\n",
        "assert weighted_sample_space[21] == len(event)\n",
        "assert sum(weighted_sample_space.values()) == len(sample_space)"
      ],
      "metadata": {
        "id": "0u04rFwWB-Ri"
      },
      "execution_count": 28,
      "outputs": []
    },
    {
      "cell_type": "code",
      "source": [
        "prob = compute_event_probability(lambda x: x == 21,\n",
        "                                  weighted_sample_space)\n",
        "assert prob == compute_event_probability(has_sum_of_21, sample_space)\n",
        "print(f\" 주사위를 여섯 번 굴렸을 때의 합계가 21이 될 확률은 {prob} 입니다\")"
      ],
      "metadata": {
        "colab": {
          "base_uri": "https://localhost:8080/"
        },
        "id": "Qwycv7GvCAI0",
        "outputId": "2ca73530-c152-47af-a678-879a178c2a70"
      },
      "execution_count": 29,
      "outputs": [
        {
          "output_type": "stream",
          "name": "stdout",
          "text": [
            " 주사위를 여섯 번 굴렸을 때의 합계가 21이 될 확률은 0.09284979423868313 입니다\n"
          ]
        }
      ]
    },
    {
      "cell_type": "code",
      "source": [
        "print('가중되지 않은 표본 공간내 요소 수:')\n",
        "print(len(sample_space))\n",
        "print('가중된 표본 공간내 요수 수:')\n",
        "print(len(weighted_sample_space))"
      ],
      "metadata": {
        "colab": {
          "base_uri": "https://localhost:8080/"
        },
        "id": "xEb0PX4vCDn3",
        "outputId": "bdc5787c-a07d-4385-c604-532339093dd6"
      },
      "execution_count": 30,
      "outputs": [
        {
          "output_type": "stream",
          "name": "stdout",
          "text": [
            "가중되지 않은 표본 공간내 요소 수:\n",
            "46656\n",
            "가중된 표본 공간내 요수 수:\n",
            "31\n"
          ]
        }
      ]
    },
    {
      "cell_type": "markdown",
      "source": [
        "## 1.3 구간 범위에 대한 확률 계산"
      ],
      "metadata": {
        "id": "UkbcTNB4CGxI"
      }
    },
    {
      "cell_type": "code",
      "source": [
        "def is_in_interval(number, minimum, maximum):\n",
        "  return minimum <= number <= maximum"
      ],
      "metadata": {
        "id": "fgHKX_42CF4P"
      },
      "execution_count": 31,
      "outputs": []
    },
    {
      "cell_type": "code",
      "source": [
        "prob = compute_event_probability(lambda x: is_in_interval(x, 10, 21),\n",
        "                                  weighted_sample_space)\n",
        "print(f\"구간에 대한 확률은 {prob} 입니다\")"
      ],
      "metadata": {
        "colab": {
          "base_uri": "https://localhost:8080/"
        },
        "id": "qWb1nymECLhm",
        "outputId": "9de47398-7062-491c-e07a-32d42142865c"
      },
      "execution_count": 32,
      "outputs": [
        {
          "output_type": "stream",
          "name": "stdout",
          "text": [
            "구간에 대한 확률은 0.5446244855967078 입니다\n"
          ]
        }
      ]
    },
    {
      "cell_type": "markdown",
      "source": [
        "### 1.3.1 구간 분석법으로 극단 평가"
      ],
      "metadata": {
        "id": "1p8XBxH5CSc7"
      }
    },
    {
      "cell_type": "code",
      "source": [
        "def generate_coin_sample_space(num_flips=10):\n",
        "  weighted_sample_space = defaultdict(int)\n",
        "  for coin_flips in product(['앞면', '뒷면'], repeat=num_flips):\n",
        "    heads_count = len([outcome for outcome in coin_flips\n",
        "                      if outcome == '앞면'])\n",
        "    weighted_sample_space[heads_count] += 1\n",
        "  return weighted_sample_space\n",
        "\n",
        "weighted_sample_space = generate_coin_sample_space()\n",
        "assert weighted_sample_space[10] == 1\n",
        "assert weighted_sample_space[9] == 10\n"
      ],
      "metadata": {
        "id": "nCkp-ow2CO54"
      },
      "execution_count": 34,
      "outputs": []
    },
    {
      "cell_type": "code",
      "source": [
        "prob = compute_event_probability(lambda x: is_in_interval(x, 8, 10),\n",
        "                                  weighted_sample_space)\n",
        "print(f\"앞면이 7번 보다 많이 관측될 확률은 {prob} 입니다\")"
      ],
      "metadata": {
        "colab": {
          "base_uri": "https://localhost:8080/"
        },
        "id": "0u11hWURCgoP",
        "outputId": "deaae67f-85ab-4e68-abb4-9832b25224fb"
      },
      "execution_count": 35,
      "outputs": [
        {
          "output_type": "stream",
          "name": "stdout",
          "text": [
            "앞면이 7번 보다 많이 관측될 확률은 0.0546875 입니다\n"
          ]
        }
      ]
    },
    {
      "cell_type": "code",
      "source": [
        "prob = compute_event_probability(lambda x: not is_in_interval(x, 3, 7),\n",
        "                                  weighted_sample_space)\n",
        "print(f\"앞면 또는 뒷면이 7번 보다 많이 관측될 확률은 {prob} 입니다\")"
      ],
      "metadata": {
        "colab": {
          "base_uri": "https://localhost:8080/"
        },
        "id": "H3it29xXCmI0",
        "outputId": "e32c0d6f-60bf-41ef-eba5-a21de599130a"
      },
      "execution_count": 36,
      "outputs": [
        {
          "output_type": "stream",
          "name": "stdout",
          "text": [
            "앞면 또는 뒷면이 7번 보다 많이 관측될 확률은 0.109375 입니다\n"
          ]
        }
      ]
    },
    {
      "cell_type": "code",
      "source": [
        "weighted_sample_space_20_flips = generate_coin_sample_space(num_flips=20)\n",
        "prob = compute_event_probability(lambda x: not is_in_interval(x, 5, 15),\n",
        "                                  weighted_sample_space_20_flips)\n",
        "print(f\" 앞면 또는 뒷면이 15번 보다 많이 관측될 확률은 {prob} 입니다\")"
      ],
      "metadata": {
        "colab": {
          "base_uri": "https://localhost:8080/"
        },
        "id": "XcmanHs7Cp1T",
        "outputId": "26065fd4-2755-4506-c741-fcacaaabdee1"
      },
      "execution_count": 37,
      "outputs": [
        {
          "output_type": "stream",
          "name": "stdout",
          "text": [
            " 앞면 또는 뒷면이 15번 보다 많이 관측될 확률은 0.01181793212890625 입니다\n"
          ]
        }
      ]
    },
    {
      "cell_type": "code",
      "source": [
        ""
      ],
      "metadata": {
        "id": "bLtgj_9pCs_w"
      },
      "execution_count": null,
      "outputs": []
    }
  ]
}